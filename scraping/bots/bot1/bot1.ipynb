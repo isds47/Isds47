{
 "cells": [
  {
   "cell_type": "code",
   "execution_count": 1,
   "metadata": {},
   "outputs": [],
   "source": [
    "import pandas as pd\n",
    "import get_head as gh\n",
    "import os\n",
    "dirname = os.getcwd()\n",
    "path = os.path.join(dirname, 'chunk1.csv')\n",
    "\n",
    "urls1 = pd.read_csv(path)"
   ]
  },
  {
   "cell_type": "code",
   "execution_count": null,
   "metadata": {},
   "outputs": [],
   "source": [
    "chunk1_head_df = pd.DataFrame()\n",
    "for i, url in enumerate(urls1['0']):\n",
    "    # saves every 100 urls\n",
    "    iter1 = i*100\n",
    "    iter2= (i+1)*100\n",
    "    \n",
    "    chunk1_head = gh.get_head(urls1['0'][iter1:iter2])\n",
    "    \n",
    "    # save the current urls\n",
    "    chunk1_head_df = chunk1_head_df.append(pd.DataFrame(data=chunk1_head))\n",
    "    chunk1_head_df.to_csv(\"chunk1_head.csv\", index=False)\n",
    "    print(f'total urls = {len(chunk1_head_df)}')"
   ]
  }
 ],
 "metadata": {
  "kernelspec": {
   "display_name": "Python 3",
   "language": "python",
   "name": "python3"
  },
  "language_info": {
   "codemirror_mode": {
    "name": "ipython",
    "version": 3
   },
   "file_extension": ".py",
   "mimetype": "text/x-python",
   "name": "python",
   "nbconvert_exporter": "python",
   "pygments_lexer": "ipython3",
   "version": "3.7.6"
  }
 },
 "nbformat": 4,
 "nbformat_minor": 4
}
