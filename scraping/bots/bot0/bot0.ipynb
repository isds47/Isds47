{
 "cells": [
  {
   "cell_type": "code",
   "execution_count": 1,
   "metadata": {},
   "outputs": [],
   "source": [
    "import pandas as pd\n",
    "import get_head as gh\n",
    "import os\n",
    "dirname = os.getcwd()\n",
    "path = os.path.join(dirname, 'chunk0.csv')\n",
    "\n",
    "urls0 = pd.read_csv(path)"
   ]
  },
  {
   "cell_type": "code",
   "execution_count": null,
   "metadata": {},
   "outputs": [],
   "source": [
    "\n",
    "chunk0_head_df = pd.DataFrame()\n",
    "for i, url in enumerate(urls0['0']):\n",
    "    iter1 = i*100\n",
    "    iter2= (i+1)*100\n",
    "    chunk0_head = gh.get_head(urls0['0'][iter1:iter2],len(urls0['0']))\n",
    "    chunk0_head_df = chunk0_head_df.append(pd.DataFrame(data=chunk0_head))\n",
    "    chunk0_head_df.to_csv(\"chunk0_head.csv\", index=False)\n",
    "    print(f'total urls = {len(chunk0_head_df)}')"
   ]
  }
 ],
 "metadata": {
  "kernelspec": {
   "display_name": "Python 3",
   "language": "python",
   "name": "python3"
  },
  "language_info": {
   "codemirror_mode": {
    "name": "ipython",
    "version": 3
   },
   "file_extension": ".py",
   "mimetype": "text/x-python",
   "name": "python",
   "nbconvert_exporter": "python",
   "pygments_lexer": "ipython3",
   "version": "3.7.6"
  }
 },
 "nbformat": 4,
 "nbformat_minor": 4
}
