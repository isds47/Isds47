{
 "cells": [
  {
   "cell_type": "code",
   "execution_count": 5,
   "metadata": {},
   "outputs": [],
   "source": [
    "import pandas as pd\n",
    "import datetime\n",
    "\n",
    "import matplotlib.pyplot as plt\n",
    "%matplotlib inline\n",
    "import seaborn as sns"
   ]
  },
  {
   "cell_type": "code",
   "execution_count": 4,
   "metadata": {},
   "outputs": [],
   "source": [
    "# load the log from get_head\n",
    "log_ = pd.read_csv('log_get_head.csv',sep=';') # load the ;-separated log "
   ]
  },
  {
   "cell_type": "code",
   "execution_count": 9,
   "metadata": {},
   "outputs": [
    {
     "data": {
      "text/html": [
       "<div>\n",
       "<style scoped>\n",
       "    .dataframe tbody tr th:only-of-type {\n",
       "        vertical-align: middle;\n",
       "    }\n",
       "\n",
       "    .dataframe tbody tr th {\n",
       "        vertical-align: top;\n",
       "    }\n",
       "\n",
       "    .dataframe thead th {\n",
       "        text-align: right;\n",
       "    }\n",
       "</style>\n",
       "<table border=\"1\" class=\"dataframe\">\n",
       "  <thead>\n",
       "    <tr style=\"text-align: right;\">\n",
       "      <th></th>\n",
       "      <th>id</th>\n",
       "      <th>project</th>\n",
       "      <th>connector_type</th>\n",
       "      <th>t</th>\n",
       "      <th>delta_t</th>\n",
       "      <th>url</th>\n",
       "      <th>redirect_url</th>\n",
       "      <th>response_size</th>\n",
       "      <th>response_code</th>\n",
       "      <th>success</th>\n",
       "      <th>error</th>\n",
       "      <th>dt</th>\n",
       "    </tr>\n",
       "  </thead>\n",
       "  <tbody>\n",
       "    <tr>\n",
       "      <th>0</th>\n",
       "      <td>0</td>\n",
       "      <td>urls_get</td>\n",
       "      <td>requests</td>\n",
       "      <td>1.598360e+09</td>\n",
       "      <td>-0.254478</td>\n",
       "      <td>https://ekstrabladet.dk/sport/haandbold/dansk-...</td>\n",
       "      <td>https://ekstrabladet.dk/sport/haandbold/dansk-...</td>\n",
       "      <td>571829</td>\n",
       "      <td>200</td>\n",
       "      <td>True</td>\n",
       "      <td>NaN</td>\n",
       "      <td>2020-08-25 12:51:53.552069426</td>\n",
       "    </tr>\n",
       "    <tr>\n",
       "      <th>1</th>\n",
       "      <td>1</td>\n",
       "      <td>urls_get</td>\n",
       "      <td>requests</td>\n",
       "      <td>1.598360e+09</td>\n",
       "      <td>-0.374778</td>\n",
       "      <td>https://ekstrabladet.dk/sport/anden_sport/boks...</td>\n",
       "      <td>https://ekstrabladet.dk/sport/anden_sport/boks...</td>\n",
       "      <td>575361</td>\n",
       "      <td>200</td>\n",
       "      <td>True</td>\n",
       "      <td>NaN</td>\n",
       "      <td>2020-08-25 12:51:56.961597443</td>\n",
       "    </tr>\n",
       "    <tr>\n",
       "      <th>2</th>\n",
       "      <td>2</td>\n",
       "      <td>urls_get</td>\n",
       "      <td>requests</td>\n",
       "      <td>1.598360e+09</td>\n",
       "      <td>-0.438349</td>\n",
       "      <td>https://ekstrabladet.dk/flash/udlandkendte/jou...</td>\n",
       "      <td>https://ekstrabladet.dk/flash/udlandkendte/jou...</td>\n",
       "      <td>576386</td>\n",
       "      <td>200</td>\n",
       "      <td>True</td>\n",
       "      <td>NaN</td>\n",
       "      <td>2020-08-25 12:51:59.501486540</td>\n",
       "    </tr>\n",
       "    <tr>\n",
       "      <th>3</th>\n",
       "      <td>3</td>\n",
       "      <td>urls_get</td>\n",
       "      <td>requests</td>\n",
       "      <td>1.598360e+09</td>\n",
       "      <td>-0.397937</td>\n",
       "      <td>https://ekstrabladet.dk/nyheder/politik/danskp...</td>\n",
       "      <td>https://ekstrabladet.dk/nyheder/politik/danskp...</td>\n",
       "      <td>596363</td>\n",
       "      <td>200</td>\n",
       "      <td>True</td>\n",
       "      <td>NaN</td>\n",
       "      <td>2020-08-25 12:52:01.700657129</td>\n",
       "    </tr>\n",
       "    <tr>\n",
       "      <th>4</th>\n",
       "      <td>4</td>\n",
       "      <td>urls_get</td>\n",
       "      <td>requests</td>\n",
       "      <td>1.598360e+09</td>\n",
       "      <td>-0.471427</td>\n",
       "      <td>https://ekstrabladet.dk/nyheder/politik/histor...</td>\n",
       "      <td>https://ekstrabladet.dk/nyheder/politik/histor...</td>\n",
       "      <td>565879</td>\n",
       "      <td>200</td>\n",
       "      <td>True</td>\n",
       "      <td>NaN</td>\n",
       "      <td>2020-08-25 12:52:06.312077284</td>\n",
       "    </tr>\n",
       "  </tbody>\n",
       "</table>\n",
       "</div>"
      ],
      "text/plain": [
       "   id   project connector_type             t   delta_t  \\\n",
       "0   0  urls_get       requests  1.598360e+09 -0.254478   \n",
       "1   1  urls_get       requests  1.598360e+09 -0.374778   \n",
       "2   2  urls_get       requests  1.598360e+09 -0.438349   \n",
       "3   3  urls_get       requests  1.598360e+09 -0.397937   \n",
       "4   4  urls_get       requests  1.598360e+09 -0.471427   \n",
       "\n",
       "                                                 url  \\\n",
       "0  https://ekstrabladet.dk/sport/haandbold/dansk-...   \n",
       "1  https://ekstrabladet.dk/sport/anden_sport/boks...   \n",
       "2  https://ekstrabladet.dk/flash/udlandkendte/jou...   \n",
       "3  https://ekstrabladet.dk/nyheder/politik/danskp...   \n",
       "4  https://ekstrabladet.dk/nyheder/politik/histor...   \n",
       "\n",
       "                                        redirect_url  response_size  \\\n",
       "0  https://ekstrabladet.dk/sport/haandbold/dansk-...         571829   \n",
       "1  https://ekstrabladet.dk/sport/anden_sport/boks...         575361   \n",
       "2  https://ekstrabladet.dk/flash/udlandkendte/jou...         576386   \n",
       "3  https://ekstrabladet.dk/nyheder/politik/danskp...         596363   \n",
       "4  https://ekstrabladet.dk/nyheder/politik/histor...         565879   \n",
       "\n",
       "   response_code  success  error                            dt  \n",
       "0            200     True    NaN 2020-08-25 12:51:53.552069426  \n",
       "1            200     True    NaN 2020-08-25 12:51:56.961597443  \n",
       "2            200     True    NaN 2020-08-25 12:51:59.501486540  \n",
       "3            200     True    NaN 2020-08-25 12:52:01.700657129  \n",
       "4            200     True    NaN 2020-08-25 12:52:06.312077284  "
      ]
     },
     "execution_count": 9,
     "metadata": {},
     "output_type": "execute_result"
    }
   ],
   "source": [
    "# inspect data\n",
    "log_.head()"
   ]
  },
  {
   "cell_type": "code",
   "execution_count": 11,
   "metadata": {},
   "outputs": [],
   "source": [
    "log_['dt'] = pd.to_datetime(log_.t,unit='s')\n",
    "dt = log_.dt.values[0]"
   ]
  },
  {
   "cell_type": "code",
   "execution_count": 13,
   "metadata": {},
   "outputs": [
    {
     "data": {
      "text/plain": [
       "Text(0.5, 0, 'Scraping progress')"
      ]
     },
     "execution_count": 13,
     "metadata": {},
     "output_type": "execute_result"
    },
    {
     "data": {
      "image/png": "[encoded data removed]",
      "text/plain": [
       "<Figure size 1080x288 with 1 Axes>"
      ]
     },
     "metadata": {
      "needs_background": "light"
     },
     "output_type": "display_data"
    }
   ],
   "source": [
    "# Plot the time it took to make the call\n",
    "plt.figure(figsize=(15,4))\n",
    "plt.plot(log_.dt,log_.delta_t)\n",
    "plt.ylabel('Delta t')\n",
    "plt.xlabel('Scraping progress')"
   ]
  },
  {
   "cell_type": "code",
   "execution_count": 15,
   "metadata": {},
   "outputs": [
    {
     "data": {
      "text/plain": [
       "[<matplotlib.lines.Line2D at 0x1e9f87b8b88>]"
      ]
     },
     "execution_count": 15,
     "metadata": {},
     "output_type": "execute_result"
    },
    {
     "data": {
      "image/png": "[encoded data removed]",
      "text/plain": [
       "<Figure size 1080x288 with 1 Axes>"
      ]
     },
     "metadata": {
      "needs_background": "light"
     },
     "output_type": "display_data"
    }
   ],
   "source": [
    "# Plot the response size over time.\n",
    "plt.figure(figsize=(15,4))\n",
    "plt.ylabel('Size of response')\n",
    "plt.xlabel('Scraping progress')\n",
    "plt.plot(log_.dt,log_.response_size)"
   ]
  },
  {
   "cell_type": "code",
   "execution_count": 17,
   "metadata": {},
   "outputs": [
    {
     "data": {
      "text/plain": [
       "<matplotlib.collections.PathCollection at 0x1e9f89ab148>"
      ]
     },
     "execution_count": 17,
     "metadata": {},
     "output_type": "execute_result"
    },
    {
     "data": {
      "image/png": "[encoded data removed]",
      "text/plain": [
       "<Figure size 432x288 with 1 Axes>"
      ]
     },
     "metadata": {
      "needs_background": "light"
     },
     "output_type": "display_data"
    }
   ],
   "source": [
    "# Plot the delta_t against the response_size. These two should correlate pretty well.\n",
    "plt.scatter(log_.delta_t,log_.response_size)"
   ]
  },
  {
   "cell_type": "code",
   "execution_count": 18,
   "metadata": {},
   "outputs": [
    {
     "data": {
      "text/plain": [
       "dt_hour\n",
       "2020-08-25 12:00:00.000000027    True\n",
       "2020-08-25 12:00:00.000000099    True\n",
       "2020-08-25 12:00:00.000000125    True\n",
       "2020-08-25 12:00:00.000000129    True\n",
       "2020-08-25 12:00:00.000000132    True\n",
       "2020-08-25 12:00:00.000000151    True\n",
       "2020-08-25 12:00:00.000000178    True\n",
       "2020-08-25 12:00:00.000000207    True\n",
       "2020-08-25 12:00:00.000000209    True\n",
       "2020-08-25 12:00:00.000000215    True\n",
       "2020-08-25 12:00:00.000000228    True\n",
       "2020-08-25 12:00:00.000000229    True\n",
       "2020-08-25 12:00:00.000000264    True\n",
       "2020-08-25 12:00:00.000000271    True\n",
       "2020-08-25 12:00:00.000000284    True\n",
       "2020-08-25 12:00:00.000000288    True\n",
       "2020-08-25 12:00:00.000000331    True\n",
       "2020-08-25 12:00:00.000000369    True\n",
       "2020-08-25 12:00:00.000000402    True\n",
       "2020-08-25 12:00:00.000000419    True\n",
       "2020-08-25 12:00:00.000000422    True\n",
       "2020-08-25 12:00:00.000000426    True\n",
       "2020-08-25 12:00:00.000000443    True\n",
       "2020-08-25 12:00:00.000000450    True\n",
       "2020-08-25 12:00:00.000000452    True\n",
       "2020-08-25 12:00:00.000000453    True\n",
       "2020-08-25 12:00:00.000000460    True\n",
       "2020-08-25 12:00:00.000000473    True\n",
       "2020-08-25 12:00:00.000000481    True\n",
       "2020-08-25 12:00:00.000000490    True\n",
       "2020-08-25 12:00:00.000000505    True\n",
       "2020-08-25 12:00:00.000000512    True\n",
       "2020-08-25 12:00:00.000000540    True\n",
       "2020-08-25 12:00:00.000000544    True\n",
       "2020-08-25 12:00:00.000000634    True\n",
       "2020-08-25 12:00:00.000000699    True\n",
       "2020-08-25 12:00:00.000000788    True\n",
       "2020-08-25 12:00:00.000000798    True\n",
       "2020-08-25 12:00:00.000000833    True\n",
       "2020-08-25 12:00:00.000000850    True\n",
       "2020-08-25 12:00:00.000000875    True\n",
       "2020-08-25 12:00:00.000000920    True\n",
       "2020-08-25 12:00:00.000000925    True\n",
       "2020-08-25 12:00:00.000000952    True\n",
       "2020-08-25 12:00:00.000000986    True\n",
       "Name: success, dtype: bool"
      ]
     },
     "execution_count": 18,
     "metadata": {},
     "output_type": "execute_result"
    }
   ],
   "source": [
    "## Investigate errors\n",
    "log_.success.value_counts() ## Count errors\n",
    "## Groupby time\n",
    "# round the time for aggregation\n",
    "log_['dt_minute'] = log_.dt.apply(lambda x: x-datetime.timedelta(seconds=x.second,microseconds=x.microsecond))\n",
    "log_['dt_hour'] = log_.dt.apply(lambda x: x-datetime.timedelta(minutes=x.minute,seconds=x.second,microseconds=x.microsecond))\n",
    "log_.groupby('dt_hour').success.mean()\n"
   ]
  },
  {
   "cell_type": "code",
   "execution_count": null,
   "metadata": {},
   "outputs": [],
   "source": []
  }
 ],
 "metadata": {
  "kernelspec": {
   "display_name": "Python 3",
   "language": "python",
   "name": "python3"
  },
  "language_info": {
   "codemirror_mode": {
    "name": "ipython",
    "version": 3
   },
   "file_extension": ".py",
   "mimetype": "text/x-python",
   "name": "python",
   "nbconvert_exporter": "python",
   "pygments_lexer": "ipython3",
   "version": "3.7.6"
  }
 },
 "nbformat": 4,
 "nbformat_minor": 4
}
