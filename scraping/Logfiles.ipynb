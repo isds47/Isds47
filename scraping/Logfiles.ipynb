{
 "cells": [
  {
   "cell_type": "code",
   "execution_count": 1,
   "metadata": {},
   "outputs": [],
   "source": [
    "import pandas as pd\n",
    "import datetime\n",
    "\n",
    "import matplotlib.pyplot as plt\n",
    "%matplotlib inline\n",
    "import seaborn as sns"
   ]
  },
  {
   "cell_type": "code",
   "execution_count": 2,
   "metadata": {},
   "outputs": [],
   "source": [
    "# load the log from get_head\n",
    "log_ = pd.read_csv('log_get_head3.csv',sep=';') # load the ;-separated log "
   ]
  },
  {
   "cell_type": "code",
   "execution_count": 3,
   "metadata": {},
   "outputs": [
    {
     "data": {
      "text/html": [
       "<div>\n",
       "<style scoped>\n",
       "    .dataframe tbody tr th:only-of-type {\n",
       "        vertical-align: middle;\n",
       "    }\n",
       "\n",
       "    .dataframe tbody tr th {\n",
       "        vertical-align: top;\n",
       "    }\n",
       "\n",
       "    .dataframe thead th {\n",
       "        text-align: right;\n",
       "    }\n",
       "</style>\n",
       "<table border=\"1\" class=\"dataframe\">\n",
       "  <thead>\n",
       "    <tr style=\"text-align: right;\">\n",
       "      <th></th>\n",
       "      <th>id</th>\n",
       "      <th>project</th>\n",
       "      <th>connector_type</th>\n",
       "      <th>t</th>\n",
       "      <th>delta_t</th>\n",
       "      <th>url</th>\n",
       "      <th>redirect_url</th>\n",
       "      <th>response_size</th>\n",
       "      <th>response_code</th>\n",
       "      <th>success</th>\n",
       "      <th>error</th>\n",
       "    </tr>\n",
       "  </thead>\n",
       "  <tbody>\n",
       "    <tr>\n",
       "      <th>0</th>\n",
       "      <td>0</td>\n",
       "      <td>urls_get</td>\n",
       "      <td>requests</td>\n",
       "      <td>1.598367e+09</td>\n",
       "      <td>-0.131505</td>\n",
       "      <td>https://ekstrabladet.dk/flash/filmogtv/helt-ny...</td>\n",
       "      <td>https://ekstrabladet.dk/flash/filmogtv/helt-ny...</td>\n",
       "      <td>565319</td>\n",
       "      <td>200</td>\n",
       "      <td>True</td>\n",
       "      <td>NaN</td>\n",
       "    </tr>\n",
       "    <tr>\n",
       "      <th>1</th>\n",
       "      <td>1</td>\n",
       "      <td>urls_get</td>\n",
       "      <td>requests</td>\n",
       "      <td>1.598367e+09</td>\n",
       "      <td>-0.086136</td>\n",
       "      <td>https://ekstrabladet.dk/nyheder/erhvervsnyhede...</td>\n",
       "      <td>https://ekstrabladet.dk/nyheder/erhvervsnyhede...</td>\n",
       "      <td>566018</td>\n",
       "      <td>200</td>\n",
       "      <td>True</td>\n",
       "      <td>NaN</td>\n",
       "    </tr>\n",
       "    <tr>\n",
       "      <th>2</th>\n",
       "      <td>2</td>\n",
       "      <td>urls_get</td>\n",
       "      <td>requests</td>\n",
       "      <td>1.598367e+09</td>\n",
       "      <td>-0.056548</td>\n",
       "      <td>https://ekstrabladet.dk/sport/fodbold/landshol...</td>\n",
       "      <td>https://ekstrabladet.dk/sport/fodbold/landshol...</td>\n",
       "      <td>573745</td>\n",
       "      <td>200</td>\n",
       "      <td>True</td>\n",
       "      <td>NaN</td>\n",
       "    </tr>\n",
       "    <tr>\n",
       "      <th>3</th>\n",
       "      <td>3</td>\n",
       "      <td>urls_get</td>\n",
       "      <td>requests</td>\n",
       "      <td>1.598367e+09</td>\n",
       "      <td>-0.059775</td>\n",
       "      <td>https://ekstrabladet.dk/nyheder/samfund/corona...</td>\n",
       "      <td>https://ekstrabladet.dk/nyheder/samfund/corona...</td>\n",
       "      <td>566336</td>\n",
       "      <td>200</td>\n",
       "      <td>True</td>\n",
       "      <td>NaN</td>\n",
       "    </tr>\n",
       "    <tr>\n",
       "      <th>4</th>\n",
       "      <td>4</td>\n",
       "      <td>urls_get</td>\n",
       "      <td>requests</td>\n",
       "      <td>1.598367e+09</td>\n",
       "      <td>-0.050224</td>\n",
       "      <td>https://ekstrabladet.dk/ferie/tokyo-faar-genne...</td>\n",
       "      <td>https://ekstrabladet.dk/ferie/tokyo-faar-genne...</td>\n",
       "      <td>565156</td>\n",
       "      <td>200</td>\n",
       "      <td>True</td>\n",
       "      <td>NaN</td>\n",
       "    </tr>\n",
       "  </tbody>\n",
       "</table>\n",
       "</div>"
      ],
      "text/plain": [
       "   id   project connector_type             t   delta_t  \\\n",
       "0   0  urls_get       requests  1.598367e+09 -0.131505   \n",
       "1   1  urls_get       requests  1.598367e+09 -0.086136   \n",
       "2   2  urls_get       requests  1.598367e+09 -0.056548   \n",
       "3   3  urls_get       requests  1.598367e+09 -0.059775   \n",
       "4   4  urls_get       requests  1.598367e+09 -0.050224   \n",
       "\n",
       "                                                 url  \\\n",
       "0  https://ekstrabladet.dk/flash/filmogtv/helt-ny...   \n",
       "1  https://ekstrabladet.dk/nyheder/erhvervsnyhede...   \n",
       "2  https://ekstrabladet.dk/sport/fodbold/landshol...   \n",
       "3  https://ekstrabladet.dk/nyheder/samfund/corona...   \n",
       "4  https://ekstrabladet.dk/ferie/tokyo-faar-genne...   \n",
       "\n",
       "                                        redirect_url  response_size  \\\n",
       "0  https://ekstrabladet.dk/flash/filmogtv/helt-ny...         565319   \n",
       "1  https://ekstrabladet.dk/nyheder/erhvervsnyhede...         566018   \n",
       "2  https://ekstrabladet.dk/sport/fodbold/landshol...         573745   \n",
       "3  https://ekstrabladet.dk/nyheder/samfund/corona...         566336   \n",
       "4  https://ekstrabladet.dk/ferie/tokyo-faar-genne...         565156   \n",
       "\n",
       "   response_code  success  error  \n",
       "0            200     True    NaN  \n",
       "1            200     True    NaN  \n",
       "2            200     True    NaN  \n",
       "3            200     True    NaN  \n",
       "4            200     True    NaN  "
      ]
     },
     "execution_count": 3,
     "metadata": {},
     "output_type": "execute_result"
    }
   ],
   "source": [
    "# inspect data\n",
    "log_.head()"
   ]
  },
  {
   "cell_type": "code",
   "execution_count": 4,
   "metadata": {},
   "outputs": [],
   "source": [
    "log_['dt'] = pd.to_datetime(log_.t,unit='s')\n",
    "dt = log_.dt.values[0]"
   ]
  },
  {
   "cell_type": "code",
   "execution_count": 23,
   "metadata": {},
   "outputs": [
    {
     "data": {
      "text/plain": [
       "0       2020-08-25 14:57:17.458237410\n",
       "1       2020-08-25 14:57:20.755363464\n",
       "2       2020-08-25 14:57:22.844381094\n",
       "3       2020-08-25 14:57:24.414458513\n",
       "4       2020-08-25 14:57:25.978848219\n",
       "                     ...             \n",
       "17857   2020-08-26 02:11:50.140754223\n",
       "17858   2020-08-26 02:11:52.648071527\n",
       "17859   2020-08-26 02:11:54.770287991\n",
       "17860   2020-08-26 02:11:56.849017620\n",
       "17861   2020-08-26 02:11:58.927839041\n",
       "Name: dt, Length: 17862, dtype: datetime64[ns]"
      ]
     },
     "execution_count": 23,
     "metadata": {},
     "output_type": "execute_result"
    }
   ],
   "source": [
    "log_['dt']"
   ]
  },
  {
   "cell_type": "code",
   "execution_count": 27,
   "metadata": {},
   "outputs": [
    {
     "data": {
      "text/plain": [
       "Text(0.5, 0, 'Scraping progress')"
      ]
     },
     "execution_count": 27,
     "metadata": {},
     "output_type": "execute_result"
    },
    {
     "data": {
      "image/png": "[encoded data removed]",
      "text/plain": [
       "<Figure size 1080x288 with 1 Axes>"
      ]
     },
     "metadata": {
      "needs_background": "light"
     },
     "output_type": "display_data"
    }
   ],
   "source": [
    "# Plot the time it took to make the call\n",
    "plt.figure(figsize=(15,4))\n",
    "#plt.plot(log_.dt,log_.delta_t) #.rolling(time=7).mean()\n",
    "log_['t'].rolling(window=7).mean().plot()\n",
    "plt.ylabel('Delta t')\n",
    "plt.xlabel('Scraping progress')"
   ]
  },
  {
   "cell_type": "code",
   "execution_count": 6,
   "metadata": {},
   "outputs": [
    {
     "data": {
      "text/plain": [
       "[<matplotlib.lines.Line2D at 0x1d3b02eba08>]"
      ]
     },
     "execution_count": 6,
     "metadata": {},
     "output_type": "execute_result"
    },
    {
     "data": {
      "image/png": "[encoded data removed]",
      "text/plain": [
       "<Figure size 1080x288 with 1 Axes>"
      ]
     },
     "metadata": {
      "needs_background": "light"
     },
     "output_type": "display_data"
    }
   ],
   "source": [
    "# Plot the response size over time.\n",
    "plt.figure(figsize=(15,4))\n",
    "plt.ylabel('Size of response')\n",
    "plt.xlabel('Scraping progress')\n",
    "plt.plot(log_.dt,log_.response_size)"
   ]
  },
  {
   "cell_type": "code",
   "execution_count": 7,
   "metadata": {},
   "outputs": [
    {
     "data": {
      "text/plain": [
       "<matplotlib.collections.PathCollection at 0x1d3b0726dc8>"
      ]
     },
     "execution_count": 7,
     "metadata": {},
     "output_type": "execute_result"
    },
    {
     "data": {
      "image/png": "[encoded data removed]",
      "text/plain": [
       "<Figure size 432x288 with 1 Axes>"
      ]
     },
     "metadata": {
      "needs_background": "light"
     },
     "output_type": "display_data"
    }
   ],
   "source": [
    "# Plot the delta_t against the response_size. These two should correlate pretty well.\n",
    "plt.scatter(log_.delta_t,log_.response_size)"
   ]
  },
  {
   "cell_type": "code",
   "execution_count": 18,
   "metadata": {},
   "outputs": [
    {
     "data": {
      "text/plain": [
       "dt_hour\n",
       "2020-08-25 12:00:00.000000027    True\n",
       "2020-08-25 12:00:00.000000099    True\n",
       "2020-08-25 12:00:00.000000125    True\n",
       "2020-08-25 12:00:00.000000129    True\n",
       "2020-08-25 12:00:00.000000132    True\n",
       "2020-08-25 12:00:00.000000151    True\n",
       "2020-08-25 12:00:00.000000178    True\n",
       "2020-08-25 12:00:00.000000207    True\n",
       "2020-08-25 12:00:00.000000209    True\n",
       "2020-08-25 12:00:00.000000215    True\n",
       "2020-08-25 12:00:00.000000228    True\n",
       "2020-08-25 12:00:00.000000229    True\n",
       "2020-08-25 12:00:00.000000264    True\n",
       "2020-08-25 12:00:00.000000271    True\n",
       "2020-08-25 12:00:00.000000284    True\n",
       "2020-08-25 12:00:00.000000288    True\n",
       "2020-08-25 12:00:00.000000331    True\n",
       "2020-08-25 12:00:00.000000369    True\n",
       "2020-08-25 12:00:00.000000402    True\n",
       "2020-08-25 12:00:00.000000419    True\n",
       "2020-08-25 12:00:00.000000422    True\n",
       "2020-08-25 12:00:00.000000426    True\n",
       "2020-08-25 12:00:00.000000443    True\n",
       "2020-08-25 12:00:00.000000450    True\n",
       "2020-08-25 12:00:00.000000452    True\n",
       "2020-08-25 12:00:00.000000453    True\n",
       "2020-08-25 12:00:00.000000460    True\n",
       "2020-08-25 12:00:00.000000473    True\n",
       "2020-08-25 12:00:00.000000481    True\n",
       "2020-08-25 12:00:00.000000490    True\n",
       "2020-08-25 12:00:00.000000505    True\n",
       "2020-08-25 12:00:00.000000512    True\n",
       "2020-08-25 12:00:00.000000540    True\n",
       "2020-08-25 12:00:00.000000544    True\n",
       "2020-08-25 12:00:00.000000634    True\n",
       "2020-08-25 12:00:00.000000699    True\n",
       "2020-08-25 12:00:00.000000788    True\n",
       "2020-08-25 12:00:00.000000798    True\n",
       "2020-08-25 12:00:00.000000833    True\n",
       "2020-08-25 12:00:00.000000850    True\n",
       "2020-08-25 12:00:00.000000875    True\n",
       "2020-08-25 12:00:00.000000920    True\n",
       "2020-08-25 12:00:00.000000925    True\n",
       "2020-08-25 12:00:00.000000952    True\n",
       "2020-08-25 12:00:00.000000986    True\n",
       "Name: success, dtype: bool"
      ]
     },
     "execution_count": 18,
     "metadata": {},
     "output_type": "execute_result"
    }
   ],
   "source": [
    "## Investigate errors\n",
    "log_.success.value_counts() ## Count errors\n",
    "## Groupby time\n",
    "# round the time for aggregation\n",
    "log_['dt_minute'] = log_.dt.apply(lambda x: x-datetime.timedelta(seconds=x.second,microseconds=x.microsecond))\n",
    "log_['dt_hour'] = log_.dt.apply(lambda x: x-datetime.timedelta(minutes=x.minute,seconds=x.second,microseconds=x.microsecond))\n",
    "log_.groupby('dt_hour').success.mean()\n"
   ]
  },
  {
   "cell_type": "code",
   "execution_count": null,
   "metadata": {},
   "outputs": [],
   "source": []
  }
 ],
 "metadata": {
  "kernelspec": {
   "display_name": "Python 3",
   "language": "python",
   "name": "python3"
  },
  "language_info": {
   "codemirror_mode": {
    "name": "ipython",
    "version": 3
   },
   "file_extension": ".py",
   "mimetype": "text/x-python",
   "name": "python",
   "nbconvert_exporter": "python",
   "pygments_lexer": "ipython3",
   "version": "3.7.6"
  }
 },
 "nbformat": 4,
 "nbformat_minor": 4
}
