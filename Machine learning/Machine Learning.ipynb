{
 "cells": [
  {
   "cell_type": "code",
   "execution_count": 746,
   "metadata": {},
   "outputs": [],
   "source": [
    "import numpy as np \n",
    "import pandas as pd \n",
    "from tqdm import tqdm\n",
    "from math import sqrt\n",
    "import numbers\n",
    "\n",
    "#plots\n",
    "import matplotlib.pyplot as plt \n",
    "import seaborn as sns\n",
    "%matplotlib inline\n",
    "\n",
    "# for vectorization \n",
    "from sklearn.feature_extraction.text import CountVectorizer\n",
    "from sklearn.feature_extraction.text import TfidfVectorizer\n",
    "from sklearn.feature_extraction.text import TfidfTransformer\n",
    "\n",
    "# similarity/distance measures\n",
    "from scipy.spatial import distance\n",
    "from sklearn.metrics.pairwise import linear_kernel\n",
    "\n",
    "# sklearn\n",
    "from sklearn.svm import LinearSVC\n",
    "from sklearn.exceptions import DataConversionWarning; import warnings\n",
    "from sklearn.linear_model import Lasso, LinearRegression, Ridge, ElasticNet, LogisticRegression\n",
    "from sklearn.feature_extraction.text import TfidfVectorizer\n",
    "from sklearn.metrics import mean_squared_error as mse\n",
    "from sklearn.model_selection import KFold\n",
    "from sklearn.pipeline import make_pipeline\n",
    "from sklearn.pipeline import Pipeline\n",
    "from sklearn.preprocessing import StandardScaler, PolynomialFeatures\n",
    "from sklearn.datasets import make_classification\n",
    "from sklearn.linear_model import LinearRegression\n",
    "from sklearn.metrics import mean_squared_error as mse\n",
    "from sklearn.model_selection import train_test_split\n",
    "from sklearn.feature_selection import SelectKBest, chi2, f_classif\n",
    "from sklearn.model_selection import GridSearchCV"
   ]
  },
  {
   "cell_type": "code",
   "execution_count": 872,
   "metadata": {},
   "outputs": [],
   "source": [
    "# load data\n",
    "data = pd.read_csv('no_words.csv')\n",
    "# data.columns = ['url', 'comments', 'title', 'subtitle', 'body', 'date',\n",
    "#        'proc_title']\n",
    "data = data[data['title'].notna()]\n",
    "#data = data.reset_index()"
   ]
  },
  {
   "cell_type": "code",
   "execution_count": 873,
   "metadata": {},
   "outputs": [],
   "source": [
    "data['x_cat'] = data['url'].str.replace('https://ekstrabladet.dk/nyheder/','')\n",
    "data['x_cat'] = data['x_cat'].str.replace('https://ekstrabladet.dk/','')\n",
    "data['x_cat'] = data['x_cat'].apply(lambda x: x.split('/')[0])\n",
    "data = data[~data.x_cat.str.contains('-')]"
   ]
  },
  {
   "cell_type": "code",
   "execution_count": 874,
   "metadata": {},
   "outputs": [],
   "source": [
    "n = 100\n",
    "n2 = n+50\n",
    "data['x_cat'][n:n2]\n",
    "for i, cat in enumerate(data['x_cat']):\n",
    "    if '-' in cat:\n",
    "        data['x_cat'][i].drop"
   ]
  },
  {
   "cell_type": "code",
   "execution_count": null,
   "metadata": {},
   "outputs": [],
   "source": []
  },
  {
   "cell_type": "code",
   "execution_count": 875,
   "metadata": {},
   "outputs": [
    {
     "data": {
      "text/plain": [
       "5653"
      ]
     },
     "execution_count": 875,
     "metadata": {},
     "output_type": "execute_result"
    }
   ],
   "source": [
    "len(data['body'])"
   ]
  },
  {
   "cell_type": "code",
   "execution_count": 876,
   "metadata": {},
   "outputs": [],
   "source": [
    "len_title = []\n",
    "len_body = []\n",
    "for i in data['title']:\n",
    "    len_title.append(len(i))\n",
    "data['len_title'] = pd.DataFrame(data=len_title)"
   ]
  },
  {
   "cell_type": "code",
   "execution_count": 877,
   "metadata": {},
   "outputs": [],
   "source": [
    "data = data[data['len_title'].notna()]"
   ]
  },
  {
   "cell_type": "code",
   "execution_count": 878,
   "metadata": {},
   "outputs": [],
   "source": [
    "n = 10\n",
    "data['comments_cat'] = pd.qcut(data.comments, n, labels=list(range(n)))"
   ]
  },
  {
   "cell_type": "code",
   "execution_count": 879,
   "metadata": {},
   "outputs": [
    {
     "data": {
      "text/plain": [
       "587"
      ]
     },
     "execution_count": 879,
     "metadata": {},
     "output_type": "execute_result"
    }
   ],
   "source": [
    "len(data[data.comments_cat==2])"
   ]
  },
  {
   "cell_type": "code",
   "execution_count": 880,
   "metadata": {},
   "outputs": [],
   "source": [
    "data['set'] = 'hi'"
   ]
  },
  {
   "cell_type": "code",
   "execution_count": 881,
   "metadata": {},
   "outputs": [
    {
     "data": {
      "text/plain": [
       "5572"
      ]
     },
     "execution_count": 881,
     "metadata": {},
     "output_type": "execute_result"
    }
   ],
   "source": [
    "n = len(data['set'])\n",
    "if n%2 !=0:\n",
    "    n -= 1\n",
    "n1 = int(n/2)\n",
    "n"
   ]
  },
  {
   "cell_type": "code",
   "execution_count": 882,
   "metadata": {},
   "outputs": [
    {
     "name": "stderr",
     "output_type": "stream",
     "text": [
      "C:\\Users\\Jonat\\anaconda3\\lib\\site-packages\\ipykernel_launcher.py:1: SettingWithCopyWarning: \n",
      "A value is trying to be set on a copy of a slice from a DataFrame\n",
      "\n",
      "See the caveats in the documentation: https://pandas.pydata.org/pandas-docs/stable/user_guide/indexing.html#returning-a-view-versus-a-copy\n",
      "  \"\"\"Entry point for launching an IPython kernel.\n",
      "C:\\Users\\Jonat\\anaconda3\\lib\\site-packages\\ipykernel_launcher.py:2: SettingWithCopyWarning: \n",
      "A value is trying to be set on a copy of a slice from a DataFrame\n",
      "\n",
      "See the caveats in the documentation: https://pandas.pydata.org/pandas-docs/stable/user_guide/indexing.html#returning-a-view-versus-a-copy\n",
      "  \n"
     ]
    }
   ],
   "source": [
    "data['set'][:n1] = 'test'\n",
    "data['set'][n1:n] = 'train'"
   ]
  },
  {
   "cell_type": "code",
   "execution_count": 883,
   "metadata": {},
   "outputs": [],
   "source": [
    "df_train = data[data.set==\"train\"]\n",
    "df_test = data[data.set==\"test\"]"
   ]
  },
  {
   "cell_type": "code",
   "execution_count": null,
   "metadata": {},
   "outputs": [],
   "source": []
  },
  {
   "cell_type": "code",
   "execution_count": null,
   "metadata": {},
   "outputs": [],
   "source": []
  },
  {
   "cell_type": "code",
   "execution_count": 638,
   "metadata": {},
   "outputs": [
    {
     "ename": "KeyError",
     "evalue": "'proc_title_rm'",
     "output_type": "error",
     "traceback": [
      "\u001b[1;31m---------------------------------------------------------------------------\u001b[0m",
      "\u001b[1;31mKeyError\u001b[0m                                  Traceback (most recent call last)",
      "\u001b[1;32m~\\anaconda3\\lib\\site-packages\\pandas\\core\\indexes\\base.py\u001b[0m in \u001b[0;36mget_loc\u001b[1;34m(self, key, method, tolerance)\u001b[0m\n\u001b[0;32m   2645\u001b[0m             \u001b[1;32mtry\u001b[0m\u001b[1;33m:\u001b[0m\u001b[1;33m\u001b[0m\u001b[1;33m\u001b[0m\u001b[0m\n\u001b[1;32m-> 2646\u001b[1;33m                 \u001b[1;32mreturn\u001b[0m \u001b[0mself\u001b[0m\u001b[1;33m.\u001b[0m\u001b[0m_engine\u001b[0m\u001b[1;33m.\u001b[0m\u001b[0mget_loc\u001b[0m\u001b[1;33m(\u001b[0m\u001b[0mkey\u001b[0m\u001b[1;33m)\u001b[0m\u001b[1;33m\u001b[0m\u001b[1;33m\u001b[0m\u001b[0m\n\u001b[0m\u001b[0;32m   2647\u001b[0m             \u001b[1;32mexcept\u001b[0m \u001b[0mKeyError\u001b[0m\u001b[1;33m:\u001b[0m\u001b[1;33m\u001b[0m\u001b[1;33m\u001b[0m\u001b[0m\n",
      "\u001b[1;32mpandas\\_libs\\index.pyx\u001b[0m in \u001b[0;36mpandas._libs.index.IndexEngine.get_loc\u001b[1;34m()\u001b[0m\n",
      "\u001b[1;32mpandas\\_libs\\index.pyx\u001b[0m in \u001b[0;36mpandas._libs.index.IndexEngine.get_loc\u001b[1;34m()\u001b[0m\n",
      "\u001b[1;32mpandas\\_libs\\hashtable_class_helper.pxi\u001b[0m in \u001b[0;36mpandas._libs.hashtable.PyObjectHashTable.get_item\u001b[1;34m()\u001b[0m\n",
      "\u001b[1;32mpandas\\_libs\\hashtable_class_helper.pxi\u001b[0m in \u001b[0;36mpandas._libs.hashtable.PyObjectHashTable.get_item\u001b[1;34m()\u001b[0m\n",
      "\u001b[1;31mKeyError\u001b[0m: 'proc_title_rm'",
      "\nDuring handling of the above exception, another exception occurred:\n",
      "\u001b[1;31mKeyError\u001b[0m                                  Traceback (most recent call last)",
      "\u001b[1;32m<ipython-input-638-798823d24d4d>\u001b[0m in \u001b[0;36m<module>\u001b[1;34m\u001b[0m\n\u001b[0;32m      1\u001b[0m \u001b[0mn\u001b[0m \u001b[1;33m=\u001b[0m \u001b[1;36m150\u001b[0m\u001b[1;33m\u001b[0m\u001b[1;33m\u001b[0m\u001b[0m\n\u001b[0;32m      2\u001b[0m \u001b[0mn2\u001b[0m \u001b[1;33m=\u001b[0m \u001b[0mn\u001b[0m\u001b[1;33m+\u001b[0m\u001b[1;36m50\u001b[0m\u001b[1;33m\u001b[0m\u001b[1;33m\u001b[0m\u001b[0m\n\u001b[1;32m----> 3\u001b[1;33m \u001b[0mdata\u001b[0m\u001b[1;33m[\u001b[0m\u001b[1;34m'proc_title_rm'\u001b[0m\u001b[1;33m]\u001b[0m\u001b[1;33m[\u001b[0m\u001b[0mn\u001b[0m\u001b[1;33m:\u001b[0m\u001b[0mn2\u001b[0m\u001b[1;33m]\u001b[0m\u001b[1;33m\u001b[0m\u001b[1;33m\u001b[0m\u001b[0m\n\u001b[0m",
      "\u001b[1;32m~\\anaconda3\\lib\\site-packages\\pandas\\core\\frame.py\u001b[0m in \u001b[0;36m__getitem__\u001b[1;34m(self, key)\u001b[0m\n\u001b[0;32m   2798\u001b[0m             \u001b[1;32mif\u001b[0m \u001b[0mself\u001b[0m\u001b[1;33m.\u001b[0m\u001b[0mcolumns\u001b[0m\u001b[1;33m.\u001b[0m\u001b[0mnlevels\u001b[0m \u001b[1;33m>\u001b[0m \u001b[1;36m1\u001b[0m\u001b[1;33m:\u001b[0m\u001b[1;33m\u001b[0m\u001b[1;33m\u001b[0m\u001b[0m\n\u001b[0;32m   2799\u001b[0m                 \u001b[1;32mreturn\u001b[0m \u001b[0mself\u001b[0m\u001b[1;33m.\u001b[0m\u001b[0m_getitem_multilevel\u001b[0m\u001b[1;33m(\u001b[0m\u001b[0mkey\u001b[0m\u001b[1;33m)\u001b[0m\u001b[1;33m\u001b[0m\u001b[1;33m\u001b[0m\u001b[0m\n\u001b[1;32m-> 2800\u001b[1;33m             \u001b[0mindexer\u001b[0m \u001b[1;33m=\u001b[0m \u001b[0mself\u001b[0m\u001b[1;33m.\u001b[0m\u001b[0mcolumns\u001b[0m\u001b[1;33m.\u001b[0m\u001b[0mget_loc\u001b[0m\u001b[1;33m(\u001b[0m\u001b[0mkey\u001b[0m\u001b[1;33m)\u001b[0m\u001b[1;33m\u001b[0m\u001b[1;33m\u001b[0m\u001b[0m\n\u001b[0m\u001b[0;32m   2801\u001b[0m             \u001b[1;32mif\u001b[0m \u001b[0mis_integer\u001b[0m\u001b[1;33m(\u001b[0m\u001b[0mindexer\u001b[0m\u001b[1;33m)\u001b[0m\u001b[1;33m:\u001b[0m\u001b[1;33m\u001b[0m\u001b[1;33m\u001b[0m\u001b[0m\n\u001b[0;32m   2802\u001b[0m                 \u001b[0mindexer\u001b[0m \u001b[1;33m=\u001b[0m \u001b[1;33m[\u001b[0m\u001b[0mindexer\u001b[0m\u001b[1;33m]\u001b[0m\u001b[1;33m\u001b[0m\u001b[1;33m\u001b[0m\u001b[0m\n",
      "\u001b[1;32m~\\anaconda3\\lib\\site-packages\\pandas\\core\\indexes\\base.py\u001b[0m in \u001b[0;36mget_loc\u001b[1;34m(self, key, method, tolerance)\u001b[0m\n\u001b[0;32m   2646\u001b[0m                 \u001b[1;32mreturn\u001b[0m \u001b[0mself\u001b[0m\u001b[1;33m.\u001b[0m\u001b[0m_engine\u001b[0m\u001b[1;33m.\u001b[0m\u001b[0mget_loc\u001b[0m\u001b[1;33m(\u001b[0m\u001b[0mkey\u001b[0m\u001b[1;33m)\u001b[0m\u001b[1;33m\u001b[0m\u001b[1;33m\u001b[0m\u001b[0m\n\u001b[0;32m   2647\u001b[0m             \u001b[1;32mexcept\u001b[0m \u001b[0mKeyError\u001b[0m\u001b[1;33m:\u001b[0m\u001b[1;33m\u001b[0m\u001b[1;33m\u001b[0m\u001b[0m\n\u001b[1;32m-> 2648\u001b[1;33m                 \u001b[1;32mreturn\u001b[0m \u001b[0mself\u001b[0m\u001b[1;33m.\u001b[0m\u001b[0m_engine\u001b[0m\u001b[1;33m.\u001b[0m\u001b[0mget_loc\u001b[0m\u001b[1;33m(\u001b[0m\u001b[0mself\u001b[0m\u001b[1;33m.\u001b[0m\u001b[0m_maybe_cast_indexer\u001b[0m\u001b[1;33m(\u001b[0m\u001b[0mkey\u001b[0m\u001b[1;33m)\u001b[0m\u001b[1;33m)\u001b[0m\u001b[1;33m\u001b[0m\u001b[1;33m\u001b[0m\u001b[0m\n\u001b[0m\u001b[0;32m   2649\u001b[0m         \u001b[0mindexer\u001b[0m \u001b[1;33m=\u001b[0m \u001b[0mself\u001b[0m\u001b[1;33m.\u001b[0m\u001b[0mget_indexer\u001b[0m\u001b[1;33m(\u001b[0m\u001b[1;33m[\u001b[0m\u001b[0mkey\u001b[0m\u001b[1;33m]\u001b[0m\u001b[1;33m,\u001b[0m \u001b[0mmethod\u001b[0m\u001b[1;33m=\u001b[0m\u001b[0mmethod\u001b[0m\u001b[1;33m,\u001b[0m \u001b[0mtolerance\u001b[0m\u001b[1;33m=\u001b[0m\u001b[0mtolerance\u001b[0m\u001b[1;33m)\u001b[0m\u001b[1;33m\u001b[0m\u001b[1;33m\u001b[0m\u001b[0m\n\u001b[0;32m   2650\u001b[0m         \u001b[1;32mif\u001b[0m \u001b[0mindexer\u001b[0m\u001b[1;33m.\u001b[0m\u001b[0mndim\u001b[0m \u001b[1;33m>\u001b[0m \u001b[1;36m1\u001b[0m \u001b[1;32mor\u001b[0m \u001b[0mindexer\u001b[0m\u001b[1;33m.\u001b[0m\u001b[0msize\u001b[0m \u001b[1;33m>\u001b[0m \u001b[1;36m1\u001b[0m\u001b[1;33m:\u001b[0m\u001b[1;33m\u001b[0m\u001b[1;33m\u001b[0m\u001b[0m\n",
      "\u001b[1;32mpandas\\_libs\\index.pyx\u001b[0m in \u001b[0;36mpandas._libs.index.IndexEngine.get_loc\u001b[1;34m()\u001b[0m\n",
      "\u001b[1;32mpandas\\_libs\\index.pyx\u001b[0m in \u001b[0;36mpandas._libs.index.IndexEngine.get_loc\u001b[1;34m()\u001b[0m\n",
      "\u001b[1;32mpandas\\_libs\\hashtable_class_helper.pxi\u001b[0m in \u001b[0;36mpandas._libs.hashtable.PyObjectHashTable.get_item\u001b[1;34m()\u001b[0m\n",
      "\u001b[1;32mpandas\\_libs\\hashtable_class_helper.pxi\u001b[0m in \u001b[0;36mpandas._libs.hashtable.PyObjectHashTable.get_item\u001b[1;34m()\u001b[0m\n",
      "\u001b[1;31mKeyError\u001b[0m: 'proc_title_rm'"
     ]
    }
   ],
   "source": [
    "n = 150\n",
    "n2 = n+50\n",
    "data['proc_title_rm'][n:n2]"
   ]
  },
  {
   "cell_type": "code",
   "execution_count": null,
   "metadata": {},
   "outputs": [],
   "source": []
  },
  {
   "cell_type": "code",
   "execution_count": 639,
   "metadata": {},
   "outputs": [
    {
     "ename": "AttributeError",
     "evalue": "'DataFrame' object has no attribute 'proc_title_rm'",
     "output_type": "error",
     "traceback": [
      "\u001b[1;31m---------------------------------------------------------------------------\u001b[0m",
      "\u001b[1;31mAttributeError\u001b[0m                            Traceback (most recent call last)",
      "\u001b[1;32m<ipython-input-639-ecc0b5ecf92d>\u001b[0m in \u001b[0;36m<module>\u001b[1;34m\u001b[0m\n\u001b[1;32m----> 1\u001b[1;33m \u001b[0mdf_test_word\u001b[0m \u001b[1;33m=\u001b[0m \u001b[0mdf_test\u001b[0m\u001b[1;33m[\u001b[0m\u001b[0mdf_test\u001b[0m\u001b[1;33m.\u001b[0m\u001b[0mproc_title_rm\u001b[0m\u001b[1;33m==\u001b[0m\u001b[1;34m'dårligt'\u001b[0m\u001b[1;33m]\u001b[0m\u001b[1;33m\u001b[0m\u001b[1;33m\u001b[0m\u001b[0m\n\u001b[0m",
      "\u001b[1;32m~\\anaconda3\\lib\\site-packages\\pandas\\core\\generic.py\u001b[0m in \u001b[0;36m__getattr__\u001b[1;34m(self, name)\u001b[0m\n\u001b[0;32m   5272\u001b[0m             \u001b[1;32mif\u001b[0m \u001b[0mself\u001b[0m\u001b[1;33m.\u001b[0m\u001b[0m_info_axis\u001b[0m\u001b[1;33m.\u001b[0m\u001b[0m_can_hold_identifiers_and_holds_name\u001b[0m\u001b[1;33m(\u001b[0m\u001b[0mname\u001b[0m\u001b[1;33m)\u001b[0m\u001b[1;33m:\u001b[0m\u001b[1;33m\u001b[0m\u001b[1;33m\u001b[0m\u001b[0m\n\u001b[0;32m   5273\u001b[0m                 \u001b[1;32mreturn\u001b[0m \u001b[0mself\u001b[0m\u001b[1;33m[\u001b[0m\u001b[0mname\u001b[0m\u001b[1;33m]\u001b[0m\u001b[1;33m\u001b[0m\u001b[1;33m\u001b[0m\u001b[0m\n\u001b[1;32m-> 5274\u001b[1;33m             \u001b[1;32mreturn\u001b[0m \u001b[0mobject\u001b[0m\u001b[1;33m.\u001b[0m\u001b[0m__getattribute__\u001b[0m\u001b[1;33m(\u001b[0m\u001b[0mself\u001b[0m\u001b[1;33m,\u001b[0m \u001b[0mname\u001b[0m\u001b[1;33m)\u001b[0m\u001b[1;33m\u001b[0m\u001b[1;33m\u001b[0m\u001b[0m\n\u001b[0m\u001b[0;32m   5275\u001b[0m \u001b[1;33m\u001b[0m\u001b[0m\n\u001b[0;32m   5276\u001b[0m     \u001b[1;32mdef\u001b[0m \u001b[0m__setattr__\u001b[0m\u001b[1;33m(\u001b[0m\u001b[0mself\u001b[0m\u001b[1;33m,\u001b[0m \u001b[0mname\u001b[0m\u001b[1;33m:\u001b[0m \u001b[0mstr\u001b[0m\u001b[1;33m,\u001b[0m \u001b[0mvalue\u001b[0m\u001b[1;33m)\u001b[0m \u001b[1;33m->\u001b[0m \u001b[1;32mNone\u001b[0m\u001b[1;33m:\u001b[0m\u001b[1;33m\u001b[0m\u001b[1;33m\u001b[0m\u001b[0m\n",
      "\u001b[1;31mAttributeError\u001b[0m: 'DataFrame' object has no attribute 'proc_title_rm'"
     ]
    }
   ],
   "source": [
    "df_test_word = df_test[df_test.proc_title_rm=='dårligt']"
   ]
  },
  {
   "cell_type": "code",
   "execution_count": 640,
   "metadata": {},
   "outputs": [
    {
     "data": {
      "text/plain": [
       "<matplotlib.collections.PathCollection at 0x130ad8a2c48>"
      ]
     },
     "execution_count": 640,
     "metadata": {},
     "output_type": "execute_result"
    },
    {
     "data": {
      "image/png": "[encoded data removed]",
      "text/plain": [
       "<Figure size 576x288 with 1 Axes>"
      ]
     },
     "metadata": {
      "needs_background": "light"
     },
     "output_type": "display_data"
    }
   ],
   "source": [
    "plt.figure(figsize=(8,4))\n",
    "plt.scatter(df_test_word.date,df_test_word.comments)"
   ]
  },
  {
   "cell_type": "code",
   "execution_count": null,
   "metadata": {},
   "outputs": [],
   "source": []
  },
  {
   "cell_type": "code",
   "execution_count": null,
   "metadata": {},
   "outputs": [],
   "source": []
  },
  {
   "cell_type": "code",
   "execution_count": null,
   "metadata": {},
   "outputs": [],
   "source": []
  },
  {
   "cell_type": "code",
   "execution_count": null,
   "metadata": {},
   "outputs": [],
   "source": []
  },
  {
   "cell_type": "code",
   "execution_count": 668,
   "metadata": {},
   "outputs": [],
   "source": [
    "vectorizer_test = CountVectorizer()\n",
    "X = vectorizer.fit_transform(df_train.title.values)"
   ]
  },
  {
   "cell_type": "code",
   "execution_count": 669,
   "metadata": {},
   "outputs": [
    {
     "ename": "SyntaxError",
     "evalue": "invalid syntax (<ipython-input-669-63c3eade6e23>, line 1)",
     "output_type": "error",
     "traceback": [
      "\u001b[1;36m  File \u001b[1;32m\"<ipython-input-669-63c3eade6e23>\"\u001b[1;36m, line \u001b[1;32m1\u001b[0m\n\u001b[1;33m    X[]\u001b[0m\n\u001b[1;37m      ^\u001b[0m\n\u001b[1;31mSyntaxError\u001b[0m\u001b[1;31m:\u001b[0m invalid syntax\n"
     ]
    }
   ],
   "source": [
    "X[]"
   ]
  },
  {
   "cell_type": "code",
   "execution_count": null,
   "metadata": {},
   "outputs": [],
   "source": [
    "pd.DataFrame.sparse.from_spmatrix(X)"
   ]
  },
  {
   "cell_type": "code",
   "execution_count": null,
   "metadata": {},
   "outputs": [],
   "source": []
  },
  {
   "cell_type": "code",
   "execution_count": 670,
   "metadata": {},
   "outputs": [
    {
     "ename": "KeyError",
     "evalue": "'proc_title_rm'",
     "output_type": "error",
     "traceback": [
      "\u001b[1;31m---------------------------------------------------------------------------\u001b[0m",
      "\u001b[1;31mKeyError\u001b[0m                                  Traceback (most recent call last)",
      "\u001b[1;32m~\\anaconda3\\lib\\site-packages\\pandas\\core\\indexes\\base.py\u001b[0m in \u001b[0;36mget_loc\u001b[1;34m(self, key, method, tolerance)\u001b[0m\n\u001b[0;32m   2645\u001b[0m             \u001b[1;32mtry\u001b[0m\u001b[1;33m:\u001b[0m\u001b[1;33m\u001b[0m\u001b[1;33m\u001b[0m\u001b[0m\n\u001b[1;32m-> 2646\u001b[1;33m                 \u001b[1;32mreturn\u001b[0m \u001b[0mself\u001b[0m\u001b[1;33m.\u001b[0m\u001b[0m_engine\u001b[0m\u001b[1;33m.\u001b[0m\u001b[0mget_loc\u001b[0m\u001b[1;33m(\u001b[0m\u001b[0mkey\u001b[0m\u001b[1;33m)\u001b[0m\u001b[1;33m\u001b[0m\u001b[1;33m\u001b[0m\u001b[0m\n\u001b[0m\u001b[0;32m   2647\u001b[0m             \u001b[1;32mexcept\u001b[0m \u001b[0mKeyError\u001b[0m\u001b[1;33m:\u001b[0m\u001b[1;33m\u001b[0m\u001b[1;33m\u001b[0m\u001b[0m\n",
      "\u001b[1;32mpandas\\_libs\\index.pyx\u001b[0m in \u001b[0;36mpandas._libs.index.IndexEngine.get_loc\u001b[1;34m()\u001b[0m\n",
      "\u001b[1;32mpandas\\_libs\\index.pyx\u001b[0m in \u001b[0;36mpandas._libs.index.IndexEngine.get_loc\u001b[1;34m()\u001b[0m\n",
      "\u001b[1;32mpandas\\_libs\\hashtable_class_helper.pxi\u001b[0m in \u001b[0;36mpandas._libs.hashtable.PyObjectHashTable.get_item\u001b[1;34m()\u001b[0m\n",
      "\u001b[1;32mpandas\\_libs\\hashtable_class_helper.pxi\u001b[0m in \u001b[0;36mpandas._libs.hashtable.PyObjectHashTable.get_item\u001b[1;34m()\u001b[0m\n",
      "\u001b[1;31mKeyError\u001b[0m: 'proc_title_rm'",
      "\nDuring handling of the above exception, another exception occurred:\n",
      "\u001b[1;31mKeyError\u001b[0m                                  Traceback (most recent call last)",
      "\u001b[1;32m<ipython-input-670-83a5a525a939>\u001b[0m in \u001b[0;36m<module>\u001b[1;34m\u001b[0m\n\u001b[1;32m----> 1\u001b[1;33m \u001b[0mX\u001b[0m \u001b[1;33m=\u001b[0m \u001b[0mdata\u001b[0m\u001b[1;33m[\u001b[0m\u001b[1;34m'proc_title_rm'\u001b[0m\u001b[1;33m]\u001b[0m\u001b[1;33m\u001b[0m\u001b[1;33m\u001b[0m\u001b[0m\n\u001b[0m\u001b[0;32m      2\u001b[0m \u001b[0my\u001b[0m \u001b[1;33m=\u001b[0m \u001b[0mdata\u001b[0m\u001b[1;33m[\u001b[0m\u001b[1;34m'comments'\u001b[0m\u001b[1;33m]\u001b[0m\u001b[1;33m\u001b[0m\u001b[1;33m\u001b[0m\u001b[0m\n\u001b[0;32m      3\u001b[0m \u001b[1;31m# create test, train and dev\u001b[0m\u001b[1;33m\u001b[0m\u001b[1;33m\u001b[0m\u001b[1;33m\u001b[0m\u001b[0m\n\u001b[0;32m      4\u001b[0m \u001b[0mX_dev\u001b[0m\u001b[1;33m,\u001b[0m \u001b[0mX_test\u001b[0m\u001b[1;33m,\u001b[0m \u001b[0my_dev\u001b[0m\u001b[1;33m,\u001b[0m \u001b[0my_test\u001b[0m \u001b[1;33m=\u001b[0m \u001b[0mtrain_test_split\u001b[0m\u001b[1;33m(\u001b[0m\u001b[0mX\u001b[0m\u001b[1;33m,\u001b[0m \u001b[0my\u001b[0m\u001b[1;33m,\u001b[0m \u001b[0mtest_size\u001b[0m\u001b[1;33m=\u001b[0m\u001b[1;36m1\u001b[0m\u001b[1;33m/\u001b[0m\u001b[1;36m3\u001b[0m\u001b[1;33m,\u001b[0m \u001b[0mrandom_state\u001b[0m\u001b[1;33m=\u001b[0m\u001b[1;36m1\u001b[0m\u001b[1;33m)\u001b[0m\u001b[1;33m\u001b[0m\u001b[1;33m\u001b[0m\u001b[0m\n\u001b[0;32m      5\u001b[0m \u001b[0mX_train\u001b[0m\u001b[1;33m,\u001b[0m \u001b[0mX_val\u001b[0m\u001b[1;33m,\u001b[0m \u001b[0my_train\u001b[0m\u001b[1;33m,\u001b[0m \u001b[0my_val\u001b[0m \u001b[1;33m=\u001b[0m \u001b[0mtrain_test_split\u001b[0m\u001b[1;33m(\u001b[0m\u001b[0mX_dev\u001b[0m\u001b[1;33m,\u001b[0m \u001b[0my_dev\u001b[0m\u001b[1;33m,\u001b[0m \u001b[0mtest_size\u001b[0m\u001b[1;33m=\u001b[0m\u001b[1;36m1\u001b[0m\u001b[1;33m/\u001b[0m\u001b[1;36m2\u001b[0m\u001b[1;33m,\u001b[0m \u001b[0mrandom_state\u001b[0m\u001b[1;33m=\u001b[0m\u001b[1;36m1\u001b[0m\u001b[1;33m)\u001b[0m\u001b[1;33m\u001b[0m\u001b[1;33m\u001b[0m\u001b[0m\n",
      "\u001b[1;32m~\\anaconda3\\lib\\site-packages\\pandas\\core\\frame.py\u001b[0m in \u001b[0;36m__getitem__\u001b[1;34m(self, key)\u001b[0m\n\u001b[0;32m   2798\u001b[0m             \u001b[1;32mif\u001b[0m \u001b[0mself\u001b[0m\u001b[1;33m.\u001b[0m\u001b[0mcolumns\u001b[0m\u001b[1;33m.\u001b[0m\u001b[0mnlevels\u001b[0m \u001b[1;33m>\u001b[0m \u001b[1;36m1\u001b[0m\u001b[1;33m:\u001b[0m\u001b[1;33m\u001b[0m\u001b[1;33m\u001b[0m\u001b[0m\n\u001b[0;32m   2799\u001b[0m                 \u001b[1;32mreturn\u001b[0m \u001b[0mself\u001b[0m\u001b[1;33m.\u001b[0m\u001b[0m_getitem_multilevel\u001b[0m\u001b[1;33m(\u001b[0m\u001b[0mkey\u001b[0m\u001b[1;33m)\u001b[0m\u001b[1;33m\u001b[0m\u001b[1;33m\u001b[0m\u001b[0m\n\u001b[1;32m-> 2800\u001b[1;33m             \u001b[0mindexer\u001b[0m \u001b[1;33m=\u001b[0m \u001b[0mself\u001b[0m\u001b[1;33m.\u001b[0m\u001b[0mcolumns\u001b[0m\u001b[1;33m.\u001b[0m\u001b[0mget_loc\u001b[0m\u001b[1;33m(\u001b[0m\u001b[0mkey\u001b[0m\u001b[1;33m)\u001b[0m\u001b[1;33m\u001b[0m\u001b[1;33m\u001b[0m\u001b[0m\n\u001b[0m\u001b[0;32m   2801\u001b[0m             \u001b[1;32mif\u001b[0m \u001b[0mis_integer\u001b[0m\u001b[1;33m(\u001b[0m\u001b[0mindexer\u001b[0m\u001b[1;33m)\u001b[0m\u001b[1;33m:\u001b[0m\u001b[1;33m\u001b[0m\u001b[1;33m\u001b[0m\u001b[0m\n\u001b[0;32m   2802\u001b[0m                 \u001b[0mindexer\u001b[0m \u001b[1;33m=\u001b[0m \u001b[1;33m[\u001b[0m\u001b[0mindexer\u001b[0m\u001b[1;33m]\u001b[0m\u001b[1;33m\u001b[0m\u001b[1;33m\u001b[0m\u001b[0m\n",
      "\u001b[1;32m~\\anaconda3\\lib\\site-packages\\pandas\\core\\indexes\\base.py\u001b[0m in \u001b[0;36mget_loc\u001b[1;34m(self, key, method, tolerance)\u001b[0m\n\u001b[0;32m   2646\u001b[0m                 \u001b[1;32mreturn\u001b[0m \u001b[0mself\u001b[0m\u001b[1;33m.\u001b[0m\u001b[0m_engine\u001b[0m\u001b[1;33m.\u001b[0m\u001b[0mget_loc\u001b[0m\u001b[1;33m(\u001b[0m\u001b[0mkey\u001b[0m\u001b[1;33m)\u001b[0m\u001b[1;33m\u001b[0m\u001b[1;33m\u001b[0m\u001b[0m\n\u001b[0;32m   2647\u001b[0m             \u001b[1;32mexcept\u001b[0m \u001b[0mKeyError\u001b[0m\u001b[1;33m:\u001b[0m\u001b[1;33m\u001b[0m\u001b[1;33m\u001b[0m\u001b[0m\n\u001b[1;32m-> 2648\u001b[1;33m                 \u001b[1;32mreturn\u001b[0m \u001b[0mself\u001b[0m\u001b[1;33m.\u001b[0m\u001b[0m_engine\u001b[0m\u001b[1;33m.\u001b[0m\u001b[0mget_loc\u001b[0m\u001b[1;33m(\u001b[0m\u001b[0mself\u001b[0m\u001b[1;33m.\u001b[0m\u001b[0m_maybe_cast_indexer\u001b[0m\u001b[1;33m(\u001b[0m\u001b[0mkey\u001b[0m\u001b[1;33m)\u001b[0m\u001b[1;33m)\u001b[0m\u001b[1;33m\u001b[0m\u001b[1;33m\u001b[0m\u001b[0m\n\u001b[0m\u001b[0;32m   2649\u001b[0m         \u001b[0mindexer\u001b[0m \u001b[1;33m=\u001b[0m \u001b[0mself\u001b[0m\u001b[1;33m.\u001b[0m\u001b[0mget_indexer\u001b[0m\u001b[1;33m(\u001b[0m\u001b[1;33m[\u001b[0m\u001b[0mkey\u001b[0m\u001b[1;33m]\u001b[0m\u001b[1;33m,\u001b[0m \u001b[0mmethod\u001b[0m\u001b[1;33m=\u001b[0m\u001b[0mmethod\u001b[0m\u001b[1;33m,\u001b[0m \u001b[0mtolerance\u001b[0m\u001b[1;33m=\u001b[0m\u001b[0mtolerance\u001b[0m\u001b[1;33m)\u001b[0m\u001b[1;33m\u001b[0m\u001b[1;33m\u001b[0m\u001b[0m\n\u001b[0;32m   2650\u001b[0m         \u001b[1;32mif\u001b[0m \u001b[0mindexer\u001b[0m\u001b[1;33m.\u001b[0m\u001b[0mndim\u001b[0m \u001b[1;33m>\u001b[0m \u001b[1;36m1\u001b[0m \u001b[1;32mor\u001b[0m \u001b[0mindexer\u001b[0m\u001b[1;33m.\u001b[0m\u001b[0msize\u001b[0m \u001b[1;33m>\u001b[0m \u001b[1;36m1\u001b[0m\u001b[1;33m:\u001b[0m\u001b[1;33m\u001b[0m\u001b[1;33m\u001b[0m\u001b[0m\n",
      "\u001b[1;32mpandas\\_libs\\index.pyx\u001b[0m in \u001b[0;36mpandas._libs.index.IndexEngine.get_loc\u001b[1;34m()\u001b[0m\n",
      "\u001b[1;32mpandas\\_libs\\index.pyx\u001b[0m in \u001b[0;36mpandas._libs.index.IndexEngine.get_loc\u001b[1;34m()\u001b[0m\n",
      "\u001b[1;32mpandas\\_libs\\hashtable_class_helper.pxi\u001b[0m in \u001b[0;36mpandas._libs.hashtable.PyObjectHashTable.get_item\u001b[1;34m()\u001b[0m\n",
      "\u001b[1;32mpandas\\_libs\\hashtable_class_helper.pxi\u001b[0m in \u001b[0;36mpandas._libs.hashtable.PyObjectHashTable.get_item\u001b[1;34m()\u001b[0m\n",
      "\u001b[1;31mKeyError\u001b[0m: 'proc_title_rm'"
     ]
    }
   ],
   "source": [
    "X = data['proc_title_rm']\n",
    "y = data['comments']\n",
    "# create test, train and dev\n",
    "X_dev, X_test, y_dev, y_test = train_test_split(X, y, test_size=1/3, random_state=1)    \n",
    "X_train, X_val, y_train, y_val = train_test_split(X_dev, y_dev, test_size=1/2, random_state=1)"
   ]
  },
  {
   "cell_type": "code",
   "execution_count": null,
   "metadata": {},
   "outputs": [],
   "source": [
    "X_test_split = [sent.split(' ') for sent in X_test]"
   ]
  },
  {
   "cell_type": "code",
   "execution_count": 671,
   "metadata": {},
   "outputs": [
    {
     "ename": "AttributeError",
     "evalue": "'DataFrame' object has no attribute 'proc_title_rm'",
     "output_type": "error",
     "traceback": [
      "\u001b[1;31m---------------------------------------------------------------------------\u001b[0m",
      "\u001b[1;31mAttributeError\u001b[0m                            Traceback (most recent call last)",
      "\u001b[1;32m<ipython-input-671-5b62eb888ab8>\u001b[0m in \u001b[0;36m<module>\u001b[1;34m\u001b[0m\n\u001b[0;32m      7\u001b[0m \u001b[1;33m\u001b[0m\u001b[0m\n\u001b[0;32m      8\u001b[0m \u001b[1;31m# fit and transform train\u001b[0m\u001b[1;33m\u001b[0m\u001b[1;33m\u001b[0m\u001b[1;33m\u001b[0m\u001b[0m\n\u001b[1;32m----> 9\u001b[1;33m \u001b[0mX_train_bow\u001b[0m \u001b[1;33m=\u001b[0m \u001b[0mvectorizer\u001b[0m\u001b[1;33m.\u001b[0m\u001b[0mfit_transform\u001b[0m\u001b[1;33m(\u001b[0m\u001b[0mdata\u001b[0m\u001b[1;33m.\u001b[0m\u001b[0mproc_title_rm\u001b[0m\u001b[1;33m.\u001b[0m\u001b[0mvalues\u001b[0m\u001b[1;33m)\u001b[0m\u001b[1;33m\u001b[0m\u001b[1;33m\u001b[0m\u001b[0m\n\u001b[0m\u001b[0;32m     10\u001b[0m \u001b[1;31m# Only tranform test: never fitting your vectorizer on the test set (it is cheating). OOV words are handled automatically be sklearn's vectorizer.\u001b[0m\u001b[1;33m\u001b[0m\u001b[1;33m\u001b[0m\u001b[1;33m\u001b[0m\u001b[0m\n\u001b[0;32m     11\u001b[0m \u001b[0mX_test_bow\u001b[0m \u001b[1;33m=\u001b[0m \u001b[0mvectorizer\u001b[0m\u001b[1;33m.\u001b[0m\u001b[0mtransform\u001b[0m\u001b[1;33m(\u001b[0m\u001b[0mdf_test\u001b[0m\u001b[1;33m.\u001b[0m\u001b[0mproc_title_rm\u001b[0m\u001b[1;33m.\u001b[0m\u001b[0mvalues\u001b[0m\u001b[1;33m)\u001b[0m\u001b[1;33m\u001b[0m\u001b[1;33m\u001b[0m\u001b[0m\n",
      "\u001b[1;32m~\\anaconda3\\lib\\site-packages\\pandas\\core\\generic.py\u001b[0m in \u001b[0;36m__getattr__\u001b[1;34m(self, name)\u001b[0m\n\u001b[0;32m   5272\u001b[0m             \u001b[1;32mif\u001b[0m \u001b[0mself\u001b[0m\u001b[1;33m.\u001b[0m\u001b[0m_info_axis\u001b[0m\u001b[1;33m.\u001b[0m\u001b[0m_can_hold_identifiers_and_holds_name\u001b[0m\u001b[1;33m(\u001b[0m\u001b[0mname\u001b[0m\u001b[1;33m)\u001b[0m\u001b[1;33m:\u001b[0m\u001b[1;33m\u001b[0m\u001b[1;33m\u001b[0m\u001b[0m\n\u001b[0;32m   5273\u001b[0m                 \u001b[1;32mreturn\u001b[0m \u001b[0mself\u001b[0m\u001b[1;33m[\u001b[0m\u001b[0mname\u001b[0m\u001b[1;33m]\u001b[0m\u001b[1;33m\u001b[0m\u001b[1;33m\u001b[0m\u001b[0m\n\u001b[1;32m-> 5274\u001b[1;33m             \u001b[1;32mreturn\u001b[0m \u001b[0mobject\u001b[0m\u001b[1;33m.\u001b[0m\u001b[0m__getattribute__\u001b[0m\u001b[1;33m(\u001b[0m\u001b[0mself\u001b[0m\u001b[1;33m,\u001b[0m \u001b[0mname\u001b[0m\u001b[1;33m)\u001b[0m\u001b[1;33m\u001b[0m\u001b[1;33m\u001b[0m\u001b[0m\n\u001b[0m\u001b[0;32m   5275\u001b[0m \u001b[1;33m\u001b[0m\u001b[0m\n\u001b[0;32m   5276\u001b[0m     \u001b[1;32mdef\u001b[0m \u001b[0m__setattr__\u001b[0m\u001b[1;33m(\u001b[0m\u001b[0mself\u001b[0m\u001b[1;33m,\u001b[0m \u001b[0mname\u001b[0m\u001b[1;33m:\u001b[0m \u001b[0mstr\u001b[0m\u001b[1;33m,\u001b[0m \u001b[0mvalue\u001b[0m\u001b[1;33m)\u001b[0m \u001b[1;33m->\u001b[0m \u001b[1;32mNone\u001b[0m\u001b[1;33m:\u001b[0m\u001b[1;33m\u001b[0m\u001b[1;33m\u001b[0m\u001b[0m\n",
      "\u001b[1;31mAttributeError\u001b[0m: 'DataFrame' object has no attribute 'proc_title_rm'"
     ]
    }
   ],
   "source": [
    "# Bag of Words\n",
    "\n",
    "# CountVectorizer has a build-in tokenizer and lowercases by default. Also has an option to remove stopwords.\n",
    "vectorizer = CountVectorizer()\n",
    "# However, you can override the default tokenization with your own defined function, like so:\n",
    "#vectorizer = CountVectorizer(tokenizer=preprocess)\n",
    "\n",
    "# fit and transform train\n",
    "X_train_bow = vectorizer.fit_transform(data.proc_title_rm.values)\n",
    "# Only tranform test: never fitting your vectorizer on the test set (it is cheating). OOV words are handled automatically be sklearn's vectorizer.\n",
    "X_test_bow = vectorizer.transform(df_test.proc_title_rm.values)"
   ]
  },
  {
   "cell_type": "code",
   "execution_count": null,
   "metadata": {},
   "outputs": [],
   "source": [
    "print(X_train_bow.shape)\n",
    "print(len(vectorizer.vocabulary_))\n",
    "X_train_bow[0]"
   ]
  },
  {
   "cell_type": "code",
   "execution_count": null,
   "metadata": {},
   "outputs": [],
   "source": [
    "X_train_bow[0].toarray()"
   ]
  },
  {
   "cell_type": "code",
   "execution_count": null,
   "metadata": {},
   "outputs": [],
   "source": [
    "def make_ngrams(sentence,n):\n",
    "    tokens = sentence.split(\" \")\n",
    "    ngrams = zip(*[tokens[i:] for i in range(n)])\n",
    "    return [\" \".join(ngram) for ngram in ngrams]\n"
   ]
  },
  {
   "cell_type": "code",
   "execution_count": null,
   "metadata": {},
   "outputs": [],
   "source": [
    "# n=1-5\n",
    "vectorizer = CountVectorizer(ngram_range=(1,5))\n",
    "\n",
    "X_train_5gram = vectorizer.fit_transform(df_train.title.values)"
   ]
  },
  {
   "cell_type": "code",
   "execution_count": 672,
   "metadata": {},
   "outputs": [
    {
     "name": "stdout",
     "output_type": "stream",
     "text": [
      "(2826, 54674)\n"
     ]
    },
    {
     "data": {
      "text/plain": [
       "<1x54674 sparse matrix of type '<class 'numpy.int64'>'\n",
       "\twith 35 stored elements in Compressed Sparse Row format>"
      ]
     },
     "execution_count": 672,
     "metadata": {},
     "output_type": "execute_result"
    }
   ],
   "source": [
    "print(X_train_5gram.shape)\n",
    "X_train_5gram[0]"
   ]
  },
  {
   "cell_type": "code",
   "execution_count": 673,
   "metadata": {},
   "outputs": [],
   "source": [
    "tfidf = TfidfVectorizer()\n",
    "X_train_tfidf = tfidf.fit_transform(df_train.title.values)"
   ]
  },
  {
   "cell_type": "code",
   "execution_count": 674,
   "metadata": {},
   "outputs": [
    {
     "data": {
      "text/plain": [
       "<1x14386 sparse matrix of type '<class 'numpy.float64'>'\n",
       "\twith 9 stored elements in Compressed Sparse Row format>"
      ]
     },
     "execution_count": 674,
     "metadata": {},
     "output_type": "execute_result"
    }
   ],
   "source": [
    "X_train_tfidf[1]"
   ]
  },
  {
   "cell_type": "code",
   "execution_count": 675,
   "metadata": {},
   "outputs": [
    {
     "data": {
      "text/plain": [
       "1.0"
      ]
     },
     "execution_count": 675,
     "metadata": {},
     "output_type": "execute_result"
    }
   ],
   "source": [
    "distance.cosine(X_train_tfidf[0].toarray(), X_train_tfidf[1].toarray())"
   ]
  },
  {
   "cell_type": "code",
   "execution_count": 676,
   "metadata": {},
   "outputs": [
    {
     "data": {
      "text/plain": [
       "1382                      champions\n",
       "2993    usas coronadødsfald overgår\n",
       "2283                            jeg\n",
       "760                   coronatilfæld\n",
       "3034                         jubler\n",
       "                   ...             \n",
       "4912                          brudt\n",
       "1014                         solgte\n",
       "5299                            jeg\n",
       "5362                   bundesligaen\n",
       "3583                      tidligere\n",
       "Name: proc_title_rm, Length: 1911, dtype: object"
      ]
     },
     "execution_count": 676,
     "metadata": {},
     "output_type": "execute_result"
    }
   ],
   "source": [
    "X_train"
   ]
  },
  {
   "cell_type": "code",
   "execution_count": 677,
   "metadata": {},
   "outputs": [
    {
     "name": "stdout",
     "output_type": "stream",
     "text": [
      "most similar: [    0  5922  6355  3451 10396  6098  9526  3767  9272  1029]\n",
      "least similar [7602 7601 7600 7599 7598 7597 7596 7594 5813]\n"
     ]
    }
   ],
   "source": [
    "# https://scikit-learn.org/stable/modules/metrics.html#cosine-similarity\n",
    "cosine_similarities = linear_kernel(X_train_tfidf[0], X_train_tfidf).flatten()\n",
    "\n",
    "indices = cosine_similarities.argsort()[::-1] # in descending order \n",
    "print(\"most similar:\",indices[:10])\n",
    "print(\"least similar\", indices[-9:])"
   ]
  },
  {
   "cell_type": "code",
   "execution_count": 678,
   "metadata": {},
   "outputs": [
    {
     "name": "stdout",
     "output_type": "stream",
     "text": [
      "Rørende afsked med ikon\n",
      "\n",
      "most similar:  Revyerne er reddet: - Men vi savner stadig svar\n",
      "\n",
      "least similar:  Husker du denne Lidl-reklame? Nu er den ulovlig\n"
     ]
    }
   ],
   "source": [
    "print(df_train.title.values[0])\n",
    "print()\n",
    "print(\"most similar: \", df_train.title.values[1719])\n",
    "print()\n",
    "print(\"least similar: \", df_train.title.values[7237])"
   ]
  },
  {
   "cell_type": "code",
   "execution_count": 679,
   "metadata": {},
   "outputs": [
    {
     "ename": "KeyError",
     "evalue": "'proc_title_rm'",
     "output_type": "error",
     "traceback": [
      "\u001b[1;31m---------------------------------------------------------------------------\u001b[0m",
      "\u001b[1;31mKeyError\u001b[0m                                  Traceback (most recent call last)",
      "\u001b[1;32m~\\anaconda3\\lib\\site-packages\\pandas\\core\\indexes\\base.py\u001b[0m in \u001b[0;36mget_loc\u001b[1;34m(self, key, method, tolerance)\u001b[0m\n\u001b[0;32m   2645\u001b[0m             \u001b[1;32mtry\u001b[0m\u001b[1;33m:\u001b[0m\u001b[1;33m\u001b[0m\u001b[1;33m\u001b[0m\u001b[0m\n\u001b[1;32m-> 2646\u001b[1;33m                 \u001b[1;32mreturn\u001b[0m \u001b[0mself\u001b[0m\u001b[1;33m.\u001b[0m\u001b[0m_engine\u001b[0m\u001b[1;33m.\u001b[0m\u001b[0mget_loc\u001b[0m\u001b[1;33m(\u001b[0m\u001b[0mkey\u001b[0m\u001b[1;33m)\u001b[0m\u001b[1;33m\u001b[0m\u001b[1;33m\u001b[0m\u001b[0m\n\u001b[0m\u001b[0;32m   2647\u001b[0m             \u001b[1;32mexcept\u001b[0m \u001b[0mKeyError\u001b[0m\u001b[1;33m:\u001b[0m\u001b[1;33m\u001b[0m\u001b[1;33m\u001b[0m\u001b[0m\n",
      "\u001b[1;32mpandas\\_libs\\index.pyx\u001b[0m in \u001b[0;36mpandas._libs.index.IndexEngine.get_loc\u001b[1;34m()\u001b[0m\n",
      "\u001b[1;32mpandas\\_libs\\index.pyx\u001b[0m in \u001b[0;36mpandas._libs.index.IndexEngine.get_loc\u001b[1;34m()\u001b[0m\n",
      "\u001b[1;32mpandas\\_libs\\hashtable_class_helper.pxi\u001b[0m in \u001b[0;36mpandas._libs.hashtable.PyObjectHashTable.get_item\u001b[1;34m()\u001b[0m\n",
      "\u001b[1;32mpandas\\_libs\\hashtable_class_helper.pxi\u001b[0m in \u001b[0;36mpandas._libs.hashtable.PyObjectHashTable.get_item\u001b[1;34m()\u001b[0m\n",
      "\u001b[1;31mKeyError\u001b[0m: 'proc_title_rm'",
      "\nDuring handling of the above exception, another exception occurred:\n",
      "\u001b[1;31mKeyError\u001b[0m                                  Traceback (most recent call last)",
      "\u001b[1;32m<ipython-input-679-d2c3938d2cf1>\u001b[0m in \u001b[0;36m<module>\u001b[1;34m\u001b[0m\n\u001b[1;32m----> 1\u001b[1;33m \u001b[0mdata\u001b[0m\u001b[1;33m[\u001b[0m\u001b[1;34m'proc_title_rm'\u001b[0m\u001b[1;33m]\u001b[0m\u001b[1;33m\u001b[0m\u001b[1;33m\u001b[0m\u001b[0m\n\u001b[0m",
      "\u001b[1;32m~\\anaconda3\\lib\\site-packages\\pandas\\core\\frame.py\u001b[0m in \u001b[0;36m__getitem__\u001b[1;34m(self, key)\u001b[0m\n\u001b[0;32m   2798\u001b[0m             \u001b[1;32mif\u001b[0m \u001b[0mself\u001b[0m\u001b[1;33m.\u001b[0m\u001b[0mcolumns\u001b[0m\u001b[1;33m.\u001b[0m\u001b[0mnlevels\u001b[0m \u001b[1;33m>\u001b[0m \u001b[1;36m1\u001b[0m\u001b[1;33m:\u001b[0m\u001b[1;33m\u001b[0m\u001b[1;33m\u001b[0m\u001b[0m\n\u001b[0;32m   2799\u001b[0m                 \u001b[1;32mreturn\u001b[0m \u001b[0mself\u001b[0m\u001b[1;33m.\u001b[0m\u001b[0m_getitem_multilevel\u001b[0m\u001b[1;33m(\u001b[0m\u001b[0mkey\u001b[0m\u001b[1;33m)\u001b[0m\u001b[1;33m\u001b[0m\u001b[1;33m\u001b[0m\u001b[0m\n\u001b[1;32m-> 2800\u001b[1;33m             \u001b[0mindexer\u001b[0m \u001b[1;33m=\u001b[0m \u001b[0mself\u001b[0m\u001b[1;33m.\u001b[0m\u001b[0mcolumns\u001b[0m\u001b[1;33m.\u001b[0m\u001b[0mget_loc\u001b[0m\u001b[1;33m(\u001b[0m\u001b[0mkey\u001b[0m\u001b[1;33m)\u001b[0m\u001b[1;33m\u001b[0m\u001b[1;33m\u001b[0m\u001b[0m\n\u001b[0m\u001b[0;32m   2801\u001b[0m             \u001b[1;32mif\u001b[0m \u001b[0mis_integer\u001b[0m\u001b[1;33m(\u001b[0m\u001b[0mindexer\u001b[0m\u001b[1;33m)\u001b[0m\u001b[1;33m:\u001b[0m\u001b[1;33m\u001b[0m\u001b[1;33m\u001b[0m\u001b[0m\n\u001b[0;32m   2802\u001b[0m                 \u001b[0mindexer\u001b[0m \u001b[1;33m=\u001b[0m \u001b[1;33m[\u001b[0m\u001b[0mindexer\u001b[0m\u001b[1;33m]\u001b[0m\u001b[1;33m\u001b[0m\u001b[1;33m\u001b[0m\u001b[0m\n",
      "\u001b[1;32m~\\anaconda3\\lib\\site-packages\\pandas\\core\\indexes\\base.py\u001b[0m in \u001b[0;36mget_loc\u001b[1;34m(self, key, method, tolerance)\u001b[0m\n\u001b[0;32m   2646\u001b[0m                 \u001b[1;32mreturn\u001b[0m \u001b[0mself\u001b[0m\u001b[1;33m.\u001b[0m\u001b[0m_engine\u001b[0m\u001b[1;33m.\u001b[0m\u001b[0mget_loc\u001b[0m\u001b[1;33m(\u001b[0m\u001b[0mkey\u001b[0m\u001b[1;33m)\u001b[0m\u001b[1;33m\u001b[0m\u001b[1;33m\u001b[0m\u001b[0m\n\u001b[0;32m   2647\u001b[0m             \u001b[1;32mexcept\u001b[0m \u001b[0mKeyError\u001b[0m\u001b[1;33m:\u001b[0m\u001b[1;33m\u001b[0m\u001b[1;33m\u001b[0m\u001b[0m\n\u001b[1;32m-> 2648\u001b[1;33m                 \u001b[1;32mreturn\u001b[0m \u001b[0mself\u001b[0m\u001b[1;33m.\u001b[0m\u001b[0m_engine\u001b[0m\u001b[1;33m.\u001b[0m\u001b[0mget_loc\u001b[0m\u001b[1;33m(\u001b[0m\u001b[0mself\u001b[0m\u001b[1;33m.\u001b[0m\u001b[0m_maybe_cast_indexer\u001b[0m\u001b[1;33m(\u001b[0m\u001b[0mkey\u001b[0m\u001b[1;33m)\u001b[0m\u001b[1;33m)\u001b[0m\u001b[1;33m\u001b[0m\u001b[1;33m\u001b[0m\u001b[0m\n\u001b[0m\u001b[0;32m   2649\u001b[0m         \u001b[0mindexer\u001b[0m \u001b[1;33m=\u001b[0m \u001b[0mself\u001b[0m\u001b[1;33m.\u001b[0m\u001b[0mget_indexer\u001b[0m\u001b[1;33m(\u001b[0m\u001b[1;33m[\u001b[0m\u001b[0mkey\u001b[0m\u001b[1;33m]\u001b[0m\u001b[1;33m,\u001b[0m \u001b[0mmethod\u001b[0m\u001b[1;33m=\u001b[0m\u001b[0mmethod\u001b[0m\u001b[1;33m,\u001b[0m \u001b[0mtolerance\u001b[0m\u001b[1;33m=\u001b[0m\u001b[0mtolerance\u001b[0m\u001b[1;33m)\u001b[0m\u001b[1;33m\u001b[0m\u001b[1;33m\u001b[0m\u001b[0m\n\u001b[0;32m   2650\u001b[0m         \u001b[1;32mif\u001b[0m \u001b[0mindexer\u001b[0m\u001b[1;33m.\u001b[0m\u001b[0mndim\u001b[0m \u001b[1;33m>\u001b[0m \u001b[1;36m1\u001b[0m \u001b[1;32mor\u001b[0m \u001b[0mindexer\u001b[0m\u001b[1;33m.\u001b[0m\u001b[0msize\u001b[0m \u001b[1;33m>\u001b[0m \u001b[1;36m1\u001b[0m\u001b[1;33m:\u001b[0m\u001b[1;33m\u001b[0m\u001b[1;33m\u001b[0m\u001b[0m\n",
      "\u001b[1;32mpandas\\_libs\\index.pyx\u001b[0m in \u001b[0;36mpandas._libs.index.IndexEngine.get_loc\u001b[1;34m()\u001b[0m\n",
      "\u001b[1;32mpandas\\_libs\\index.pyx\u001b[0m in \u001b[0;36mpandas._libs.index.IndexEngine.get_loc\u001b[1;34m()\u001b[0m\n",
      "\u001b[1;32mpandas\\_libs\\hashtable_class_helper.pxi\u001b[0m in \u001b[0;36mpandas._libs.hashtable.PyObjectHashTable.get_item\u001b[1;34m()\u001b[0m\n",
      "\u001b[1;32mpandas\\_libs\\hashtable_class_helper.pxi\u001b[0m in \u001b[0;36mpandas._libs.hashtable.PyObjectHashTable.get_item\u001b[1;34m()\u001b[0m\n",
      "\u001b[1;31mKeyError\u001b[0m: 'proc_title_rm'"
     ]
    }
   ],
   "source": [
    "data['proc_title_rm']"
   ]
  },
  {
   "cell_type": "code",
   "execution_count": 680,
   "metadata": {},
   "outputs": [],
   "source": [
    "data_value_count = data['title'].str.split(expand=True).stack().value_counts().reset_index()"
   ]
  },
  {
   "cell_type": "code",
   "execution_count": 785,
   "metadata": {},
   "outputs": [
    {
     "data": {
      "text/plain": [
       "['få',\n",
       " 'blive',\n",
       " 'meget',\n",
       " 'ned',\n",
       " 'hjem',\n",
       " 'mere',\n",
       " 'Brøndby',\n",
       " 'hun',\n",
       " 'FCK',\n",
       " 'Ingen',\n",
       " 'kommer',\n",
       " 'Medie:',\n",
       " 'Eriksen',\n",
       " 'hos',\n",
       " 'vi',\n",
       " 'gang',\n",
       " 'gør',\n",
       " 'vej',\n",
       " 'danskere',\n",
       " 'slår',\n",
       " 'ham',\n",
       " 'smittet',\n",
       " 'dag',\n",
       " 'vild',\n",
       " 'uden',\n",
       " 'stopper',\n",
       " 'Nyt',\n",
       " 'åbner',\n",
       " 'Stor',\n",
       " 'store',\n",
       " 'din',\n",
       " 'milliarder',\n",
       " 'tre',\n",
       " 'Spilforslag:',\n",
       " 'sender',\n",
       " 'Flere',\n",
       " 'lukker',\n",
       " 'ramt',\n",
       " 'tæt',\n",
       " 'vinder',\n",
       " 'stjerne',\n",
       " 'Danmarks',\n",
       " 'tager',\n",
       " 'gik',\n",
       " 'Premier',\n",
       " 'Sverige',\n",
       " 'afslører',\n",
       " 'Den',\n",
       " 'penge',\n",
       " 'største',\n",
       " 'Dansker',\n",
       " 'verdens',\n",
       " 'Vild',\n",
       " 'Kina',\n",
       " 'set',\n",
       " 'væk',\n",
       " 'os',\n",
       " 'aldrig',\n",
       " 'League',\n",
       " 'Ikke',\n",
       " 'kr.',\n",
       " 'stort',\n",
       " 'her',\n",
       " 'afslører:',\n",
       " 'Er',\n",
       " 'Liverpool',\n",
       " 'døgn',\n",
       " 'scorer',\n",
       " 'selv',\n",
       " 'vilde',\n",
       " 'børn',\n",
       " 'Hun',\n",
       " 'nok',\n",
       " 'hele',\n",
       " 'raser',\n",
       " 'Tidligere',\n",
       " 'min',\n",
       " 'København',\n",
       " 'se',\n",
       " 'Skal',\n",
       " 'sætter',\n",
       " 'Barcelona',\n",
       " 'mange',\n",
       " 'Nye',\n",
       " 'blevet',\n",
       " 'dig',\n",
       " 'To',\n",
       " 'ville',\n",
       " 'Fik',\n",
       " 'Får',\n",
       " 'skifter',\n",
       " 'bag',\n",
       " 'mest',\n",
       " 'verden',\n",
       " 'vildt',\n",
       " 'comeback',\n",
       " 'noget',\n",
       " 'Der',\n",
       " 'mundbind',\n",
       " 'ser']"
      ]
     },
     "execution_count": 785,
     "metadata": {},
     "output_type": "execute_result"
    }
   ],
   "source": [
    "list(data_value_count['index'][100:200])"
   ]
  },
  {
   "cell_type": "code",
   "execution_count": 682,
   "metadata": {},
   "outputs": [],
   "source": [
    "data_split = [sent.split(' ') for sent in data['title']]"
   ]
  },
  {
   "cell_type": "code",
   "execution_count": 683,
   "metadata": {},
   "outputs": [
    {
     "data": {
      "text/plain": [
       "[['Statsministeren', 'åbner', 'for', 'muligt', 'påbud', 'om', 'mundbind'],\n",
       " ['Mette', 'F.', 'afviser', 'at', 'åbne', 'for', 'nattelivet', 'i', 'august'],\n",
       " ['Dårligt', 'nyt', 'til', \"'Venner'-fans\"],\n",
       " ['Flemming', 'dødtræt', 'af', 'Elgiganten:', 'Gør', 'det', 'aldrig!'],\n",
       " ['Venstre',\n",
       "  'vil',\n",
       "  'have',\n",
       "  'håndtrykket',\n",
       "  'tilbage,',\n",
       "  'hvis',\n",
       "  'det',\n",
       "  'kan',\n",
       "  'lade',\n",
       "  'sig',\n",
       "  'gøre'],\n",
       " ['Bizar',\n",
       "  'opladning:',\n",
       "  'Derfor',\n",
       "  'smører',\n",
       "  'han',\n",
       "  'sig',\n",
       "  'ind',\n",
       "  'i',\n",
       "  'babyolie'],\n",
       " ['Når', 'du', 'ikke', 'betaler', 'regningen'],\n",
       " ['Nye', 'coronatiltag:', '-', 'Føles', 'grænseoverskridende'],\n",
       " ['Så', 'farlige', 'er', 'hestehuller'],\n",
       " ['Årets', 'bedste', 'for', 'Lundgaard:', '-', 'Undskyld,', 'gutter']]"
      ]
     },
     "execution_count": 683,
     "metadata": {},
     "output_type": "execute_result"
    }
   ],
   "source": [
    "data_split[:10]"
   ]
  },
  {
   "cell_type": "markdown",
   "metadata": {},
   "source": [
    "# Vector space models"
   ]
  },
  {
   "cell_type": "code",
   "execution_count": 684,
   "metadata": {},
   "outputs": [],
   "source": [
    "from gensim.models import Word2Vec\n",
    "\n",
    "# using the train_sents from earlier (the lowercased and tokenized sentences)\n",
    "model = Word2Vec(data_split, size=100, min_count = 0, workers = 2) "
   ]
  },
  {
   "cell_type": "code",
   "execution_count": 685,
   "metadata": {},
   "outputs": [
    {
     "name": "stdout",
     "output_type": "stream",
     "text": [
      "[-0.01054133 -0.0044615  -0.05636168  0.03468385  0.06775219  0.0055357\n",
      " -0.06000087 -0.07791593 -0.01922082 -0.03997782 -0.06331889 -0.05674723\n",
      " -0.03509985  0.02292344 -0.02394526  0.11597325  0.02035123 -0.10311953\n",
      " -0.04201432 -0.00803341  0.03720836  0.01538436  0.00818798 -0.05031705\n",
      " -0.03529516  0.09800793  0.12814486  0.02589547  0.0179689   0.00471374\n",
      "  0.02546568 -0.14671087 -0.00293754 -0.04643311  0.00812994 -0.03951875\n",
      "  0.01347651 -0.07800151  0.10821281  0.01973797  0.10727454 -0.0165603\n",
      " -0.02668302  0.04114676 -0.10496113 -0.12362413 -0.02755602 -0.09236064\n",
      " -0.19102602 -0.02213251  0.05690479 -0.02000421 -0.08525652 -0.06693043\n",
      "  0.05898207  0.03436293 -0.02347907 -0.01229378  0.05980091  0.07329234\n",
      "  0.08564367 -0.03137975 -0.12080514 -0.01347284  0.0996859  -0.07398664\n",
      " -0.03910568 -0.05958392  0.09107379 -0.06654227  0.06476263 -0.11874023\n",
      "  0.03623845  0.05774308  0.07441195 -0.08495902 -0.01561237 -0.07029305\n",
      " -0.20367889 -0.05552676 -0.03027535 -0.02921897  0.10760474 -0.01538482\n",
      " -0.01127813 -0.04647759  0.04889982  0.01915944  0.04304209  0.00976548\n",
      " -0.15067089  0.00466224 -0.04268563 -0.10313823  0.03760744 -0.11356851\n",
      "  0.05078267 -0.04015655  0.10551789 -0.05743185]\n"
     ]
    }
   ],
   "source": [
    "print(model.wv['sådan'])"
   ]
  },
  {
   "cell_type": "code",
   "execution_count": 783,
   "metadata": {},
   "outputs": [
    {
     "name": "stdout",
     "output_type": "stream",
     "text": [
      "Statsministeren\n",
      "åbner\n",
      "for\n",
      "muligt\n",
      "påbud\n",
      "om\n",
      "mundbind\n",
      "Mette\n",
      "F.\n",
      "afviser\n",
      "at\n",
      "åbne\n",
      "nattelivet\n",
      "i\n",
      "august\n",
      "Dårligt\n",
      "nyt\n",
      "til\n",
      "'Venner'-fans\n",
      "Flemming\n",
      "dødtræt\n",
      "af\n",
      "Elgiganten:\n",
      "Gør\n",
      "det\n",
      "aldrig!\n",
      "Venstre\n",
      "vil\n",
      "have\n",
      "håndtrykket\n",
      "tilbage,\n",
      "hvis\n",
      "kan\n",
      "lade\n",
      "sig\n",
      "gøre\n",
      "Bizar\n",
      "opladning:\n",
      "Derfor\n",
      "smører\n",
      "han\n",
      "ind\n",
      "babyolie\n",
      "Når\n",
      "du\n",
      "ikke\n",
      "betaler\n",
      "regningen\n",
      "Nye\n",
      "coronatiltag:\n",
      "-\n",
      "Føles\n",
      "grænseoverskridende\n",
      "Så\n",
      "farlige\n",
      "er\n",
      "hestehuller\n",
      "Årets\n",
      "bedste\n",
      "Lundgaard:\n",
      "Undskyld,\n",
      "gutter\n",
      "Toprådgiver\n",
      "flere\n",
      "amerikanske\n",
      "præsidenter\n",
      "død\n",
      "Børn\n",
      "op\n",
      "12\n",
      "år\n",
      "og\n",
      "visse\n",
      "ældre\n",
      "skal\n",
      "bruge\n",
      "Feriepengene\n",
      "udbetales\n",
      "oktober\n",
      "Parken\n",
      "forventer\n",
      "gigantisk\n",
      "underskud\n",
      "\n",
      "Skuespiller\n",
      "smittet\n",
      "med\n",
      "coronavirus:\n",
      "'Troede\n",
      "jeg\n",
      "skulle\n",
      "dø'\n",
      "Skoleskibet\n",
      "Danmark\n",
      "har\n",
      "en\n",
      "elev\n",
      "coronavirus\n",
      "Giro-vinder\n",
      "sejrede\n",
      "Polen\n",
      "Dansk\n",
      "sommerland\n",
      "redde\n",
      "sæsonen:\n",
      "Billetter\n",
      "halv\n",
      "pris\n",
      "Opråb\n",
      "fra\n",
      "DSB-personale:\n",
      "Giv\n",
      "alle\n",
      "passagerer\n",
      "på\n",
      "Transportminister\n",
      "bedt\n",
      "DSB\n",
      "genindføre\n",
      "pladskrav\n",
      "Vågnet\n",
      "koma\n",
      "Godt\n",
      "nyt:\n",
      "Nu\n",
      "kommer\n",
      "der\n",
      "opfølger\n",
      "kultfilm\n",
      "Barsk\n",
      "coronanedlukning\n",
      "Aarhus\n",
      "Filmer\n",
      "el-løbehjul\n",
      "motorvejen\n",
      "Mundbind\n",
      "bliver\n",
      "et\n",
      "krav\n",
      "Udlånt\n",
      "embedsmand\n",
      "advarede\n",
      "'klart\n",
      "ulovlig'\n",
      "ordre\n",
      "asylsag\n",
      "Sverige\n",
      "melder\n",
      "ingen\n",
      "nye\n",
      "døde\n",
      "covid-19\n",
      "136\n",
      "coronasmittetilfælde\n",
      "Sløv\n",
      "Magnussen\n",
      "kæmper\n",
      "farten\n",
      "træninger\n",
      "Stopper\n",
      "karrieren:\n",
      "Her\n",
      "hans\n",
      "job\n",
      "USA\n",
      "importerer\n",
      "melodigrandprix\n",
      "Alle\n",
      "knogler\n",
      "ansigtet\n",
      "brækket\n",
      "Krav\n",
      "indført\n",
      "offentlig\n",
      "transport\n",
      "Vaccine\n",
      "tage\n",
      "førertrøjen\n",
      "tech-aktier\n",
      "Rema\n",
      "1000-chef:\n",
      "Toiletpapir\n",
      "nok\n",
      "Schweinerei:\n",
      "Nøgen\n",
      "mand\n",
      "jagter\n",
      "vildsvin\n",
      "hitsangers\n",
      "vilde\n",
      "koncert\n",
      "Filippinerne\n",
      "Ekspert:\n",
      "centralt\n",
      "våben\n",
      "Rasende\n",
      "fans\n",
      "fjerner\n",
      "spor\n",
      "Wilczek\n"
     ]
    }
   ],
   "source": [
    "for i, word in enumerate(model.wv.vocab):\n",
    "    if i == 200:\n",
    "        break\n",
    "    print(word)"
   ]
  },
  {
   "cell_type": "code",
   "execution_count": 687,
   "metadata": {},
   "outputs": [
    {
     "data": {
      "text/plain": [
       "0                        i\n",
       "1                       er\n",
       "2                        -\n",
       "3                       på\n",
       "4                      til\n",
       "               ...        \n",
       "33131          drømmestart\n",
       "33132      Skrækmodstander\n",
       "33133        Cup-problemer\n",
       "33134    Online-værksteder\n",
       "33135               Fowlds\n",
       "Name: index, Length: 33136, dtype: object"
      ]
     },
     "execution_count": 687,
     "metadata": {},
     "output_type": "execute_result"
    }
   ],
   "source": [
    "data_value_count['index']"
   ]
  },
  {
   "cell_type": "code",
   "execution_count": null,
   "metadata": {},
   "outputs": [],
   "source": []
  },
  {
   "cell_type": "code",
   "execution_count": 742,
   "metadata": {},
   "outputs": [
    {
     "data": {
      "image/png": "[encoded data removed]",
      "text/plain": [
       "<Figure size 1152x1152 with 1 Axes>"
      ]
     },
     "metadata": {
      "needs_background": "light"
     },
     "output_type": "display_data"
    }
   ],
   "source": [
    "# Reducing the 50-dimensional vectors to 2 dimensions in order to visualise selected words.\n",
    "from sklearn.decomposition import PCA\n",
    "\n",
    "\n",
    "\n",
    "words = list(data_value_count['index'][0:25])\n",
    "words.append('corona')\n",
    "# words.remove('-')\n",
    "# words.remove('er')\n",
    "# words.remove('Det')\n",
    "# words.remove('ikke')\n",
    "# words.remove('det')\n",
    "words.append('Paludan')\n",
    "words.append('Mette')\n",
    "words.append('Trump')\n",
    "words.append('corona')\n",
    "words.append('mundbind')\n",
    "words.append('påbud')\n",
    "\n",
    "model_list_wv = []\n",
    "for word in words:\n",
    "    model_ = model.wv[word]\n",
    "    model_list_wv.append(model_)\n",
    "X = model_list_wv\n",
    "# X = [model.wv['Corona'], model.wv['Tyskland'], \n",
    "#      model.wv['Dansk'], model.wv['kroner'],\n",
    "#      model.wv['Trump'], model.wv['Svensk'], \n",
    "#      model.wv['millioner'], model.wv['smittet']]\n",
    "\n",
    "pca = PCA(n_components=2)\n",
    "X_r = pca.fit(X).transform(X)\n",
    "\n",
    "plt.figure(figsize=(16,16))\n",
    "plt.scatter(X_r[:,0], X_r[:,1], edgecolors='k', c='r')\n",
    "for word, (x,y) in zip(words, X_r):\n",
    "    plt.text(x+0.05, y+0.01, word)"
   ]
  },
  {
   "cell_type": "code",
   "execution_count": null,
   "metadata": {},
   "outputs": [],
   "source": []
  },
  {
   "cell_type": "code",
   "execution_count": null,
   "metadata": {},
   "outputs": [],
   "source": []
  },
  {
   "cell_type": "code",
   "execution_count": null,
   "metadata": {},
   "outputs": [],
   "source": []
  },
  {
   "cell_type": "code",
   "execution_count": null,
   "metadata": {},
   "outputs": [],
   "source": []
  },
  {
   "cell_type": "code",
   "execution_count": null,
   "metadata": {},
   "outputs": [],
   "source": []
  },
  {
   "cell_type": "markdown",
   "metadata": {},
   "source": [
    "# models"
   ]
  },
  {
   "cell_type": "markdown",
   "metadata": {},
   "source": [
    "### OLS"
   ]
  },
  {
   "cell_type": "code",
   "execution_count": 947,
   "metadata": {},
   "outputs": [],
   "source": [
    "pipeline_ols = Pipeline([\n",
    "    ('vect', CountVectorizer()),\n",
    "    #('tfidf', TfidfTransformer()),\n",
    "    ('pol', PolynomialFeatures(include_bias=True)),\n",
    "    ('clf', LinearRegression()),\n",
    "])\n",
    "\n",
    "param_grid_ols = {\"vect__ngram_range\": [(1,1), (1,2), (1,3), (1,4)],\n",
    "             #\"tfidf__use_idf\": [True, False]\n",
    "            'pol__degree': [1,2,3]\n",
    "             }\n",
    "\n",
    "pipeline_ols_len = Pipeline([\n",
    "    #('vect', CountVectorizer()),\n",
    "    #('tfidf', TfidfTransformer()),\n",
    "    ('pol', PolynomialFeatures(include_bias=True)),\n",
    "    ('clf', LinearRegression()),\n",
    "])\n",
    "\n",
    "param_grid_ols_len = {#\"vect__ngram_range\": [(1,1), (1,2), (1,3), (1,4)],\n",
    "             #\"tfidf__use_idf\": [True, False]\n",
    "            'pol__degree': [1,2,3]\n",
    "             }\n",
    "\n",
    "\n",
    "\n",
    "search_ols_rm = GridSearchCV(pipeline_ols, param_grid_ols, scoring='neg_mean_squared_error', cv=3, verbose=10, n_jobs = 4, return_train_score=True)\n",
    "search_ols_cat = GridSearchCV(pipeline_ols, param_grid_ols, scoring='neg_mean_squared_error', cv=3, verbose=10, n_jobs = 4, return_train_score=True)\n",
    "search_ols_len = GridSearchCV(pipeline_ols_len, param_grid_ols_len, scoring='neg_mean_squared_error', cv=3, verbose=10, n_jobs = 4, return_train_score=True)\n",
    "ols_result = []"
   ]
  },
  {
   "cell_type": "code",
   "execution_count": 948,
   "metadata": {},
   "outputs": [
    {
     "name": "stdout",
     "output_type": "stream",
     "text": [
      "Fitting 3 folds for each of 12 candidates, totalling 36 fits\n"
     ]
    },
    {
     "name": "stderr",
     "output_type": "stream",
     "text": [
      "[Parallel(n_jobs=4)]: Using backend LokyBackend with 4 concurrent workers.\n",
      "[Parallel(n_jobs=4)]: Batch computation too fast (0.0489s.) Setting batch_size=2.\n",
      "[Parallel(n_jobs=4)]: Done   5 tasks      | elapsed:    0.0s\n",
      "[Parallel(n_jobs=4)]: Batch computation too fast (0.1746s.) Setting batch_size=4.\n",
      "[Parallel(n_jobs=4)]: Done  12 tasks      | elapsed:    0.1s\n",
      "[Parallel(n_jobs=4)]: Done  25 tasks      | elapsed:   15.3s\n",
      "[Parallel(n_jobs=4)]: Done  33 out of  36 | elapsed:  2.2min remaining:   12.1s\n",
      "[Parallel(n_jobs=4)]: Done  36 out of  36 | elapsed:  2.7min finished\n",
      "[Parallel(n_jobs=4)]: Using backend LokyBackend with 4 concurrent workers.\n",
      "[Parallel(n_jobs=4)]: Batch computation too fast (0.0399s.) Setting batch_size=2.\n",
      "[Parallel(n_jobs=4)]: Done   5 tasks      | elapsed:    0.0s\n"
     ]
    },
    {
     "name": "stdout",
     "output_type": "stream",
     "text": [
      "Fitting 3 folds for each of 12 candidates, totalling 36 fits\n"
     ]
    },
    {
     "name": "stderr",
     "output_type": "stream",
     "text": [
      "[Parallel(n_jobs=4)]: Batch computation too fast (0.1366s.) Setting batch_size=4.\n",
      "[Parallel(n_jobs=4)]: Done  12 tasks      | elapsed:    0.1s\n",
      "[Parallel(n_jobs=4)]: Done  25 tasks      | elapsed:    0.2s\n",
      "[Parallel(n_jobs=4)]: Done  33 out of  36 | elapsed:    0.3s remaining:    0.0s\n",
      "[Parallel(n_jobs=4)]: Done  36 out of  36 | elapsed:    0.3s finished\n"
     ]
    }
   ],
   "source": [
    "search_ols_rm.fit(df_train.proc_title_rm.values, df_train.comments.values)\n",
    "ols_result.append(search_ols_rm)\n",
    "search_ols_cat.fit(df_train.x_cat.values, df_train.comments.values)\n",
    "ols_result.append(search_ols_cat)"
   ]
  },
  {
   "cell_type": "code",
   "execution_count": 964,
   "metadata": {},
   "outputs": [
    {
     "name": "stdout",
     "output_type": "stream",
     "text": [
      "search_ols_rm Best parameter set: {'pol__degree': 1, 'vect__ngram_range': (1, 1)}\n",
      "search_ols_rm Best mse: -36659.3839677611\n",
      "search_ols_cat Best parameter set: {'pol__degree': 1, 'vect__ngram_range': (1, 1)}\n",
      "search_ols_cat Best mse: -25046.35075215518\n"
     ]
    }
   ],
   "source": [
    "ols_models = ['search_ols_rm', 'search_ols_cat']\n",
    "for i, name in enumerate(ols_models):\n",
    "    print(f'{name} Best parameter set: {ols_result[i].best_params_}')\n",
    "    print(f'{name} Best mse: {ols_result[i].best_score_}')"
   ]
  },
  {
   "cell_type": "code",
   "execution_count": null,
   "metadata": {},
   "outputs": [],
   "source": [
    "train_preds_ols"
   ]
  },
  {
   "cell_type": "markdown",
   "metadata": {},
   "source": [
    "### Lasso"
   ]
  },
  {
   "cell_type": "code",
   "execution_count": 950,
   "metadata": {},
   "outputs": [],
   "source": [
    "lambdas = np.logspace(-4, 4, 10)\n",
    "\n",
    "pipeline_las = Pipeline([\n",
    "    ('vect', CountVectorizer()),\n",
    "    #('tfidf', TfidfTransformer()),\n",
    "    ('pol', PolynomialFeatures(include_bias=True)),\n",
    "    ('las', Lasso(random_state=1))\n",
    "])\n",
    "\n",
    "param_grid_las = {'pol__degree': [1,2,3],\n",
    "    'las__alpha': lambdas}\n",
    "\n",
    "pipeline_las_len = Pipeline([\n",
    "    #('vect', CountVectorizer()),\n",
    "    #('tfidf', TfidfTransformer()),\n",
    "    ('pol', PolynomialFeatures(include_bias=True)),\n",
    "    ('las', Lasso(random_state=1))\n",
    "])\n",
    "\n"
   ]
  },
  {
   "cell_type": "code",
   "execution_count": 953,
   "metadata": {},
   "outputs": [],
   "source": [
    "search_las_rm = GridSearchCV(pipeline_las, param_grid_las, scoring='neg_mean_squared_error', cv=3, verbose=10, n_jobs = 4, return_train_score=True)\n",
    "search_las_cat = GridSearchCV(pipeline_las, param_grid_las, scoring='neg_mean_squared_error', cv=3, verbose=10, n_jobs = 4, return_train_score=True)\n",
    "search_las_len = GridSearchCV(pipeline_las_len, param_grid_las, scoring='neg_mean_squared_error', cv=3, verbose=10, n_jobs = 4, return_train_score=True)\n",
    "\n",
    "las_result = []"
   ]
  },
  {
   "cell_type": "code",
   "execution_count": 954,
   "metadata": {},
   "outputs": [
    {
     "name": "stdout",
     "output_type": "stream",
     "text": [
      "Fitting 3 folds for each of 30 candidates, totalling 90 fits\n"
     ]
    },
    {
     "name": "stderr",
     "output_type": "stream",
     "text": [
      "[Parallel(n_jobs=4)]: Using backend LokyBackend with 4 concurrent workers.\n",
      "[Parallel(n_jobs=4)]: Done   5 tasks      | elapsed:    4.1s\n",
      "[Parallel(n_jobs=4)]: Done  10 tasks      | elapsed:    7.0s\n",
      "[Parallel(n_jobs=4)]: Done  17 tasks      | elapsed:   29.6s\n",
      "[Parallel(n_jobs=4)]: Done  24 tasks      | elapsed:   38.3s\n",
      "[Parallel(n_jobs=4)]: Done  33 tasks      | elapsed:   42.6s\n",
      "[Parallel(n_jobs=4)]: Done  42 tasks      | elapsed:   44.1s\n",
      "[Parallel(n_jobs=4)]: Done  53 tasks      | elapsed:   47.6s\n",
      "[Parallel(n_jobs=4)]: Done  64 tasks      | elapsed:   51.9s\n",
      "[Parallel(n_jobs=4)]: Done  77 tasks      | elapsed:   56.5s\n",
      "[Parallel(n_jobs=4)]: Done  90 out of  90 | elapsed:  1.1min finished\n",
      "[Parallel(n_jobs=4)]: Using backend LokyBackend with 4 concurrent workers.\n",
      "[Parallel(n_jobs=4)]: Batch computation too fast (0.1795s.) Setting batch_size=2.\n"
     ]
    },
    {
     "name": "stdout",
     "output_type": "stream",
     "text": [
      "Fitting 3 folds for each of 30 candidates, totalling 90 fits\n"
     ]
    },
    {
     "name": "stderr",
     "output_type": "stream",
     "text": [
      "[Parallel(n_jobs=4)]: Done   5 tasks      | elapsed:    0.4s\n",
      "[Parallel(n_jobs=4)]: Done  12 tasks      | elapsed:    1.0s\n",
      "[Parallel(n_jobs=4)]: Done  26 tasks      | elapsed:    1.4s\n",
      "[Parallel(n_jobs=4)]: Done  40 tasks      | elapsed:    1.6s\n",
      "[Parallel(n_jobs=4)]: Batch computation too fast (0.1880s.) Setting batch_size=4.\n",
      "[Parallel(n_jobs=4)]: Done  58 tasks      | elapsed:    1.7s\n"
     ]
    },
    {
     "name": "stdout",
     "output_type": "stream",
     "text": [
      "Fitting 3 folds for each of 30 candidates, totalling 90 fits\n"
     ]
    },
    {
     "name": "stderr",
     "output_type": "stream",
     "text": [
      "[Parallel(n_jobs=4)]: Done  90 out of  90 | elapsed:    1.9s finished\n",
      "[Parallel(n_jobs=4)]: Using backend LokyBackend with 4 concurrent workers.\n",
      "[Parallel(n_jobs=4)]: Batch computation too fast (0.0080s.) Setting batch_size=2.\n",
      "[Parallel(n_jobs=4)]: Done   5 tasks      | elapsed:    0.0s\n",
      "[Parallel(n_jobs=4)]: Batch computation too fast (0.0110s.) Setting batch_size=4.\n",
      "[Parallel(n_jobs=4)]: Done  12 tasks      | elapsed:    0.0s\n",
      "[Parallel(n_jobs=4)]: Done  28 tasks      | elapsed:    0.0s\n",
      "[Parallel(n_jobs=4)]: Batch computation too fast (0.0358s.) Setting batch_size=8.\n",
      "[Parallel(n_jobs=4)]: Done  73 out of  90 | elapsed:    0.0s remaining:    0.0s\n",
      "[Parallel(n_jobs=4)]: Done  90 out of  90 | elapsed:    0.0s finished\n"
     ]
    }
   ],
   "source": [
    "search_las_rm.fit(df_train.proc_title_rm.values, df_train.comments.values)\n",
    "las_result.append(search_las_rm)\n",
    "search_las_cat.fit(df_train.x_cat.values, df_train.comments.values)\n",
    "las_result.append(search_las_cat)\n",
    "search_las_len.fit(df_train.len_title.values.reshape(-1,1), df_train.comments.values)\n",
    "las_result.append(search_las_len)"
   ]
  },
  {
   "cell_type": "code",
   "execution_count": 967,
   "metadata": {},
   "outputs": [
    {
     "name": "stdout",
     "output_type": "stream",
     "text": [
      "search_las_rm Best parameter set: {'las__alpha': 2.782559402207126, 'pol__degree': 1}\n",
      "search_las_rm Best mse: -30843.04210199715\n",
      "search_las_cat Best parameter set: {'las__alpha': 0.3593813663804626, 'pol__degree': 3}\n",
      "search_las_cat Best mse: -24938.167136816952\n",
      "search_las_len Best parameter set: {'las__alpha': 166.81005372000558, 'pol__degree': 1}\n",
      "search_las_len Best mse: -30843.04210199715\n"
     ]
    }
   ],
   "source": [
    "ols_models = ['search_las_rm', 'search_las_cat', 'search_las_len']\n",
    "for i, name in enumerate(ols_models):\n",
    "    print(f'{name} Best parameter set: {las_result[i].best_params_}')\n",
    "    print(f'{name} Best mse: {las_result[i].best_score_}')"
   ]
  },
  {
   "cell_type": "markdown",
   "metadata": {},
   "source": [
    "### Elastic"
   ]
  },
  {
   "cell_type": "code",
   "execution_count": 977,
   "metadata": {},
   "outputs": [],
   "source": [
    "ela__l1_ratio = np.linspace(-1, 1, 10)\n",
    "\n",
    "pipeline_ela = Pipeline([\n",
    "    ('vect', CountVectorizer()),\n",
    "    #('tfidf', TfidfTransformer()),\n",
    "    ('pol', PolynomialFeatures(include_bias=True)),\n",
    "    ('ela', ElasticNet())\n",
    "    #('stanscal', RobustScaler(with_centering=False))\n",
    "])\n",
    "\n",
    "param_grid_ela = {'pol__degree': [1,2,3],\n",
    "                 'ela__l1_ratio': ela__l1_ratio}\n",
    "\n",
    "pipeline_ela_cat = Pipeline([\n",
    "    #('vect', CountVectorizer()),\n",
    "    #('tfidf', TfidfTransformer()),\n",
    "    ('pol', PolynomialFeatures(include_bias=True)),\n",
    "    ('ela', ElasticNet())\n",
    "    #('stanscal', RobustScaler(with_centering=False))\n",
    "])\n",
    "\n",
    "search_ela_rm = GridSearchCV(pipeline_ela, param_grid_ela, scoring='neg_mean_squared_error', cv=3, verbose=10, n_jobs = 4, return_train_score=True)\n",
    "search_ela_cat = GridSearchCV(pipeline_ela, param_grid_ela, scoring='neg_mean_squared_error', cv=3, verbose=10, n_jobs = 4, return_train_score=True)\n",
    "search_ela_cat = GridSearchCV(pipeline_pol_cat, param_grid_ela, scoring='neg_mean_squared_error', cv=3, verbose=10, n_jobs = 4, return_train_score=True)\n",
    "\n",
    "ela_result = []"
   ]
  },
  {
   "cell_type": "code",
   "execution_count": null,
   "metadata": {},
   "outputs": [
    {
     "name": "stdout",
     "output_type": "stream",
     "text": [
      "Fitting 3 folds for each of 30 candidates, totalling 90 fits\n"
     ]
    },
    {
     "name": "stderr",
     "output_type": "stream",
     "text": [
      "[Parallel(n_jobs=4)]: Using backend LokyBackend with 4 concurrent workers.\n",
      "[Parallel(n_jobs=4)]: Done   5 tasks      | elapsed:    8.3s\n",
      "[Parallel(n_jobs=4)]: Done  10 tasks      | elapsed:   19.1s\n"
     ]
    }
   ],
   "source": [
    "search_ela_rm.fit(df_train.proc_title_rm.values, df_train.comments.values)\n",
    "ela_result.append(search_ela_rm)\n",
    "search_ela_cat.fit(df_train.x_cat.values, df_train.comments.values)\n",
    "ela_result.append(search_ela_cat)\n",
    "search_ela_len.fit(df_train.len_title.values.reshape(-1,1), df_train.comments.values)\n",
    "ela_result.append(search_ela_len)"
   ]
  },
  {
   "cell_type": "markdown",
   "metadata": {},
   "source": [
    "## Validation curves"
   ]
  },
  {
   "cell_type": "code",
   "execution_count": 949,
   "metadata": {},
   "outputs": [
    {
     "data": {
      "image/png": "[encoded data removed]",
      "text/plain": [
       "<Figure size 432x288 with 1 Axes>"
      ]
     },
     "metadata": {
      "needs_background": "light"
     },
     "output_type": "display_data"
    },
    {
     "data": {
      "image/png": "[encoded data removed]",
      "text/plain": [
       "<Figure size 432x288 with 1 Axes>"
      ]
     },
     "metadata": {
      "needs_background": "light"
     },
     "output_type": "display_data"
    }
   ],
   "source": [
    "for model in ols_result:\n",
    "    test_scores = model.cv_results_['mean_test_score']\n",
    "    train_scores = model.cv_results_['mean_train_score'] \n",
    "    plt.plot(test_scores, label='test')\n",
    "    plt.plot(train_scores, label='train')\n",
    "    plt.legend(loc='best')\n",
    "    plt.show()"
   ]
  },
  {
   "cell_type": "code",
   "execution_count": 965,
   "metadata": {},
   "outputs": [
    {
     "data": {
      "image/png": "[encoded data removed]",
      "text/plain": [
       "<Figure size 432x288 with 1 Axes>"
      ]
     },
     "metadata": {
      "needs_background": "light"
     },
     "output_type": "display_data"
    },
    {
     "data": {
      "image/png": "[encoded data removed]",
      "text/plain": [
       "<Figure size 432x288 with 1 Axes>"
      ]
     },
     "metadata": {
      "needs_background": "light"
     },
     "output_type": "display_data"
    },
    {
     "data": {
      "image/png": "[encoded data removed]",
      "text/plain": [
       "<Figure size 432x288 with 1 Axes>"
      ]
     },
     "metadata": {
      "needs_background": "light"
     },
     "output_type": "display_data"
    }
   ],
   "source": [
    "for model in las_result:\n",
    "    test_scores = model.cv_results_['mean_test_score']\n",
    "    train_scores = model.cv_results_['mean_train_score'] \n",
    "    plt.plot(test_scores, label='test')\n",
    "    plt.plot(train_scores, label='train')\n",
    "    plt.legend(loc='best')\n",
    "    plt.show()"
   ]
  },
  {
   "cell_type": "code",
   "execution_count": null,
   "metadata": {},
   "outputs": [],
   "source": [
    "for model in ela_result:\n",
    "    test_scores = model.cv_results_['mean_test_score']\n",
    "    train_scores = model.cv_results_['mean_train_score'] \n",
    "    plt.plot(test_scores, label='test')\n",
    "    plt.plot(train_scores, label='train')\n",
    "    plt.legend(loc='best')\n",
    "    plt.show()"
   ]
  },
  {
   "cell_type": "code",
   "execution_count": 912,
   "metadata": {},
   "outputs": [
    {
     "data": {
      "image/png": "[encoded data removed]",
      "text/plain": [
       "<Figure size 432x288 with 1 Axes>"
      ]
     },
     "metadata": {
      "needs_background": "light"
     },
     "output_type": "display_data"
    }
   ],
   "source": [
    "test_scores = search_pol.cv_results_['mean_test_score']\n",
    "train_scores = search_pol.cv_results_['mean_train_score'] \n",
    "\n",
    "plt.plot(test_scores, label='test')\n",
    "plt.plot(train_scores, label='train')\n",
    "plt.legend(loc='best')\n",
    "plt.show()"
   ]
  }
 ],
 "metadata": {
  "kernelspec": {
   "display_name": "Python 3",
   "language": "python",
   "name": "python3"
  },
  "language_info": {
   "codemirror_mode": {
    "name": "ipython",
    "version": 3
   },
   "file_extension": ".py",
   "mimetype": "text/x-python",
   "name": "python",
   "nbconvert_exporter": "python",
   "pygments_lexer": "ipython3",
   "version": "3.7.6"
  }
 },
 "nbformat": 4,
 "nbformat_minor": 4
}
