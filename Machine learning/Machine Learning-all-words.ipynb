{
 "cells": [
  {
   "cell_type": "code",
   "execution_count": 1,
   "metadata": {},
   "outputs": [],
   "source": [
    "import numpy as np \n",
    "import pandas as pd \n",
    "from tqdm import tqdm\n",
    "from math import sqrt\n",
    "import numbers\n",
    "\n",
    "#plots\n",
    "import matplotlib.pyplot as plt \n",
    "import seaborn as sns\n",
    "%matplotlib inline\n",
    "\n",
    "# for vectorization \n",
    "from sklearn.feature_extraction.text import CountVectorizer\n",
    "from sklearn.feature_extraction.text import TfidfVectorizer\n",
    "from sklearn.feature_extraction.text import TfidfTransformer\n",
    "from gensim.models import Word2Vec\n",
    "\n",
    "# similarity/distance measures\n",
    "from scipy.spatial import distance\n",
    "from sklearn.metrics.pairwise import linear_kernel\n",
    "\n",
    "# sklearn\n",
    "from sklearn.svm import LinearSVC\n",
    "from sklearn.exceptions import DataConversionWarning; import warnings\n",
    "from sklearn.linear_model import Lasso, LinearRegression, Ridge, ElasticNet, LogisticRegression\n",
    "from sklearn.feature_extraction.text import TfidfVectorizer\n",
    "from sklearn.metrics import mean_squared_error as mse\n",
    "from sklearn.model_selection import KFold\n",
    "from sklearn.pipeline import make_pipeline\n",
    "from sklearn.pipeline import Pipeline\n",
    "from sklearn.preprocessing import StandardScaler, PolynomialFeatures\n",
    "from sklearn.datasets import make_classification\n",
    "from sklearn.linear_model import LinearRegression\n",
    "from sklearn.metrics import mean_squared_error as mse\n",
    "from sklearn.model_selection import train_test_split\n",
    "from sklearn.feature_selection import SelectKBest, chi2, f_classif\n",
    "from sklearn.model_selection import GridSearchCV"
   ]
  },
  {
   "cell_type": "code",
   "execution_count": 36,
   "metadata": {},
   "outputs": [],
   "source": [
    "# load data\n",
    "data = pd.read_csv('processed_data2.csv') # common words\n",
    "data = data[data['title'].notna()]\n",
    "#data = data.reset_index()"
   ]
  },
  {
   "cell_type": "code",
   "execution_count": 3,
   "metadata": {},
   "outputs": [],
   "source": [
    "# create a column with article categories\n",
    "data['x_cat'] = data['url'].str.replace('https://ekstrabladet.dk/nyheder/','')\n",
    "data['x_cat'] = data['x_cat'].str.replace('https://ekstrabladet.dk/','')\n",
    "data['x_cat'] = data['x_cat'].apply(lambda x: x.split('/')[0])\n",
    "data = data[~data.x_cat.str.contains('-')]"
   ]
  },
  {
   "cell_type": "code",
   "execution_count": 4,
   "metadata": {},
   "outputs": [],
   "source": [
    "# remove articles without category\n",
    "for i, cat in enumerate(data['x_cat']):\n",
    "    if '-' in cat:\n",
    "        data['x_cat'][i].drop"
   ]
  },
  {
   "cell_type": "code",
   "execution_count": 5,
   "metadata": {},
   "outputs": [],
   "source": [
    "# add column with the title lenght\n",
    "len_title = []\n",
    "for i in data['title']:\n",
    "    len_title.append(len(i))\n",
    "data['len_title'] = pd.DataFrame(data=len_title)"
   ]
  },
  {
   "cell_type": "code",
   "execution_count": 6,
   "metadata": {},
   "outputs": [],
   "source": [
    "# drop nan\n",
    "data = data[data['len_title'].notna()]"
   ]
  },
  {
   "cell_type": "code",
   "execution_count": 7,
   "metadata": {},
   "outputs": [
    {
     "name": "stderr",
     "output_type": "stream",
     "text": [
      "C:\\Users\\Jonat\\anaconda3\\lib\\site-packages\\ipykernel_launcher.py:11: SettingWithCopyWarning: \n",
      "A value is trying to be set on a copy of a slice from a DataFrame\n",
      "\n",
      "See the caveats in the documentation: https://pandas.pydata.org/pandas-docs/stable/user_guide/indexing.html#returning-a-view-versus-a-copy\n",
      "  # This is added back by InteractiveShellApp.init_path()\n",
      "C:\\Users\\Jonat\\anaconda3\\lib\\site-packages\\ipykernel_launcher.py:12: SettingWithCopyWarning: \n",
      "A value is trying to be set on a copy of a slice from a DataFrame\n",
      "\n",
      "See the caveats in the documentation: https://pandas.pydata.org/pandas-docs/stable/user_guide/indexing.html#returning-a-view-versus-a-copy\n",
      "  if sys.path[0] == '':\n"
     ]
    }
   ],
   "source": [
    "# blank column\n",
    "data['set'] = 'hi'\n",
    "\n",
    "# split the data in 2 \n",
    "n = len(data['set'])\n",
    "if n%2 !=0:\n",
    "    n -= 1\n",
    "n1 = int(n/2)\n",
    "\n",
    "# save as traning and test\n",
    "data['set'][:n1] = 'test'\n",
    "data['set'][n1:n] = 'train'\n",
    "df_train = data[data.set==\"train\"]\n",
    "df_test = data[data.set==\"test\"]"
   ]
  },
  {
   "cell_type": "markdown",
   "metadata": {},
   "source": [
    "# models"
   ]
  },
  {
   "cell_type": "markdown",
   "metadata": {},
   "source": [
    "### OLS"
   ]
  },
  {
   "cell_type": "code",
   "execution_count": 25,
   "metadata": {},
   "outputs": [],
   "source": [
    "# pipeline for the processed titles and categories\n",
    "pipeline_ols = Pipeline([\n",
    "    ('vect', CountVectorizer()),\n",
    "    #('tfidf', TfidfTransformer()),\n",
    "    ('pol', PolynomialFeatures(include_bias=True)),\n",
    "    ('clf', LinearRegression()),\n",
    "])\n",
    "\n",
    "# param grid for the processed titles and categories\n",
    "param_grid_ols = {\"vect__ngram_range\": [(1,1), (1,2), (1,3), (1,4)],\n",
    "             #\"tfidf__use_idf\": [True, False]\n",
    "            'pol__degree': [1,2,3]\n",
    "             }\n",
    "\n",
    "# pipeline for the title lenghts\n",
    "pipeline_ols_len = Pipeline([\n",
    "    #('vect', CountVectorizer()),\n",
    "    #('tfidf', TfidfTransformer()),\n",
    "    ('pol', PolynomialFeatures(include_bias=True)),\n",
    "    ('clf', LinearRegression()),\n",
    "])\n",
    "\n",
    "# param grid for the title lenghts\n",
    "param_grid_ols_len = {#\"vect__ngram_range\": [(1,1), (1,2), (1,3), (1,4)],\n",
    "             #\"tfidf__use_idf\": [True, False]\n",
    "            'pol__degree': [1,2,3]\n",
    "             }\n",
    "\n",
    "\n",
    "# for storing the results\n",
    "search_ols_rm = GridSearchCV(pipeline_ols, param_grid_ols, scoring='neg_mean_squared_error', cv=3, verbose=10, n_jobs = 4, return_train_score=True)\n",
    "search_ols_cat = GridSearchCV(pipeline_ols, param_grid_ols, scoring='neg_mean_squared_error', cv=3, verbose=10, n_jobs = 4, return_train_score=True)\n",
    "search_ols_len = GridSearchCV(pipeline_ols_len, param_grid_ols_len, scoring='neg_mean_squared_error', cv=3, verbose=10, n_jobs = 4, return_train_score=True)\n",
    "ols_result = []"
   ]
  },
  {
   "cell_type": "code",
   "execution_count": 26,
   "metadata": {},
   "outputs": [
    {
     "name": "stdout",
     "output_type": "stream",
     "text": [
      "Fitting 3 folds for each of 12 candidates, totalling 36 fits\n"
     ]
    },
    {
     "name": "stderr",
     "output_type": "stream",
     "text": [
      "[Parallel(n_jobs=4)]: Using backend LokyBackend with 4 concurrent workers.\n",
      "[Parallel(n_jobs=4)]: Batch computation too fast (0.1306s.) Setting batch_size=2.\n",
      "[Parallel(n_jobs=4)]: Done   5 tasks      | elapsed:    0.2s\n",
      "[Parallel(n_jobs=4)]: Done  12 tasks      | elapsed:    0.5s\n",
      "[Parallel(n_jobs=4)]: Done  26 tasks      | elapsed:    1.1s\n",
      "[Parallel(n_jobs=4)]: Done  33 out of  36 | elapsed:    1.3s remaining:    0.0s\n"
     ]
    },
    {
     "name": "stdout",
     "output_type": "stream",
     "text": [
      "Fitting 3 folds for each of 3 candidates, totalling 9 fits\n"
     ]
    },
    {
     "name": "stderr",
     "output_type": "stream",
     "text": [
      "[Parallel(n_jobs=4)]: Done  36 out of  36 | elapsed:    1.4s finished\n",
      "[Parallel(n_jobs=4)]: Using backend LokyBackend with 4 concurrent workers.\n",
      "[Parallel(n_jobs=4)]: Batch computation too fast (0.0110s.) Setting batch_size=2.\n",
      "[Parallel(n_jobs=4)]: Done   3 out of   9 | elapsed:    0.0s remaining:    0.0s\n",
      "[Parallel(n_jobs=4)]: Done   4 out of   9 | elapsed:    0.0s remaining:    0.0s\n",
      "[Parallel(n_jobs=4)]: Done   5 out of   9 | elapsed:    0.0s remaining:    0.0s\n",
      "[Parallel(n_jobs=4)]: Done   6 out of   9 | elapsed:    0.0s remaining:    0.0s\n",
      "[Parallel(n_jobs=4)]: Done   7 out of   9 | elapsed:    0.0s remaining:    0.0s\n",
      "[Parallel(n_jobs=4)]: Done   9 out of   9 | elapsed:    0.0s remaining:    0.0s\n",
      "[Parallel(n_jobs=4)]: Done   9 out of   9 | elapsed:    0.0s finished\n"
     ]
    }
   ],
   "source": [
    "# run each data set in the model and store results\n",
    "#search_ols_rm.fit(df_train.proc_title_rm.values, df_train.comments.values)\n",
    "#ols_result.append(search_ols_rm)\n",
    "search_ols_cat.fit(df_train.x_cat.values, df_train.comments.values)\n",
    "ols_result.append(search_ols_cat)\n",
    "search_ols_len.fit(df_train.len_title.values.reshape(-1,1), df_train.comments.values)\n",
    "ols_result.append(search_ols_len)"
   ]
  },
  {
   "cell_type": "code",
   "execution_count": 33,
   "metadata": {},
   "outputs": [
    {
     "name": "stdout",
     "output_type": "stream",
     "text": [
      "search_ols_cat Best parameter set: {'pol__degree': 3, 'vect__ngram_range': (1, 1)}\n",
      "search_ols_cat Best mse: -31484.463647899316\n",
      "search_ols_len Best parameter set: {'pol__degree': 3}\n",
      "search_ols_len Best mse: -38470.92686977464\n"
     ]
    }
   ],
   "source": [
    "# print the best params and mse\n",
    "ols_models = ['search_ols_cat', 'search_ols_len']\n",
    "for i, name in enumerate(ols_models):\n",
    "    print(f'{name} Best parameter set: {ols_result[i].best_params_}')\n",
    "    print(f'{name} Best mse: {ols_result[i].best_score_}')"
   ]
  },
  {
   "cell_type": "markdown",
   "metadata": {},
   "source": [
    "### Lasso"
   ]
  },
  {
   "cell_type": "code",
   "execution_count": 15,
   "metadata": {},
   "outputs": [],
   "source": [
    "# param list\n",
    "lambdas = np.logspace(-4, 4, 10)\n",
    "\n",
    "# pipeline for the processed titles and categories\n",
    "pipeline_las = Pipeline([\n",
    "    ('vect', CountVectorizer()),\n",
    "    #('tfidf', TfidfTransformer()),\n",
    "    ('pol', PolynomialFeatures(include_bias=True)),\n",
    "    ('las', Lasso(random_state=1))\n",
    "])\n",
    "\n",
    "# param grid used for all 3 data sets\n",
    "param_grid_las = {'pol__degree': [1,2,3],\n",
    "    'las__alpha': lambdas}\n",
    "\n",
    "# pipeline for the title lenghts\n",
    "pipeline_las_len = Pipeline([\n",
    "    #('vect', CountVectorizer()),\n",
    "    #('tfidf', TfidfTransformer()),\n",
    "    ('pol', PolynomialFeatures(include_bias=True)),\n",
    "    ('las', Lasso(random_state=1))\n",
    "])\n",
    "\n",
    "# for storing the results\n",
    "search_las_rm = GridSearchCV(pipeline_las, param_grid_las, scoring='neg_mean_squared_error', cv=3, verbose=10, n_jobs = 4, return_train_score=True)\n",
    "search_las_cat = GridSearchCV(pipeline_las, param_grid_las, scoring='neg_mean_squared_error', cv=3, verbose=10, n_jobs = 4, return_train_score=True)\n",
    "search_las_len = GridSearchCV(pipeline_las_len, param_grid_las, scoring='neg_mean_squared_error', cv=3, verbose=10, n_jobs = 4, return_train_score=True)\n",
    "las_result = []"
   ]
  },
  {
   "cell_type": "code",
   "execution_count": 16,
   "metadata": {},
   "outputs": [
    {
     "name": "stdout",
     "output_type": "stream",
     "text": [
      "Fitting 3 folds for each of 30 candidates, totalling 90 fits\n"
     ]
    },
    {
     "name": "stderr",
     "output_type": "stream",
     "text": [
      "[Parallel(n_jobs=4)]: Using backend LokyBackend with 4 concurrent workers.\n",
      "[Parallel(n_jobs=4)]: Done   5 tasks      | elapsed:    2.6s\n",
      "[Parallel(n_jobs=4)]: Done  10 tasks      | elapsed:    4.4s\n",
      "[Parallel(n_jobs=4)]: Done  17 tasks      | elapsed:    7.0s\n",
      "[Parallel(n_jobs=4)]: Done  24 tasks      | elapsed:    8.0s\n",
      "[Parallel(n_jobs=4)]: Done  33 tasks      | elapsed:    8.6s\n",
      "[Parallel(n_jobs=4)]: Done  42 tasks      | elapsed:    9.0s\n",
      "[Parallel(n_jobs=4)]: Done  53 tasks      | elapsed:    9.3s\n",
      "[Parallel(n_jobs=4)]: Done  64 tasks      | elapsed:    9.7s\n",
      "[Parallel(n_jobs=4)]: Done  77 tasks      | elapsed:   10.2s\n",
      "[Parallel(n_jobs=4)]: Done  90 out of  90 | elapsed:   10.6s finished\n",
      "[Parallel(n_jobs=4)]: Using backend LokyBackend with 4 concurrent workers.\n",
      "[Parallel(n_jobs=4)]: Batch computation too fast (0.0110s.) Setting batch_size=2.\n",
      "[Parallel(n_jobs=4)]: Done   5 tasks      | elapsed:    0.0s\n",
      "[Parallel(n_jobs=4)]: Batch computation too fast (0.0359s.) Setting batch_size=4.\n",
      "[Parallel(n_jobs=4)]: Done  12 tasks      | elapsed:    0.0s\n"
     ]
    },
    {
     "name": "stdout",
     "output_type": "stream",
     "text": [
      "Fitting 3 folds for each of 30 candidates, totalling 90 fits\n"
     ]
    },
    {
     "name": "stderr",
     "output_type": "stream",
     "text": [
      "[Parallel(n_jobs=4)]: Done  28 tasks      | elapsed:    0.0s\n",
      "[Parallel(n_jobs=4)]: Batch computation too fast (0.0568s.) Setting batch_size=8.\n",
      "[Parallel(n_jobs=4)]: Done  90 out of  90 | elapsed:    0.2s finished\n"
     ]
    }
   ],
   "source": [
    "# run and save results from all the datasets\n",
    "# search_las_rm.fit(df_train.proc_title_rm.values, df_train.comments.values)\n",
    "# las_result.append(search_las_rm)\n",
    "search_las_cat.fit(df_train.x_cat.values, df_train.comments.values)\n",
    "las_result.append(search_las_cat)\n",
    "search_las_len.fit(df_train.len_title.values.reshape(-1,1), df_train.comments.values)\n",
    "las_result.append(search_las_len)"
   ]
  },
  {
   "cell_type": "code",
   "execution_count": 34,
   "metadata": {},
   "outputs": [
    {
     "name": "stdout",
     "output_type": "stream",
     "text": [
      "search_las_cat Best parameter set: {'las__alpha': 0.046415888336127774, 'pol__degree': 1}\n",
      "search_las_cat Best mse: -31419.38847973912\n",
      "search_las_len Best parameter set: {'las__alpha': 166.81005372000558, 'pol__degree': 1}\n",
      "search_las_len Best mse: -38470.525967167974\n"
     ]
    }
   ],
   "source": [
    "# print best params and mse\n",
    "las_models = ['search_las_cat', 'search_las_len']\n",
    "for i, name in enumerate(las_models):\n",
    "    print(f'{name} Best parameter set: {las_result[i].best_params_}')\n",
    "    print(f'{name} Best mse: {las_result[i].best_score_}')"
   ]
  },
  {
   "cell_type": "markdown",
   "metadata": {},
   "source": [
    "### Elastic"
   ]
  },
  {
   "cell_type": "code",
   "execution_count": 18,
   "metadata": {},
   "outputs": [],
   "source": [
    "ela__l1_ratio = np.linspace(-1, 1, 10)\n",
    "\n",
    "pipeline_ela = Pipeline([\n",
    "    ('vect', CountVectorizer()),\n",
    "    #('tfidf', TfidfTransformer()),\n",
    "    ('pol', PolynomialFeatures(include_bias=True)),\n",
    "    ('ela', ElasticNet())\n",
    "    #('stanscal', RobustScaler(with_centering=False))\n",
    "])\n",
    "\n",
    "param_grid_ela = {'pol__degree': [1,2,3],\n",
    "                 'ela__l1_ratio': ela__l1_ratio}\n",
    "\n",
    "pipeline_ela_cat = Pipeline([\n",
    "    #('vect', CountVectorizer()),\n",
    "    #('tfidf', TfidfTransformer()),\n",
    "    ('pol', PolynomialFeatures(include_bias=True)),\n",
    "    ('ela', ElasticNet())\n",
    "    #('stanscal', RobustScaler(with_centering=False))\n",
    "])\n",
    "\n",
    "search_ela_rm = GridSearchCV(pipeline_ela, param_grid_ela, scoring='neg_mean_squared_error', cv=3, verbose=10, n_jobs = 4, return_train_score=True)\n",
    "search_ela_cat = GridSearchCV(pipeline_ela, param_grid_ela, scoring='neg_mean_squared_error', cv=3, verbose=10, n_jobs = 4, return_train_score=True)\n",
    "search_ela_len = GridSearchCV(pipeline_ela_cat, param_grid_ela, scoring='neg_mean_squared_error', cv=3, verbose=10, n_jobs = 4, return_train_score=True)\n",
    "\n",
    "ela_result = []"
   ]
  },
  {
   "cell_type": "code",
   "execution_count": 19,
   "metadata": {},
   "outputs": [
    {
     "name": "stdout",
     "output_type": "stream",
     "text": [
      "Fitting 3 folds for each of 30 candidates, totalling 90 fits\n"
     ]
    },
    {
     "name": "stderr",
     "output_type": "stream",
     "text": [
      "[Parallel(n_jobs=4)]: Using backend LokyBackend with 4 concurrent workers.\n",
      "[Parallel(n_jobs=4)]: Done   5 tasks      | elapsed:    2.7s\n",
      "[Parallel(n_jobs=4)]: Done  10 tasks      | elapsed:    4.6s\n",
      "[Parallel(n_jobs=4)]: Done  17 tasks      | elapsed:    8.1s\n",
      "[Parallel(n_jobs=4)]: Done  24 tasks      | elapsed:   10.9s\n",
      "[Parallel(n_jobs=4)]: Done  33 tasks      | elapsed:   14.7s\n",
      "[Parallel(n_jobs=4)]: Done  42 tasks      | elapsed:   19.2s\n",
      "[Parallel(n_jobs=4)]: Done  53 tasks      | elapsed:   20.3s\n",
      "[Parallel(n_jobs=4)]: Done  64 tasks      | elapsed:   21.1s\n",
      "[Parallel(n_jobs=4)]: Done  77 tasks      | elapsed:   21.7s\n",
      "[Parallel(n_jobs=4)]: Done  90 out of  90 | elapsed:   22.2s finished\n",
      "[Parallel(n_jobs=4)]: Using backend LokyBackend with 4 concurrent workers.\n",
      "[Parallel(n_jobs=4)]: Batch computation too fast (0.0519s.) Setting batch_size=2.\n",
      "[Parallel(n_jobs=4)]: Done   5 tasks      | elapsed:    0.0s\n"
     ]
    },
    {
     "name": "stdout",
     "output_type": "stream",
     "text": [
      "Fitting 3 folds for each of 30 candidates, totalling 90 fits\n"
     ]
    },
    {
     "name": "stderr",
     "output_type": "stream",
     "text": [
      "[Parallel(n_jobs=4)]: Batch computation too fast (0.1147s.) Setting batch_size=4.\n",
      "[Parallel(n_jobs=4)]: Done  12 tasks      | elapsed:    0.1s\n",
      "[Parallel(n_jobs=4)]: Done  28 tasks      | elapsed:    0.3s\n",
      "[Parallel(n_jobs=4)]: Batch computation too fast (0.1875s.) Setting batch_size=8.\n",
      "[Parallel(n_jobs=4)]: Done  73 out of  90 | elapsed:    0.5s remaining:    0.0s\n",
      "[Parallel(n_jobs=4)]: Done  90 out of  90 | elapsed:    0.6s finished\n",
      "C:\\Users\\Jonat\\anaconda3\\lib\\site-packages\\sklearn\\linear_model\\_coordinate_descent.py:476: ConvergenceWarning: Objective did not converge. You might want to increase the number of iterations. Duality gap: 341252039.870243, tolerance: 45155.13252744747\n",
      "  positive)\n"
     ]
    }
   ],
   "source": [
    "# search_ela_rm.fit(df_train.proc_title_rm.values, df_train.comments.values)\n",
    "# ela_result.append(search_ela_rm)\n",
    "search_ela_cat.fit(df_train.x_cat.values, df_train.comments.values)\n",
    "ela_result.append(search_ela_cat)\n",
    "search_ela_len.fit(df_train.len_title.values.reshape(-1,1), df_train.comments.values)\n",
    "ela_result.append(search_ela_len)"
   ]
  },
  {
   "cell_type": "code",
   "execution_count": 35,
   "metadata": {},
   "outputs": [
    {
     "name": "stdout",
     "output_type": "stream",
     "text": [
      "search_ela_cat Best parameter set: {'ela__l1_ratio': 1.0, 'pol__degree': 3}\n",
      "search_ela_cat Best mse: -31645.815621138765\n",
      "search_ela_len Best parameter set: {'ela__l1_ratio': -0.5555555555555556, 'pol__degree': 3}\n",
      "search_ela_len Best mse: -38470.71018071683\n"
     ]
    }
   ],
   "source": [
    "# print best params and mse\n",
    "ela_models = ['search_ela_cat', 'search_ela_len']\n",
    "for i, name in enumerate(ela_models):\n",
    "    print(f'{name} Best parameter set: {ela_result[i].best_params_}')\n",
    "    print(f'{name} Best mse: {ela_result[i].best_score_}')"
   ]
  },
  {
   "cell_type": "markdown",
   "metadata": {},
   "source": [
    "## Validation curves"
   ]
  },
  {
   "cell_type": "code",
   "execution_count": 28,
   "metadata": {},
   "outputs": [
    {
     "data": {
      "image/png": "[encoded data removed]",
      "text/plain": [
       "<Figure size 432x288 with 1 Axes>"
      ]
     },
     "metadata": {
      "needs_background": "light"
     },
     "output_type": "display_data"
    },
    {
     "data": {
      "image/png": "[encoded data removed]",
      "text/plain": [
       "<Figure size 432x288 with 1 Axes>"
      ]
     },
     "metadata": {
      "needs_background": "light"
     },
     "output_type": "display_data"
    }
   ],
   "source": [
    "for model in ols_result:\n",
    "    test_scores = model.cv_results_['mean_test_score']\n",
    "    train_scores = model.cv_results_['mean_train_score'] \n",
    "    plt.plot(test_scores, label='test')\n",
    "    plt.plot(train_scores, label='train')\n",
    "    plt.legend(loc='best')\n",
    "    x_label = []\n",
    "    for i in model.param_grid:\n",
    "        x_label.append(i)\n",
    "    plt.xlabel(x_label)\n",
    "    plt.ylabel('mse')\n",
    "    plt.show()"
   ]
  },
  {
   "cell_type": "code",
   "execution_count": 23,
   "metadata": {},
   "outputs": [
    {
     "data": {
      "image/png": "[encoded data removed]",
      "text/plain": [
       "<Figure size 432x288 with 1 Axes>"
      ]
     },
     "metadata": {
      "needs_background": "light"
     },
     "output_type": "display_data"
    },
    {
     "data": {
      "image/png": "[encoded data removed]",
      "text/plain": [
       "<Figure size 432x288 with 1 Axes>"
      ]
     },
     "metadata": {
      "needs_background": "light"
     },
     "output_type": "display_data"
    }
   ],
   "source": [
    "for model in las_result:\n",
    "    test_scores = model.cv_results_['mean_test_score']\n",
    "    train_scores = model.cv_results_['mean_train_score'] \n",
    "    plt.plot(test_scores, label='test')\n",
    "    plt.plot(train_scores, label='train')\n",
    "    plt.legend(loc='best')\n",
    "    plt.show()"
   ]
  },
  {
   "cell_type": "code",
   "execution_count": 24,
   "metadata": {},
   "outputs": [
    {
     "data": {
      "image/png": "[encoded data removed]",
      "text/plain": [
       "<Figure size 432x288 with 1 Axes>"
      ]
     },
     "metadata": {
      "needs_background": "light"
     },
     "output_type": "display_data"
    },
    {
     "data": {
      "image/png": "[encoded data removed]",
      "text/plain": [
       "<Figure size 432x288 with 1 Axes>"
      ]
     },
     "metadata": {
      "needs_background": "light"
     },
     "output_type": "display_data"
    }
   ],
   "source": [
    "for model in ela_result:\n",
    "    test_scores = model.cv_results_['mean_test_score']\n",
    "    train_scores = model.cv_results_['mean_train_score'] \n",
    "    plt.plot(test_scores, label='test')\n",
    "    plt.plot(train_scores, label='train')\n",
    "    plt.legend(loc='best')\n",
    "    plt.show()"
   ]
  }
 ],
 "metadata": {
  "kernelspec": {
   "display_name": "Python 3",
   "language": "python",
   "name": "python3"
  },
  "language_info": {
   "codemirror_mode": {
    "name": "ipython",
    "version": 3
   },
   "file_extension": ".py",
   "mimetype": "text/x-python",
   "name": "python",
   "nbconvert_exporter": "python",
   "pygments_lexer": "ipython3",
   "version": "3.7.6"
  }
 },
 "nbformat": 4,
 "nbformat_minor": 4
}
