{
 "cells": [
  {
   "cell_type": "code",
   "execution_count": 42,
   "metadata": {},
   "outputs": [],
   "source": [
    "import numpy as np \n",
    "import pandas as pd \n",
    "from tqdm import tqdm\n",
    "from math import sqrt\n",
    "\n",
    "#plots\n",
    "import matplotlib.pyplot as plt \n",
    "import seaborn as sns\n",
    "%matplotlib inline\n",
    "\n",
    "# for vectorization \n",
    "from sklearn.feature_extraction.text import CountVectorizer\n",
    "from sklearn.feature_extraction.text import TfidfVectorizer\n",
    "from sklearn.feature_extraction.text import TfidfTransformer\n",
    "\n",
    "# similarity/distance measures\n",
    "from scipy.spatial import distance\n",
    "from sklearn.metrics.pairwise import linear_kernel\n",
    "\n",
    "# sklearn\n",
    "from sklearn.svm import LinearSVC\n",
    "from sklearn.exceptions import DataConversionWarning; import warnings\n",
    "from sklearn.linear_model import Lasso, LinearRegression, Ridge, ElasticNet, LogisticRegression\n",
    "from sklearn.feature_extraction.text import TfidfVectorizer\n",
    "from sklearn.metrics import mean_squared_error as mse\n",
    "from sklearn.model_selection import KFold\n",
    "from sklearn.pipeline import make_pipeline\n",
    "from sklearn.pipeline import Pipeline\n",
    "from sklearn.preprocessing import StandardScaler, PolynomialFeatures\n",
    "from sklearn.datasets import make_classification\n",
    "from sklearn.linear_model import LinearRegression\n",
    "from sklearn.metrics import mean_squared_error as mse\n",
    "from sklearn.model_selection import train_test_split\n",
    "from sklearn.feature_selection import SelectKBest, chi2, f_classif\n",
    "from sklearn.model_selection import GridSearchCV"
   ]
  },
  {
   "cell_type": "code",
   "execution_count": 279,
   "metadata": {},
   "outputs": [],
   "source": [
    "# load data\n",
    "data = pd.read_csv('part2.csv')\n",
    "data = data[data['Preprocces Title'].notna()]\n",
    "data = data.reset_index()"
   ]
  },
  {
   "cell_type": "code",
   "execution_count": 280,
   "metadata": {},
   "outputs": [],
   "source": [
    "data['x_cat'] = data['url'].str.replace('https://ekstrabladet.dk/nyheder/','')\n",
    "data['x_cat'] = data['x_cat'].str.replace('https://ekstrabladet.dk/','')\n",
    "data['x_cat'] = data['x_cat'].apply(lambda x: x.split('/')[0])"
   ]
  },
  {
   "cell_type": "code",
   "execution_count": 281,
   "metadata": {},
   "outputs": [
    {
     "data": {
      "text/plain": [
       "24031"
      ]
     },
     "execution_count": 281,
     "metadata": {},
     "output_type": "execute_result"
    }
   ],
   "source": [
    "len(data['body'])"
   ]
  },
  {
   "cell_type": "code",
   "execution_count": 282,
   "metadata": {},
   "outputs": [],
   "source": [
    "len_title = []\n",
    "len_body = []\n",
    "for i in data['title']:\n",
    "    len_title.append(len(i))\n",
    "data['len_title'] = pd.DataFrame(data=len_title)"
   ]
  },
  {
   "cell_type": "code",
   "execution_count": 283,
   "metadata": {},
   "outputs": [],
   "source": [
    "n = 10\n",
    "data['comments_cat'] = pd.qcut(data.comments, n, labels=list(range(n)))"
   ]
  },
  {
   "cell_type": "code",
   "execution_count": 284,
   "metadata": {},
   "outputs": [
    {
     "data": {
      "text/plain": [
       "2325"
      ]
     },
     "execution_count": 284,
     "metadata": {},
     "output_type": "execute_result"
    }
   ],
   "source": [
    "len(data[data.comments_cat==2])"
   ]
  },
  {
   "cell_type": "code",
   "execution_count": 285,
   "metadata": {},
   "outputs": [],
   "source": [
    "data['set'] = 'hi'"
   ]
  },
  {
   "cell_type": "code",
   "execution_count": 286,
   "metadata": {},
   "outputs": [
    {
     "data": {
      "text/plain": [
       "24030"
      ]
     },
     "execution_count": 286,
     "metadata": {},
     "output_type": "execute_result"
    }
   ],
   "source": [
    "n = len(data['set'])\n",
    "if n%2 !=0:\n",
    "    n -= 1\n",
    "n1 = int(n/2)\n",
    "n"
   ]
  },
  {
   "cell_type": "code",
   "execution_count": 287,
   "metadata": {},
   "outputs": [
    {
     "name": "stderr",
     "output_type": "stream",
     "text": [
      "C:\\Users\\Jonat\\anaconda3\\lib\\site-packages\\ipykernel_launcher.py:1: SettingWithCopyWarning: \n",
      "A value is trying to be set on a copy of a slice from a DataFrame\n",
      "\n",
      "See the caveats in the documentation: https://pandas.pydata.org/pandas-docs/stable/user_guide/indexing.html#returning-a-view-versus-a-copy\n",
      "  \"\"\"Entry point for launching an IPython kernel.\n",
      "C:\\Users\\Jonat\\anaconda3\\lib\\site-packages\\ipykernel_launcher.py:2: SettingWithCopyWarning: \n",
      "A value is trying to be set on a copy of a slice from a DataFrame\n",
      "\n",
      "See the caveats in the documentation: https://pandas.pydata.org/pandas-docs/stable/user_guide/indexing.html#returning-a-view-versus-a-copy\n",
      "  \n"
     ]
    }
   ],
   "source": [
    "data['set'][:n1] = 'test'\n",
    "data['set'][n1:n] = 'train'"
   ]
  },
  {
   "cell_type": "code",
   "execution_count": 288,
   "metadata": {},
   "outputs": [],
   "source": [
    "df_train = data[data.set==\"train\"]\n",
    "df_test = data[data.set==\"test\"]"
   ]
  },
  {
   "cell_type": "code",
   "execution_count": null,
   "metadata": {},
   "outputs": [],
   "source": []
  },
  {
   "cell_type": "code",
   "execution_count": null,
   "metadata": {},
   "outputs": [],
   "source": []
  },
  {
   "cell_type": "code",
   "execution_count": null,
   "metadata": {},
   "outputs": [],
   "source": []
  },
  {
   "cell_type": "code",
   "execution_count": null,
   "metadata": {},
   "outputs": [],
   "source": []
  },
  {
   "cell_type": "code",
   "execution_count": 120,
   "metadata": {},
   "outputs": [],
   "source": [
    "df_test_word = df_test[df_test.proc_title_rm=='dårligt']"
   ]
  },
  {
   "cell_type": "code",
   "execution_count": 121,
   "metadata": {},
   "outputs": [
    {
     "data": {
      "text/html": [
       "<div>\n",
       "<style scoped>\n",
       "    .dataframe tbody tr th:only-of-type {\n",
       "        vertical-align: middle;\n",
       "    }\n",
       "\n",
       "    .dataframe tbody tr th {\n",
       "        vertical-align: top;\n",
       "    }\n",
       "\n",
       "    .dataframe thead th {\n",
       "        text-align: right;\n",
       "    }\n",
       "</style>\n",
       "<table border=\"1\" class=\"dataframe\">\n",
       "  <thead>\n",
       "    <tr style=\"text-align: right;\">\n",
       "      <th></th>\n",
       "      <th>level_0</th>\n",
       "      <th>index</th>\n",
       "      <th>url</th>\n",
       "      <th>comments</th>\n",
       "      <th>title</th>\n",
       "      <th>subtitle</th>\n",
       "      <th>body</th>\n",
       "      <th>date</th>\n",
       "      <th>proc_title</th>\n",
       "      <th>proc_title_rm</th>\n",
       "      <th>comments_cat</th>\n",
       "      <th>set</th>\n",
       "    </tr>\n",
       "  </thead>\n",
       "  <tbody>\n",
       "    <tr>\n",
       "      <th>2</th>\n",
       "      <td>2</td>\n",
       "      <td>2</td>\n",
       "      <td>https://ekstrabladet.dk/flash/filmogtv/daarlig...</td>\n",
       "      <td>34</td>\n",
       "      <td>Dårligt nyt til 'Venner'-fans</td>\n",
       "      <td>NaN</td>\n",
       "      <td>Der var gode nyheder til fans af serien 'Frien...</td>\n",
       "      <td>7. aug. 2020</td>\n",
       "      <td>['dårligt', 'nyt', 'vennerfans']</td>\n",
       "      <td>dårligt</td>\n",
       "      <td>4</td>\n",
       "      <td>test</td>\n",
       "    </tr>\n",
       "    <tr>\n",
       "      <th>228</th>\n",
       "      <td>983</td>\n",
       "      <td>983</td>\n",
       "      <td>https://ekstrabladet.dk/flash/filmogtv/daarlig...</td>\n",
       "      <td>34</td>\n",
       "      <td>Dårligt nyt: Udskyder et helt år</td>\n",
       "      <td>Ventede film som \"Avatar 2\" og \"Star Wars\" får...</td>\n",
       "      <td>Allerede før, 'Avatar' havde premiere i 2009, ...</td>\n",
       "      <td>24. jul. 2020</td>\n",
       "      <td>['dårligt', 'nyt', 'udskyder', 'helt', 'år']</td>\n",
       "      <td>dårligt</td>\n",
       "      <td>4</td>\n",
       "      <td>test</td>\n",
       "    </tr>\n",
       "    <tr>\n",
       "      <th>338</th>\n",
       "      <td>1476</td>\n",
       "      <td>1476</td>\n",
       "      <td>https://ekstrabladet.dk/sport/fodbold/udenland...</td>\n",
       "      <td>0</td>\n",
       "      <td>Dårligt nyt for Arsenal: Stortalent ude resten...</td>\n",
       "      <td>Gabriel Martinelli er blevet opereret i knæet ...</td>\n",
       "      <td>Det lovende offensivtalent Gabriel Martinelli ...</td>\n",
       "      <td>17. jul. 2020</td>\n",
       "      <td>['dårligt', 'nyt', 'arsenal', 'stortalent', 'u...</td>\n",
       "      <td>dårligt</td>\n",
       "      <td>0</td>\n",
       "      <td>test</td>\n",
       "    </tr>\n",
       "    <tr>\n",
       "      <th>996</th>\n",
       "      <td>4571</td>\n",
       "      <td>4571</td>\n",
       "      <td>https://ekstrabladet.dk/sport/fodbold/udenland...</td>\n",
       "      <td>17</td>\n",
       "      <td>Dårligt nyt til Braithwaite</td>\n",
       "      <td>Det ser igen svært ud for Martin Braithwaites ...</td>\n",
       "      <td>I denne uge er Barcelonas trup tilbage på træn...</td>\n",
       "      <td>5. jun. 2020</td>\n",
       "      <td>['dårligt', 'nyt', 'braithwaite']</td>\n",
       "      <td>dårligt</td>\n",
       "      <td>3</td>\n",
       "      <td>test</td>\n",
       "    </tr>\n",
       "    <tr>\n",
       "      <th>1169</th>\n",
       "      <td>5316</td>\n",
       "      <td>5316</td>\n",
       "      <td>https://ekstrabladet.dk/sport/fodbold/udenland...</td>\n",
       "      <td>18</td>\n",
       "      <td>Udgik med blodtud: Dårligt nyt til dansk stjerne</td>\n",
       "      <td>Chelsea-manager Frank Lampard føler for Andrea...</td>\n",
       "      <td>Chelseas danske forsvarsspiller Andreas Christ...</td>\n",
       "      <td>18. feb. 2020</td>\n",
       "      <td>['udgik', 'blodtud', 'dårligt', 'nyt', 'dansk'...</td>\n",
       "      <td>dårligt</td>\n",
       "      <td>3</td>\n",
       "      <td>test</td>\n",
       "    </tr>\n",
       "    <tr>\n",
       "      <th>1170</th>\n",
       "      <td>5325</td>\n",
       "      <td>5325</td>\n",
       "      <td>https://ekstrabladet.dk/sport/fodbold/udenland...</td>\n",
       "      <td>13</td>\n",
       "      <td>Dårligt EM-nyt: Kjær skadet</td>\n",
       "      <td>Landsholdsanfører Simon Kjær blev skadet i før...</td>\n",
       "      <td>AC Milan rejste sig fra 2-4-nederlaget i lokal...</td>\n",
       "      <td>17. feb. 2020</td>\n",
       "      <td>['dårligt', 'emnyt', 'kjær', 'skad']</td>\n",
       "      <td>dårligt</td>\n",
       "      <td>2</td>\n",
       "      <td>test</td>\n",
       "    </tr>\n",
       "    <tr>\n",
       "      <th>1248</th>\n",
       "      <td>5664</td>\n",
       "      <td>5664</td>\n",
       "      <td>https://ekstrabladet.dk/sport/fodbold/dansk_fo...</td>\n",
       "      <td>162</td>\n",
       "      <td>Dårligt nyt for FCK: Fischer må holde pause</td>\n",
       "      <td>Viktor Fischer blev skadet på FC Københavns tr...</td>\n",
       "      <td>FC København oplyser, at Viktor Fischer er ble...</td>\n",
       "      <td>12. feb. 2020</td>\n",
       "      <td>['dårligt', 'nyt', 'fck', 'fischer', 'må', 'ho...</td>\n",
       "      <td>dårligt</td>\n",
       "      <td>8</td>\n",
       "      <td>test</td>\n",
       "    </tr>\n",
       "    <tr>\n",
       "      <th>1713</th>\n",
       "      <td>7519</td>\n",
       "      <td>7519</td>\n",
       "      <td>https://ekstrabladet.dk/sport/fodbold/udenland...</td>\n",
       "      <td>92</td>\n",
       "      <td>Dårligt nyt for Eriksen: Problemer med forhand...</td>\n",
       "      <td>NaN</td>\n",
       "      <td>Christian Eriksen vil gerne have en ny udfordr...</td>\n",
       "      <td>15. jan. 2020</td>\n",
       "      <td>['dårligt', 'nyt', 'eriksen', 'problemer', 'fo...</td>\n",
       "      <td>dårligt</td>\n",
       "      <td>7</td>\n",
       "      <td>test</td>\n",
       "    </tr>\n",
       "    <tr>\n",
       "      <th>2139</th>\n",
       "      <td>9368</td>\n",
       "      <td>9368</td>\n",
       "      <td>https://ekstrabladet.dk/sport/anden_sport/golf...</td>\n",
       "      <td>7</td>\n",
       "      <td>Dårligt nyt for dansk stjerne</td>\n",
       "      <td>Ifølge en talsmand fra European Tour er Thorbj...</td>\n",
       "      <td>At sagen om Thorbjørn Olesens opførsel på et f...</td>\n",
       "      <td>13. dec. 2019</td>\n",
       "      <td>['dårligt', 'nyt', 'dansk', 'stjern']</td>\n",
       "      <td>dårligt</td>\n",
       "      <td>2</td>\n",
       "      <td>test</td>\n",
       "    </tr>\n",
       "    <tr>\n",
       "      <th>2206</th>\n",
       "      <td>9658</td>\n",
       "      <td>9658</td>\n",
       "      <td>https://ekstrabladet.dk/sport/haandbold/daarli...</td>\n",
       "      <td>22</td>\n",
       "      <td>Dårligt nyt for Danmark: Nu er der maksimalt pres</td>\n",
       "      <td>Danmark skal vinde over Holland for at få muli...</td>\n",
       "      <td>De danske håndboldkvinder må ikke tabe til Hol...</td>\n",
       "      <td>9. dec. 2019</td>\n",
       "      <td>['dårligt', 'nyt', 'danmark', 'nu', 'maksimalt...</td>\n",
       "      <td>dårligt</td>\n",
       "      <td>3</td>\n",
       "      <td>test</td>\n",
       "    </tr>\n",
       "    <tr>\n",
       "      <th>2249</th>\n",
       "      <td>9858</td>\n",
       "      <td>9858</td>\n",
       "      <td>https://ekstrabladet.dk/sport/fodbold/landshol...</td>\n",
       "      <td>30</td>\n",
       "      <td>Dårligt nyt, Åge: Norge beholder sin landstræner</td>\n",
       "      <td>NaN</td>\n",
       "      <td>NaN</td>\n",
       "      <td>6. dec. 2019</td>\n",
       "      <td>['dårligt', 'nyt', 'åge', 'norge', 'behold', '...</td>\n",
       "      <td>dårligt</td>\n",
       "      <td>4</td>\n",
       "      <td>test</td>\n",
       "    </tr>\n",
       "  </tbody>\n",
       "</table>\n",
       "</div>"
      ],
      "text/plain": [
       "      level_0  index                                                url  \\\n",
       "2           2      2  https://ekstrabladet.dk/flash/filmogtv/daarlig...   \n",
       "228       983    983  https://ekstrabladet.dk/flash/filmogtv/daarlig...   \n",
       "338      1476   1476  https://ekstrabladet.dk/sport/fodbold/udenland...   \n",
       "996      4571   4571  https://ekstrabladet.dk/sport/fodbold/udenland...   \n",
       "1169     5316   5316  https://ekstrabladet.dk/sport/fodbold/udenland...   \n",
       "1170     5325   5325  https://ekstrabladet.dk/sport/fodbold/udenland...   \n",
       "1248     5664   5664  https://ekstrabladet.dk/sport/fodbold/dansk_fo...   \n",
       "1713     7519   7519  https://ekstrabladet.dk/sport/fodbold/udenland...   \n",
       "2139     9368   9368  https://ekstrabladet.dk/sport/anden_sport/golf...   \n",
       "2206     9658   9658  https://ekstrabladet.dk/sport/haandbold/daarli...   \n",
       "2249     9858   9858  https://ekstrabladet.dk/sport/fodbold/landshol...   \n",
       "\n",
       "      comments                                              title  \\\n",
       "2           34                      Dårligt nyt til 'Venner'-fans   \n",
       "228         34                   Dårligt nyt: Udskyder et helt år   \n",
       "338          0  Dårligt nyt for Arsenal: Stortalent ude resten...   \n",
       "996         17                        Dårligt nyt til Braithwaite   \n",
       "1169        18   Udgik med blodtud: Dårligt nyt til dansk stjerne   \n",
       "1170        13                       Dårligt EM-nyt: Kjær skadet    \n",
       "1248       162        Dårligt nyt for FCK: Fischer må holde pause   \n",
       "1713        92  Dårligt nyt for Eriksen: Problemer med forhand...   \n",
       "2139         7                      Dårligt nyt for dansk stjerne   \n",
       "2206        22  Dårligt nyt for Danmark: Nu er der maksimalt pres   \n",
       "2249        30   Dårligt nyt, Åge: Norge beholder sin landstræner   \n",
       "\n",
       "                                               subtitle  \\\n",
       "2                                                   NaN   \n",
       "228   Ventede film som \"Avatar 2\" og \"Star Wars\" får...   \n",
       "338   Gabriel Martinelli er blevet opereret i knæet ...   \n",
       "996   Det ser igen svært ud for Martin Braithwaites ...   \n",
       "1169  Chelsea-manager Frank Lampard føler for Andrea...   \n",
       "1170  Landsholdsanfører Simon Kjær blev skadet i før...   \n",
       "1248  Viktor Fischer blev skadet på FC Københavns tr...   \n",
       "1713                                                NaN   \n",
       "2139  Ifølge en talsmand fra European Tour er Thorbj...   \n",
       "2206  Danmark skal vinde over Holland for at få muli...   \n",
       "2249                                                NaN   \n",
       "\n",
       "                                                   body           date  \\\n",
       "2     Der var gode nyheder til fans af serien 'Frien...   7. aug. 2020   \n",
       "228   Allerede før, 'Avatar' havde premiere i 2009, ...  24. jul. 2020   \n",
       "338   Det lovende offensivtalent Gabriel Martinelli ...  17. jul. 2020   \n",
       "996   I denne uge er Barcelonas trup tilbage på træn...   5. jun. 2020   \n",
       "1169  Chelseas danske forsvarsspiller Andreas Christ...  18. feb. 2020   \n",
       "1170  AC Milan rejste sig fra 2-4-nederlaget i lokal...  17. feb. 2020   \n",
       "1248  FC København oplyser, at Viktor Fischer er ble...  12. feb. 2020   \n",
       "1713  Christian Eriksen vil gerne have en ny udfordr...  15. jan. 2020   \n",
       "2139  At sagen om Thorbjørn Olesens opførsel på et f...  13. dec. 2019   \n",
       "2206  De danske håndboldkvinder må ikke tabe til Hol...   9. dec. 2019   \n",
       "2249                                                NaN   6. dec. 2019   \n",
       "\n",
       "                                             proc_title proc_title_rm  \\\n",
       "2                      ['dårligt', 'nyt', 'vennerfans']       dårligt   \n",
       "228        ['dårligt', 'nyt', 'udskyder', 'helt', 'år']       dårligt   \n",
       "338   ['dårligt', 'nyt', 'arsenal', 'stortalent', 'u...       dårligt   \n",
       "996                   ['dårligt', 'nyt', 'braithwaite']       dårligt   \n",
       "1169  ['udgik', 'blodtud', 'dårligt', 'nyt', 'dansk'...       dårligt   \n",
       "1170               ['dårligt', 'emnyt', 'kjær', 'skad']       dårligt   \n",
       "1248  ['dårligt', 'nyt', 'fck', 'fischer', 'må', 'ho...       dårligt   \n",
       "1713  ['dårligt', 'nyt', 'eriksen', 'problemer', 'fo...       dårligt   \n",
       "2139              ['dårligt', 'nyt', 'dansk', 'stjern']       dårligt   \n",
       "2206  ['dårligt', 'nyt', 'danmark', 'nu', 'maksimalt...       dårligt   \n",
       "2249  ['dårligt', 'nyt', 'åge', 'norge', 'behold', '...       dårligt   \n",
       "\n",
       "     comments_cat   set  \n",
       "2               4  test  \n",
       "228             4  test  \n",
       "338             0  test  \n",
       "996             3  test  \n",
       "1169            3  test  \n",
       "1170            2  test  \n",
       "1248            8  test  \n",
       "1713            7  test  \n",
       "2139            2  test  \n",
       "2206            3  test  \n",
       "2249            4  test  "
      ]
     },
     "execution_count": 121,
     "metadata": {},
     "output_type": "execute_result"
    }
   ],
   "source": [
    "df_test_word"
   ]
  },
  {
   "cell_type": "code",
   "execution_count": 127,
   "metadata": {},
   "outputs": [
    {
     "data": {
      "text/plain": [
       "<matplotlib.collections.PathCollection at 0x13097349a88>"
      ]
     },
     "execution_count": 127,
     "metadata": {},
     "output_type": "execute_result"
    },
    {
     "data": {
      "image/png": "[encoded data removed]",
      "text/plain": [
       "<Figure size 576x288 with 1 Axes>"
      ]
     },
     "metadata": {
      "needs_background": "light"
     },
     "output_type": "display_data"
    }
   ],
   "source": [
    "plt.figure(figsize=(8,4))\n",
    "plt.scatter(df_test_word.date,df_test_word.comments)"
   ]
  },
  {
   "cell_type": "code",
   "execution_count": null,
   "metadata": {},
   "outputs": [],
   "source": []
  },
  {
   "cell_type": "code",
   "execution_count": null,
   "metadata": {},
   "outputs": [],
   "source": []
  },
  {
   "cell_type": "code",
   "execution_count": null,
   "metadata": {},
   "outputs": [],
   "source": []
  },
  {
   "cell_type": "code",
   "execution_count": null,
   "metadata": {},
   "outputs": [],
   "source": []
  },
  {
   "cell_type": "code",
   "execution_count": 9,
   "metadata": {},
   "outputs": [
    {
     "ename": "NameError",
     "evalue": "name 'vectorizer' is not defined",
     "output_type": "error",
     "traceback": [
      "\u001b[1;31m---------------------------------------------------------------------------\u001b[0m",
      "\u001b[1;31mNameError\u001b[0m                                 Traceback (most recent call last)",
      "\u001b[1;32m<ipython-input-9-6e0c1828b362>\u001b[0m in \u001b[0;36m<module>\u001b[1;34m\u001b[0m\n\u001b[0;32m      1\u001b[0m \u001b[0mvectorizer_test\u001b[0m \u001b[1;33m=\u001b[0m \u001b[0mCountVectorizer\u001b[0m\u001b[1;33m(\u001b[0m\u001b[1;33m)\u001b[0m\u001b[1;33m\u001b[0m\u001b[1;33m\u001b[0m\u001b[0m\n\u001b[1;32m----> 2\u001b[1;33m \u001b[0mX\u001b[0m \u001b[1;33m=\u001b[0m \u001b[0mvectorizer\u001b[0m\u001b[1;33m.\u001b[0m\u001b[0mfit_transform\u001b[0m\u001b[1;33m(\u001b[0m\u001b[0mdf_train\u001b[0m\u001b[1;33m.\u001b[0m\u001b[0mtitle\u001b[0m\u001b[1;33m.\u001b[0m\u001b[0mvalues\u001b[0m\u001b[1;33m)\u001b[0m\u001b[1;33m\u001b[0m\u001b[1;33m\u001b[0m\u001b[0m\n\u001b[0m",
      "\u001b[1;31mNameError\u001b[0m: name 'vectorizer' is not defined"
     ]
    }
   ],
   "source": [
    "vectorizer_test = CountVectorizer()\n",
    "X = vectorizer.fit_transform(df_train.title.values)"
   ]
  },
  {
   "cell_type": "code",
   "execution_count": 10,
   "metadata": {},
   "outputs": [
    {
     "ename": "SyntaxError",
     "evalue": "invalid syntax (<ipython-input-10-63c3eade6e23>, line 1)",
     "output_type": "error",
     "traceback": [
      "\u001b[1;36m  File \u001b[1;32m\"<ipython-input-10-63c3eade6e23>\"\u001b[1;36m, line \u001b[1;32m1\u001b[0m\n\u001b[1;33m    X[]\u001b[0m\n\u001b[1;37m      ^\u001b[0m\n\u001b[1;31mSyntaxError\u001b[0m\u001b[1;31m:\u001b[0m invalid syntax\n"
     ]
    }
   ],
   "source": [
    "X[]"
   ]
  },
  {
   "cell_type": "code",
   "execution_count": 11,
   "metadata": {},
   "outputs": [
    {
     "ename": "NameError",
     "evalue": "name 'X' is not defined",
     "output_type": "error",
     "traceback": [
      "\u001b[1;31m---------------------------------------------------------------------------\u001b[0m",
      "\u001b[1;31mNameError\u001b[0m                                 Traceback (most recent call last)",
      "\u001b[1;32m<ipython-input-11-804ba410c2d8>\u001b[0m in \u001b[0;36m<module>\u001b[1;34m\u001b[0m\n\u001b[1;32m----> 1\u001b[1;33m \u001b[0mpd\u001b[0m\u001b[1;33m.\u001b[0m\u001b[0mDataFrame\u001b[0m\u001b[1;33m.\u001b[0m\u001b[0msparse\u001b[0m\u001b[1;33m.\u001b[0m\u001b[0mfrom_spmatrix\u001b[0m\u001b[1;33m(\u001b[0m\u001b[0mX\u001b[0m\u001b[1;33m)\u001b[0m\u001b[1;33m\u001b[0m\u001b[1;33m\u001b[0m\u001b[0m\n\u001b[0m",
      "\u001b[1;31mNameError\u001b[0m: name 'X' is not defined"
     ]
    }
   ],
   "source": [
    "pd.DataFrame.sparse.from_spmatrix(X)"
   ]
  },
  {
   "cell_type": "code",
   "execution_count": null,
   "metadata": {},
   "outputs": [],
   "source": []
  },
  {
   "cell_type": "code",
   "execution_count": 120,
   "metadata": {},
   "outputs": [],
   "source": [
    "X = data['title']\n",
    "y = data['comments_cat']\n",
    "# create test, train and dev\n",
    "X_dev, X_test, y_dev, y_test = train_test_split(X, y, test_size=1/3, random_state=1)    \n",
    "X_train, X_val, y_train, y_val = train_test_split(X_dev, y_dev, test_size=1/2, random_state=1)"
   ]
  },
  {
   "cell_type": "code",
   "execution_count": 25,
   "metadata": {},
   "outputs": [],
   "source": [
    "X_test_split = [sent.split(' ') for sent in X_test]"
   ]
  },
  {
   "cell_type": "code",
   "execution_count": 26,
   "metadata": {},
   "outputs": [],
   "source": [
    "# Bag of Words\n",
    "\n",
    "# CountVectorizer has a build-in tokenizer and lowercases by default. Also has an option to remove stopwords.\n",
    "vectorizer = CountVectorizer()\n",
    "# However, you can override the default tokenization with your own defined function, like so:\n",
    "#vectorizer = CountVectorizer(tokenizer=preprocess)\n",
    "\n",
    "# fit and transform train\n",
    "X_train_bow = vectorizer.fit_transform(data.title.values)\n",
    "# Only tranform test: never fitting your vectorizer on the test set (it is cheating). OOV words are handled automatically be sklearn's vectorizer.\n",
    "X_test_bow = vectorizer.transform(df_test.title.values)"
   ]
  },
  {
   "cell_type": "code",
   "execution_count": 27,
   "metadata": {},
   "outputs": [
    {
     "name": "stdout",
     "output_type": "stream",
     "text": [
      "(24031, 21492)\n",
      "21492\n"
     ]
    },
    {
     "data": {
      "text/plain": [
       "<1x21492 sparse matrix of type '<class 'numpy.int64'>'\n",
       "\twith 7 stored elements in Compressed Sparse Row format>"
      ]
     },
     "execution_count": 27,
     "metadata": {},
     "output_type": "execute_result"
    }
   ],
   "source": [
    "print(X_train_bow.shape)\n",
    "print(len(vectorizer.vocabulary_))\n",
    "X_train_bow[0]"
   ]
  },
  {
   "cell_type": "code",
   "execution_count": 13,
   "metadata": {},
   "outputs": [
    {
     "data": {
      "text/plain": [
       "array([[0, 0, 0, ..., 0, 0, 0]], dtype=int64)"
      ]
     },
     "execution_count": 13,
     "metadata": {},
     "output_type": "execute_result"
    }
   ],
   "source": [
    "X_train_bow[0].toarray()"
   ]
  },
  {
   "cell_type": "code",
   "execution_count": 14,
   "metadata": {},
   "outputs": [],
   "source": [
    "def make_ngrams(sentence,n):\n",
    "    tokens = sentence.split(\" \")\n",
    "    ngrams = zip(*[tokens[i:] for i in range(n)])\n",
    "    return [\" \".join(ngram) for ngram in ngrams]\n"
   ]
  },
  {
   "cell_type": "code",
   "execution_count": 13,
   "metadata": {},
   "outputs": [],
   "source": [
    "# n=1-5\n",
    "vectorizer = CountVectorizer(ngram_range=(1,5))\n",
    "\n",
    "X_train_5gram = vectorizer.fit_transform(df_train.title.values)"
   ]
  },
  {
   "cell_type": "code",
   "execution_count": 14,
   "metadata": {},
   "outputs": [
    {
     "name": "stdout",
     "output_type": "stream",
     "text": [
      "(12000, 198842)\n"
     ]
    },
    {
     "data": {
      "text/plain": [
       "<1x198842 sparse matrix of type '<class 'numpy.int64'>'\n",
       "\twith 20 stored elements in Compressed Sparse Row format>"
      ]
     },
     "execution_count": 14,
     "metadata": {},
     "output_type": "execute_result"
    }
   ],
   "source": [
    "print(X_train_5gram.shape)\n",
    "X_train_5gram[0]"
   ]
  },
  {
   "cell_type": "code",
   "execution_count": 15,
   "metadata": {},
   "outputs": [],
   "source": [
    "tfidf = TfidfVectorizer()\n",
    "X_train_tfidf = tfidf.fit_transform(df_train.title.values)"
   ]
  },
  {
   "cell_type": "code",
   "execution_count": 16,
   "metadata": {},
   "outputs": [
    {
     "data": {
      "text/plain": [
       "<1x14633 sparse matrix of type '<class 'numpy.float64'>'\n",
       "\twith 8 stored elements in Compressed Sparse Row format>"
      ]
     },
     "execution_count": 16,
     "metadata": {},
     "output_type": "execute_result"
    }
   ],
   "source": [
    "X_train_tfidf[1]"
   ]
  },
  {
   "cell_type": "code",
   "execution_count": 17,
   "metadata": {},
   "outputs": [
    {
     "data": {
      "text/plain": [
       "1.0"
      ]
     },
     "execution_count": 17,
     "metadata": {},
     "output_type": "execute_result"
    }
   ],
   "source": [
    "distance.cosine(X_train_tfidf[0].toarray(), X_train_tfidf[1].toarray())"
   ]
  },
  {
   "cell_type": "code",
   "execution_count": 18,
   "metadata": {},
   "outputs": [
    {
     "data": {
      "text/plain": [
       "1779                              Nu koster det millioner \n",
       "23280                             Smag på 200 franske vine\n",
       "3450                       Kanonmål overrumpler Schmeichel\n",
       "23605                   Grafik: Forstå spillet om Grønland\n",
       "9782                 Ekstra Bladet kårer: Årets ældre hest\n",
       "                               ...                        \n",
       "18636      Tøfting: Beklager, Bendtner - den går sgu ikke!\n",
       "2569                                44 år og farmor til to\n",
       "21693                   Takker nej til Europa efter corona\n",
       "18490      Derfor døde hun med 885 kilometer i timen i bil\n",
       "6030     Kæmpe Superliga-salg: Stjerne skifter til Serie A\n",
       "Name: title, Length: 8010, dtype: object"
      ]
     },
     "execution_count": 18,
     "metadata": {},
     "output_type": "execute_result"
    }
   ],
   "source": [
    "X_train"
   ]
  },
  {
   "cell_type": "code",
   "execution_count": 19,
   "metadata": {},
   "outputs": [
    {
     "name": "stdout",
     "output_type": "stream",
     "text": [
      "most similar: [   0 9564 1509 4847 6535 2061 1915 3559 1588 4086]\n",
      "least similar [7890 7889 7888 7886 7885 7884 7883 7882 5999]\n"
     ]
    }
   ],
   "source": [
    "# https://scikit-learn.org/stable/modules/metrics.html#cosine-similarity\n",
    "cosine_similarities = linear_kernel(X_train_tfidf[0], X_train_tfidf).flatten()\n",
    "\n",
    "indices = cosine_similarities.argsort()[::-1] # in descending order \n",
    "print(\"most similar:\",indices[:10])\n",
    "print(\"least similar\", indices[-9:])"
   ]
  },
  {
   "cell_type": "code",
   "execution_count": 20,
   "metadata": {},
   "outputs": [
    {
     "name": "stdout",
     "output_type": "stream",
     "text": [
      "Historisk aftale: Enige om stor lønnedgang\n",
      "\n",
      "most similar:  Gravid sygeplejerske død med corona: Baby overlever efter akut kejsersnit\n",
      "\n",
      "least similar:  Scorede vildt hattrick i søndags: Nu er han ude igen\n"
     ]
    }
   ],
   "source": [
    "print(df_train.title.values[0])\n",
    "print()\n",
    "print(\"most similar: \", df_train.title.values[1719])\n",
    "print()\n",
    "print(\"least similar: \", df_train.title.values[7237])"
   ]
  },
  {
   "cell_type": "markdown",
   "metadata": {},
   "source": [
    "# Vector space models"
   ]
  },
  {
   "cell_type": "code",
   "execution_count": 21,
   "metadata": {},
   "outputs": [],
   "source": [
    "from gensim.models import Word2Vec\n",
    "\n",
    "# using the train_sents from earlier (the lowercased and tokenized sentences)\n",
    "model = Word2Vec(X_test_split, size=100, min_count = 10, workers = 2) "
   ]
  },
  {
   "cell_type": "code",
   "execution_count": 22,
   "metadata": {},
   "outputs": [
    {
     "name": "stdout",
     "output_type": "stream",
     "text": [
      "[-0.01721106  0.17385447  0.07275034  0.06913579 -0.2762036   0.14498658\n",
      " -0.00885505  0.12016932 -0.04960506  0.3739551   0.1282039  -0.09329023\n",
      "  0.06670989 -0.23785615  0.1334666  -0.29035544  0.0138099  -0.03617769\n",
      "  0.1654464  -0.16387749  0.2184856   0.04822574  0.07998101 -0.01851439\n",
      " -0.06055112 -0.06202332  0.11534135  0.08248831 -0.0344585   0.18873915\n",
      " -0.03763665  0.13909805 -0.06011594 -0.04311617  0.11176118  0.33142462\n",
      "  0.14729992  0.10986831  0.0456105  -0.06590657  0.26615712 -0.06725091\n",
      " -0.13969153  0.01558073 -0.04672069 -0.30587986 -0.00708817 -0.1587202\n",
      "  0.11551663 -0.11246855  0.18503377  0.11943673  0.06302044  0.11655894\n",
      "  0.09342019  0.10434686  0.04165602  0.03426776 -0.12398967  0.16881539\n",
      " -0.13777871 -0.05473946  0.04597635 -0.13323802  0.2927318   0.15455472\n",
      " -0.03328773 -0.20586424 -0.04656272 -0.080584    0.04122513  0.28587037\n",
      "  0.12074148  0.21513444  0.20849444  0.11413496 -0.05053127  0.29584533\n",
      " -0.08501224 -0.13092627  0.03076416 -0.2691548   0.06735865  0.18585412\n",
      " -0.02675261  0.03762554  0.13038038 -0.22669011  0.3446557   0.05891197\n",
      " -0.07127063 -0.20185101 -0.23354387  0.03422052 -0.08906417 -0.2067741\n",
      "  0.14337662 -0.17752364 -0.03910345  0.18584599]\n"
     ]
    }
   ],
   "source": [
    "print(model.wv['Trump'])"
   ]
  },
  {
   "cell_type": "code",
   "execution_count": 23,
   "metadata": {},
   "outputs": [
    {
     "name": "stdout",
     "output_type": "stream",
     "text": [
      "Venstre\n",
      "forlader\n",
      "raser:\n",
      "Her\n",
      "bliver\n",
      "mand\n",
      "smidt\n",
      "ud\n",
      "af\n",
      "Kæmpe\n",
      "eller\n",
      "Schmeichel\n",
      "og\n",
      "\n",
      "Fuglsang\n",
      "det\n",
      "i\n",
      "dage\n",
      "Fans\n",
      "raser\n",
      "over\n",
      "-\n",
      "ikke\n",
      "noget\n",
      "sin\n",
      "På\n",
      "vej\n",
      "Premier\n",
      "med\n",
      "EM\n",
      "uden\n",
      "tilskuere\n",
      "er\n",
      "en\n",
      "United\n",
      "ny\n",
      "nedtur\n",
      "dansker\n",
      "blev\n",
      "den\n",
      "store\n",
      "helt\n",
      "om\n",
      "Sælger\n",
      "for\n",
      "Danske\n",
      "ved\n",
      "Mette\n",
      "F.\n",
      "Sender\n",
      "danskere\n",
      "på\n",
      "Efter\n",
      "mod\n",
      "Tidligere\n",
      "leder\n",
      "at\n",
      "bag\n",
      "Var\n",
      "Nu\n",
      "hun\n",
      "Corona\n",
      "dårligt\n",
      "værste\n",
      "mange\n",
      "år\n",
      "til\n",
      "spille\n",
      "Real\n",
      "fra\n",
      "Haas\n",
      "Danmark\n",
      "største\n",
      "møde\n",
      "får\n",
      "din\n",
      "et\n",
      "nyt\n",
      "Det\n",
      "voldsomt\n",
      "by\n",
      "Zlatan\n",
      "kvinder\n",
      "lov\n",
      "se\n",
      "Helt\n",
      "hans\n",
      "seks\n",
      "millioner\n",
      "kroner\n",
      "Vild\n",
      "gjorde\n",
      "vanvittig\n",
      "ondt\n",
      "vildt\n",
      "du\n",
      "før\n",
      "tid\n",
      "Svensk\n",
      "Kan\n"
     ]
    }
   ],
   "source": [
    "for i, word in enumerate(model.wv.vocab):\n",
    "    if i == 100:\n",
    "        break\n",
    "    print(word)"
   ]
  },
  {
   "cell_type": "code",
   "execution_count": 24,
   "metadata": {},
   "outputs": [
    {
     "data": {
      "text/plain": [
       "<gensim.models.word2vec.Word2Vec at 0x25d0dac2ec8>"
      ]
     },
     "execution_count": 24,
     "metadata": {},
     "output_type": "execute_result"
    }
   ],
   "source": [
    "model"
   ]
  },
  {
   "cell_type": "code",
   "execution_count": 25,
   "metadata": {},
   "outputs": [
    {
     "data": {
      "image/png": "[encoded data removed]",
      "text/plain": [
       "<Figure size 432x432 with 1 Axes>"
      ]
     },
     "metadata": {
      "needs_background": "light"
     },
     "output_type": "display_data"
    }
   ],
   "source": [
    "# Reducing the 50-dimensional vectors to 2 dimensions in order to visualise selected words.\n",
    "from sklearn.decomposition import PCA\n",
    "\n",
    "words = ['Corona', 'Tyskland', 'Dansk:', 'kroner', 'Trump', 'Svensk', 'millioner', 'smittet']\n",
    "\n",
    "X = [model.wv['Corona'], model.wv['Tyskland'], \n",
    "     model.wv['Dansk'], model.wv['kroner'],\n",
    "     model.wv['Trump'], model.wv['Svensk'], \n",
    "     model.wv['millioner'], model.wv['smittet']]\n",
    "\n",
    "pca = PCA(n_components=2)\n",
    "X_r = pca.fit(X).transform(X)\n",
    "\n",
    "plt.figure(figsize=(6,6))\n",
    "plt.scatter(X_r[:,0], X_r[:,1], edgecolors='k', c='r')\n",
    "for word, (x,y) in zip(words, X_r):\n",
    "    plt.text(x+0.002, y+0.001, word)"
   ]
  },
  {
   "cell_type": "markdown",
   "metadata": {},
   "source": [
    "# model"
   ]
  },
  {
   "cell_type": "markdown",
   "metadata": {},
   "source": [
    "### Logistic"
   ]
  },
  {
   "cell_type": "code",
   "execution_count": 194,
   "metadata": {},
   "outputs": [
    {
     "name": "stdout",
     "output_type": "stream",
     "text": [
      "Fitting 3 folds for each of 8 candidates, totalling 24 fits\n"
     ]
    },
    {
     "name": "stderr",
     "output_type": "stream",
     "text": [
      "C:\\Users\\Jonat\\anaconda3\\lib\\site-packages\\sklearn\\model_selection\\_split.py:667: UserWarning: The least populated class in y has only 1 members, which is less than n_splits=3.\n",
      "  % (min_groups, self.n_splits)), UserWarning)\n",
      "[Parallel(n_jobs=4)]: Using backend LokyBackend with 4 concurrent workers.\n",
      "[Parallel(n_jobs=4)]: Done   5 tasks      | elapsed:   11.7s\n",
      "[Parallel(n_jobs=4)]: Done  10 tasks      | elapsed:   20.8s\n",
      "[Parallel(n_jobs=4)]: Done  17 tasks      | elapsed:   31.3s\n",
      "[Parallel(n_jobs=4)]: Done  20 out of  24 | elapsed:   36.9s remaining:    7.3s\n",
      "[Parallel(n_jobs=4)]: Done  24 out of  24 | elapsed:   44.5s finished\n"
     ]
    },
    {
     "data": {
      "text/plain": [
       "GridSearchCV(cv=3, error_score=nan,\n",
       "             estimator=Pipeline(memory=None,\n",
       "                                steps=[('vect',\n",
       "                                        CountVectorizer(analyzer='word',\n",
       "                                                        binary=False,\n",
       "                                                        decode_error='strict',\n",
       "                                                        dtype=<class 'numpy.int64'>,\n",
       "                                                        encoding='utf-8',\n",
       "                                                        input='content',\n",
       "                                                        lowercase=True,\n",
       "                                                        max_df=1.0,\n",
       "                                                        max_features=None,\n",
       "                                                        min_df=1,\n",
       "                                                        ngram_range=(1, 1),\n",
       "                                                        preprocessor=None,\n",
       "                                                        stop_words=None,\n",
       "                                                        strip_accents=None,\n",
       "                                                        token_pattern='(?u)...\n",
       "                                                           max_iter=100,\n",
       "                                                           multi_class='auto',\n",
       "                                                           n_jobs=None,\n",
       "                                                           penalty='l2',\n",
       "                                                           random_state=0,\n",
       "                                                           solver='lbfgs',\n",
       "                                                           tol=0.0001,\n",
       "                                                           verbose=0,\n",
       "                                                           warm_start=False))],\n",
       "                                verbose=False),\n",
       "             iid='deprecated', n_jobs=4,\n",
       "             param_grid={'tfidf__use_idf': [True, False],\n",
       "                         'vect__ngram_range': [(1, 1), (1, 2), (1, 3), (1, 4)]},\n",
       "             pre_dispatch='2*n_jobs', refit=True, return_train_score=False,\n",
       "             scoring='neg_mean_squared_error', verbose=10)"
      ]
     },
     "execution_count": 194,
     "metadata": {},
     "output_type": "execute_result"
    }
   ],
   "source": [
    "pipeline = Pipeline([\n",
    "    ('vect', CountVectorizer()),\n",
    "    ('tfidf', TfidfTransformer()),\n",
    "    ('clf', LogisticRegression(random_state=0)),\n",
    "])\n",
    "\n",
    "param_grid = {\"vect__ngram_range\": [(1,1), (1,2), (1,3), (1,4)],\n",
    "             \"tfidf__use_idf\": [True, False]\n",
    "             }\n",
    "\n",
    "search_log = GridSearchCV(pipeline, param_grid, scoring='neg_mean_squared_error', cv=3, verbose=10, n_jobs = 4)\n",
    "\n",
    "search_log.fit(df_train.x_cat.values, df_train.comments.values)"
   ]
  },
  {
   "cell_type": "code",
   "execution_count": 195,
   "metadata": {},
   "outputs": [
    {
     "name": "stdout",
     "output_type": "stream",
     "text": [
      "Best parameter set: {'tfidf__use_idf': True, 'vect__ngram_range': (1, 1)} \n",
      "Best mse: -40389.66536141719 \n"
     ]
    }
   ],
   "source": [
    "print('Best parameter set: %s ' % search_log.best_params_)\n",
    "print('Best mse: %s ' % search_log.best_score_)"
   ]
  },
  {
   "cell_type": "code",
   "execution_count": 196,
   "metadata": {},
   "outputs": [
    {
     "name": "stdout",
     "output_type": "stream",
     "text": [
      "training accuracy: 0.08234473133286811\n",
      "testing accuracy: 0.061409630146545706\n"
     ]
    }
   ],
   "source": [
    "train_preds_log = search_log.predict(df_train.x_cat.values)\n",
    "test_preds_log = search_log.predict(df_test.x_cat.values)\n",
    "print(\"training accuracy:\", np.mean([(train_preds_log==df_train.comments.values)]))\n",
    "print(\"testing accuracy:\", np.mean([(test_preds_log==df_test.comments.values)]))"
   ]
  },
  {
   "cell_type": "markdown",
   "metadata": {},
   "source": [
    "### OLS"
   ]
  },
  {
   "cell_type": "code",
   "execution_count": 274,
   "metadata": {},
   "outputs": [
    {
     "name": "stdout",
     "output_type": "stream",
     "text": [
      "Fitting 3 folds for each of 3 candidates, totalling 9 fits\n"
     ]
    },
    {
     "name": "stderr",
     "output_type": "stream",
     "text": [
      "[Parallel(n_jobs=4)]: Using backend LokyBackend with 4 concurrent workers.\n",
      "[Parallel(n_jobs=4)]: Batch computation too fast (0.0341s.) Setting batch_size=2.\n",
      "[Parallel(n_jobs=4)]: Done   3 out of   9 | elapsed:    0.0s remaining:    0.0s\n",
      "[Parallel(n_jobs=4)]: Done   4 out of   9 | elapsed:    0.0s remaining:    0.0s\n",
      "[Parallel(n_jobs=4)]: Done   5 out of   9 | elapsed:    0.0s remaining:    0.0s\n",
      "[Parallel(n_jobs=4)]: Done   6 out of   9 | elapsed:    0.0s remaining:    0.0s\n",
      "[Parallel(n_jobs=4)]: Done   7 out of   9 | elapsed:    0.0s remaining:    0.0s\n",
      "[Parallel(n_jobs=4)]: Done   9 out of   9 | elapsed:    0.0s remaining:    0.0s\n",
      "[Parallel(n_jobs=4)]: Done   9 out of   9 | elapsed:    0.0s finished\n"
     ]
    },
    {
     "data": {
      "text/plain": [
       "GridSearchCV(cv=3, error_score=nan,\n",
       "             estimator=Pipeline(memory=None,\n",
       "                                steps=[('pol',\n",
       "                                        PolynomialFeatures(degree=2,\n",
       "                                                           include_bias=True,\n",
       "                                                           interaction_only=False,\n",
       "                                                           order='C')),\n",
       "                                       ('clf',\n",
       "                                        LinearRegression(copy_X=True,\n",
       "                                                         fit_intercept=True,\n",
       "                                                         n_jobs=None,\n",
       "                                                         normalize=False))],\n",
       "                                verbose=False),\n",
       "             iid='deprecated', n_jobs=4, param_grid={'pol__degree': [1, 2, 3]},\n",
       "             pre_dispatch='2*n_jobs', refit=True, return_train_score=False,\n",
       "             scoring='neg_mean_squared_error', verbose=10)"
      ]
     },
     "execution_count": 274,
     "metadata": {},
     "output_type": "execute_result"
    }
   ],
   "source": [
    "pipeline_ols = Pipeline([\n",
    "    #('vect', CountVectorizer()),\n",
    "    #('tfidf', TfidfTransformer()),\n",
    "    ('pol', PolynomialFeatures(include_bias=True)),\n",
    "    ('clf', LinearRegression()),\n",
    "])\n",
    "\n",
    "param_grid_ols = {#\"vect__ngram_range\": [(1,1), (1,2), (1,3), (1,4)],\n",
    "             #\"tfidf__use_idf\": [True, False]\n",
    "            'pol__degree': [1,2,3]\n",
    "             }\n",
    "\n",
    "search_ols = GridSearchCV(pipeline_ols, param_grid_ols, scoring='neg_mean_squared_error', cv=3, verbose=10, n_jobs = 4)\n",
    "\n",
    "search_ols.fit(df_train.len_title.values.reshape(-1,1), df_train.comments.values)"
   ]
  },
  {
   "cell_type": "code",
   "execution_count": 275,
   "metadata": {},
   "outputs": [
    {
     "name": "stdout",
     "output_type": "stream",
     "text": [
      "Best parameter set: {'pol__degree': 2} \n",
      "Best mse: -31354.569321438845 \n"
     ]
    }
   ],
   "source": [
    "print('Best parameter set: %s ' % search_ols.best_params_)\n",
    "print('Best mse: %s ' % search_ols.best_score_)"
   ]
  },
  {
   "cell_type": "code",
   "execution_count": 268,
   "metadata": {},
   "outputs": [
    {
     "ename": "AttributeError",
     "evalue": "'numpy.ndarray' object has no attribute 'lower'",
     "output_type": "error",
     "traceback": [
      "\u001b[1;31m---------------------------------------------------------------------------\u001b[0m",
      "\u001b[1;31mAttributeError\u001b[0m                            Traceback (most recent call last)",
      "\u001b[1;32m<ipython-input-268-b621f8c29d65>\u001b[0m in \u001b[0;36m<module>\u001b[1;34m\u001b[0m\n\u001b[1;32m----> 1\u001b[1;33m \u001b[0mtrain_preds_ols\u001b[0m \u001b[1;33m=\u001b[0m \u001b[0msearch_ols\u001b[0m\u001b[1;33m.\u001b[0m\u001b[0mpredict\u001b[0m\u001b[1;33m(\u001b[0m\u001b[0mdf_train\u001b[0m\u001b[1;33m.\u001b[0m\u001b[0mproc_title_rm\u001b[0m\u001b[1;33m.\u001b[0m\u001b[0mvalues\u001b[0m\u001b[1;33m.\u001b[0m\u001b[0mreshape\u001b[0m\u001b[1;33m(\u001b[0m\u001b[1;33m-\u001b[0m\u001b[1;36m1\u001b[0m\u001b[1;33m,\u001b[0m\u001b[1;36m1\u001b[0m\u001b[1;33m)\u001b[0m\u001b[1;33m)\u001b[0m\u001b[1;33m\u001b[0m\u001b[1;33m\u001b[0m\u001b[0m\n\u001b[0m\u001b[0;32m      2\u001b[0m \u001b[0mtest_preds_ols\u001b[0m \u001b[1;33m=\u001b[0m \u001b[0msearch_ols\u001b[0m\u001b[1;33m.\u001b[0m\u001b[0mpredict\u001b[0m\u001b[1;33m(\u001b[0m\u001b[0mdf_test\u001b[0m\u001b[1;33m.\u001b[0m\u001b[0mproc_title_rm\u001b[0m\u001b[1;33m.\u001b[0m\u001b[0mvalues\u001b[0m\u001b[1;33m.\u001b[0m\u001b[0mreshape\u001b[0m\u001b[1;33m(\u001b[0m\u001b[1;33m-\u001b[0m\u001b[1;36m1\u001b[0m\u001b[1;33m,\u001b[0m\u001b[1;36m1\u001b[0m\u001b[1;33m)\u001b[0m\u001b[1;33m)\u001b[0m\u001b[1;33m\u001b[0m\u001b[1;33m\u001b[0m\u001b[0m\n\u001b[0;32m      3\u001b[0m \u001b[0mprint\u001b[0m\u001b[1;33m(\u001b[0m\u001b[1;34mf'mse = {mse(df_test.comments.values, test_preds_ols)}'\u001b[0m\u001b[1;33m)\u001b[0m\u001b[1;33m\u001b[0m\u001b[1;33m\u001b[0m\u001b[0m\n\u001b[0;32m      4\u001b[0m \u001b[0mprint\u001b[0m\u001b[1;33m(\u001b[0m\u001b[1;34m\"training accuracy:\"\u001b[0m\u001b[1;33m,\u001b[0m \u001b[0mnp\u001b[0m\u001b[1;33m.\u001b[0m\u001b[0mmean\u001b[0m\u001b[1;33m(\u001b[0m\u001b[1;33m[\u001b[0m\u001b[1;33m(\u001b[0m\u001b[0mnp\u001b[0m\u001b[1;33m.\u001b[0m\u001b[0mround\u001b[0m\u001b[1;33m(\u001b[0m\u001b[0mtrain_preds_ols\u001b[0m\u001b[1;33m,\u001b[0m\u001b[1;36m0\u001b[0m\u001b[1;33m)\u001b[0m\u001b[1;33m==\u001b[0m\u001b[0mdf_train\u001b[0m\u001b[1;33m.\u001b[0m\u001b[0mcomments\u001b[0m\u001b[1;33m.\u001b[0m\u001b[0mvalues\u001b[0m\u001b[1;33m)\u001b[0m\u001b[1;33m]\u001b[0m\u001b[1;33m)\u001b[0m\u001b[1;33m)\u001b[0m\u001b[1;33m\u001b[0m\u001b[1;33m\u001b[0m\u001b[0m\n\u001b[0;32m      5\u001b[0m \u001b[0mprint\u001b[0m\u001b[1;33m(\u001b[0m\u001b[1;34m\"testing accuracy:\"\u001b[0m\u001b[1;33m,\u001b[0m \u001b[0mnp\u001b[0m\u001b[1;33m.\u001b[0m\u001b[0mmean\u001b[0m\u001b[1;33m(\u001b[0m\u001b[1;33m[\u001b[0m\u001b[1;33m(\u001b[0m\u001b[0mnp\u001b[0m\u001b[1;33m.\u001b[0m\u001b[0mround\u001b[0m\u001b[1;33m(\u001b[0m\u001b[0mtest_preds_ols\u001b[0m\u001b[1;33m,\u001b[0m\u001b[1;36m0\u001b[0m\u001b[1;33m)\u001b[0m\u001b[1;33m==\u001b[0m\u001b[0mdf_test\u001b[0m\u001b[1;33m.\u001b[0m\u001b[0mcomments\u001b[0m\u001b[1;33m.\u001b[0m\u001b[0mvalues\u001b[0m\u001b[1;33m)\u001b[0m\u001b[1;33m]\u001b[0m\u001b[1;33m)\u001b[0m\u001b[1;33m)\u001b[0m\u001b[1;33m\u001b[0m\u001b[1;33m\u001b[0m\u001b[0m\n",
      "\u001b[1;32m~\\anaconda3\\lib\\site-packages\\sklearn\\utils\\metaestimators.py\u001b[0m in \u001b[0;36m<lambda>\u001b[1;34m(*args, **kwargs)\u001b[0m\n\u001b[0;32m    114\u001b[0m \u001b[1;33m\u001b[0m\u001b[0m\n\u001b[0;32m    115\u001b[0m         \u001b[1;31m# lambda, but not partial, allows help() to work with update_wrapper\u001b[0m\u001b[1;33m\u001b[0m\u001b[1;33m\u001b[0m\u001b[1;33m\u001b[0m\u001b[0m\n\u001b[1;32m--> 116\u001b[1;33m         \u001b[0mout\u001b[0m \u001b[1;33m=\u001b[0m \u001b[1;32mlambda\u001b[0m \u001b[1;33m*\u001b[0m\u001b[0margs\u001b[0m\u001b[1;33m,\u001b[0m \u001b[1;33m**\u001b[0m\u001b[0mkwargs\u001b[0m\u001b[1;33m:\u001b[0m \u001b[0mself\u001b[0m\u001b[1;33m.\u001b[0m\u001b[0mfn\u001b[0m\u001b[1;33m(\u001b[0m\u001b[0mobj\u001b[0m\u001b[1;33m,\u001b[0m \u001b[1;33m*\u001b[0m\u001b[0margs\u001b[0m\u001b[1;33m,\u001b[0m \u001b[1;33m**\u001b[0m\u001b[0mkwargs\u001b[0m\u001b[1;33m)\u001b[0m\u001b[1;33m\u001b[0m\u001b[1;33m\u001b[0m\u001b[0m\n\u001b[0m\u001b[0;32m    117\u001b[0m         \u001b[1;31m# update the docstring of the returned function\u001b[0m\u001b[1;33m\u001b[0m\u001b[1;33m\u001b[0m\u001b[1;33m\u001b[0m\u001b[0m\n\u001b[0;32m    118\u001b[0m         \u001b[0mupdate_wrapper\u001b[0m\u001b[1;33m(\u001b[0m\u001b[0mout\u001b[0m\u001b[1;33m,\u001b[0m \u001b[0mself\u001b[0m\u001b[1;33m.\u001b[0m\u001b[0mfn\u001b[0m\u001b[1;33m)\u001b[0m\u001b[1;33m\u001b[0m\u001b[1;33m\u001b[0m\u001b[0m\n",
      "\u001b[1;32m~\\anaconda3\\lib\\site-packages\\sklearn\\model_selection\\_search.py\u001b[0m in \u001b[0;36mpredict\u001b[1;34m(self, X)\u001b[0m\n\u001b[0;32m    475\u001b[0m         \"\"\"\n\u001b[0;32m    476\u001b[0m         \u001b[0mself\u001b[0m\u001b[1;33m.\u001b[0m\u001b[0m_check_is_fitted\u001b[0m\u001b[1;33m(\u001b[0m\u001b[1;34m'predict'\u001b[0m\u001b[1;33m)\u001b[0m\u001b[1;33m\u001b[0m\u001b[1;33m\u001b[0m\u001b[0m\n\u001b[1;32m--> 477\u001b[1;33m         \u001b[1;32mreturn\u001b[0m \u001b[0mself\u001b[0m\u001b[1;33m.\u001b[0m\u001b[0mbest_estimator_\u001b[0m\u001b[1;33m.\u001b[0m\u001b[0mpredict\u001b[0m\u001b[1;33m(\u001b[0m\u001b[0mX\u001b[0m\u001b[1;33m)\u001b[0m\u001b[1;33m\u001b[0m\u001b[1;33m\u001b[0m\u001b[0m\n\u001b[0m\u001b[0;32m    478\u001b[0m \u001b[1;33m\u001b[0m\u001b[0m\n\u001b[0;32m    479\u001b[0m     \u001b[1;33m@\u001b[0m\u001b[0mif_delegate_has_method\u001b[0m\u001b[1;33m(\u001b[0m\u001b[0mdelegate\u001b[0m\u001b[1;33m=\u001b[0m\u001b[1;33m(\u001b[0m\u001b[1;34m'best_estimator_'\u001b[0m\u001b[1;33m,\u001b[0m \u001b[1;34m'estimator'\u001b[0m\u001b[1;33m)\u001b[0m\u001b[1;33m)\u001b[0m\u001b[1;33m\u001b[0m\u001b[1;33m\u001b[0m\u001b[0m\n",
      "\u001b[1;32m~\\anaconda3\\lib\\site-packages\\sklearn\\utils\\metaestimators.py\u001b[0m in \u001b[0;36m<lambda>\u001b[1;34m(*args, **kwargs)\u001b[0m\n\u001b[0;32m    114\u001b[0m \u001b[1;33m\u001b[0m\u001b[0m\n\u001b[0;32m    115\u001b[0m         \u001b[1;31m# lambda, but not partial, allows help() to work with update_wrapper\u001b[0m\u001b[1;33m\u001b[0m\u001b[1;33m\u001b[0m\u001b[1;33m\u001b[0m\u001b[0m\n\u001b[1;32m--> 116\u001b[1;33m         \u001b[0mout\u001b[0m \u001b[1;33m=\u001b[0m \u001b[1;32mlambda\u001b[0m \u001b[1;33m*\u001b[0m\u001b[0margs\u001b[0m\u001b[1;33m,\u001b[0m \u001b[1;33m**\u001b[0m\u001b[0mkwargs\u001b[0m\u001b[1;33m:\u001b[0m \u001b[0mself\u001b[0m\u001b[1;33m.\u001b[0m\u001b[0mfn\u001b[0m\u001b[1;33m(\u001b[0m\u001b[0mobj\u001b[0m\u001b[1;33m,\u001b[0m \u001b[1;33m*\u001b[0m\u001b[0margs\u001b[0m\u001b[1;33m,\u001b[0m \u001b[1;33m**\u001b[0m\u001b[0mkwargs\u001b[0m\u001b[1;33m)\u001b[0m\u001b[1;33m\u001b[0m\u001b[1;33m\u001b[0m\u001b[0m\n\u001b[0m\u001b[0;32m    117\u001b[0m         \u001b[1;31m# update the docstring of the returned function\u001b[0m\u001b[1;33m\u001b[0m\u001b[1;33m\u001b[0m\u001b[1;33m\u001b[0m\u001b[0m\n\u001b[0;32m    118\u001b[0m         \u001b[0mupdate_wrapper\u001b[0m\u001b[1;33m(\u001b[0m\u001b[0mout\u001b[0m\u001b[1;33m,\u001b[0m \u001b[0mself\u001b[0m\u001b[1;33m.\u001b[0m\u001b[0mfn\u001b[0m\u001b[1;33m)\u001b[0m\u001b[1;33m\u001b[0m\u001b[1;33m\u001b[0m\u001b[0m\n",
      "\u001b[1;32m~\\anaconda3\\lib\\site-packages\\sklearn\\pipeline.py\u001b[0m in \u001b[0;36mpredict\u001b[1;34m(self, X, **predict_params)\u001b[0m\n\u001b[0;32m    417\u001b[0m         \u001b[0mXt\u001b[0m \u001b[1;33m=\u001b[0m \u001b[0mX\u001b[0m\u001b[1;33m\u001b[0m\u001b[1;33m\u001b[0m\u001b[0m\n\u001b[0;32m    418\u001b[0m         \u001b[1;32mfor\u001b[0m \u001b[0m_\u001b[0m\u001b[1;33m,\u001b[0m \u001b[0mname\u001b[0m\u001b[1;33m,\u001b[0m \u001b[0mtransform\u001b[0m \u001b[1;32min\u001b[0m \u001b[0mself\u001b[0m\u001b[1;33m.\u001b[0m\u001b[0m_iter\u001b[0m\u001b[1;33m(\u001b[0m\u001b[0mwith_final\u001b[0m\u001b[1;33m=\u001b[0m\u001b[1;32mFalse\u001b[0m\u001b[1;33m)\u001b[0m\u001b[1;33m:\u001b[0m\u001b[1;33m\u001b[0m\u001b[1;33m\u001b[0m\u001b[0m\n\u001b[1;32m--> 419\u001b[1;33m             \u001b[0mXt\u001b[0m \u001b[1;33m=\u001b[0m \u001b[0mtransform\u001b[0m\u001b[1;33m.\u001b[0m\u001b[0mtransform\u001b[0m\u001b[1;33m(\u001b[0m\u001b[0mXt\u001b[0m\u001b[1;33m)\u001b[0m\u001b[1;33m\u001b[0m\u001b[1;33m\u001b[0m\u001b[0m\n\u001b[0m\u001b[0;32m    420\u001b[0m         \u001b[1;32mreturn\u001b[0m \u001b[0mself\u001b[0m\u001b[1;33m.\u001b[0m\u001b[0msteps\u001b[0m\u001b[1;33m[\u001b[0m\u001b[1;33m-\u001b[0m\u001b[1;36m1\u001b[0m\u001b[1;33m]\u001b[0m\u001b[1;33m[\u001b[0m\u001b[1;33m-\u001b[0m\u001b[1;36m1\u001b[0m\u001b[1;33m]\u001b[0m\u001b[1;33m.\u001b[0m\u001b[0mpredict\u001b[0m\u001b[1;33m(\u001b[0m\u001b[0mXt\u001b[0m\u001b[1;33m,\u001b[0m \u001b[1;33m**\u001b[0m\u001b[0mpredict_params\u001b[0m\u001b[1;33m)\u001b[0m\u001b[1;33m\u001b[0m\u001b[1;33m\u001b[0m\u001b[0m\n\u001b[0;32m    421\u001b[0m \u001b[1;33m\u001b[0m\u001b[0m\n",
      "\u001b[1;32m~\\anaconda3\\lib\\site-packages\\sklearn\\feature_extraction\\text.py\u001b[0m in \u001b[0;36mtransform\u001b[1;34m(self, raw_documents)\u001b[0m\n\u001b[0;32m   1268\u001b[0m \u001b[1;33m\u001b[0m\u001b[0m\n\u001b[0;32m   1269\u001b[0m         \u001b[1;31m# use the same matrix-building strategy as fit_transform\u001b[0m\u001b[1;33m\u001b[0m\u001b[1;33m\u001b[0m\u001b[1;33m\u001b[0m\u001b[0m\n\u001b[1;32m-> 1270\u001b[1;33m         \u001b[0m_\u001b[0m\u001b[1;33m,\u001b[0m \u001b[0mX\u001b[0m \u001b[1;33m=\u001b[0m \u001b[0mself\u001b[0m\u001b[1;33m.\u001b[0m\u001b[0m_count_vocab\u001b[0m\u001b[1;33m(\u001b[0m\u001b[0mraw_documents\u001b[0m\u001b[1;33m,\u001b[0m \u001b[0mfixed_vocab\u001b[0m\u001b[1;33m=\u001b[0m\u001b[1;32mTrue\u001b[0m\u001b[1;33m)\u001b[0m\u001b[1;33m\u001b[0m\u001b[1;33m\u001b[0m\u001b[0m\n\u001b[0m\u001b[0;32m   1271\u001b[0m         \u001b[1;32mif\u001b[0m \u001b[0mself\u001b[0m\u001b[1;33m.\u001b[0m\u001b[0mbinary\u001b[0m\u001b[1;33m:\u001b[0m\u001b[1;33m\u001b[0m\u001b[1;33m\u001b[0m\u001b[0m\n\u001b[0;32m   1272\u001b[0m             \u001b[0mX\u001b[0m\u001b[1;33m.\u001b[0m\u001b[0mdata\u001b[0m\u001b[1;33m.\u001b[0m\u001b[0mfill\u001b[0m\u001b[1;33m(\u001b[0m\u001b[1;36m1\u001b[0m\u001b[1;33m)\u001b[0m\u001b[1;33m\u001b[0m\u001b[1;33m\u001b[0m\u001b[0m\n",
      "\u001b[1;32m~\\anaconda3\\lib\\site-packages\\sklearn\\feature_extraction\\text.py\u001b[0m in \u001b[0;36m_count_vocab\u001b[1;34m(self, raw_documents, fixed_vocab)\u001b[0m\n\u001b[0;32m   1129\u001b[0m         \u001b[1;32mfor\u001b[0m \u001b[0mdoc\u001b[0m \u001b[1;32min\u001b[0m \u001b[0mraw_documents\u001b[0m\u001b[1;33m:\u001b[0m\u001b[1;33m\u001b[0m\u001b[1;33m\u001b[0m\u001b[0m\n\u001b[0;32m   1130\u001b[0m             \u001b[0mfeature_counter\u001b[0m \u001b[1;33m=\u001b[0m \u001b[1;33m{\u001b[0m\u001b[1;33m}\u001b[0m\u001b[1;33m\u001b[0m\u001b[1;33m\u001b[0m\u001b[0m\n\u001b[1;32m-> 1131\u001b[1;33m             \u001b[1;32mfor\u001b[0m \u001b[0mfeature\u001b[0m \u001b[1;32min\u001b[0m \u001b[0manalyze\u001b[0m\u001b[1;33m(\u001b[0m\u001b[0mdoc\u001b[0m\u001b[1;33m)\u001b[0m\u001b[1;33m:\u001b[0m\u001b[1;33m\u001b[0m\u001b[1;33m\u001b[0m\u001b[0m\n\u001b[0m\u001b[0;32m   1132\u001b[0m                 \u001b[1;32mtry\u001b[0m\u001b[1;33m:\u001b[0m\u001b[1;33m\u001b[0m\u001b[1;33m\u001b[0m\u001b[0m\n\u001b[0;32m   1133\u001b[0m                     \u001b[0mfeature_idx\u001b[0m \u001b[1;33m=\u001b[0m \u001b[0mvocabulary\u001b[0m\u001b[1;33m[\u001b[0m\u001b[0mfeature\u001b[0m\u001b[1;33m]\u001b[0m\u001b[1;33m\u001b[0m\u001b[1;33m\u001b[0m\u001b[0m\n",
      "\u001b[1;32m~\\anaconda3\\lib\\site-packages\\sklearn\\feature_extraction\\text.py\u001b[0m in \u001b[0;36m_analyze\u001b[1;34m(doc, analyzer, tokenizer, ngrams, preprocessor, decoder, stop_words)\u001b[0m\n\u001b[0;32m    101\u001b[0m     \u001b[1;32melse\u001b[0m\u001b[1;33m:\u001b[0m\u001b[1;33m\u001b[0m\u001b[1;33m\u001b[0m\u001b[0m\n\u001b[0;32m    102\u001b[0m         \u001b[1;32mif\u001b[0m \u001b[0mpreprocessor\u001b[0m \u001b[1;32mis\u001b[0m \u001b[1;32mnot\u001b[0m \u001b[1;32mNone\u001b[0m\u001b[1;33m:\u001b[0m\u001b[1;33m\u001b[0m\u001b[1;33m\u001b[0m\u001b[0m\n\u001b[1;32m--> 103\u001b[1;33m             \u001b[0mdoc\u001b[0m \u001b[1;33m=\u001b[0m \u001b[0mpreprocessor\u001b[0m\u001b[1;33m(\u001b[0m\u001b[0mdoc\u001b[0m\u001b[1;33m)\u001b[0m\u001b[1;33m\u001b[0m\u001b[1;33m\u001b[0m\u001b[0m\n\u001b[0m\u001b[0;32m    104\u001b[0m         \u001b[1;32mif\u001b[0m \u001b[0mtokenizer\u001b[0m \u001b[1;32mis\u001b[0m \u001b[1;32mnot\u001b[0m \u001b[1;32mNone\u001b[0m\u001b[1;33m:\u001b[0m\u001b[1;33m\u001b[0m\u001b[1;33m\u001b[0m\u001b[0m\n\u001b[0;32m    105\u001b[0m             \u001b[0mdoc\u001b[0m \u001b[1;33m=\u001b[0m \u001b[0mtokenizer\u001b[0m\u001b[1;33m(\u001b[0m\u001b[0mdoc\u001b[0m\u001b[1;33m)\u001b[0m\u001b[1;33m\u001b[0m\u001b[1;33m\u001b[0m\u001b[0m\n",
      "\u001b[1;32m~\\anaconda3\\lib\\site-packages\\sklearn\\feature_extraction\\text.py\u001b[0m in \u001b[0;36m_preprocess\u001b[1;34m(doc, accent_function, lower)\u001b[0m\n\u001b[0;32m     66\u001b[0m     \"\"\"\n\u001b[0;32m     67\u001b[0m     \u001b[1;32mif\u001b[0m \u001b[0mlower\u001b[0m\u001b[1;33m:\u001b[0m\u001b[1;33m\u001b[0m\u001b[1;33m\u001b[0m\u001b[0m\n\u001b[1;32m---> 68\u001b[1;33m         \u001b[0mdoc\u001b[0m \u001b[1;33m=\u001b[0m \u001b[0mdoc\u001b[0m\u001b[1;33m.\u001b[0m\u001b[0mlower\u001b[0m\u001b[1;33m(\u001b[0m\u001b[1;33m)\u001b[0m\u001b[1;33m\u001b[0m\u001b[1;33m\u001b[0m\u001b[0m\n\u001b[0m\u001b[0;32m     69\u001b[0m     \u001b[1;32mif\u001b[0m \u001b[0maccent_function\u001b[0m \u001b[1;32mis\u001b[0m \u001b[1;32mnot\u001b[0m \u001b[1;32mNone\u001b[0m\u001b[1;33m:\u001b[0m\u001b[1;33m\u001b[0m\u001b[1;33m\u001b[0m\u001b[0m\n\u001b[0;32m     70\u001b[0m         \u001b[0mdoc\u001b[0m \u001b[1;33m=\u001b[0m \u001b[0maccent_function\u001b[0m\u001b[1;33m(\u001b[0m\u001b[0mdoc\u001b[0m\u001b[1;33m)\u001b[0m\u001b[1;33m\u001b[0m\u001b[1;33m\u001b[0m\u001b[0m\n",
      "\u001b[1;31mAttributeError\u001b[0m: 'numpy.ndarray' object has no attribute 'lower'"
     ]
    }
   ],
   "source": [
    "train_preds_ols = search_ols.predict(df_train.proc_title_rm.values.reshape(-1,1))\n",
    "test_preds_ols = search_ols.predict(df_test.proc_title_rm.values.reshape(-1,1))\n",
    "print(f'mse = {mse(df_test.comments.values, test_preds_ols)}')\n",
    "print(\"training accuracy:\", np.mean([(np.round(train_preds_ols,0)==df_train.comments.values)]))\n",
    "print(\"testing accuracy:\", np.mean([(np.round(test_preds_ols,0)==df_test.comments.values)]))"
   ]
  },
  {
   "cell_type": "code",
   "execution_count": 165,
   "metadata": {},
   "outputs": [
    {
     "data": {
      "text/plain": [
       "array([ 55.44189129,  41.1727606 , 537.12810537, ...,  49.66163657,\n",
       "        43.45199299,  88.65474853])"
      ]
     },
     "execution_count": 165,
     "metadata": {},
     "output_type": "execute_result"
    }
   ],
   "source": [
    "train_preds_ols"
   ]
  },
  {
   "cell_type": "markdown",
   "metadata": {},
   "source": [
    "### Lasso"
   ]
  },
  {
   "cell_type": "code",
   "execution_count": 290,
   "metadata": {},
   "outputs": [
    {
     "data": {
      "text/plain": [
       "dict_keys(['memory', 'steps', 'verbose', 'pol', 'las', 'pol__degree', 'pol__include_bias', 'pol__interaction_only', 'pol__order', 'las__alpha', 'las__copy_X', 'las__fit_intercept', 'las__max_iter', 'las__normalize', 'las__positive', 'las__precompute', 'las__random_state', 'las__selection', 'las__tol', 'las__warm_start'])"
      ]
     },
     "execution_count": 290,
     "metadata": {},
     "output_type": "execute_result"
    }
   ],
   "source": [
    "pipeline_las = Pipeline([\n",
    "    #('vect', CountVectorizer()),\n",
    "    #('tfidf', TfidfTransformer()),\n",
    "    ('pol', PolynomialFeatures(include_bias=True)),\n",
    "    ('las', Lasso(random_state=1))\n",
    "])\n",
    "lambdas = np.logspace(-4, 4, 10)\n",
    "pipeline_las.get_params().keys()"
   ]
  },
  {
   "cell_type": "code",
   "execution_count": 291,
   "metadata": {},
   "outputs": [
    {
     "name": "stdout",
     "output_type": "stream",
     "text": [
      "Fitting 3 folds for each of 30 candidates, totalling 90 fits\n"
     ]
    },
    {
     "name": "stderr",
     "output_type": "stream",
     "text": [
      "[Parallel(n_jobs=4)]: Using backend LokyBackend with 4 concurrent workers.\n",
      "[Parallel(n_jobs=4)]: Done   5 tasks      | elapsed:    1.2s\n",
      "[Parallel(n_jobs=4)]: Done  10 tasks      | elapsed:    1.2s\n",
      "[Parallel(n_jobs=4)]: Done  17 tasks      | elapsed:    1.3s\n",
      "[Parallel(n_jobs=4)]: Batch computation too fast (0.1668s.) Setting batch_size=2.\n",
      "[Parallel(n_jobs=4)]: Done  24 tasks      | elapsed:    1.3s\n",
      "[Parallel(n_jobs=4)]: Batch computation too fast (0.0423s.) Setting batch_size=4.\n",
      "[Parallel(n_jobs=4)]: Done  38 tasks      | elapsed:    1.4s\n",
      "[Parallel(n_jobs=4)]: Batch computation too fast (0.0866s.) Setting batch_size=8.\n",
      "[Parallel(n_jobs=4)]: Done  65 tasks      | elapsed:    1.5s\n",
      "[Parallel(n_jobs=4)]: Done  90 out of  90 | elapsed:    1.6s finished\n"
     ]
    },
    {
     "data": {
      "text/plain": [
       "GridSearchCV(cv=3, error_score=nan,\n",
       "             estimator=Pipeline(memory=None,\n",
       "                                steps=[('pol',\n",
       "                                        PolynomialFeatures(degree=2,\n",
       "                                                           include_bias=True,\n",
       "                                                           interaction_only=False,\n",
       "                                                           order='C')),\n",
       "                                       ('las',\n",
       "                                        Lasso(alpha=1.0, copy_X=True,\n",
       "                                              fit_intercept=True, max_iter=1000,\n",
       "                                              normalize=False, positive=False,\n",
       "                                              precompute=False, random_state=1,\n",
       "                                              selection='cyclic', tol=0.0001,\n",
       "                                              warm_start=False))],\n",
       "                                verbose=False),\n",
       "             iid='deprecated', n_jobs=4,\n",
       "             param_grid={'las__alpha': array([1.00000000e-04, 7.74263683e-04, 5.99484250e-03, 4.64158883e-02,\n",
       "       3.59381366e-01, 2.78255940e+00, 2.15443469e+01, 1.66810054e+02,\n",
       "       1.29154967e+03, 1.00000000e+04]),\n",
       "                         'pol__degree': [1, 2, 3]},\n",
       "             pre_dispatch='2*n_jobs', refit=True, return_train_score=False,\n",
       "             scoring='neg_mean_squared_error', verbose=10)"
      ]
     },
     "execution_count": 291,
     "metadata": {},
     "output_type": "execute_result"
    }
   ],
   "source": [
    "param_grid_las = {'pol__degree': [1,2,3],\n",
    "    'las__alpha': lambdas}\n",
    "\n",
    "search_las = GridSearchCV(pipeline_las, param_grid_las, scoring='neg_mean_squared_error', cv=3, verbose=10, n_jobs = 4)\n",
    "\n",
    "search_las.fit(df_train.len_title.values.reshape(-1,1), df_train.comments.values)"
   ]
  },
  {
   "cell_type": "code",
   "execution_count": 292,
   "metadata": {},
   "outputs": [
    {
     "name": "stdout",
     "output_type": "stream",
     "text": [
      "Best parameter set: {'las__alpha': 166.81005372000558, 'pol__degree': 2} \n",
      "Best mse: -38593.60205708282 \n"
     ]
    }
   ],
   "source": [
    "print('Best parameter set: %s ' % search_las.best_params_)\n",
    "print('Best mse: %s ' % search_las.best_score_)"
   ]
  },
  {
   "cell_type": "code",
   "execution_count": 203,
   "metadata": {},
   "outputs": [
    {
     "name": "stdout",
     "output_type": "stream",
     "text": [
      "training accuracy: 0.0045359385903698535\n",
      "testing accuracy: 0.0045359385903698535\n"
     ]
    }
   ],
   "source": [
    "train_preds_las = search_las.predict(df_train.x_cat.values)\n",
    "test_preds_las = search_las.predict(df_test.x_cat.values)\n",
    "print(\"training accuracy:\", np.mean([(np.round(train_preds_las,0)==df_train.comments)]))\n",
    "print(\"testing accuracy:\", np.mean([(np.round(test_preds_las,0)==df_test.comments)]))"
   ]
  },
  {
   "cell_type": "code",
   "execution_count": 204,
   "metadata": {},
   "outputs": [
    {
     "data": {
      "text/plain": [
       "array([81.27686241, 35.83102764, 81.27686241, ..., 35.83102764,\n",
       "       35.83102764, 74.18997738])"
      ]
     },
     "execution_count": 204,
     "metadata": {},
     "output_type": "execute_result"
    }
   ],
   "source": [
    "train_preds_las"
   ]
  },
  {
   "cell_type": "code",
   "execution_count": 149,
   "metadata": {},
   "outputs": [
    {
     "data": {
      "text/plain": [
       "array([6., 8., 4., ..., 4., 4., 4.])"
      ]
     },
     "execution_count": 149,
     "metadata": {},
     "output_type": "execute_result"
    }
   ],
   "source": [
    "np.round(test_preds_las,0)"
   ]
  },
  {
   "cell_type": "code",
   "execution_count": null,
   "metadata": {},
   "outputs": [],
   "source": [
    "test_preds[:100]"
   ]
  },
  {
   "cell_type": "markdown",
   "metadata": {},
   "source": [
    "### Pol does ~~not~~ work :)"
   ]
  },
  {
   "cell_type": "code",
   "execution_count": 133,
   "metadata": {},
   "outputs": [],
   "source": [
    "# scalars\n",
    "from sklearn.preprocessing import MinMaxScaler\n",
    "from sklearn.preprocessing import minmax_scale\n",
    "from sklearn.preprocessing import MaxAbsScaler\n",
    "from sklearn.preprocessing import StandardScaler\n",
    "from sklearn.preprocessing import RobustScaler\n",
    "from sklearn.preprocessing import Normalizer\n",
    "from sklearn.preprocessing import QuantileTransformer\n",
    "from sklearn.preprocessing import PowerTransformer"
   ]
  },
  {
   "cell_type": "code",
   "execution_count": 262,
   "metadata": {},
   "outputs": [
    {
     "data": {
      "text/plain": [
       "dict_keys(['memory', 'steps', 'verbose', 'pol', 'ela', 'pol__degree', 'pol__include_bias', 'pol__interaction_only', 'pol__order', 'ela__alpha', 'ela__copy_X', 'ela__fit_intercept', 'ela__l1_ratio', 'ela__max_iter', 'ela__normalize', 'ela__positive', 'ela__precompute', 'ela__random_state', 'ela__selection', 'ela__tol', 'ela__warm_start'])"
      ]
     },
     "execution_count": 262,
     "metadata": {},
     "output_type": "execute_result"
    }
   ],
   "source": [
    "pipeline_pol = Pipeline([\n",
    "    #('vect', CountVectorizer()),\n",
    "    #('tfidf', TfidfTransformer()),\n",
    "    ('pol', PolynomialFeatures(include_bias=True)),\n",
    "    ('ela', ElasticNet())\n",
    "    #('stanscal', RobustScaler(with_centering=False))\n",
    "])\n",
    "ela__l1_ratio = np.logspace(-1, 1, 10)\n",
    "pipeline_pol.get_params().keys()"
   ]
  },
  {
   "cell_type": "code",
   "execution_count": 263,
   "metadata": {},
   "outputs": [
    {
     "name": "stdout",
     "output_type": "stream",
     "text": [
      "Fitting 3 folds for each of 30 candidates, totalling 90 fits\n"
     ]
    },
    {
     "name": "stderr",
     "output_type": "stream",
     "text": [
      "[Parallel(n_jobs=4)]: Using backend LokyBackend with 4 concurrent workers.\n",
      "[Parallel(n_jobs=4)]: Batch computation too fast (0.0140s.) Setting batch_size=2.\n",
      "[Parallel(n_jobs=4)]: Done   5 tasks      | elapsed:    0.0s\n",
      "[Parallel(n_jobs=4)]: Batch computation too fast (0.0358s.) Setting batch_size=4.\n",
      "[Parallel(n_jobs=4)]: Done  12 tasks      | elapsed:    0.0s\n",
      "[Parallel(n_jobs=4)]: Done  28 tasks      | elapsed:    0.0s\n",
      "[Parallel(n_jobs=4)]: Batch computation too fast (0.0410s.) Setting batch_size=8.\n",
      "[Parallel(n_jobs=4)]: Done  73 out of  90 | elapsed:    0.1s remaining:    0.0s\n",
      "[Parallel(n_jobs=4)]: Done  90 out of  90 | elapsed:    0.1s finished\n"
     ]
    },
    {
     "data": {
      "text/plain": [
       "GridSearchCV(cv=3, error_score=nan,\n",
       "             estimator=Pipeline(memory=None,\n",
       "                                steps=[('pol',\n",
       "                                        PolynomialFeatures(degree=2,\n",
       "                                                           include_bias=True,\n",
       "                                                           interaction_only=False,\n",
       "                                                           order='C')),\n",
       "                                       ('ela',\n",
       "                                        ElasticNet(alpha=1.0, copy_X=True,\n",
       "                                                   fit_intercept=True,\n",
       "                                                   l1_ratio=0.5, max_iter=1000,\n",
       "                                                   normalize=False,\n",
       "                                                   positive=False,\n",
       "                                                   precompute=False,\n",
       "                                                   random_state=None,\n",
       "                                                   selection='cyclic',\n",
       "                                                   tol=0.0001,\n",
       "                                                   warm_start=False))],\n",
       "                                verbose=False),\n",
       "             iid='deprecated', n_jobs=4,\n",
       "             param_grid={'ela__l1_ratio': array([ 0.1       ,  0.16681005,  0.27825594,  0.46415888,  0.77426368,\n",
       "        1.29154967,  2.15443469,  3.59381366,  5.9948425 , 10.        ]),\n",
       "                         'pol__degree': [1, 2, 3]},\n",
       "             pre_dispatch='2*n_jobs', refit=True, return_train_score=False,\n",
       "             scoring='neg_mean_squared_error', verbose=10)"
      ]
     },
     "execution_count": 263,
     "metadata": {},
     "output_type": "execute_result"
    }
   ],
   "source": [
    "param_grid_pol = {'pol__degree': [1,2,3],\n",
    "                 'ela__l1_ratio': ela__l1_ratio}\n",
    "\n",
    "search_pol = GridSearchCV(pipeline_pol, param_grid_pol, scoring='neg_mean_squared_error', cv=3, verbose=10, n_jobs = 4)\n",
    "\n",
    "search_pol.fit(df_train.len_title.values.reshape(-1,1), df_train.comments.values)"
   ]
  },
  {
   "cell_type": "code",
   "execution_count": 264,
   "metadata": {},
   "outputs": [
    {
     "name": "stdout",
     "output_type": "stream",
     "text": [
      "Best parameter set: {'ela__l1_ratio': 10.0, 'pol__degree': 3} \n",
      "Best mse: -31349.642950211342 \n"
     ]
    }
   ],
   "source": [
    "print('Best parameter set: %s ' % search_pol.best_params_)\n",
    "print('Best mse: %s ' % search_pol.best_score_)"
   ]
  },
  {
   "cell_type": "code",
   "execution_count": 214,
   "metadata": {},
   "outputs": [
    {
     "name": "stdout",
     "output_type": "stream",
     "text": [
      "training accuracy: 0.00209351011863224\n",
      "testing accuracy: 0.0017445917655268667\n"
     ]
    }
   ],
   "source": [
    "train_preds_pol = search_pol.predict(df_train.proc_title_rm.values)\n",
    "test_preds_pol = search_pol.predict(df_test.proc_title_rm.values)\n",
    "print(\"training accuracy:\", np.mean([(np.round(train_preds_pol,0)==df_train.comments)]))\n",
    "print(\"testing accuracy:\", np.mean([(np.round(test_preds_pol,0)==df_test.comments)]))"
   ]
  },
  {
   "cell_type": "code",
   "execution_count": 149,
   "metadata": {},
   "outputs": [
    {
     "data": {
      "text/plain": [
       "array([111.13554093, 111.13554093, 111.13554093, ...,  99.19285559,\n",
       "        99.19285559,  99.19285559])"
      ]
     },
     "execution_count": 149,
     "metadata": {},
     "output_type": "execute_result"
    }
   ],
   "source": [
    "train_preds_pol"
   ]
  }
 ],
 "metadata": {
  "kernelspec": {
   "display_name": "Python 3",
   "language": "python",
   "name": "python3"
  },
  "language_info": {
   "codemirror_mode": {
    "name": "ipython",
    "version": 3
   },
   "file_extension": ".py",
   "mimetype": "text/x-python",
   "name": "python",
   "nbconvert_exporter": "python",
   "pygments_lexer": "ipython3",
   "version": "3.7.6"
  }
 },
 "nbformat": 4,
 "nbformat_minor": 4
}
