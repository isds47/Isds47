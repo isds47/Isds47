{
 "cells": [
  {
   "cell_type": "code",
   "execution_count": 18,
   "metadata": {},
   "outputs": [],
   "source": [
    "import numpy as np \n",
    "import pandas as pd \n",
    "from tqdm import tqdm\n",
    "from math import sqrt\n",
    "\n",
    "#plots\n",
    "import matplotlib.pyplot as plt \n",
    "import seaborn as sns\n",
    "%matplotlib inline\n",
    "\n",
    "# for vectorization \n",
    "from sklearn.feature_extraction.text import CountVectorizer\n",
    "from sklearn.feature_extraction.text import TfidfVectorizer\n",
    "from sklearn.feature_extraction.text import TfidfTransformer\n",
    "\n",
    "# similarity/distance measures\n",
    "from scipy.spatial import distance\n",
    "from sklearn.metrics.pairwise import linear_kernel\n",
    "\n",
    "# sklearn\n",
    "from sklearn.svm import LinearSVC\n",
    "from sklearn.exceptions import DataConversionWarning; import warnings\n",
    "from sklearn.linear_model import Lasso, LinearRegression, Ridge, ElasticNet, LogisticRegression\n",
    "from sklearn.feature_extraction.text import TfidfVectorizer\n",
    "from sklearn.metrics import mean_squared_error as mse\n",
    "from sklearn.model_selection import KFold\n",
    "from sklearn.pipeline import make_pipeline\n",
    "from sklearn.pipeline import Pipeline\n",
    "from sklearn.preprocessing import StandardScaler, PolynomialFeatures\n",
    "from sklearn.datasets import make_classification\n",
    "from sklearn.linear_model import LinearRegression\n",
    "from sklearn.metrics import mean_squared_error as mse\n",
    "from sklearn.model_selection import train_test_split\n",
    "from sklearn.feature_selection import SelectKBest, chi2, f_classif\n",
    "from sklearn.model_selection import GridSearchCV"
   ]
  },
  {
   "cell_type": "code",
   "execution_count": 114,
   "metadata": {},
   "outputs": [],
   "source": [
    "# load data\n",
    "data = pd.read_csv('preprced.csv')\n",
    "#data = data.dropna()\n",
    "data = data.reset_index()"
   ]
  },
  {
   "cell_type": "code",
   "execution_count": 115,
   "metadata": {},
   "outputs": [],
   "source": [
    "n = 10\n",
    "data['comments_cat'] = pd.qcut(data.comments, n, labels=list(range(n)))"
   ]
  },
  {
   "cell_type": "code",
   "execution_count": 116,
   "metadata": {},
   "outputs": [
    {
     "data": {
      "text/plain": [
       "2325"
      ]
     },
     "execution_count": 116,
     "metadata": {},
     "output_type": "execute_result"
    }
   ],
   "source": [
    "len(data[data.comments_cat==2])"
   ]
  },
  {
   "cell_type": "code",
   "execution_count": 117,
   "metadata": {},
   "outputs": [],
   "source": [
    "data['set'] = 'hi'"
   ]
  },
  {
   "cell_type": "code",
   "execution_count": 118,
   "metadata": {},
   "outputs": [
    {
     "name": "stderr",
     "output_type": "stream",
     "text": [
      "C:\\Users\\Jonat\\anaconda3\\lib\\site-packages\\ipykernel_launcher.py:1: SettingWithCopyWarning: \n",
      "A value is trying to be set on a copy of a slice from a DataFrame\n",
      "\n",
      "See the caveats in the documentation: https://pandas.pydata.org/pandas-docs/stable/user_guide/indexing.html#returning-a-view-versus-a-copy\n",
      "  \"\"\"Entry point for launching an IPython kernel.\n",
      "C:\\Users\\Jonat\\anaconda3\\lib\\site-packages\\ipykernel_launcher.py:2: SettingWithCopyWarning: \n",
      "A value is trying to be set on a copy of a slice from a DataFrame\n",
      "\n",
      "See the caveats in the documentation: https://pandas.pydata.org/pandas-docs/stable/user_guide/indexing.html#returning-a-view-versus-a-copy\n",
      "  \n"
     ]
    }
   ],
   "source": [
    "data['set'][:12000] = 'test'\n",
    "data['set'][12000:24000] = 'train'"
   ]
  },
  {
   "cell_type": "code",
   "execution_count": 119,
   "metadata": {},
   "outputs": [],
   "source": [
    "df_train = data[data.set==\"train\"]\n",
    "df_test = data[data.set==\"test\"]"
   ]
  },
  {
   "cell_type": "code",
   "execution_count": 120,
   "metadata": {},
   "outputs": [],
   "source": [
    "X = data['title']\n",
    "y = data['comments_cat']\n",
    "# create test, train and dev\n",
    "X_dev, X_test, y_dev, y_test = train_test_split(X, y, test_size=1/3, random_state=1)    \n",
    "X_train, X_val, y_train, y_val = train_test_split(X_dev, y_dev, test_size=1/2, random_state=1)"
   ]
  },
  {
   "cell_type": "code",
   "execution_count": 25,
   "metadata": {},
   "outputs": [],
   "source": [
    "X_test_split = [sent.split(' ') for sent in X_test]"
   ]
  },
  {
   "cell_type": "code",
   "execution_count": 26,
   "metadata": {},
   "outputs": [],
   "source": [
    "# Bag of Words\n",
    "\n",
    "# CountVectorizer has a build-in tokenizer and lowercases by default. Also has an option to remove stopwords.\n",
    "vectorizer = CountVectorizer()\n",
    "# However, you can override the default tokenization with your own defined function, like so:\n",
    "#vectorizer = CountVectorizer(tokenizer=preprocess)\n",
    "\n",
    "# fit and transform train\n",
    "X_train_bow = vectorizer.fit_transform(data.title.values)\n",
    "# Only tranform test: never fitting your vectorizer on the test set (it is cheating). OOV words are handled automatically be sklearn's vectorizer.\n",
    "X_test_bow = vectorizer.transform(df_test.title.values)"
   ]
  },
  {
   "cell_type": "code",
   "execution_count": 27,
   "metadata": {},
   "outputs": [
    {
     "name": "stdout",
     "output_type": "stream",
     "text": [
      "(24031, 21492)\n",
      "21492\n"
     ]
    },
    {
     "data": {
      "text/plain": [
       "<1x21492 sparse matrix of type '<class 'numpy.int64'>'\n",
       "\twith 7 stored elements in Compressed Sparse Row format>"
      ]
     },
     "execution_count": 27,
     "metadata": {},
     "output_type": "execute_result"
    }
   ],
   "source": [
    "print(X_train_bow.shape)\n",
    "print(len(vectorizer.vocabulary_))\n",
    "X_train_bow[0]"
   ]
  },
  {
   "cell_type": "code",
   "execution_count": 13,
   "metadata": {},
   "outputs": [
    {
     "data": {
      "text/plain": [
       "array([[0, 0, 0, ..., 0, 0, 0]], dtype=int64)"
      ]
     },
     "execution_count": 13,
     "metadata": {},
     "output_type": "execute_result"
    }
   ],
   "source": [
    "X_train_bow[0].toarray()"
   ]
  },
  {
   "cell_type": "code",
   "execution_count": 14,
   "metadata": {},
   "outputs": [],
   "source": [
    "def make_ngrams(sentence,n):\n",
    "    tokens = sentence.split(\" \")\n",
    "    ngrams = zip(*[tokens[i:] for i in range(n)])\n",
    "    return [\" \".join(ngram) for ngram in ngrams]\n"
   ]
  },
  {
   "cell_type": "code",
   "execution_count": 13,
   "metadata": {},
   "outputs": [],
   "source": [
    "# n=1-5\n",
    "vectorizer = CountVectorizer(ngram_range=(1,5))\n",
    "\n",
    "X_train_5gram = vectorizer.fit_transform(df_train.title.values)"
   ]
  },
  {
   "cell_type": "code",
   "execution_count": 14,
   "metadata": {},
   "outputs": [
    {
     "name": "stdout",
     "output_type": "stream",
     "text": [
      "(12000, 198842)\n"
     ]
    },
    {
     "data": {
      "text/plain": [
       "<1x198842 sparse matrix of type '<class 'numpy.int64'>'\n",
       "\twith 20 stored elements in Compressed Sparse Row format>"
      ]
     },
     "execution_count": 14,
     "metadata": {},
     "output_type": "execute_result"
    }
   ],
   "source": [
    "print(X_train_5gram.shape)\n",
    "X_train_5gram[0]"
   ]
  },
  {
   "cell_type": "code",
   "execution_count": 15,
   "metadata": {},
   "outputs": [],
   "source": [
    "tfidf = TfidfVectorizer()\n",
    "X_train_tfidf = tfidf.fit_transform(df_train.title.values)"
   ]
  },
  {
   "cell_type": "code",
   "execution_count": 16,
   "metadata": {},
   "outputs": [
    {
     "data": {
      "text/plain": [
       "<1x14633 sparse matrix of type '<class 'numpy.float64'>'\n",
       "\twith 8 stored elements in Compressed Sparse Row format>"
      ]
     },
     "execution_count": 16,
     "metadata": {},
     "output_type": "execute_result"
    }
   ],
   "source": [
    "X_train_tfidf[1]"
   ]
  },
  {
   "cell_type": "code",
   "execution_count": 17,
   "metadata": {},
   "outputs": [
    {
     "data": {
      "text/plain": [
       "1.0"
      ]
     },
     "execution_count": 17,
     "metadata": {},
     "output_type": "execute_result"
    }
   ],
   "source": [
    "distance.cosine(X_train_tfidf[0].toarray(), X_train_tfidf[1].toarray())"
   ]
  },
  {
   "cell_type": "code",
   "execution_count": 18,
   "metadata": {},
   "outputs": [
    {
     "data": {
      "text/plain": [
       "1779                              Nu koster det millioner \n",
       "23280                             Smag på 200 franske vine\n",
       "3450                       Kanonmål overrumpler Schmeichel\n",
       "23605                   Grafik: Forstå spillet om Grønland\n",
       "9782                 Ekstra Bladet kårer: Årets ældre hest\n",
       "                               ...                        \n",
       "18636      Tøfting: Beklager, Bendtner - den går sgu ikke!\n",
       "2569                                44 år og farmor til to\n",
       "21693                   Takker nej til Europa efter corona\n",
       "18490      Derfor døde hun med 885 kilometer i timen i bil\n",
       "6030     Kæmpe Superliga-salg: Stjerne skifter til Serie A\n",
       "Name: title, Length: 8010, dtype: object"
      ]
     },
     "execution_count": 18,
     "metadata": {},
     "output_type": "execute_result"
    }
   ],
   "source": [
    "X_train"
   ]
  },
  {
   "cell_type": "code",
   "execution_count": 19,
   "metadata": {},
   "outputs": [
    {
     "name": "stdout",
     "output_type": "stream",
     "text": [
      "most similar: [   0 9564 1509 4847 6535 2061 1915 3559 1588 4086]\n",
      "least similar [7890 7889 7888 7886 7885 7884 7883 7882 5999]\n"
     ]
    }
   ],
   "source": [
    "# https://scikit-learn.org/stable/modules/metrics.html#cosine-similarity\n",
    "cosine_similarities = linear_kernel(X_train_tfidf[0], X_train_tfidf).flatten()\n",
    "\n",
    "indices = cosine_similarities.argsort()[::-1] # in descending order \n",
    "print(\"most similar:\",indices[:10])\n",
    "print(\"least similar\", indices[-9:])"
   ]
  },
  {
   "cell_type": "code",
   "execution_count": 20,
   "metadata": {},
   "outputs": [
    {
     "name": "stdout",
     "output_type": "stream",
     "text": [
      "Historisk aftale: Enige om stor lønnedgang\n",
      "\n",
      "most similar:  Gravid sygeplejerske død med corona: Baby overlever efter akut kejsersnit\n",
      "\n",
      "least similar:  Scorede vildt hattrick i søndags: Nu er han ude igen\n"
     ]
    }
   ],
   "source": [
    "print(df_train.title.values[0])\n",
    "print()\n",
    "print(\"most similar: \", df_train.title.values[1719])\n",
    "print()\n",
    "print(\"least similar: \", df_train.title.values[7237])"
   ]
  },
  {
   "cell_type": "markdown",
   "metadata": {},
   "source": [
    "# Vector space models"
   ]
  },
  {
   "cell_type": "code",
   "execution_count": 21,
   "metadata": {},
   "outputs": [],
   "source": [
    "from gensim.models import Word2Vec\n",
    "\n",
    "# using the train_sents from earlier (the lowercased and tokenized sentences)\n",
    "model = Word2Vec(X_test_split, size=100, min_count = 10, workers = 2) "
   ]
  },
  {
   "cell_type": "code",
   "execution_count": 22,
   "metadata": {},
   "outputs": [
    {
     "name": "stdout",
     "output_type": "stream",
     "text": [
      "[-0.01721106  0.17385447  0.07275034  0.06913579 -0.2762036   0.14498658\n",
      " -0.00885505  0.12016932 -0.04960506  0.3739551   0.1282039  -0.09329023\n",
      "  0.06670989 -0.23785615  0.1334666  -0.29035544  0.0138099  -0.03617769\n",
      "  0.1654464  -0.16387749  0.2184856   0.04822574  0.07998101 -0.01851439\n",
      " -0.06055112 -0.06202332  0.11534135  0.08248831 -0.0344585   0.18873915\n",
      " -0.03763665  0.13909805 -0.06011594 -0.04311617  0.11176118  0.33142462\n",
      "  0.14729992  0.10986831  0.0456105  -0.06590657  0.26615712 -0.06725091\n",
      " -0.13969153  0.01558073 -0.04672069 -0.30587986 -0.00708817 -0.1587202\n",
      "  0.11551663 -0.11246855  0.18503377  0.11943673  0.06302044  0.11655894\n",
      "  0.09342019  0.10434686  0.04165602  0.03426776 -0.12398967  0.16881539\n",
      " -0.13777871 -0.05473946  0.04597635 -0.13323802  0.2927318   0.15455472\n",
      " -0.03328773 -0.20586424 -0.04656272 -0.080584    0.04122513  0.28587037\n",
      "  0.12074148  0.21513444  0.20849444  0.11413496 -0.05053127  0.29584533\n",
      " -0.08501224 -0.13092627  0.03076416 -0.2691548   0.06735865  0.18585412\n",
      " -0.02675261  0.03762554  0.13038038 -0.22669011  0.3446557   0.05891197\n",
      " -0.07127063 -0.20185101 -0.23354387  0.03422052 -0.08906417 -0.2067741\n",
      "  0.14337662 -0.17752364 -0.03910345  0.18584599]\n"
     ]
    }
   ],
   "source": [
    "print(model.wv['Trump'])"
   ]
  },
  {
   "cell_type": "code",
   "execution_count": 23,
   "metadata": {},
   "outputs": [
    {
     "name": "stdout",
     "output_type": "stream",
     "text": [
      "Venstre\n",
      "forlader\n",
      "raser:\n",
      "Her\n",
      "bliver\n",
      "mand\n",
      "smidt\n",
      "ud\n",
      "af\n",
      "Kæmpe\n",
      "eller\n",
      "Schmeichel\n",
      "og\n",
      "\n",
      "Fuglsang\n",
      "det\n",
      "i\n",
      "dage\n",
      "Fans\n",
      "raser\n",
      "over\n",
      "-\n",
      "ikke\n",
      "noget\n",
      "sin\n",
      "På\n",
      "vej\n",
      "Premier\n",
      "med\n",
      "EM\n",
      "uden\n",
      "tilskuere\n",
      "er\n",
      "en\n",
      "United\n",
      "ny\n",
      "nedtur\n",
      "dansker\n",
      "blev\n",
      "den\n",
      "store\n",
      "helt\n",
      "om\n",
      "Sælger\n",
      "for\n",
      "Danske\n",
      "ved\n",
      "Mette\n",
      "F.\n",
      "Sender\n",
      "danskere\n",
      "på\n",
      "Efter\n",
      "mod\n",
      "Tidligere\n",
      "leder\n",
      "at\n",
      "bag\n",
      "Var\n",
      "Nu\n",
      "hun\n",
      "Corona\n",
      "dårligt\n",
      "værste\n",
      "mange\n",
      "år\n",
      "til\n",
      "spille\n",
      "Real\n",
      "fra\n",
      "Haas\n",
      "Danmark\n",
      "største\n",
      "møde\n",
      "får\n",
      "din\n",
      "et\n",
      "nyt\n",
      "Det\n",
      "voldsomt\n",
      "by\n",
      "Zlatan\n",
      "kvinder\n",
      "lov\n",
      "se\n",
      "Helt\n",
      "hans\n",
      "seks\n",
      "millioner\n",
      "kroner\n",
      "Vild\n",
      "gjorde\n",
      "vanvittig\n",
      "ondt\n",
      "vildt\n",
      "du\n",
      "før\n",
      "tid\n",
      "Svensk\n",
      "Kan\n"
     ]
    }
   ],
   "source": [
    "for i, word in enumerate(model.wv.vocab):\n",
    "    if i == 100:\n",
    "        break\n",
    "    print(word)"
   ]
  },
  {
   "cell_type": "code",
   "execution_count": 24,
   "metadata": {},
   "outputs": [
    {
     "data": {
      "text/plain": [
       "<gensim.models.word2vec.Word2Vec at 0x25d0dac2ec8>"
      ]
     },
     "execution_count": 24,
     "metadata": {},
     "output_type": "execute_result"
    }
   ],
   "source": [
    "model"
   ]
  },
  {
   "cell_type": "code",
   "execution_count": 25,
   "metadata": {},
   "outputs": [
    {
     "data": {
      "image/png": "[encoded data removed]",
      "text/plain": [
       "<Figure size 432x432 with 1 Axes>"
      ]
     },
     "metadata": {
      "needs_background": "light"
     },
     "output_type": "display_data"
    }
   ],
   "source": [
    "# Reducing the 50-dimensional vectors to 2 dimensions in order to visualise selected words.\n",
    "from sklearn.decomposition import PCA\n",
    "\n",
    "words = ['Corona', 'Tyskland', 'Dansk:', 'kroner', 'Trump', 'Svensk', 'millioner', 'smittet']\n",
    "\n",
    "X = [model.wv['Corona'], model.wv['Tyskland'], \n",
    "     model.wv['Dansk'], model.wv['kroner'],\n",
    "     model.wv['Trump'], model.wv['Svensk'], \n",
    "     model.wv['millioner'], model.wv['smittet']]\n",
    "\n",
    "pca = PCA(n_components=2)\n",
    "X_r = pca.fit(X).transform(X)\n",
    "\n",
    "plt.figure(figsize=(6,6))\n",
    "plt.scatter(X_r[:,0], X_r[:,1], edgecolors='k', c='r')\n",
    "for word, (x,y) in zip(words, X_r):\n",
    "    plt.text(x+0.002, y+0.001, word)"
   ]
  },
  {
   "cell_type": "markdown",
   "metadata": {},
   "source": [
    "# model"
   ]
  },
  {
   "cell_type": "markdown",
   "metadata": {},
   "source": [
    "### Logistic"
   ]
  },
  {
   "cell_type": "code",
   "execution_count": 124,
   "metadata": {},
   "outputs": [
    {
     "name": "stdout",
     "output_type": "stream",
     "text": [
      "Fitting 3 folds for each of 8 candidates, totalling 24 fits\n"
     ]
    },
    {
     "name": "stderr",
     "output_type": "stream",
     "text": [
      "[Parallel(n_jobs=4)]: Using backend LokyBackend with 4 concurrent workers.\n",
      "[Parallel(n_jobs=4)]: Done   5 tasks      | elapsed:   13.6s\n",
      "[Parallel(n_jobs=4)]: Done  10 tasks      | elapsed:   32.9s\n",
      "[Parallel(n_jobs=4)]: Done  17 tasks      | elapsed:   52.1s\n",
      "[Parallel(n_jobs=4)]: Done  20 out of  24 | elapsed:  1.2min remaining:   14.9s\n",
      "[Parallel(n_jobs=4)]: Done  24 out of  24 | elapsed:  1.6min finished\n"
     ]
    },
    {
     "data": {
      "text/plain": [
       "GridSearchCV(cv=3, error_score=nan,\n",
       "             estimator=Pipeline(memory=None,\n",
       "                                steps=[('vect',\n",
       "                                        CountVectorizer(analyzer='word',\n",
       "                                                        binary=False,\n",
       "                                                        decode_error='strict',\n",
       "                                                        dtype=<class 'numpy.int64'>,\n",
       "                                                        encoding='utf-8',\n",
       "                                                        input='content',\n",
       "                                                        lowercase=True,\n",
       "                                                        max_df=1.0,\n",
       "                                                        max_features=None,\n",
       "                                                        min_df=1,\n",
       "                                                        ngram_range=(1, 1),\n",
       "                                                        preprocessor=None,\n",
       "                                                        stop_words=None,\n",
       "                                                        strip_accents=None,\n",
       "                                                        token_pattern='(?u)...\n",
       "                                                           max_iter=100,\n",
       "                                                           multi_class='auto',\n",
       "                                                           n_jobs=None,\n",
       "                                                           penalty='l2',\n",
       "                                                           random_state=0,\n",
       "                                                           solver='lbfgs',\n",
       "                                                           tol=0.0001,\n",
       "                                                           verbose=0,\n",
       "                                                           warm_start=False))],\n",
       "                                verbose=False),\n",
       "             iid='deprecated', n_jobs=4,\n",
       "             param_grid={'tfidf__use_idf': [True, False],\n",
       "                         'vect__ngram_range': [(1, 1), (1, 2), (1, 3), (1, 4)]},\n",
       "             pre_dispatch='2*n_jobs', refit=True, return_train_score=False,\n",
       "             scoring='neg_mean_squared_error', verbose=10)"
      ]
     },
     "execution_count": 124,
     "metadata": {},
     "output_type": "execute_result"
    }
   ],
   "source": [
    "pipeline = Pipeline([\n",
    "    ('vect', CountVectorizer()),\n",
    "    ('tfidf', TfidfTransformer()),\n",
    "    ('clf', LogisticRegression(random_state=0)),\n",
    "])\n",
    "\n",
    "param_grid = {\"vect__ngram_range\": [(1,1), (1,2), (1,3), (1,4)],\n",
    "             \"tfidf__use_idf\": [True, False]\n",
    "             }\n",
    "\n",
    "search_log = GridSearchCV(pipeline, param_grid, scoring='neg_mean_squared_error', cv=3, verbose=10, n_jobs = 4)\n",
    "\n",
    "search_log.fit(df_train.title.values, df_train.comments_cat.values)"
   ]
  },
  {
   "cell_type": "code",
   "execution_count": 125,
   "metadata": {},
   "outputs": [
    {
     "name": "stdout",
     "output_type": "stream",
     "text": [
      "Best parameter set: {'tfidf__use_idf': True, 'vect__ngram_range': (1, 4)} \n",
      "Best mse: -0.017629154271712355 \n"
     ]
    }
   ],
   "source": [
    "print('Best parameter set: %s ' % search.best_params_)\n",
    "print('Best mse: %s ' % search.best_score_)"
   ]
  },
  {
   "cell_type": "code",
   "execution_count": 126,
   "metadata": {},
   "outputs": [
    {
     "name": "stdout",
     "output_type": "stream",
     "text": [
      "training accuracy: 0.7504166666666666\n",
      "testing accuracy: 0.17791666666666667\n"
     ]
    }
   ],
   "source": [
    "train_preds_log = search_log.predict(df_train.title.values)\n",
    "test_preds_log = search_log.predict(df_test.title.values)\n",
    "print(\"training accuracy:\", np.mean([(train_preds_log==df_train.comments_cat.values)]))\n",
    "print(\"testing accuracy:\", np.mean([(test_preds_log==df_test.comments_cat.values)]))"
   ]
  },
  {
   "cell_type": "markdown",
   "metadata": {},
   "source": [
    "### OLS"
   ]
  },
  {
   "cell_type": "code",
   "execution_count": 129,
   "metadata": {},
   "outputs": [
    {
     "name": "stdout",
     "output_type": "stream",
     "text": [
      "Fitting 3 folds for each of 8 candidates, totalling 24 fits\n"
     ]
    },
    {
     "name": "stderr",
     "output_type": "stream",
     "text": [
      "[Parallel(n_jobs=4)]: Using backend LokyBackend with 4 concurrent workers.\n",
      "[Parallel(n_jobs=4)]: Done   5 tasks      | elapsed:    4.6s\n",
      "[Parallel(n_jobs=4)]: Done  10 tasks      | elapsed:    8.4s\n",
      "[Parallel(n_jobs=4)]: Done  17 tasks      | elapsed:   26.7s\n",
      "[Parallel(n_jobs=4)]: Done  20 out of  24 | elapsed:   29.9s remaining:    5.9s\n",
      "[Parallel(n_jobs=4)]: Done  24 out of  24 | elapsed:   31.4s finished\n"
     ]
    },
    {
     "data": {
      "text/plain": [
       "GridSearchCV(cv=3, error_score=nan,\n",
       "             estimator=Pipeline(memory=None,\n",
       "                                steps=[('vect',\n",
       "                                        CountVectorizer(analyzer='word',\n",
       "                                                        binary=False,\n",
       "                                                        decode_error='strict',\n",
       "                                                        dtype=<class 'numpy.int64'>,\n",
       "                                                        encoding='utf-8',\n",
       "                                                        input='content',\n",
       "                                                        lowercase=True,\n",
       "                                                        max_df=1.0,\n",
       "                                                        max_features=None,\n",
       "                                                        min_df=1,\n",
       "                                                        ngram_range=(1, 1),\n",
       "                                                        preprocessor=None,\n",
       "                                                        stop_words=None,\n",
       "                                                        strip_accents=None,\n",
       "                                                        token_pattern='(?u)...\n",
       "                                                         sublinear_tf=False,\n",
       "                                                         use_idf=True)),\n",
       "                                       ('clf',\n",
       "                                        LinearRegression(copy_X=True,\n",
       "                                                         fit_intercept=True,\n",
       "                                                         n_jobs=None,\n",
       "                                                         normalize=False))],\n",
       "                                verbose=False),\n",
       "             iid='deprecated', n_jobs=4,\n",
       "             param_grid={'tfidf__use_idf': [True, False],\n",
       "                         'vect__ngram_range': [(1, 1), (1, 2), (1, 3), (1, 4)]},\n",
       "             pre_dispatch='2*n_jobs', refit=True, return_train_score=False,\n",
       "             scoring='neg_mean_squared_error', verbose=10)"
      ]
     },
     "execution_count": 129,
     "metadata": {},
     "output_type": "execute_result"
    }
   ],
   "source": [
    "pipeline_ols = Pipeline([\n",
    "    ('vect', CountVectorizer()),\n",
    "    ('tfidf', TfidfTransformer()),\n",
    "    ('clf', LinearRegression()),\n",
    "])\n",
    "\n",
    "param_grid_ols = {\"vect__ngram_range\": [(1,1), (1,2), (1,3), (1,4)],\n",
    "             \"tfidf__use_idf\": [True, False]\n",
    "             }\n",
    "\n",
    "search_ols = GridSearchCV(pipeline_ols, param_grid_ols, scoring='neg_mean_squared_error', cv=3, verbose=10, n_jobs = 4)\n",
    "\n",
    "search_ols.fit(df_train.title.values, df_train.comments_cat.values)"
   ]
  },
  {
   "cell_type": "code",
   "execution_count": 135,
   "metadata": {},
   "outputs": [
    {
     "name": "stdout",
     "output_type": "stream",
     "text": [
      "Best parameter set: {'tfidf__use_idf': False, 'vect__ngram_range': (1, 3)} \n",
      "Best mse: -7.295523088457429 \n"
     ]
    }
   ],
   "source": [
    "print('Best parameter set: %s ' % search_ols.best_params_)\n",
    "print('Best mse: %s ' % search_ols.best_score_)"
   ]
  },
  {
   "cell_type": "code",
   "execution_count": 142,
   "metadata": {},
   "outputs": [
    {
     "name": "stdout",
     "output_type": "stream",
     "text": [
      "training accuracy: 0.9981666666666666\n",
      "testing accuracy: 0.13791666666666666\n"
     ]
    }
   ],
   "source": [
    "train_preds_ols = search_ols.predict(df_train.title.values)\n",
    "test_preds_ols = search_ols.predict(df_test.title.values)\n",
    "print(\"training accuracy:\", np.mean([(np.round(train_preds_ols,0)==df_train.comments_cat.values)]))\n",
    "print(\"testing accuracy:\", np.mean([(np.round(test_preds_ols,0)==df_test.comments_cat.values)]))"
   ]
  },
  {
   "cell_type": "code",
   "execution_count": null,
   "metadata": {},
   "outputs": [],
   "source": [
    "for i, val in enumerate(train_preds_ols):\n",
    "    "
   ]
  },
  {
   "cell_type": "markdown",
   "metadata": {},
   "source": [
    "### Lasso"
   ]
  },
  {
   "cell_type": "code",
   "execution_count": 143,
   "metadata": {},
   "outputs": [
    {
     "data": {
      "text/plain": [
       "dict_keys(['memory', 'steps', 'verbose', 'vect', 'tfidf', 'las', 'vect__analyzer', 'vect__binary', 'vect__decode_error', 'vect__dtype', 'vect__encoding', 'vect__input', 'vect__lowercase', 'vect__max_df', 'vect__max_features', 'vect__min_df', 'vect__ngram_range', 'vect__preprocessor', 'vect__stop_words', 'vect__strip_accents', 'vect__token_pattern', 'vect__tokenizer', 'vect__vocabulary', 'tfidf__norm', 'tfidf__smooth_idf', 'tfidf__sublinear_tf', 'tfidf__use_idf', 'las__alpha', 'las__copy_X', 'las__fit_intercept', 'las__max_iter', 'las__normalize', 'las__positive', 'las__precompute', 'las__random_state', 'las__selection', 'las__tol', 'las__warm_start'])"
      ]
     },
     "execution_count": 143,
     "metadata": {},
     "output_type": "execute_result"
    }
   ],
   "source": [
    "pipeline_las = Pipeline([\n",
    "    ('vect', CountVectorizer()),\n",
    "    ('tfidf', TfidfTransformer()),\n",
    "    ('las', Lasso(random_state=1))\n",
    "])\n",
    "lambdas = np.logspace(-4, 4, 10)\n",
    "pipeline_las.get_params().keys()"
   ]
  },
  {
   "cell_type": "code",
   "execution_count": null,
   "metadata": {},
   "outputs": [
    {
     "name": "stdout",
     "output_type": "stream",
     "text": [
      "Fitting 3 folds for each of 10 candidates, totalling 30 fits\n"
     ]
    },
    {
     "name": "stderr",
     "output_type": "stream",
     "text": [
      "[Parallel(n_jobs=4)]: Using backend LokyBackend with 4 concurrent workers.\n",
      "[Parallel(n_jobs=4)]: Done   5 tasks      | elapsed:    7.6s\n",
      "[Parallel(n_jobs=4)]: Done  10 tasks      | elapsed:    9.7s\n"
     ]
    }
   ],
   "source": [
    "param_grid_las = {'las__alpha': lambdas}\n",
    "\n",
    "search_las = GridSearchCV(pipeline_las, param_grid_las, scoring='neg_mean_squared_error', cv=3, verbose=10, n_jobs = 4)\n",
    "\n",
    "search_las.fit(df_train.title.values, df_train.comments_cat.values)"
   ]
  },
  {
   "cell_type": "code",
   "execution_count": null,
   "metadata": {},
   "outputs": [],
   "source": [
    "print('Best parameter set: %s ' % search_las.best_params_)\n",
    "print('Best mse: %s ' % search_las.best_score_)"
   ]
  },
  {
   "cell_type": "code",
   "execution_count": null,
   "metadata": {},
   "outputs": [],
   "source": [
    "train_preds = search_las.predict(df_train.title.values)\n",
    "test_preds = search_las.predict(df_test.title.values)\n",
    "print(\"training accuracy:\", np.mean([(train_preds==df_train.comments_cat.values)]))\n",
    "print(\"testing accuracy:\", np.mean([(test_preds==df_test.comments_cat.values)]))"
   ]
  },
  {
   "cell_type": "code",
   "execution_count": null,
   "metadata": {},
   "outputs": [],
   "source": [
    "test_preds[:100]"
   ]
  },
  {
   "cell_type": "markdown",
   "metadata": {},
   "source": [
    "### Pol does not work :("
   ]
  },
  {
   "cell_type": "code",
   "execution_count": 30,
   "metadata": {},
   "outputs": [
    {
     "data": {
      "text/plain": [
       "dict_keys(['memory', 'steps', 'verbose', 'vect', 'tfidf', 'pol', 'stanscal', 'vect__analyzer', 'vect__binary', 'vect__decode_error', 'vect__dtype', 'vect__encoding', 'vect__input', 'vect__lowercase', 'vect__max_df', 'vect__max_features', 'vect__min_df', 'vect__ngram_range', 'vect__preprocessor', 'vect__stop_words', 'vect__strip_accents', 'vect__token_pattern', 'vect__tokenizer', 'vect__vocabulary', 'tfidf__norm', 'tfidf__smooth_idf', 'tfidf__sublinear_tf', 'tfidf__use_idf', 'pol__degree', 'pol__include_bias', 'pol__interaction_only', 'pol__order', 'stanscal__copy', 'stanscal__with_mean', 'stanscal__with_std'])"
      ]
     },
     "execution_count": 30,
     "metadata": {},
     "output_type": "execute_result"
    }
   ],
   "source": [
    "pipeline_pol = Pipeline([\n",
    "    ('vect', CountVectorizer()),\n",
    "    ('tfidf', TfidfTransformer()),\n",
    "    ('pol', PolynomialFeatures(include_bias=True)),\n",
    "    ('stanscal', StandardScaler())\n",
    "])\n",
    "pipeline_pol.get_params().keys()"
   ]
  },
  {
   "cell_type": "code",
   "execution_count": null,
   "metadata": {},
   "outputs": [],
   "source": [
    "param_grid_pol = {'pol__degree': [1,2]}\n",
    "\n",
    "search_pol = GridSearchCV(pipeline_pol, param_grid_pol, scoring='neg_mean_squared_error', cv=3, verbose=10, n_jobs = 4)\n",
    "\n",
    "search_pol.fit(df_train.title.values, df_train.comments_cat.values)"
   ]
  },
  {
   "cell_type": "code",
   "execution_count": null,
   "metadata": {},
   "outputs": [],
   "source": [
    "print('Best parameter set: %s ' % search_pol.best_params_)\n",
    "print('Best mse: %s ' % search_pol.best_score_)"
   ]
  },
  {
   "cell_type": "code",
   "execution_count": null,
   "metadata": {},
   "outputs": [],
   "source": []
  }
 ],
 "metadata": {
  "kernelspec": {
   "display_name": "Python 3",
   "language": "python",
   "name": "python3"
  },
  "language_info": {
   "codemirror_mode": {
    "name": "ipython",
    "version": 3
   },
   "file_extension": ".py",
   "mimetype": "text/x-python",
   "name": "python",
   "nbconvert_exporter": "python",
   "pygments_lexer": "ipython3",
   "version": "3.7.6"
  }
 },
 "nbformat": 4,
 "nbformat_minor": 4
}
