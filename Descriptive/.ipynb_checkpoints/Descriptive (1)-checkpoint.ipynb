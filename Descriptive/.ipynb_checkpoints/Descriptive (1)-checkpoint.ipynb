{
 "cells": [
  {
   "cell_type": "code",
   "execution_count": 56,
   "metadata": {},
   "outputs": [],
   "source": [
    "import numpy as np \n",
    "import pandas as pd \n",
    "from tqdm import tqdm\n",
    "from math import sqrt\n",
    "\n",
    "#plots\n",
    "import matplotlib.pyplot as plt \n",
    "import seaborn as sns\n",
    "%matplotlib inline\n",
    "\n",
    "# for vectorization \n",
    "from sklearn.feature_extraction.text import CountVectorizer\n",
    "from sklearn.feature_extraction.text import TfidfVectorizer\n",
    "from sklearn.feature_extraction.text import TfidfTransformer\n",
    "\n",
    "# similarity/distance measures\n",
    "from scipy.spatial import distance\n",
    "from sklearn.metrics.pairwise import linear_kernel\n",
    "\n",
    "# sklearn\n",
    "from sklearn.svm import LinearSVC\n",
    "from sklearn.exceptions import DataConversionWarning; import warnings\n",
    "from sklearn.linear_model import Lasso, LinearRegression, Ridge, ElasticNet, LogisticRegression\n",
    "from sklearn.feature_extraction.text import TfidfVectorizer\n",
    "from sklearn.metrics import mean_squared_error as mse\n",
    "from sklearn.model_selection import KFold\n",
    "from sklearn.pipeline import make_pipeline\n",
    "from sklearn.pipeline import Pipeline\n",
    "from sklearn.preprocessing import StandardScaler, PolynomialFeatures\n",
    "from sklearn.datasets import make_classification\n",
    "from sklearn.linear_model import LinearRegression\n",
    "from sklearn.metrics import mean_squared_error as mse\n",
    "from sklearn.model_selection import train_test_split\n",
    "from sklearn.feature_selection import SelectKBest, chi2, f_classif\n",
    "from sklearn.model_selection import GridSearchCV\n",
    "\n",
    "# for inline plots in jupyter\n",
    "%matplotlib inline\n",
    "# import matplotlib\n",
    "import matplotlib.pyplot as plt\n",
    "# for latex equations\n",
    "from IPython.display import Math, Latex\n",
    "# for displaying images\n",
    "from IPython.core.display import Image\n",
    "\n",
    "import seaborn as sns\n",
    "\n",
    "from datetime import datetime\n",
    "import matplotlib.dates as mdate\n",
    "\n",
    "from gensim.models import Word2Vec"
   ]
  },
  {
   "cell_type": "code",
   "execution_count": 57,
   "metadata": {},
   "outputs": [],
   "source": [
    "# load data\n",
    "data = pd.read_csv('processed_data2.csv')\n",
    "#data = data.dropna()\n",
    "data = data.reset_index()"
   ]
  },
  {
   "cell_type": "code",
   "execution_count": 58,
   "metadata": {},
   "outputs": [],
   "source": [
    "# load minimized data\n",
    "data_min = pd.read_csv('no_words2.csv')"
   ]
  },
  {
   "cell_type": "markdown",
   "metadata": {},
   "source": [
    "#### Descriptive summary/ statistics"
   ]
  },
  {
   "cell_type": "code",
   "execution_count": 59,
   "metadata": {},
   "outputs": [
    {
     "data": {
      "text/plain": [
       "count    26188.000000\n",
       "mean       108.739003\n",
       "std        199.615174\n",
       "min          0.000000\n",
       "25%          9.000000\n",
       "50%         37.000000\n",
       "75%        115.000000\n",
       "max       2676.000000\n",
       "Name: comments, dtype: float64"
      ]
     },
     "execution_count": 59,
     "metadata": {},
     "output_type": "execute_result"
    }
   ],
   "source": [
    "# Original data\n",
    "data['comments'].describe()"
   ]
  },
  {
   "cell_type": "code",
   "execution_count": 60,
   "metadata": {},
   "outputs": [
    {
     "data": {
      "text/plain": [
       "count    6471.000000\n",
       "mean      107.864318\n",
       "std       196.531814\n",
       "min         0.000000\n",
       "25%        10.000000\n",
       "50%        38.000000\n",
       "75%       116.000000\n",
       "max      2596.000000\n",
       "Name: comments, dtype: float64"
      ]
     },
     "execution_count": 60,
     "metadata": {},
     "output_type": "execute_result"
    }
   ],
   "source": [
    "# Minimized data\n",
    "data_min['comments'].describe()"
   ]
  },
  {
   "cell_type": "markdown",
   "metadata": {},
   "source": [
    "#### Plot distribution "
   ]
  },
  {
   "cell_type": "code",
   "execution_count": 61,
   "metadata": {},
   "outputs": [
    {
     "data": {
      "image/png": "[encoded data removed]",
      "text/plain": [
       "<Figure size 720x576 with 1 Axes>"
      ]
     },
     "metadata": {
      "needs_background": "light"
     },
     "output_type": "display_data"
    }
   ],
   "source": [
    "fig, ax = plt.subplots(figsize = (10,8))\n",
    "sns.distplot(data['comments'])\n",
    "ax = plt.gca()\n",
    "ax.set_xlabel('Comments', weight='bold')\n",
    "ax.xaxis.label.set_fontsize(16)\n",
    "ax.spines['top'].set_visible(False)\n",
    "ax.spines['right'].set_visible(False)\n",
    "plt.show()"
   ]
  },
  {
   "cell_type": "markdown",
   "metadata": {},
   "source": [
    "#### Aggregating weekly comments and plot"
   ]
  },
  {
   "cell_type": "code",
   "execution_count": 62,
   "metadata": {},
   "outputs": [],
   "source": [
    "# Translating months into english and remove punctions for formatting\n",
    "data['date'] = [i.replace('.','').replace('maj','may').replace('okt','oct') for i in data['date']]\n",
    "# Formatting dates\n",
    "data['date'] = pd.to_datetime(data['date'], format = '%d %b %Y')"
   ]
  },
  {
   "cell_type": "code",
   "execution_count": 63,
   "metadata": {},
   "outputs": [],
   "source": [
    "data_agg = data.copy()"
   ]
  },
  {
   "cell_type": "code",
   "execution_count": 64,
   "metadata": {},
   "outputs": [],
   "source": [
    "data_agg = data.set_index('date')"
   ]
  },
  {
   "cell_type": "code",
   "execution_count": 65,
   "metadata": {},
   "outputs": [],
   "source": [
    "data_agg.index = pd.to_datetime(data_agg.index, unit='s')"
   ]
  },
  {
   "cell_type": "code",
   "execution_count": 66,
   "metadata": {},
   "outputs": [],
   "source": [
    "weekly = data_agg.resample('W').sum()"
   ]
  },
  {
   "cell_type": "code",
   "execution_count": 67,
   "metadata": {},
   "outputs": [],
   "source": [
    "weekly['date'] = weekly.index.get_level_values('date')"
   ]
  },
  {
   "cell_type": "code",
   "execution_count": 68,
   "metadata": {},
   "outputs": [],
   "source": [
    "x = np.asarray(weekly['date']).astype(float) # Matplotlib has issues with autoscaling. Converting to epoch time instead :https://github.com/matplotlib/matplotlib/issues/7413"
   ]
  },
  {
   "cell_type": "code",
   "execution_count": 69,
   "metadata": {},
   "outputs": [
    {
     "data": {
      "image/png": "[encoded data removed]",
      "text/plain": [
       "<Figure size 864x576 with 1 Axes>"
      ]
     },
     "metadata": {
      "needs_background": "light"
     },
     "output_type": "display_data"
    }
   ],
   "source": [
    "fig, ax = plt.subplots(figsize = (12,8))\n",
    "ax = sns.scatterplot(x=x, y='comments', data=weekly) \n",
    "ax = plt.gca()\n",
    "ax.set_xlabel('Date - epoch time', weight='bold')\n",
    "ax.set_ylabel('Amount of comments, weekly', weight='bold')\n",
    "ax.xaxis.label.set_fontsize(16)\n",
    "ax.yaxis.label.set_fontsize(16)\n",
    "ax.spines['top'].set_visible(False)\n",
    "ax.spines['right'].set_visible(False)"
   ]
  },
  {
   "cell_type": "markdown",
   "metadata": {},
   "source": [
    "#### PCA"
   ]
  },
  {
   "cell_type": "code",
   "execution_count": 70,
   "metadata": {},
   "outputs": [],
   "source": [
    "data_value_count = data['title'].str.split(expand=True).stack().value_counts().reset_index()"
   ]
  },
  {
   "cell_type": "code",
   "execution_count": 71,
   "metadata": {},
   "outputs": [],
   "source": [
    "data_split = [sent.split(' ') for sent in data['title']]"
   ]
  },
  {
   "cell_type": "code",
   "execution_count": 72,
   "metadata": {},
   "outputs": [],
   "source": [
    "from gensim.models import Word2Vec\n",
    "\n",
    "model = Word2Vec(data_split, size=100, min_count = 0, workers = 2) "
   ]
  },
  {
   "cell_type": "code",
   "execution_count": 73,
   "metadata": {
    "collapsed": true,
    "jupyter": {
     "outputs_hidden": true
    }
   },
   "outputs": [
    {
     "name": "stdout",
     "output_type": "stream",
     "text": [
      "Statsministeren\n",
      "åbner\n",
      "for\n",
      "muligt\n",
      "påbud\n",
      "om\n",
      "mundbind\n",
      "Mette\n",
      "F.\n",
      "afviser\n",
      "at\n",
      "åbne\n",
      "nattelivet\n",
      "i\n",
      "august\n",
      "Dårligt\n",
      "nyt\n",
      "til\n",
      "'Venner'-fans\n",
      "Flemming\n",
      "dødtræt\n",
      "af\n",
      "Elgiganten:\n",
      "Gør\n",
      "det\n",
      "aldrig!\n",
      "Venstre\n",
      "vil\n",
      "have\n",
      "håndtrykket\n",
      "tilbage,\n",
      "hvis\n",
      "kan\n",
      "lade\n",
      "sig\n",
      "gøre\n",
      "Bizar\n",
      "opladning:\n",
      "Derfor\n",
      "smører\n",
      "han\n",
      "ind\n",
      "babyolie\n",
      "Når\n",
      "du\n",
      "ikke\n",
      "betaler\n",
      "regningen\n",
      "Nye\n",
      "coronatiltag:\n",
      "-\n",
      "Føles\n",
      "grænseoverskridende\n",
      "Så\n",
      "farlige\n",
      "er\n",
      "hestehuller\n",
      "Årets\n",
      "bedste\n",
      "Lundgaard:\n",
      "Undskyld,\n",
      "gutter\n",
      "Toprådgiver\n",
      "flere\n",
      "amerikanske\n",
      "præsidenter\n",
      "død\n",
      "Børn\n",
      "op\n",
      "12\n",
      "år\n",
      "og\n",
      "visse\n",
      "ældre\n",
      "skal\n",
      "bruge\n",
      "Feriepengene\n",
      "udbetales\n",
      "oktober\n",
      "Parken\n",
      "forventer\n",
      "gigantisk\n",
      "underskud\n",
      "\n",
      "Skuespiller\n",
      "smittet\n",
      "med\n",
      "coronavirus:\n",
      "'Troede\n",
      "jeg\n",
      "skulle\n",
      "dø'\n",
      "Skoleskibet\n",
      "Danmark\n",
      "har\n",
      "en\n",
      "elev\n",
      "coronavirus\n",
      "Giro-vinder\n",
      "sejrede\n"
     ]
    }
   ],
   "source": [
    "for i, word in enumerate(model.wv.vocab):\n",
    "    if i == 100:\n",
    "        break\n",
    "    print(word)"
   ]
  },
  {
   "cell_type": "code",
   "execution_count": 74,
   "metadata": {},
   "outputs": [
    {
     "data": {
      "image/png": "[encoded data removed]",
      "text/plain": [
       "<Figure size 648x648 with 1 Axes>"
      ]
     },
     "metadata": {
      "needs_background": "light"
     },
     "output_type": "display_data"
    }
   ],
   "source": [
    "# Reducing the 50-dimensional vectors to 2 dimensions in order to visualise selected words.\n",
    "from sklearn.decomposition import PCA\n",
    "\n",
    "words = [\"virus\", 'forsamlingsforbud', 'regeringen', 'Barcelona', 'Brostrøm', 'covid-19','transport', 'offentlig','test','larm','Liverpool']\n",
    "\n",
    "model_list_wv = []\n",
    "for word in words:\n",
    "    model_ = model.wv[word]\n",
    "    model_list_wv.append(model_)\n",
    "X = model_list_wv\n",
    "# X = [model.wv['Corona'], model.wv['Tyskland'], \n",
    "#      model.wv['Dansk'], model.wv['kroner'],\n",
    "#      model.wv['Trump'], model.wv['Svensk'], \n",
    "#      model.wv['millioner'], model.wv['smittet']]\n",
    "\n",
    "pca = PCA(n_components=2)\n",
    "X_r = pca.fit(X).transform(X)\n",
    "\n",
    "plt.figure(figsize=(9,9) )\n",
    "plt.scatter(X_r[:,0], X_r[:,1], edgecolors='k', c='r' )\n",
    "for word, (x,y) in zip(words, X_r):\n",
    "    plt.text(x+0.03, y+0.000005, word)"
   ]
  }
 ],
 "metadata": {
  "kernelspec": {
   "display_name": "Python 3",
   "language": "python",
   "name": "python3"
  },
  "language_info": {
   "codemirror_mode": {
    "name": "ipython",
    "version": 3
   },
   "file_extension": ".py",
   "mimetype": "text/x-python",
   "name": "python",
   "nbconvert_exporter": "python",
   "pygments_lexer": "ipython3",
   "version": "3.7.6"
  }
 },
 "nbformat": 4,
 "nbformat_minor": 4
}
