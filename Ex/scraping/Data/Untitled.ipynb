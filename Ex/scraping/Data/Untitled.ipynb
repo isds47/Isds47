{
 "cells": [
  {
   "cell_type": "code",
   "execution_count": 2,
   "metadata": {},
   "outputs": [],
   "source": [
    "import pandas as pd"
   ]
  },
  {
   "cell_type": "code",
   "execution_count": 79,
   "metadata": {},
   "outputs": [],
   "source": [
    "chunk0_head = pd.read_csv(\"chunk0_head_4370.csv\")\n",
    "chunk1_head = pd.read_csv('chunk2_head-Copy3.csv')\n",
    "chunk2_head = pd.read_csv('chunk0_head_841.csv')\n",
    "chunk3_head = pd.read_csv('Magnus1headkorrekt.csv')\n",
    "chunk4_head = pd.read_csv('sofus2head.csv')\n",
    "chunk5_head = pd.read_csv('sofus3head.csv')\n",
    "chunk6_head = pd.read_csv('sofus4head.csv')"
   ]
  },
  {
   "cell_type": "code",
   "execution_count": 80,
   "metadata": {},
   "outputs": [
    {
     "data": {
      "text/html": [
       "<div>\n",
       "<style scoped>\n",
       "    .dataframe tbody tr th:only-of-type {\n",
       "        vertical-align: middle;\n",
       "    }\n",
       "\n",
       "    .dataframe tbody tr th {\n",
       "        vertical-align: top;\n",
       "    }\n",
       "\n",
       "    .dataframe thead th {\n",
       "        text-align: right;\n",
       "    }\n",
       "</style>\n",
       "<table border=\"1\" class=\"dataframe\">\n",
       "  <thead>\n",
       "    <tr style=\"text-align: right;\">\n",
       "      <th></th>\n",
       "      <th>0</th>\n",
       "      <th>1</th>\n",
       "      <th>2</th>\n",
       "      <th>3</th>\n",
       "      <th>4</th>\n",
       "      <th>5</th>\n",
       "    </tr>\n",
       "  </thead>\n",
       "  <tbody>\n",
       "    <tr>\n",
       "      <th>0</th>\n",
       "      <td>https://ekstrabladet.dk/nyheder/erhvervsnyhede...</td>\n",
       "      <td>523</td>\n",
       "      <td>Finanssektor: Tidlig pension kan koste en fami...</td>\n",
       "      <td>Hvis banker og realkreditter får ekstraregning...</td>\n",
       "      <td>Regeringen lægger op til, at den finansielle s...</td>\n",
       "      <td>20. aug. 2020</td>\n",
       "    </tr>\n",
       "    <tr>\n",
       "      <th>1</th>\n",
       "      <td>https://ekstrabladet.dk/sport/fodbold/landshol...</td>\n",
       "      <td>15</td>\n",
       "      <td>Topsponsor suspenderer DBU-aftale</td>\n",
       "      <td>NaN</td>\n",
       "      <td>Arbejdernes Landsbank står ikke på fodboldland...</td>\n",
       "      <td>20. aug. 2020</td>\n",
       "    </tr>\n",
       "    <tr>\n",
       "      <th>2</th>\n",
       "      <td>https://ekstrabladet.dk/nyheder/samfund/corona...</td>\n",
       "      <td>120</td>\n",
       "      <td>Corona i klassen: Forældre ekstremt dårligt st...</td>\n",
       "      <td>NaN</td>\n",
       "      <td>Børn og unge bliver på næsten daglig basis sen...</td>\n",
       "      <td>20. aug. 2020</td>\n",
       "    </tr>\n",
       "    <tr>\n",
       "      <th>3</th>\n",
       "      <td>https://ekstrabladet.dk/ferie/tokyo-faar-genne...</td>\n",
       "      <td>124</td>\n",
       "      <td>Tokyo får gennemsigtige toiletter i parken</td>\n",
       "      <td>NaN</td>\n",
       "      <td>I denne måned har to parker i Tokyo fået nye t...</td>\n",
       "      <td>20. aug. 2020</td>\n",
       "    </tr>\n",
       "    <tr>\n",
       "      <th>4</th>\n",
       "      <td>https://ekstrabladet.dk/ferie/saa-taet-paa-kat...</td>\n",
       "      <td>27</td>\n",
       "      <td>Så tæt på katastrofen: Airbus A320 nær kørt af...</td>\n",
       "      <td>NaN</td>\n",
       "      <td>16. september sidste år. Lissabon Lufthavn. En...</td>\n",
       "      <td>20. aug. 2020</td>\n",
       "    </tr>\n",
       "    <tr>\n",
       "      <th>...</th>\n",
       "      <td>...</td>\n",
       "      <td>...</td>\n",
       "      <td>...</td>\n",
       "      <td>...</td>\n",
       "      <td>...</td>\n",
       "      <td>...</td>\n",
       "    </tr>\n",
       "    <tr>\n",
       "      <th>836</th>\n",
       "      <td>https://ekstrabladet.dk/sport/formel_1/foeler-...</td>\n",
       "      <td>50</td>\n",
       "      <td>Føler sig snydt: Mercedes-boss truer F1</td>\n",
       "      <td>NaN</td>\n",
       "      <td>12. august er en vigtig dag for Formel 1’s fre...</td>\n",
       "      <td>9. aug. 2020</td>\n",
       "    </tr>\n",
       "    <tr>\n",
       "      <th>837</th>\n",
       "      <td>https://ekstrabladet.dk/nyheder/videnskab_og_t...</td>\n",
       "      <td>58</td>\n",
       "      <td>Derfor får man gåsehud</td>\n",
       "      <td>NaN</td>\n",
       "      <td>Har du nogensinde undret dig over, hvorfor hår...</td>\n",
       "      <td>9. aug. 2020</td>\n",
       "    </tr>\n",
       "    <tr>\n",
       "      <th>838</th>\n",
       "      <td>https://ekstrabladet.dk/sport/fodbold/udenland...</td>\n",
       "      <td>0</td>\n",
       "      <td>- Vi havde et blackout</td>\n",
       "      <td>Gennaro Gattuso så sit Napoli-hold begå fejl o...</td>\n",
       "      <td>Napolis cheftræner, Gennaro Gattuso, var meget...</td>\n",
       "      <td>9. aug. 2020</td>\n",
       "    </tr>\n",
       "    <tr>\n",
       "      <th>839</th>\n",
       "      <td>https://ekstrabladet.dk/sport/fodbold/dansk_fo...</td>\n",
       "      <td>7</td>\n",
       "      <td>Vender hjem</td>\n",
       "      <td>Venstrebacken Marc Dal Hende får en treårig ko...</td>\n",
       "      <td>Fodboldklubben Sønderjyske henter venstrebacke...</td>\n",
       "      <td>9. aug. 2020</td>\n",
       "    </tr>\n",
       "    <tr>\n",
       "      <th>840</th>\n",
       "      <td>https://ekstrabladet.dk/sport/fodbold/udenland...</td>\n",
       "      <td>4</td>\n",
       "      <td>Stort medie: I morgen sker det</td>\n",
       "      <td>Britisk medie beretter, at Pierre-Emile Højbje...</td>\n",
       "      <td>Det ventede skifte for fodboldspilleren Pierre...</td>\n",
       "      <td>9. aug. 2020</td>\n",
       "    </tr>\n",
       "  </tbody>\n",
       "</table>\n",
       "<p>841 rows × 6 columns</p>\n",
       "</div>"
      ],
      "text/plain": [
       "                                                     0    1  \\\n",
       "0    https://ekstrabladet.dk/nyheder/erhvervsnyhede...  523   \n",
       "1    https://ekstrabladet.dk/sport/fodbold/landshol...   15   \n",
       "2    https://ekstrabladet.dk/nyheder/samfund/corona...  120   \n",
       "3    https://ekstrabladet.dk/ferie/tokyo-faar-genne...  124   \n",
       "4    https://ekstrabladet.dk/ferie/saa-taet-paa-kat...   27   \n",
       "..                                                 ...  ...   \n",
       "836  https://ekstrabladet.dk/sport/formel_1/foeler-...   50   \n",
       "837  https://ekstrabladet.dk/nyheder/videnskab_og_t...   58   \n",
       "838  https://ekstrabladet.dk/sport/fodbold/udenland...    0   \n",
       "839  https://ekstrabladet.dk/sport/fodbold/dansk_fo...    7   \n",
       "840  https://ekstrabladet.dk/sport/fodbold/udenland...    4   \n",
       "\n",
       "                                                     2  \\\n",
       "0    Finanssektor: Tidlig pension kan koste en fami...   \n",
       "1                    Topsponsor suspenderer DBU-aftale   \n",
       "2    Corona i klassen: Forældre ekstremt dårligt st...   \n",
       "3          Tokyo får gennemsigtige toiletter i parken    \n",
       "4    Så tæt på katastrofen: Airbus A320 nær kørt af...   \n",
       "..                                                 ...   \n",
       "836            Føler sig snydt: Mercedes-boss truer F1   \n",
       "837                             Derfor får man gåsehud   \n",
       "838                             - Vi havde et blackout   \n",
       "839                                        Vender hjem   \n",
       "840                    Stort medie: I morgen sker det    \n",
       "\n",
       "                                                     3  \\\n",
       "0    Hvis banker og realkreditter får ekstraregning...   \n",
       "1                                                  NaN   \n",
       "2                                                  NaN   \n",
       "3                                                  NaN   \n",
       "4                                                  NaN   \n",
       "..                                                 ...   \n",
       "836                                                NaN   \n",
       "837                                                NaN   \n",
       "838  Gennaro Gattuso så sit Napoli-hold begå fejl o...   \n",
       "839  Venstrebacken Marc Dal Hende får en treårig ko...   \n",
       "840  Britisk medie beretter, at Pierre-Emile Højbje...   \n",
       "\n",
       "                                                     4              5  \n",
       "0    Regeringen lægger op til, at den finansielle s...  20. aug. 2020  \n",
       "1    Arbejdernes Landsbank står ikke på fodboldland...  20. aug. 2020  \n",
       "2    Børn og unge bliver på næsten daglig basis sen...  20. aug. 2020  \n",
       "3    I denne måned har to parker i Tokyo fået nye t...  20. aug. 2020  \n",
       "4    16. september sidste år. Lissabon Lufthavn. En...  20. aug. 2020  \n",
       "..                                                 ...            ...  \n",
       "836  12. august er en vigtig dag for Formel 1’s fre...   9. aug. 2020  \n",
       "837  Har du nogensinde undret dig over, hvorfor hår...   9. aug. 2020  \n",
       "838  Napolis cheftræner, Gennaro Gattuso, var meget...   9. aug. 2020  \n",
       "839  Fodboldklubben Sønderjyske henter venstrebacke...   9. aug. 2020  \n",
       "840  Det ventede skifte for fodboldspilleren Pierre...   9. aug. 2020  \n",
       "\n",
       "[841 rows x 6 columns]"
      ]
     },
     "execution_count": 80,
     "metadata": {},
     "output_type": "execute_result"
    }
   ],
   "source": [
    "chunk2_head"
   ]
  },
  {
   "cell_type": "code",
   "execution_count": 16,
   "metadata": {},
   "outputs": [],
   "source": [
    "all_the_stuff = chunk0_head.append(chunk1_head).append(chunk3_head).append(chunk4_head).append(chunk5_head).append(chunk6_head)"
   ]
  },
  {
   "cell_type": "code",
   "execution_count": 17,
   "metadata": {},
   "outputs": [],
   "source": [
    "all_the_stuff = all_the_stufft"
   ]
  },
  {
   "cell_type": "code",
   "execution_count": 18,
   "metadata": {},
   "outputs": [],
   "source": [
    "urls = pd.read_csv('urls.csv')"
   ]
  },
  {
   "cell_type": "code",
   "execution_count": 19,
   "metadata": {},
   "outputs": [],
   "source": [
    "df = pd.DataFrame()"
   ]
  },
  {
   "cell_type": "code",
   "execution_count": 20,
   "metadata": {},
   "outputs": [
    {
     "data": {
      "text/html": [
       "<div>\n",
       "<style scoped>\n",
       "    .dataframe tbody tr th:only-of-type {\n",
       "        vertical-align: middle;\n",
       "    }\n",
       "\n",
       "    .dataframe tbody tr th {\n",
       "        vertical-align: top;\n",
       "    }\n",
       "\n",
       "    .dataframe thead th {\n",
       "        text-align: right;\n",
       "    }\n",
       "</style>\n",
       "<table border=\"1\" class=\"dataframe\">\n",
       "  <thead>\n",
       "    <tr style=\"text-align: right;\">\n",
       "      <th></th>\n",
       "      <th>0</th>\n",
       "      <th>1</th>\n",
       "      <th>2</th>\n",
       "      <th>3</th>\n",
       "      <th>4</th>\n",
       "      <th>5</th>\n",
       "    </tr>\n",
       "  </thead>\n",
       "  <tbody>\n",
       "    <tr>\n",
       "      <th>0</th>\n",
       "      <td>https://ekstrabladet.dk/nyheder/politik/danskp...</td>\n",
       "      <td>1952</td>\n",
       "      <td>Statsministeren åbner for muligt påbud om mund...</td>\n",
       "      <td>NaN</td>\n",
       "      <td>Statsminister Mette Frederiksen (S) åbner for,...</td>\n",
       "      <td>7. aug. 2020</td>\n",
       "    </tr>\n",
       "    <tr>\n",
       "      <th>1</th>\n",
       "      <td>https://ekstrabladet.dk/nyheder/politik/danskp...</td>\n",
       "      <td>448</td>\n",
       "      <td>Mette F. afviser at åbne for nattelivet i august</td>\n",
       "      <td>Mette Frederiksen (S) siger, at hun ikke kan s...</td>\n",
       "      <td>Statsminister Mette Frederiksen (S) siger, at ...</td>\n",
       "      <td>7. aug. 2020</td>\n",
       "    </tr>\n",
       "    <tr>\n",
       "      <th>2</th>\n",
       "      <td>https://ekstrabladet.dk/flash/filmogtv/daarlig...</td>\n",
       "      <td>34</td>\n",
       "      <td>Dårligt nyt til 'Venner'-fans</td>\n",
       "      <td>NaN</td>\n",
       "      <td>Der var gode nyheder til fans af serien 'Frien...</td>\n",
       "      <td>7. aug. 2020</td>\n",
       "    </tr>\n",
       "    <tr>\n",
       "      <th>3</th>\n",
       "      <td>https://ekstrabladet.dk/nyheder/samfund/flemmi...</td>\n",
       "      <td>227</td>\n",
       "      <td>Flemming dødtræt af Elgiganten: Gør det aldrig!</td>\n",
       "      <td>NaN</td>\n",
       "      <td>Per, Mikkel, Jeppe, Allan, Zanshi og Jasmin. F...</td>\n",
       "      <td>7. aug. 2020</td>\n",
       "    </tr>\n",
       "    <tr>\n",
       "      <th>4</th>\n",
       "      <td>https://ekstrabladet.dk/nyheder/samfund/venstr...</td>\n",
       "      <td>27</td>\n",
       "      <td>Venstre vil have håndtrykket tilbage, hvis det...</td>\n",
       "      <td>Virolog mener dog ikke, at tidspunktet er det ...</td>\n",
       "      <td>Hvis du synes, det var svært at finde ud af, h...</td>\n",
       "      <td>7. aug. 2020</td>\n",
       "    </tr>\n",
       "    <tr>\n",
       "      <th>...</th>\n",
       "      <td>...</td>\n",
       "      <td>...</td>\n",
       "      <td>...</td>\n",
       "      <td>...</td>\n",
       "      <td>...</td>\n",
       "      <td>...</td>\n",
       "    </tr>\n",
       "    <tr>\n",
       "      <th>1154</th>\n",
       "      <td>https://ekstrabladet.dk/sport/fodbold/dansk_fo...</td>\n",
       "      <td>7</td>\n",
       "      <td>Vanvid i 2. division: Utrolige cifre</td>\n",
       "      <td>NaN</td>\n",
       "      <td>HUSK du kan se Danish Fight Night lørdag aften...</td>\n",
       "      <td>11. okt. 2019</td>\n",
       "    </tr>\n",
       "    <tr>\n",
       "      <th>1155</th>\n",
       "      <td>https://ekstrabladet.dk/flash/udlandkendte/leg...</td>\n",
       "      <td>135</td>\n",
       "      <td>Legendarisk skuespiller anholdt og lagt i hånd...</td>\n",
       "      <td>NaN</td>\n",
       "      <td>Jane Fonda lovede for nylig at lave ugentlige ...</td>\n",
       "      <td>11. okt. 2019</td>\n",
       "    </tr>\n",
       "    <tr>\n",
       "      <th>1156</th>\n",
       "      <td>https://ekstrabladet.dk/nyheder/samfund/flere-...</td>\n",
       "      <td>225</td>\n",
       "      <td>Flere tusinde biler kører rundt med fejl: Arme...</td>\n",
       "      <td>NaN</td>\n",
       "      <td>Flere tusinde Nissan-biler har en fejl, som gø...</td>\n",
       "      <td>11. okt. 2019</td>\n",
       "    </tr>\n",
       "    <tr>\n",
       "      <th>1157</th>\n",
       "      <td>https://ekstrabladet.dk/nyheder/samfund/trump-...</td>\n",
       "      <td>125</td>\n",
       "      <td>Trump klar til betydelige sanktioner mod Tyrkiet</td>\n",
       "      <td>NaN</td>\n",
       "      <td>USA' præsident, Donald Trump, har givet sin ad...</td>\n",
       "      <td>11. okt. 2019</td>\n",
       "    </tr>\n",
       "    <tr>\n",
       "      <th>1159</th>\n",
       "      <td>https://ekstrabladet.dk/ferie/verdens-foerste-...</td>\n",
       "      <td>2</td>\n",
       "      <td>Verdens første rejseguide udstilles på museum</td>\n",
       "      <td>NaN</td>\n",
       "      <td>Hvis man skal ud at rejse i dag, er der utalli...</td>\n",
       "      <td>11. okt. 2019</td>\n",
       "    </tr>\n",
       "  </tbody>\n",
       "</table>\n",
       "<p>20165 rows × 6 columns</p>\n",
       "</div>"
      ],
      "text/plain": [
       "                                                      0     1  \\\n",
       "0     https://ekstrabladet.dk/nyheder/politik/danskp...  1952   \n",
       "1     https://ekstrabladet.dk/nyheder/politik/danskp...   448   \n",
       "2     https://ekstrabladet.dk/flash/filmogtv/daarlig...    34   \n",
       "3     https://ekstrabladet.dk/nyheder/samfund/flemmi...   227   \n",
       "4     https://ekstrabladet.dk/nyheder/samfund/venstr...    27   \n",
       "...                                                 ...   ...   \n",
       "1154  https://ekstrabladet.dk/sport/fodbold/dansk_fo...     7   \n",
       "1155  https://ekstrabladet.dk/flash/udlandkendte/leg...   135   \n",
       "1156  https://ekstrabladet.dk/nyheder/samfund/flere-...   225   \n",
       "1157  https://ekstrabladet.dk/nyheder/samfund/trump-...   125   \n",
       "1159  https://ekstrabladet.dk/ferie/verdens-foerste-...     2   \n",
       "\n",
       "                                                      2  \\\n",
       "0     Statsministeren åbner for muligt påbud om mund...   \n",
       "1      Mette F. afviser at åbne for nattelivet i august   \n",
       "2                         Dårligt nyt til 'Venner'-fans   \n",
       "3       Flemming dødtræt af Elgiganten: Gør det aldrig!   \n",
       "4     Venstre vil have håndtrykket tilbage, hvis det...   \n",
       "...                                                 ...   \n",
       "1154              Vanvid i 2. division: Utrolige cifre    \n",
       "1155  Legendarisk skuespiller anholdt og lagt i hånd...   \n",
       "1156  Flere tusinde biler kører rundt med fejl: Arme...   \n",
       "1157   Trump klar til betydelige sanktioner mod Tyrkiet   \n",
       "1159     Verdens første rejseguide udstilles på museum    \n",
       "\n",
       "                                                      3  \\\n",
       "0                                                   NaN   \n",
       "1     Mette Frederiksen (S) siger, at hun ikke kan s...   \n",
       "2                                                   NaN   \n",
       "3                                                   NaN   \n",
       "4     Virolog mener dog ikke, at tidspunktet er det ...   \n",
       "...                                                 ...   \n",
       "1154                                                NaN   \n",
       "1155                                                NaN   \n",
       "1156                                                NaN   \n",
       "1157                                                NaN   \n",
       "1159                                                NaN   \n",
       "\n",
       "                                                      4              5  \n",
       "0     Statsminister Mette Frederiksen (S) åbner for,...   7. aug. 2020  \n",
       "1     Statsminister Mette Frederiksen (S) siger, at ...   7. aug. 2020  \n",
       "2     Der var gode nyheder til fans af serien 'Frien...   7. aug. 2020  \n",
       "3     Per, Mikkel, Jeppe, Allan, Zanshi og Jasmin. F...   7. aug. 2020  \n",
       "4     Hvis du synes, det var svært at finde ud af, h...   7. aug. 2020  \n",
       "...                                                 ...            ...  \n",
       "1154  HUSK du kan se Danish Fight Night lørdag aften...  11. okt. 2019  \n",
       "1155  Jane Fonda lovede for nylig at lave ugentlige ...  11. okt. 2019  \n",
       "1156  Flere tusinde Nissan-biler har en fejl, som gø...  11. okt. 2019  \n",
       "1157  USA' præsident, Donald Trump, har givet sin ad...  11. okt. 2019  \n",
       "1159  Hvis man skal ud at rejse i dag, er der utalli...  11. okt. 2019  \n",
       "\n",
       "[20165 rows x 6 columns]"
      ]
     },
     "execution_count": 20,
     "metadata": {},
     "output_type": "execute_result"
    }
   ],
   "source": []
  },
  {
   "cell_type": "code",
   "execution_count": 21,
   "metadata": {},
   "outputs": [],
   "source": [
    "all_the_stuff.to_csv(\"MegaChunk.csv\", index=False)"
   ]
  },
  {
   "cell_type": "code",
   "execution_count": null,
   "metadata": {},
   "outputs": [],
   "source": []
  },
  {
   "cell_type": "code",
   "execution_count": null,
   "metadata": {},
   "outputs": [],
   "source": [
    "df[\"Unique\"] = all_the_stuff['0'][~df[\"Ligand_miss\"].isin(df[\"Ligand_hit\"])].drop_duplicates()"
   ]
  },
  {
   "cell_type": "code",
   "execution_count": 17,
   "metadata": {},
   "outputs": [],
   "source": [
    "urls = pd.read_csv('urls.csv')\n",
    "megachunk = pd.read_csv('MegaChunk.csv')\n",
    "unique = list(urls['0'])"
   ]
  },
  {
   "cell_type": "code",
   "execution_count": 23,
   "metadata": {},
   "outputs": [
    {
     "data": {
      "text/plain": [
       "0        https://ekstrabladet.dk/nyheder/politik/danskp...\n",
       "1        https://ekstrabladet.dk/nyheder/politik/danskp...\n",
       "2        https://ekstrabladet.dk/flash/filmogtv/daarlig...\n",
       "3        https://ekstrabladet.dk/nyheder/samfund/flemmi...\n",
       "4        https://ekstrabladet.dk/nyheder/samfund/venstr...\n",
       "                               ...                        \n",
       "20160    https://ekstrabladet.dk/sport/fodbold/dansk_fo...\n",
       "20161    https://ekstrabladet.dk/flash/udlandkendte/leg...\n",
       "20162    https://ekstrabladet.dk/nyheder/samfund/flere-...\n",
       "20163    https://ekstrabladet.dk/nyheder/samfund/trump-...\n",
       "20164    https://ekstrabladet.dk/ferie/verdens-foerste-...\n",
       "Name: 0, Length: 20165, dtype: object"
      ]
     },
     "execution_count": 23,
     "metadata": {},
     "output_type": "execute_result"
    }
   ],
   "source": [
    "megachunk['0']"
   ]
  },
  {
   "cell_type": "code",
   "execution_count": 26,
   "metadata": {},
   "outputs": [
    {
     "data": {
      "text/plain": [
       "0        https://ekstrabladet.dk/flash/filmogtv/helt-ny...\n",
       "1        https://ekstrabladet.dk/nyheder/erhvervsnyhede...\n",
       "2        https://ekstrabladet.dk/sport/fodbold/landshol...\n",
       "3        https://ekstrabladet.dk/nyheder/samfund/corona...\n",
       "4        https://ekstrabladet.dk/ferie/tokyo-faar-genne...\n",
       "                               ...                        \n",
       "37225    https://ekstrabladet.dk/flash/udlandkendte/kar...\n",
       "37226    https://ekstrabladet.dk/sport/fodbold/udenland...\n",
       "37227    https://ekstrabladet.dk/biler/har-reddet-milli...\n",
       "37228    https://ekstrabladet.dk/112/politiet-stopper-m...\n",
       "37229    https://ekstrabladet.dk/nyheder/politik/danskp...\n",
       "Name: 0, Length: 37230, dtype: object"
      ]
     },
     "execution_count": 26,
     "metadata": {},
     "output_type": "execute_result"
    }
   ],
   "source": [
    "urls['0']"
   ]
  },
  {
   "cell_type": "code",
   "execution_count": null,
   "metadata": {},
   "outputs": [],
   "source": [
    "\n",
    "i = 0\n",
    "for link in list(megachunk['0']):\n",
    "    if link in list(urls['0']):\n",
    "        i +=1\n",
    "        unique.remove(link)\n",
    "        if i%1000==0:\n",
    "            print(f'total links: {len(unique)}')"
   ]
  },
  {
   "cell_type": "code",
   "execution_count": 35,
   "metadata": {},
   "outputs": [],
   "source": [
    "i = 0\n",
    "for link in unique:\n",
    "    if link in list(megachunk['0']):\n",
    "        i +=1\n",
    "        unique.remove(link)\n",
    "        if i%1000==0:\n",
    "            print(f'total links: {len(unique)}')"
   ]
  },
  {
   "cell_type": "code",
   "execution_count": null,
   "metadata": {},
   "outputs": [],
   "source": []
  },
  {
   "cell_type": "code",
   "execution_count": 40,
   "metadata": {},
   "outputs": [
    {
     "data": {
      "text/plain": [
       "17151"
      ]
     },
     "execution_count": 40,
     "metadata": {},
     "output_type": "execute_result"
    }
   ],
   "source": [
    "len(unique)"
   ]
  },
  {
   "cell_type": "code",
   "execution_count": 44,
   "metadata": {},
   "outputs": [],
   "source": [
    "unique = pd.DataFrame(data = unique)"
   ]
  },
  {
   "cell_type": "code",
   "execution_count": 51,
   "metadata": {},
   "outputs": [],
   "source": [
    "unique = [ url for url in unique[0] if \"https://ekstrabladet.dk/plus\" not in url ]"
   ]
  },
  {
   "cell_type": "code",
   "execution_count": 55,
   "metadata": {},
   "outputs": [],
   "source": [
    "\n",
    "unique = pd.DataFrame(data = unique)\n",
    "unique.to_csv(\"unique_links.csv\", index=False)"
   ]
  },
  {
   "cell_type": "code",
   "execution_count": 56,
   "metadata": {},
   "outputs": [
    {
     "data": {
      "text/html": [
       "<div>\n",
       "<style scoped>\n",
       "    .dataframe tbody tr th:only-of-type {\n",
       "        vertical-align: middle;\n",
       "    }\n",
       "\n",
       "    .dataframe tbody tr th {\n",
       "        vertical-align: top;\n",
       "    }\n",
       "\n",
       "    .dataframe thead th {\n",
       "        text-align: right;\n",
       "    }\n",
       "</style>\n",
       "<table border=\"1\" class=\"dataframe\">\n",
       "  <thead>\n",
       "    <tr style=\"text-align: right;\">\n",
       "      <th></th>\n",
       "      <th>0</th>\n",
       "    </tr>\n",
       "  </thead>\n",
       "  <tbody>\n",
       "    <tr>\n",
       "      <th>0</th>\n",
       "      <td>https://ekstrabladet.dk/flash/filmogtv/helt-ny...</td>\n",
       "    </tr>\n",
       "    <tr>\n",
       "      <th>1</th>\n",
       "      <td>https://ekstrabladet.dk/nyheder/erhvervsnyhede...</td>\n",
       "    </tr>\n",
       "    <tr>\n",
       "      <th>2</th>\n",
       "      <td>https://ekstrabladet.dk/sport/fodbold/landshol...</td>\n",
       "    </tr>\n",
       "    <tr>\n",
       "      <th>3</th>\n",
       "      <td>https://ekstrabladet.dk/nyheder/samfund/corona...</td>\n",
       "    </tr>\n",
       "    <tr>\n",
       "      <th>4</th>\n",
       "      <td>https://ekstrabladet.dk/ferie/tokyo-faar-genne...</td>\n",
       "    </tr>\n",
       "    <tr>\n",
       "      <th>...</th>\n",
       "      <td>...</td>\n",
       "    </tr>\n",
       "    <tr>\n",
       "      <th>14885</th>\n",
       "      <td>https://ekstrabladet.dk/flash/udlandkendte/kar...</td>\n",
       "    </tr>\n",
       "    <tr>\n",
       "      <th>14886</th>\n",
       "      <td>https://ekstrabladet.dk/sport/fodbold/udenland...</td>\n",
       "    </tr>\n",
       "    <tr>\n",
       "      <th>14887</th>\n",
       "      <td>https://ekstrabladet.dk/biler/har-reddet-milli...</td>\n",
       "    </tr>\n",
       "    <tr>\n",
       "      <th>14888</th>\n",
       "      <td>https://ekstrabladet.dk/112/politiet-stopper-m...</td>\n",
       "    </tr>\n",
       "    <tr>\n",
       "      <th>14889</th>\n",
       "      <td>https://ekstrabladet.dk/nyheder/politik/danskp...</td>\n",
       "    </tr>\n",
       "  </tbody>\n",
       "</table>\n",
       "<p>14890 rows × 1 columns</p>\n",
       "</div>"
      ],
      "text/plain": [
       "                                                       0\n",
       "0      https://ekstrabladet.dk/flash/filmogtv/helt-ny...\n",
       "1      https://ekstrabladet.dk/nyheder/erhvervsnyhede...\n",
       "2      https://ekstrabladet.dk/sport/fodbold/landshol...\n",
       "3      https://ekstrabladet.dk/nyheder/samfund/corona...\n",
       "4      https://ekstrabladet.dk/ferie/tokyo-faar-genne...\n",
       "...                                                  ...\n",
       "14885  https://ekstrabladet.dk/flash/udlandkendte/kar...\n",
       "14886  https://ekstrabladet.dk/sport/fodbold/udenland...\n",
       "14887  https://ekstrabladet.dk/biler/har-reddet-milli...\n",
       "14888  https://ekstrabladet.dk/112/politiet-stopper-m...\n",
       "14889  https://ekstrabladet.dk/nyheder/politik/danskp...\n",
       "\n",
       "[14890 rows x 1 columns]"
      ]
     },
     "execution_count": 56,
     "metadata": {},
     "output_type": "execute_result"
    }
   ],
   "source": [
    "unique"
   ]
  },
  {
   "cell_type": "code",
   "execution_count": 58,
   "metadata": {},
   "outputs": [
    {
     "name": "stdout",
     "output_type": "stream",
     "text": [
      "there are 4 chunks\n"
     ]
    }
   ],
   "source": [
    "#split into equal chunks of urls.\n",
    "def chunks(lst, n):\n",
    "    \"\"\"Yield successive n-sized chunks from lst.\"\"\"\n",
    "    for i in range(0, len(lst), n):\n",
    "        yield lst[i:i + n]\n",
    "chunks_unique = list(chunks(unique, 4000))\n",
    "print(f'there are {len(unique_chunks)} chunks')\n",
    "chunk0_unique = chunks_unique[0]\n",
    "chunk1_unique = chunks_unique[1]\n",
    "chunk2_unique = chunks_unique[2]\n",
    "chunk3_unique = chunks_unique[3]\n",
    "# save chunks\n",
    "chunk0_unique = pd.DataFrame(data=chunk0_unique)\n",
    "chunk0_unique.to_csv(\"chunk0_unique.csv\", index=False)\n",
    "chunk1_unique = pd.DataFrame(data=chunk1_unique)\n",
    "chunk1_unique.to_csv(\"chunk1_unique.csv\", index=False)\n",
    "chunk2_unique = pd.DataFrame(data=chunk2_unique)\n",
    "chunk2_unique.to_csv(\"chunk2_unique.csv\", index=False)\n",
    "chunk3_unique = pd.DataFrame(data=chunk3_unique)\n",
    "chunk3_unique.to_csv(\"chunk3_unique.csv\", index=False)"
   ]
  },
  {
   "cell_type": "code",
   "execution_count": 86,
   "metadata": {},
   "outputs": [],
   "source": [
    "no_112_chunk2 = [ url for url in chunks_unique[2][0] if \"https://ekstrabladet.dk/112\" not in url ]"
   ]
  },
  {
   "cell_type": "code",
   "execution_count": 88,
   "metadata": {},
   "outputs": [
    {
     "data": {
      "text/plain": [
       "2006"
      ]
     },
     "execution_count": 88,
     "metadata": {},
     "output_type": "execute_result"
    }
   ],
   "source": [
    "len(no_112_chunk2)"
   ]
  },
  {
   "cell_type": "code",
   "execution_count": 90,
   "metadata": {},
   "outputs": [
    {
     "ename": "FileNotFoundError",
     "evalue": "[Errno 2] File chunk0_head_841.csv does not exist: 'chunk0_head_841.csv'",
     "output_type": "error",
     "traceback": [
      "\u001b[1;31m---------------------------------------------------------------------------\u001b[0m",
      "\u001b[1;31mFileNotFoundError\u001b[0m                         Traceback (most recent call last)",
      "\u001b[1;32m<ipython-input-90-10a831cb6d42>\u001b[0m in \u001b[0;36m<module>\u001b[1;34m\u001b[0m\n\u001b[1;32m----> 1\u001b[1;33m \u001b[0mdata0\u001b[0m \u001b[1;33m=\u001b[0m \u001b[0mpd\u001b[0m\u001b[1;33m.\u001b[0m\u001b[0mread_csv\u001b[0m\u001b[1;33m(\u001b[0m\u001b[1;34m\"chunk0_head_841.csv\"\u001b[0m\u001b[1;33m)\u001b[0m\u001b[1;33m\u001b[0m\u001b[1;33m\u001b[0m\u001b[0m\n\u001b[0m\u001b[0;32m      2\u001b[0m \u001b[0mdata1\u001b[0m \u001b[1;33m=\u001b[0m \u001b[0mpd\u001b[0m\u001b[1;33m.\u001b[0m\u001b[0mread_csv\u001b[0m\u001b[1;33m(\u001b[0m\u001b[1;34m\"chunk01_head_done.csv\"\u001b[0m\u001b[1;33m)\u001b[0m\u001b[1;33m\u001b[0m\u001b[1;33m\u001b[0m\u001b[0m\n\u001b[0;32m      3\u001b[0m \u001b[0mdata2\u001b[0m \u001b[1;33m=\u001b[0m \u001b[0mpd\u001b[0m\u001b[1;33m.\u001b[0m\u001b[0mread_csv\u001b[0m\u001b[1;33m(\u001b[0m\u001b[1;34m\"chunk02_head-done.csv\"\u001b[0m\u001b[1;33m)\u001b[0m\u001b[1;33m\u001b[0m\u001b[1;33m\u001b[0m\u001b[0m\n\u001b[0;32m      4\u001b[0m \u001b[0mdata3\u001b[0m \u001b[1;33m=\u001b[0m \u001b[0mpd\u001b[0m\u001b[1;33m.\u001b[0m\u001b[0mread_csv\u001b[0m\u001b[1;33m(\u001b[0m\u001b[1;34m\"chunk2_head _final_finalfinal.csv\"\u001b[0m\u001b[1;33m)\u001b[0m\u001b[1;33m\u001b[0m\u001b[1;33m\u001b[0m\u001b[0m\n\u001b[0;32m      5\u001b[0m \u001b[0mmegachunk\u001b[0m \u001b[1;33m=\u001b[0m \u001b[0mpd\u001b[0m\u001b[1;33m.\u001b[0m\u001b[0mread_csv\u001b[0m\u001b[1;33m(\u001b[0m\u001b[1;34m\"MegaChunk.csv\"\u001b[0m\u001b[1;33m)\u001b[0m\u001b[1;33m\u001b[0m\u001b[1;33m\u001b[0m\u001b[0m\n",
      "\u001b[1;32m~\\anaconda3\\lib\\site-packages\\pandas\\io\\parsers.py\u001b[0m in \u001b[0;36mparser_f\u001b[1;34m(filepath_or_buffer, sep, delimiter, header, names, index_col, usecols, squeeze, prefix, mangle_dupe_cols, dtype, engine, converters, true_values, false_values, skipinitialspace, skiprows, skipfooter, nrows, na_values, keep_default_na, na_filter, verbose, skip_blank_lines, parse_dates, infer_datetime_format, keep_date_col, date_parser, dayfirst, cache_dates, iterator, chunksize, compression, thousands, decimal, lineterminator, quotechar, quoting, doublequote, escapechar, comment, encoding, dialect, error_bad_lines, warn_bad_lines, delim_whitespace, low_memory, memory_map, float_precision)\u001b[0m\n\u001b[0;32m    674\u001b[0m         )\n\u001b[0;32m    675\u001b[0m \u001b[1;33m\u001b[0m\u001b[0m\n\u001b[1;32m--> 676\u001b[1;33m         \u001b[1;32mreturn\u001b[0m \u001b[0m_read\u001b[0m\u001b[1;33m(\u001b[0m\u001b[0mfilepath_or_buffer\u001b[0m\u001b[1;33m,\u001b[0m \u001b[0mkwds\u001b[0m\u001b[1;33m)\u001b[0m\u001b[1;33m\u001b[0m\u001b[1;33m\u001b[0m\u001b[0m\n\u001b[0m\u001b[0;32m    677\u001b[0m \u001b[1;33m\u001b[0m\u001b[0m\n\u001b[0;32m    678\u001b[0m     \u001b[0mparser_f\u001b[0m\u001b[1;33m.\u001b[0m\u001b[0m__name__\u001b[0m \u001b[1;33m=\u001b[0m \u001b[0mname\u001b[0m\u001b[1;33m\u001b[0m\u001b[1;33m\u001b[0m\u001b[0m\n",
      "\u001b[1;32m~\\anaconda3\\lib\\site-packages\\pandas\\io\\parsers.py\u001b[0m in \u001b[0;36m_read\u001b[1;34m(filepath_or_buffer, kwds)\u001b[0m\n\u001b[0;32m    446\u001b[0m \u001b[1;33m\u001b[0m\u001b[0m\n\u001b[0;32m    447\u001b[0m     \u001b[1;31m# Create the parser.\u001b[0m\u001b[1;33m\u001b[0m\u001b[1;33m\u001b[0m\u001b[1;33m\u001b[0m\u001b[0m\n\u001b[1;32m--> 448\u001b[1;33m     \u001b[0mparser\u001b[0m \u001b[1;33m=\u001b[0m \u001b[0mTextFileReader\u001b[0m\u001b[1;33m(\u001b[0m\u001b[0mfp_or_buf\u001b[0m\u001b[1;33m,\u001b[0m \u001b[1;33m**\u001b[0m\u001b[0mkwds\u001b[0m\u001b[1;33m)\u001b[0m\u001b[1;33m\u001b[0m\u001b[1;33m\u001b[0m\u001b[0m\n\u001b[0m\u001b[0;32m    449\u001b[0m \u001b[1;33m\u001b[0m\u001b[0m\n\u001b[0;32m    450\u001b[0m     \u001b[1;32mif\u001b[0m \u001b[0mchunksize\u001b[0m \u001b[1;32mor\u001b[0m \u001b[0miterator\u001b[0m\u001b[1;33m:\u001b[0m\u001b[1;33m\u001b[0m\u001b[1;33m\u001b[0m\u001b[0m\n",
      "\u001b[1;32m~\\anaconda3\\lib\\site-packages\\pandas\\io\\parsers.py\u001b[0m in \u001b[0;36m__init__\u001b[1;34m(self, f, engine, **kwds)\u001b[0m\n\u001b[0;32m    878\u001b[0m             \u001b[0mself\u001b[0m\u001b[1;33m.\u001b[0m\u001b[0moptions\u001b[0m\u001b[1;33m[\u001b[0m\u001b[1;34m\"has_index_names\"\u001b[0m\u001b[1;33m]\u001b[0m \u001b[1;33m=\u001b[0m \u001b[0mkwds\u001b[0m\u001b[1;33m[\u001b[0m\u001b[1;34m\"has_index_names\"\u001b[0m\u001b[1;33m]\u001b[0m\u001b[1;33m\u001b[0m\u001b[1;33m\u001b[0m\u001b[0m\n\u001b[0;32m    879\u001b[0m \u001b[1;33m\u001b[0m\u001b[0m\n\u001b[1;32m--> 880\u001b[1;33m         \u001b[0mself\u001b[0m\u001b[1;33m.\u001b[0m\u001b[0m_make_engine\u001b[0m\u001b[1;33m(\u001b[0m\u001b[0mself\u001b[0m\u001b[1;33m.\u001b[0m\u001b[0mengine\u001b[0m\u001b[1;33m)\u001b[0m\u001b[1;33m\u001b[0m\u001b[1;33m\u001b[0m\u001b[0m\n\u001b[0m\u001b[0;32m    881\u001b[0m \u001b[1;33m\u001b[0m\u001b[0m\n\u001b[0;32m    882\u001b[0m     \u001b[1;32mdef\u001b[0m \u001b[0mclose\u001b[0m\u001b[1;33m(\u001b[0m\u001b[0mself\u001b[0m\u001b[1;33m)\u001b[0m\u001b[1;33m:\u001b[0m\u001b[1;33m\u001b[0m\u001b[1;33m\u001b[0m\u001b[0m\n",
      "\u001b[1;32m~\\anaconda3\\lib\\site-packages\\pandas\\io\\parsers.py\u001b[0m in \u001b[0;36m_make_engine\u001b[1;34m(self, engine)\u001b[0m\n\u001b[0;32m   1112\u001b[0m     \u001b[1;32mdef\u001b[0m \u001b[0m_make_engine\u001b[0m\u001b[1;33m(\u001b[0m\u001b[0mself\u001b[0m\u001b[1;33m,\u001b[0m \u001b[0mengine\u001b[0m\u001b[1;33m=\u001b[0m\u001b[1;34m\"c\"\u001b[0m\u001b[1;33m)\u001b[0m\u001b[1;33m:\u001b[0m\u001b[1;33m\u001b[0m\u001b[1;33m\u001b[0m\u001b[0m\n\u001b[0;32m   1113\u001b[0m         \u001b[1;32mif\u001b[0m \u001b[0mengine\u001b[0m \u001b[1;33m==\u001b[0m \u001b[1;34m\"c\"\u001b[0m\u001b[1;33m:\u001b[0m\u001b[1;33m\u001b[0m\u001b[1;33m\u001b[0m\u001b[0m\n\u001b[1;32m-> 1114\u001b[1;33m             \u001b[0mself\u001b[0m\u001b[1;33m.\u001b[0m\u001b[0m_engine\u001b[0m \u001b[1;33m=\u001b[0m \u001b[0mCParserWrapper\u001b[0m\u001b[1;33m(\u001b[0m\u001b[0mself\u001b[0m\u001b[1;33m.\u001b[0m\u001b[0mf\u001b[0m\u001b[1;33m,\u001b[0m \u001b[1;33m**\u001b[0m\u001b[0mself\u001b[0m\u001b[1;33m.\u001b[0m\u001b[0moptions\u001b[0m\u001b[1;33m)\u001b[0m\u001b[1;33m\u001b[0m\u001b[1;33m\u001b[0m\u001b[0m\n\u001b[0m\u001b[0;32m   1115\u001b[0m         \u001b[1;32melse\u001b[0m\u001b[1;33m:\u001b[0m\u001b[1;33m\u001b[0m\u001b[1;33m\u001b[0m\u001b[0m\n\u001b[0;32m   1116\u001b[0m             \u001b[1;32mif\u001b[0m \u001b[0mengine\u001b[0m \u001b[1;33m==\u001b[0m \u001b[1;34m\"python\"\u001b[0m\u001b[1;33m:\u001b[0m\u001b[1;33m\u001b[0m\u001b[1;33m\u001b[0m\u001b[0m\n",
      "\u001b[1;32m~\\anaconda3\\lib\\site-packages\\pandas\\io\\parsers.py\u001b[0m in \u001b[0;36m__init__\u001b[1;34m(self, src, **kwds)\u001b[0m\n\u001b[0;32m   1889\u001b[0m         \u001b[0mkwds\u001b[0m\u001b[1;33m[\u001b[0m\u001b[1;34m\"usecols\"\u001b[0m\u001b[1;33m]\u001b[0m \u001b[1;33m=\u001b[0m \u001b[0mself\u001b[0m\u001b[1;33m.\u001b[0m\u001b[0musecols\u001b[0m\u001b[1;33m\u001b[0m\u001b[1;33m\u001b[0m\u001b[0m\n\u001b[0;32m   1890\u001b[0m \u001b[1;33m\u001b[0m\u001b[0m\n\u001b[1;32m-> 1891\u001b[1;33m         \u001b[0mself\u001b[0m\u001b[1;33m.\u001b[0m\u001b[0m_reader\u001b[0m \u001b[1;33m=\u001b[0m \u001b[0mparsers\u001b[0m\u001b[1;33m.\u001b[0m\u001b[0mTextReader\u001b[0m\u001b[1;33m(\u001b[0m\u001b[0msrc\u001b[0m\u001b[1;33m,\u001b[0m \u001b[1;33m**\u001b[0m\u001b[0mkwds\u001b[0m\u001b[1;33m)\u001b[0m\u001b[1;33m\u001b[0m\u001b[1;33m\u001b[0m\u001b[0m\n\u001b[0m\u001b[0;32m   1892\u001b[0m         \u001b[0mself\u001b[0m\u001b[1;33m.\u001b[0m\u001b[0munnamed_cols\u001b[0m \u001b[1;33m=\u001b[0m \u001b[0mself\u001b[0m\u001b[1;33m.\u001b[0m\u001b[0m_reader\u001b[0m\u001b[1;33m.\u001b[0m\u001b[0munnamed_cols\u001b[0m\u001b[1;33m\u001b[0m\u001b[1;33m\u001b[0m\u001b[0m\n\u001b[0;32m   1893\u001b[0m \u001b[1;33m\u001b[0m\u001b[0m\n",
      "\u001b[1;32mpandas\\_libs\\parsers.pyx\u001b[0m in \u001b[0;36mpandas._libs.parsers.TextReader.__cinit__\u001b[1;34m()\u001b[0m\n",
      "\u001b[1;32mpandas\\_libs\\parsers.pyx\u001b[0m in \u001b[0;36mpandas._libs.parsers.TextReader._setup_parser_source\u001b[1;34m()\u001b[0m\n",
      "\u001b[1;31mFileNotFoundError\u001b[0m: [Errno 2] File chunk0_head_841.csv does not exist: 'chunk0_head_841.csv'"
     ]
    }
   ],
   "source": [
    "data0 = pd.read_csv(\"chunk0_head_841.csv\")\n",
    "data1 = pd.read_csv(\"chunk01_head_done.csv\")\n",
    "data2 = pd.read_csv(\"chunk02_head-done.csv\")\n",
    "data3 = pd.read_csv(\"chunk2_head _final_finalfinal.csv\")\n",
    "megachunk = pd.read_csv(\"MegaChunk.csv\")\n",
    "data5 = pd.read_csv(\"round2Bot3.csv\")"
   ]
  }
 ],
 "metadata": {
  "kernelspec": {
   "display_name": "Python 3",
   "language": "python",
   "name": "python3"
  },
  "language_info": {
   "codemirror_mode": {
    "name": "ipython",
    "version": 3
   },
   "file_extension": ".py",
   "mimetype": "text/x-python",
   "name": "python",
   "nbconvert_exporter": "python",
   "pygments_lexer": "ipython3",
   "version": "3.7.6"
  }
 },
 "nbformat": 4,
 "nbformat_minor": 4
}
