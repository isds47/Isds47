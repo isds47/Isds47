{
 "cells": [
  {
   "cell_type": "code",
   "execution_count": 2,
   "metadata": {},
   "outputs": [],
   "source": [
    "import pandas as pd"
   ]
  },
  {
   "cell_type": "code",
   "execution_count": 3,
   "metadata": {},
   "outputs": [],
   "source": [
    "chunk0_head = pd.read_csv(\"chunk0_head_4370.csv\")\n",
    "chunk1_head = pd.read_csv('chunk2_head-Copy3.csv')\n",
    "chunk3_head = pd.read_csv('Magnus1headkorrekt.csv')\n",
    "chunk4_head = pd.read_csv('sofus2head.csv')\n",
    "chunk5_head = pd.read_csv('sofus3head.csv')\n",
    "chunk6_head = pd.read_csv('sofus4head.csv')"
   ]
  },
  {
   "cell_type": "code",
   "execution_count": 16,
   "metadata": {},
   "outputs": [],
   "source": [
    "all_the_stuff = chunk0_head.append(chunk1_head).append(chunk3_head).append(chunk4_head).append(chunk5_head).append(chunk6_head)"
   ]
  },
  {
   "cell_type": "code",
   "execution_count": 17,
   "metadata": {},
   "outputs": [],
   "source": [
    "all_the_stuff = all_the_stuff.drop_duplicates()"
   ]
  },
  {
   "cell_type": "code",
   "execution_count": 18,
   "metadata": {},
   "outputs": [],
   "source": [
    "urls = pd.read_csv('urls.csv')"
   ]
  },
  {
   "cell_type": "code",
   "execution_count": 19,
   "metadata": {},
   "outputs": [],
   "source": [
    "df = pd.DataFrame()"
   ]
  },
  {
   "cell_type": "code",
   "execution_count": 20,
   "metadata": {},
   "outputs": [
    {
     "data": {
      "text/html": [
       "<div>\n",
       "<style scoped>\n",
       "    .dataframe tbody tr th:only-of-type {\n",
       "        vertical-align: middle;\n",
       "    }\n",
       "\n",
       "    .dataframe tbody tr th {\n",
       "        vertical-align: top;\n",
       "    }\n",
       "\n",
       "    .dataframe thead th {\n",
       "        text-align: right;\n",
       "    }\n",
       "</style>\n",
       "<table border=\"1\" class=\"dataframe\">\n",
       "  <thead>\n",
       "    <tr style=\"text-align: right;\">\n",
       "      <th></th>\n",
       "      <th>0</th>\n",
       "      <th>1</th>\n",
       "      <th>2</th>\n",
       "      <th>3</th>\n",
       "      <th>4</th>\n",
       "      <th>5</th>\n",
       "    </tr>\n",
       "  </thead>\n",
       "  <tbody>\n",
       "    <tr>\n",
       "      <th>0</th>\n",
       "      <td>https://ekstrabladet.dk/nyheder/politik/danskp...</td>\n",
       "      <td>1952</td>\n",
       "      <td>Statsministeren åbner for muligt påbud om mund...</td>\n",
       "      <td>NaN</td>\n",
       "      <td>Statsminister Mette Frederiksen (S) åbner for,...</td>\n",
       "      <td>7. aug. 2020</td>\n",
       "    </tr>\n",
       "    <tr>\n",
       "      <th>1</th>\n",
       "      <td>https://ekstrabladet.dk/nyheder/politik/danskp...</td>\n",
       "      <td>448</td>\n",
       "      <td>Mette F. afviser at åbne for nattelivet i august</td>\n",
       "      <td>Mette Frederiksen (S) siger, at hun ikke kan s...</td>\n",
       "      <td>Statsminister Mette Frederiksen (S) siger, at ...</td>\n",
       "      <td>7. aug. 2020</td>\n",
       "    </tr>\n",
       "    <tr>\n",
       "      <th>2</th>\n",
       "      <td>https://ekstrabladet.dk/flash/filmogtv/daarlig...</td>\n",
       "      <td>34</td>\n",
       "      <td>Dårligt nyt til 'Venner'-fans</td>\n",
       "      <td>NaN</td>\n",
       "      <td>Der var gode nyheder til fans af serien 'Frien...</td>\n",
       "      <td>7. aug. 2020</td>\n",
       "    </tr>\n",
       "    <tr>\n",
       "      <th>3</th>\n",
       "      <td>https://ekstrabladet.dk/nyheder/samfund/flemmi...</td>\n",
       "      <td>227</td>\n",
       "      <td>Flemming dødtræt af Elgiganten: Gør det aldrig!</td>\n",
       "      <td>NaN</td>\n",
       "      <td>Per, Mikkel, Jeppe, Allan, Zanshi og Jasmin. F...</td>\n",
       "      <td>7. aug. 2020</td>\n",
       "    </tr>\n",
       "    <tr>\n",
       "      <th>4</th>\n",
       "      <td>https://ekstrabladet.dk/nyheder/samfund/venstr...</td>\n",
       "      <td>27</td>\n",
       "      <td>Venstre vil have håndtrykket tilbage, hvis det...</td>\n",
       "      <td>Virolog mener dog ikke, at tidspunktet er det ...</td>\n",
       "      <td>Hvis du synes, det var svært at finde ud af, h...</td>\n",
       "      <td>7. aug. 2020</td>\n",
       "    </tr>\n",
       "    <tr>\n",
       "      <th>...</th>\n",
       "      <td>...</td>\n",
       "      <td>...</td>\n",
       "      <td>...</td>\n",
       "      <td>...</td>\n",
       "      <td>...</td>\n",
       "      <td>...</td>\n",
       "    </tr>\n",
       "    <tr>\n",
       "      <th>1154</th>\n",
       "      <td>https://ekstrabladet.dk/sport/fodbold/dansk_fo...</td>\n",
       "      <td>7</td>\n",
       "      <td>Vanvid i 2. division: Utrolige cifre</td>\n",
       "      <td>NaN</td>\n",
       "      <td>HUSK du kan se Danish Fight Night lørdag aften...</td>\n",
       "      <td>11. okt. 2019</td>\n",
       "    </tr>\n",
       "    <tr>\n",
       "      <th>1155</th>\n",
       "      <td>https://ekstrabladet.dk/flash/udlandkendte/leg...</td>\n",
       "      <td>135</td>\n",
       "      <td>Legendarisk skuespiller anholdt og lagt i hånd...</td>\n",
       "      <td>NaN</td>\n",
       "      <td>Jane Fonda lovede for nylig at lave ugentlige ...</td>\n",
       "      <td>11. okt. 2019</td>\n",
       "    </tr>\n",
       "    <tr>\n",
       "      <th>1156</th>\n",
       "      <td>https://ekstrabladet.dk/nyheder/samfund/flere-...</td>\n",
       "      <td>225</td>\n",
       "      <td>Flere tusinde biler kører rundt med fejl: Arme...</td>\n",
       "      <td>NaN</td>\n",
       "      <td>Flere tusinde Nissan-biler har en fejl, som gø...</td>\n",
       "      <td>11. okt. 2019</td>\n",
       "    </tr>\n",
       "    <tr>\n",
       "      <th>1157</th>\n",
       "      <td>https://ekstrabladet.dk/nyheder/samfund/trump-...</td>\n",
       "      <td>125</td>\n",
       "      <td>Trump klar til betydelige sanktioner mod Tyrkiet</td>\n",
       "      <td>NaN</td>\n",
       "      <td>USA' præsident, Donald Trump, har givet sin ad...</td>\n",
       "      <td>11. okt. 2019</td>\n",
       "    </tr>\n",
       "    <tr>\n",
       "      <th>1159</th>\n",
       "      <td>https://ekstrabladet.dk/ferie/verdens-foerste-...</td>\n",
       "      <td>2</td>\n",
       "      <td>Verdens første rejseguide udstilles på museum</td>\n",
       "      <td>NaN</td>\n",
       "      <td>Hvis man skal ud at rejse i dag, er der utalli...</td>\n",
       "      <td>11. okt. 2019</td>\n",
       "    </tr>\n",
       "  </tbody>\n",
       "</table>\n",
       "<p>20165 rows × 6 columns</p>\n",
       "</div>"
      ],
      "text/plain": [
       "                                                      0     1  \\\n",
       "0     https://ekstrabladet.dk/nyheder/politik/danskp...  1952   \n",
       "1     https://ekstrabladet.dk/nyheder/politik/danskp...   448   \n",
       "2     https://ekstrabladet.dk/flash/filmogtv/daarlig...    34   \n",
       "3     https://ekstrabladet.dk/nyheder/samfund/flemmi...   227   \n",
       "4     https://ekstrabladet.dk/nyheder/samfund/venstr...    27   \n",
       "...                                                 ...   ...   \n",
       "1154  https://ekstrabladet.dk/sport/fodbold/dansk_fo...     7   \n",
       "1155  https://ekstrabladet.dk/flash/udlandkendte/leg...   135   \n",
       "1156  https://ekstrabladet.dk/nyheder/samfund/flere-...   225   \n",
       "1157  https://ekstrabladet.dk/nyheder/samfund/trump-...   125   \n",
       "1159  https://ekstrabladet.dk/ferie/verdens-foerste-...     2   \n",
       "\n",
       "                                                      2  \\\n",
       "0     Statsministeren åbner for muligt påbud om mund...   \n",
       "1      Mette F. afviser at åbne for nattelivet i august   \n",
       "2                         Dårligt nyt til 'Venner'-fans   \n",
       "3       Flemming dødtræt af Elgiganten: Gør det aldrig!   \n",
       "4     Venstre vil have håndtrykket tilbage, hvis det...   \n",
       "...                                                 ...   \n",
       "1154              Vanvid i 2. division: Utrolige cifre    \n",
       "1155  Legendarisk skuespiller anholdt og lagt i hånd...   \n",
       "1156  Flere tusinde biler kører rundt med fejl: Arme...   \n",
       "1157   Trump klar til betydelige sanktioner mod Tyrkiet   \n",
       "1159     Verdens første rejseguide udstilles på museum    \n",
       "\n",
       "                                                      3  \\\n",
       "0                                                   NaN   \n",
       "1     Mette Frederiksen (S) siger, at hun ikke kan s...   \n",
       "2                                                   NaN   \n",
       "3                                                   NaN   \n",
       "4     Virolog mener dog ikke, at tidspunktet er det ...   \n",
       "...                                                 ...   \n",
       "1154                                                NaN   \n",
       "1155                                                NaN   \n",
       "1156                                                NaN   \n",
       "1157                                                NaN   \n",
       "1159                                                NaN   \n",
       "\n",
       "                                                      4              5  \n",
       "0     Statsminister Mette Frederiksen (S) åbner for,...   7. aug. 2020  \n",
       "1     Statsminister Mette Frederiksen (S) siger, at ...   7. aug. 2020  \n",
       "2     Der var gode nyheder til fans af serien 'Frien...   7. aug. 2020  \n",
       "3     Per, Mikkel, Jeppe, Allan, Zanshi og Jasmin. F...   7. aug. 2020  \n",
       "4     Hvis du synes, det var svært at finde ud af, h...   7. aug. 2020  \n",
       "...                                                 ...            ...  \n",
       "1154  HUSK du kan se Danish Fight Night lørdag aften...  11. okt. 2019  \n",
       "1155  Jane Fonda lovede for nylig at lave ugentlige ...  11. okt. 2019  \n",
       "1156  Flere tusinde Nissan-biler har en fejl, som gø...  11. okt. 2019  \n",
       "1157  USA' præsident, Donald Trump, har givet sin ad...  11. okt. 2019  \n",
       "1159  Hvis man skal ud at rejse i dag, er der utalli...  11. okt. 2019  \n",
       "\n",
       "[20165 rows x 6 columns]"
      ]
     },
     "execution_count": 20,
     "metadata": {},
     "output_type": "execute_result"
    }
   ],
   "source": []
  },
  {
   "cell_type": "code",
   "execution_count": 21,
   "metadata": {},
   "outputs": [],
   "source": [
    "all_the_stuff.to_csv(\"MegaChunk.csv\", index=False)"
   ]
  },
  {
   "cell_type": "code",
   "execution_count": null,
   "metadata": {},
   "outputs": [],
   "source": []
  },
  {
   "cell_type": "code",
   "execution_count": null,
   "metadata": {},
   "outputs": [],
   "source": [
    "df[\"Unique\"] = all_the_stuff['0'][~df[\"Ligand_miss\"].isin(df[\"Ligand_hit\"])].drop_duplicates()"
   ]
  },
  {
   "cell_type": "code",
   "execution_count": 17,
   "metadata": {},
   "outputs": [],
   "source": [
    "urls = pd.read_csv('urls.csv')\n",
    "megachunk = pd.read_csv('MegaChunk.csv')\n",
    "unique = list(urls['0'])"
   ]
  },
  {
   "cell_type": "code",
   "execution_count": 23,
   "metadata": {},
   "outputs": [
    {
     "data": {
      "text/plain": [
       "0        https://ekstrabladet.dk/nyheder/politik/danskp...\n",
       "1        https://ekstrabladet.dk/nyheder/politik/danskp...\n",
       "2        https://ekstrabladet.dk/flash/filmogtv/daarlig...\n",
       "3        https://ekstrabladet.dk/nyheder/samfund/flemmi...\n",
       "4        https://ekstrabladet.dk/nyheder/samfund/venstr...\n",
       "                               ...                        \n",
       "20160    https://ekstrabladet.dk/sport/fodbold/dansk_fo...\n",
       "20161    https://ekstrabladet.dk/flash/udlandkendte/leg...\n",
       "20162    https://ekstrabladet.dk/nyheder/samfund/flere-...\n",
       "20163    https://ekstrabladet.dk/nyheder/samfund/trump-...\n",
       "20164    https://ekstrabladet.dk/ferie/verdens-foerste-...\n",
       "Name: 0, Length: 20165, dtype: object"
      ]
     },
     "execution_count": 23,
     "metadata": {},
     "output_type": "execute_result"
    }
   ],
   "source": [
    "megachunk['0']"
   ]
  },
  {
   "cell_type": "code",
   "execution_count": 26,
   "metadata": {},
   "outputs": [
    {
     "data": {
      "text/plain": [
       "0        https://ekstrabladet.dk/flash/filmogtv/helt-ny...\n",
       "1        https://ekstrabladet.dk/nyheder/erhvervsnyhede...\n",
       "2        https://ekstrabladet.dk/sport/fodbold/landshol...\n",
       "3        https://ekstrabladet.dk/nyheder/samfund/corona...\n",
       "4        https://ekstrabladet.dk/ferie/tokyo-faar-genne...\n",
       "                               ...                        \n",
       "37225    https://ekstrabladet.dk/flash/udlandkendte/kar...\n",
       "37226    https://ekstrabladet.dk/sport/fodbold/udenland...\n",
       "37227    https://ekstrabladet.dk/biler/har-reddet-milli...\n",
       "37228    https://ekstrabladet.dk/112/politiet-stopper-m...\n",
       "37229    https://ekstrabladet.dk/nyheder/politik/danskp...\n",
       "Name: 0, Length: 37230, dtype: object"
      ]
     },
     "execution_count": 26,
     "metadata": {},
     "output_type": "execute_result"
    }
   ],
   "source": [
    "urls['0']"
   ]
  },
  {
   "cell_type": "code",
   "execution_count": null,
   "metadata": {},
   "outputs": [],
   "source": [
    "\n",
    "i = 0\n",
    "for link in list(megachunk['0']):\n",
    "    if link in list(urls['0']):\n",
    "        i +=1\n",
    "        unique.remove(link)\n",
    "        if i%1000==0:\n",
    "            print(f'total links: {len(unique)}')"
   ]
  },
  {
   "cell_type": "code",
   "execution_count": 35,
   "metadata": {},
   "outputs": [],
   "source": [
    "i = 0\n",
    "for link in unique:\n",
    "    if link in list(megachunk['0']):\n",
    "        i +=1\n",
    "        unique.remove(link)\n",
    "        if i%1000==0:\n",
    "            print(f'total links: {len(unique)}')"
   ]
  },
  {
   "cell_type": "code",
   "execution_count": null,
   "metadata": {},
   "outputs": [],
   "source": []
  },
  {
   "cell_type": "code",
   "execution_count": 40,
   "metadata": {},
   "outputs": [
    {
     "data": {
      "text/plain": [
       "17151"
      ]
     },
     "execution_count": 40,
     "metadata": {},
     "output_type": "execute_result"
    }
   ],
   "source": [
    "len(unique)"
   ]
  },
  {
   "cell_type": "code",
   "execution_count": 44,
   "metadata": {},
   "outputs": [],
   "source": [
    "unique = pd.DataFrame(data = unique)"
   ]
  },
  {
   "cell_type": "code",
   "execution_count": 51,
   "metadata": {},
   "outputs": [],
   "source": [
    "unique = [ url for url in unique[0] if \"https://ekstrabladet.dk/plus\" not in url ]"
   ]
  },
  {
   "cell_type": "code",
   "execution_count": 55,
   "metadata": {},
   "outputs": [],
   "source": [
    "\n",
    "unique = pd.DataFrame(data = unique)\n",
    "unique.to_csv(\"unique_links.csv\", index=False)"
   ]
  },
  {
   "cell_type": "code",
   "execution_count": 56,
   "metadata": {},
   "outputs": [
    {
     "data": {
      "text/html": [
       "<div>\n",
       "<style scoped>\n",
       "    .dataframe tbody tr th:only-of-type {\n",
       "        vertical-align: middle;\n",
       "    }\n",
       "\n",
       "    .dataframe tbody tr th {\n",
       "        vertical-align: top;\n",
       "    }\n",
       "\n",
       "    .dataframe thead th {\n",
       "        text-align: right;\n",
       "    }\n",
       "</style>\n",
       "<table border=\"1\" class=\"dataframe\">\n",
       "  <thead>\n",
       "    <tr style=\"text-align: right;\">\n",
       "      <th></th>\n",
       "      <th>0</th>\n",
       "    </tr>\n",
       "  </thead>\n",
       "  <tbody>\n",
       "    <tr>\n",
       "      <th>0</th>\n",
       "      <td>https://ekstrabladet.dk/flash/filmogtv/helt-ny...</td>\n",
       "    </tr>\n",
       "    <tr>\n",
       "      <th>1</th>\n",
       "      <td>https://ekstrabladet.dk/nyheder/erhvervsnyhede...</td>\n",
       "    </tr>\n",
       "    <tr>\n",
       "      <th>2</th>\n",
       "      <td>https://ekstrabladet.dk/sport/fodbold/landshol...</td>\n",
       "    </tr>\n",
       "    <tr>\n",
       "      <th>3</th>\n",
       "      <td>https://ekstrabladet.dk/nyheder/samfund/corona...</td>\n",
       "    </tr>\n",
       "    <tr>\n",
       "      <th>4</th>\n",
       "      <td>https://ekstrabladet.dk/ferie/tokyo-faar-genne...</td>\n",
       "    </tr>\n",
       "    <tr>\n",
       "      <th>...</th>\n",
       "      <td>...</td>\n",
       "    </tr>\n",
       "    <tr>\n",
       "      <th>14885</th>\n",
       "      <td>https://ekstrabladet.dk/flash/udlandkendte/kar...</td>\n",
       "    </tr>\n",
       "    <tr>\n",
       "      <th>14886</th>\n",
       "      <td>https://ekstrabladet.dk/sport/fodbold/udenland...</td>\n",
       "    </tr>\n",
       "    <tr>\n",
       "      <th>14887</th>\n",
       "      <td>https://ekstrabladet.dk/biler/har-reddet-milli...</td>\n",
       "    </tr>\n",
       "    <tr>\n",
       "      <th>14888</th>\n",
       "      <td>https://ekstrabladet.dk/112/politiet-stopper-m...</td>\n",
       "    </tr>\n",
       "    <tr>\n",
       "      <th>14889</th>\n",
       "      <td>https://ekstrabladet.dk/nyheder/politik/danskp...</td>\n",
       "    </tr>\n",
       "  </tbody>\n",
       "</table>\n",
       "<p>14890 rows × 1 columns</p>\n",
       "</div>"
      ],
      "text/plain": [
       "                                                       0\n",
       "0      https://ekstrabladet.dk/flash/filmogtv/helt-ny...\n",
       "1      https://ekstrabladet.dk/nyheder/erhvervsnyhede...\n",
       "2      https://ekstrabladet.dk/sport/fodbold/landshol...\n",
       "3      https://ekstrabladet.dk/nyheder/samfund/corona...\n",
       "4      https://ekstrabladet.dk/ferie/tokyo-faar-genne...\n",
       "...                                                  ...\n",
       "14885  https://ekstrabladet.dk/flash/udlandkendte/kar...\n",
       "14886  https://ekstrabladet.dk/sport/fodbold/udenland...\n",
       "14887  https://ekstrabladet.dk/biler/har-reddet-milli...\n",
       "14888  https://ekstrabladet.dk/112/politiet-stopper-m...\n",
       "14889  https://ekstrabladet.dk/nyheder/politik/danskp...\n",
       "\n",
       "[14890 rows x 1 columns]"
      ]
     },
     "execution_count": 56,
     "metadata": {},
     "output_type": "execute_result"
    }
   ],
   "source": [
    "unique"
   ]
  },
  {
   "cell_type": "code",
   "execution_count": null,
   "metadata": {},
   "outputs": [],
   "source": [
    "#split into equal chunks of urls.\n",
    "def chunks(lst, n):\n",
    "    \"\"\"Yield successive n-sized chunks from lst.\"\"\"\n",
    "    for i in range(0, len(lst), n):\n",
    "        yield lst[i:i + n]\n",
    "unique_chunks = list(chunks(unique, 4000))\n",
    "print(f'there are {len(unique_chunks)} chunks')\n",
    "chunk0_unique = chunks_unique[0]\n",
    "chunk1_unique = chunks_unique[1]\n",
    "chunk2_unique = chunks_unique[2]\n",
    "chunk3_unique = chunks_unique[3]\n",
    "# save chunks\n",
    "chunk0_unique = pd.DataFrame(data=chunk0_unique)\n",
    "chunk0_unique.to_csv(\"chunk0_unique.csv\", index=False)\n",
    "chunk1_unique = pd.DataFrame(data=chunk1_unique)\n",
    "chunk1_unique.to_csv(\"chunk1_unique.csv\", index=False)\n",
    "chunk2_unique = pd.DataFrame(data=chunk2_unique)\n",
    "chunk2_unique.to_csv(\"chunk2.csv\", index=False)\n",
    "chunk3 = pd.DataFrame(data=chunk3)\n",
    "chunk3.to_csv(\"chunk3.csv\", index=False)"
   ]
  }
 ],
 "metadata": {
  "kernelspec": {
   "display_name": "Python 3",
   "language": "python",
   "name": "python3"
  },
  "language_info": {
   "codemirror_mode": {
    "name": "ipython",
    "version": 3
   },
   "file_extension": ".py",
   "mimetype": "text/x-python",
   "name": "python",
   "nbconvert_exporter": "python",
   "pygments_lexer": "ipython3",
   "version": "3.7.6"
  }
 },
 "nbformat": 4,
 "nbformat_minor": 4
}
