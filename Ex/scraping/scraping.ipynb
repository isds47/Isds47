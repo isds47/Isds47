{
 "cells": [
  {
   "cell_type": "code",
   "execution_count": 29,
   "metadata": {},
   "outputs": [],
   "source": [
    "import scraping_class\n",
    "import requests\n",
    "import random\n",
    "import tqdm\n",
    "import pandas as pd\n",
    "import time\n",
    "import numpy as np\n",
    "import datetime\n",
    "import pytest\n",
    "logfile = 'log.csv'## name your log file.\n",
    "connector = scraping_class.Connector(logfile)\n",
    "\n",
    "from multiprocessing import Queue, cpu_count\n",
    "from threading import Thread\n",
    "from numpy.random import randint\n",
    "import logging\n",
    "\n",
    "# similarity/distance measures\n",
    "from scipy.spatial import distance\n",
    "from sklearn.metrics.pairwise import linear_kernel\n",
    "\n",
    "# for vectorization \n",
    "from sklearn.feature_extraction.text import CountVectorizer\n",
    "from sklearn.feature_extraction.text import TfidfVectorizer\n",
    "from sklearn.feature_extraction.text import TfidfTransformer\n",
    "\n",
    "from selenium import webdriver\n",
    "import re\n",
    "import os\n",
    "import time\n",
    "from bs4 import BeautifulSoup\n",
    "from selenium.webdriver.common.keys import Keys"
   ]
  },
  {
   "cell_type": "code",
   "execution_count": 30,
   "metadata": {},
   "outputs": [],
   "source": [
    "dirname = os.getcwd()\n",
    "path = os.path.join(dirname, 'chromedriver')\n",
    "driver = webdriver.Chrome(executable_path=path)"
   ]
  },
  {
   "cell_type": "markdown",
   "metadata": {},
   "source": [
    "Problemer med en cookie pop-up"
   ]
  },
  {
   "cell_type": "code",
   "execution_count": null,
   "metadata": {},
   "outputs": [],
   "source": [
    "# Finds and extracts all urls from a search term\n",
    "search_term = 'a'\n",
    "url = f'https://ekstrabladet.dk/find/?g=true&q={search_term}'\n",
    "driver.get(url)\n",
    "time.sleep(1)\n",
    "# more comments button\n",
    "next_page = driver.find_element_by_xpath('/html/body/div[2]/div[2]/div[2]/div[4]/div[1]/div/div/div/div[32]/button')\n",
    "# show all comment\n",
    "\n",
    "loops = 0\n",
    "url_pattern = 'https:\\/\\/[-a-zA-Z0-9@:%._\\+~#=]{2,256}\\.[a-z]{2,4}[-a-zA-Z0-9@:%_\\+.~#?&//=;]*'\n",
    "for i in range(100000): # how many times to press next\n",
    "    loops += 1\n",
    "    try:\n",
    "        next_page.click() # when this shows an error, i.e. no more comments, it breaks.\n",
    "        time.sleep(0.5)\n",
    "        if loops %100 == 0: # save every 100 loops\n",
    "            # get soup\n",
    "            search_soup = BeautifulSoup(driver.page_source, 'lxml')\n",
    "            articles = search_soup.find_all(class_='flex-item mar-l--b width-1of1') # links soup\n",
    "            print(f'{loops} out of 100,000')\n",
    "            urls = []\n",
    "            \n",
    "            for i in range(len(articles)):\n",
    "                urls.append(re.findall(url_pattern, str(articles[i]))) # save url\n",
    "            \n",
    "            print(f'there are now {len(urls)} urls')\n",
    "            \n",
    "            # save to cvs\n",
    "            df_urls = pd.DataFrame(data=urls)\n",
    "            df_urls.to_csv(\"urls.csv\", index=False)\n",
    "    except: # if there are no more articles\n",
    "        print('stop') # stop :I\n",
    "        break"
   ]
  },
  {
   "cell_type": "code",
   "execution_count": 8,
   "metadata": {},
   "outputs": [],
   "source": [
    "# save soup\n",
    "with open(\"search_html.txt\", \"w\", encoding=\"utf-8\") as f:\n",
    "    f.write(search_soup.get_text())\n",
    "    f.close()"
   ]
  },
  {
   "cell_type": "code",
   "execution_count": 3,
   "metadata": {},
   "outputs": [],
   "source": [
    "# load urls\n",
    "urls = pd.read_csv(\"urls.csv\")"
   ]
  },
  {
   "cell_type": "code",
   "execution_count": 4,
   "metadata": {},
   "outputs": [],
   "source": [
    "# remove plus articles\n",
    "urls_no_plus = [ url for url in urls['0'] if \"https://ekstrabladet.dk/plus\" not in url ]"
   ]
  },
  {
   "cell_type": "code",
   "execution_count": 94,
   "metadata": {},
   "outputs": [],
   "source": [
    "i = 0\n",
    "list1 = []\n",
    "'''\n",
    "Scrape headlines, number of comments, and time.\n",
    "'''\n",
    "def get_head(list, n):\n",
    "    for url in urls_no_plus:\n",
    "        global i\n",
    "        no_comments = False\n",
    "        data_list = []\n",
    "        i +=1\n",
    "        if i%100 == 0:\n",
    "            print(f'{i} out of {len(urls_no_plus)}')\n",
    "        if i == n: # break after n articles\n",
    "            break\n",
    "\n",
    "        data_list.append(url) # save url to df\n",
    "        driver.get(url) # open the current url\n",
    "        time.sleep(0.5)\n",
    "        url_soup = BeautifulSoup(driver.page_source, 'lxml') # save soup\n",
    "\n",
    "\n",
    "        # get ammount of comments\n",
    "        while True:\n",
    "            try:\n",
    "                comments = url_soup.find_all(id='fnTalkCommentText') # div with the comment link\n",
    "                comments = re.findall('\\d+',comments[0].text)\n",
    "                data_list.append(int(comments[0]))\n",
    "                break\n",
    "            except:\n",
    "                data_list.append(np.nan)\n",
    "                no_comments = True\n",
    "                break\n",
    "\n",
    "        # skips url if no comments\n",
    "        if no_comments: \n",
    "            continue\n",
    "\n",
    "\n",
    "        # get headline\n",
    "        while True:\n",
    "            try:\n",
    "                headline = url_soup.find_all(class_='art-title') \n",
    "                headline = re.sub('\\\\n {16}','',headline[0].text)\n",
    "                data_list.append(headline)\n",
    "                break\n",
    "            except:\n",
    "                data_list.append(np.nan)\n",
    "                break\n",
    "        \n",
    "        # get subtitle\n",
    "        while True:\n",
    "            try:\n",
    "                subtitle = url_soup.find_all(class_='art-subtitle') \n",
    "                data_list.append(subtitle[0].text)\n",
    "                break\n",
    "            except:\n",
    "                data_list.append(np.nan)\n",
    "                break\n",
    "        \n",
    "        \n",
    "        # get bread\n",
    "        while True:\n",
    "            try:\n",
    "                bread = url_soup.find_all(class_='article-bodytext') \n",
    "                bread = re.sub(r'\\n','',bread[0].text)\n",
    "                bread = re.sub(r'      .*$','',bread)\n",
    "                data_list.append(bread)\n",
    "                break\n",
    "            except:\n",
    "                data_list.append(np.nan)\n",
    "                break\n",
    "\n",
    "        # get date\n",
    "        while True:\n",
    "            try:\n",
    "                date = url_soup.find(class_='eb-row article-timestamp').get_text()\n",
    "                date=re.findall(\"\\d{1,2}. \\w+. \\d{4}\",date)\n",
    "                data_list.append(date[0])\n",
    "                break\n",
    "            except:\n",
    "                data_list.append(np.nan)\n",
    "                break\n",
    "\n",
    "        # save to list of lists\n",
    "        list1.append(data_list)\n",
    "    return list1"
   ]
  },
  {
   "cell_type": "code",
   "execution_count": 36,
   "metadata": {},
   "outputs": [],
   "source": [
    "# convert to df and drop nan\n",
    "df = pd.DataFrame(list1).dropna()\n",
    "df=df.reset_index(drop=True)\n",
    "\n",
    "x=len(df)\n",
    "dato=[]\n",
    "for i  in range(x):\n",
    "    data_time_string=df[3][i]\n",
    "    x=re.sub('\\.',\"\",data_time_string)\n",
    "    y=datetime.datetime.strptime(x, '%d %b %Y')\n",
    "    dato.append(y)\n",
    "    time.sleep(0.5)\n",
    "    \n",
    "\n",
    "df['time']=pd.Series(dato).values"
   ]
  },
  {
   "cell_type": "code",
   "execution_count": 32,
   "metadata": {},
   "outputs": [
    {
     "name": "stdout",
     "output_type": "stream",
     "text": [
      "there are 4 chunks\n"
     ]
    }
   ],
   "source": [
    "#split into equal chunks of urls.\n",
    "def chunks(lst, n):\n",
    "    \"\"\"Yield successive n-sized chunks from lst.\"\"\"\n",
    "    for i in range(0, len(lst), n):\n",
    "        yield lst[i:i + n]\n",
    "chunks = list(chunks(urls_no_plus, 8800))\n",
    "print(f'there are {len(chunks)} chunks')\n",
    "chunk0 = chunks[0]\n",
    "chunk1 = chunks[1]\n",
    "chunk2 = chunks[2]\n",
    "chunk3 = chunks[3]\n",
    "# save chunks\n",
    "chunk0 = pd.DataFrame(data=chunk0)\n",
    "chunk0.to_csv(\"chunk0.csv\", index=False)\n",
    "chunk1 = pd.DataFrame(data=chunk1)\n",
    "chunk1.to_csv(\"chunk1.csv\", index=False)\n",
    "chunk2 = pd.DataFrame(data=chunk2)\n",
    "chunk2.to_csv(\"chunk2.csv\", index=False)\n",
    "chunk3 = pd.DataFrame(data=chunk3)\n",
    "chunk3.to_csv(\"chunk3.csv\", index=False)"
   ]
  },
  {
   "cell_type": "code",
   "execution_count": 33,
   "metadata": {},
   "outputs": [
    {
     "data": {
      "text/html": [
       "<div>\n",
       "<style scoped>\n",
       "    .dataframe tbody tr th:only-of-type {\n",
       "        vertical-align: middle;\n",
       "    }\n",
       "\n",
       "    .dataframe tbody tr th {\n",
       "        vertical-align: top;\n",
       "    }\n",
       "\n",
       "    .dataframe thead th {\n",
       "        text-align: right;\n",
       "    }\n",
       "</style>\n",
       "<table border=\"1\" class=\"dataframe\">\n",
       "  <thead>\n",
       "    <tr style=\"text-align: right;\">\n",
       "      <th></th>\n",
       "      <th>0</th>\n",
       "    </tr>\n",
       "  </thead>\n",
       "  <tbody>\n",
       "    <tr>\n",
       "      <th>0</th>\n",
       "      <td>https://ekstrabladet.dk/flash/filmogtv/helt-ny...</td>\n",
       "    </tr>\n",
       "    <tr>\n",
       "      <th>1</th>\n",
       "      <td>https://ekstrabladet.dk/nyheder/erhvervsnyhede...</td>\n",
       "    </tr>\n",
       "    <tr>\n",
       "      <th>2</th>\n",
       "      <td>https://ekstrabladet.dk/sport/fodbold/landshol...</td>\n",
       "    </tr>\n",
       "    <tr>\n",
       "      <th>3</th>\n",
       "      <td>https://ekstrabladet.dk/nyheder/samfund/corona...</td>\n",
       "    </tr>\n",
       "    <tr>\n",
       "      <th>4</th>\n",
       "      <td>https://ekstrabladet.dk/ferie/tokyo-faar-genne...</td>\n",
       "    </tr>\n",
       "    <tr>\n",
       "      <th>...</th>\n",
       "      <td>...</td>\n",
       "    </tr>\n",
       "    <tr>\n",
       "      <th>8795</th>\n",
       "      <td>https://ekstrabladet.dk/biler/nu-er-det-slut-b...</td>\n",
       "    </tr>\n",
       "    <tr>\n",
       "      <th>8796</th>\n",
       "      <td>https://ekstrabladet.dk/sport/formel_1/transfe...</td>\n",
       "    </tr>\n",
       "    <tr>\n",
       "      <th>8797</th>\n",
       "      <td>https://ekstrabladet.dk/nyheder/samfund/dansk-...</td>\n",
       "    </tr>\n",
       "    <tr>\n",
       "      <th>8798</th>\n",
       "      <td>https://ekstrabladet.dk/flash/dkkendte/efter-n...</td>\n",
       "    </tr>\n",
       "    <tr>\n",
       "      <th>8799</th>\n",
       "      <td>https://ekstrabladet.dk/flash/livsstil/kaos-pa...</td>\n",
       "    </tr>\n",
       "  </tbody>\n",
       "</table>\n",
       "<p>8800 rows × 1 columns</p>\n",
       "</div>"
      ],
      "text/plain": [
       "                                                      0\n",
       "0     https://ekstrabladet.dk/flash/filmogtv/helt-ny...\n",
       "1     https://ekstrabladet.dk/nyheder/erhvervsnyhede...\n",
       "2     https://ekstrabladet.dk/sport/fodbold/landshol...\n",
       "3     https://ekstrabladet.dk/nyheder/samfund/corona...\n",
       "4     https://ekstrabladet.dk/ferie/tokyo-faar-genne...\n",
       "...                                                 ...\n",
       "8795  https://ekstrabladet.dk/biler/nu-er-det-slut-b...\n",
       "8796  https://ekstrabladet.dk/sport/formel_1/transfe...\n",
       "8797  https://ekstrabladet.dk/nyheder/samfund/dansk-...\n",
       "8798  https://ekstrabladet.dk/flash/dkkendte/efter-n...\n",
       "8799  https://ekstrabladet.dk/flash/livsstil/kaos-pa...\n",
       "\n",
       "[8800 rows x 1 columns]"
      ]
     },
     "execution_count": 33,
     "metadata": {},
     "output_type": "execute_result"
    }
   ],
   "source": [
    "chunk0"
   ]
  },
  {
   "cell_type": "code",
   "execution_count": 43,
   "metadata": {},
   "outputs": [],
   "source": [
    "dupe_chunk = chunk1.append(chunk0).append(chunk2).append(chunk3).reset_index().duplicated(subset=None, keep='first')"
   ]
  },
  {
   "cell_type": "code",
   "execution_count": 46,
   "metadata": {},
   "outputs": [
    {
     "data": {
      "text/plain": [
       "0        False\n",
       "1        False\n",
       "2        False\n",
       "3        False\n",
       "4        False\n",
       "         ...  \n",
       "34964    False\n",
       "34965    False\n",
       "34966    False\n",
       "34967    False\n",
       "34968    False\n",
       "Length: 34969, dtype: bool"
      ]
     },
     "execution_count": 46,
     "metadata": {},
     "output_type": "execute_result"
    }
   ],
   "source": [
    "dupe_chunk"
   ]
  },
  {
   "cell_type": "code",
   "execution_count": 47,
   "metadata": {},
   "outputs": [],
   "source": [
    "for url in dupe_chunk:\n",
    "    if url:\n",
    "        print('Dupe!!!')"
   ]
  },
  {
   "cell_type": "code",
   "execution_count": null,
   "metadata": {},
   "outputs": [],
   "source": [
    "'''\n",
    "Saves the comments in a list.\n",
    "Does not save arcticle headline etc.\n",
    "'''\n",
    "# open comments\n",
    "comments= []\n",
    "i = 0 # to only run loop x times\n",
    "for i, url in enumerate(urls):\n",
    "    # initiate check variables\n",
    "    i2 = 0\n",
    "    i3 = 0\n",
    "    no_comments = False\n",
    "    \n",
    "    i +=1\n",
    "    print(f\"i = {i}\")\n",
    "    if i == 50: # break after 10 articles\n",
    "        break\n",
    "    \n",
    "    print(url[0])\n",
    "    driver.get(url[0]) # open the current url\n",
    "    time.sleep(5)\n",
    "    '''\n",
    "    Tries to find the show more comments button.\n",
    "    break after 10 seconds of trying\n",
    "    '''\n",
    "    while True: # infinite loop\n",
    "        try:\n",
    "            # show comments button\n",
    "            show_comments = driver.find_element_by_xpath('/html/body/div[2]/div[2]/div[2]/div[4]/div[3]/div[2]/div')\n",
    "            show_comments.click() # click it\n",
    "            time.sleep(5)\n",
    "            break\n",
    "        except:\n",
    "            time.sleep(1) # waits a total of 10 seconds i2*10 for the page to load\n",
    "            i2 +=1\n",
    "            print(f\"i2 = {i2}\")\n",
    "            if i2 == 5:\n",
    "                no_comments = True\n",
    "                break\n",
    "   \n",
    "    if no_comments: # next article\n",
    "        continue\n",
    "    '''\n",
    "    Tries to find the comment url.\n",
    "    if the url is blank wait and try again.\n",
    "    break after 10 seconds\n",
    "    '''\n",
    "    while True: # infinite loop\n",
    "        try:\n",
    "            show_comments_soup = BeautifulSoup(driver.page_source, 'lxml') # save soup\n",
    "            comment_link = show_comments_soup.find_all(id='talkStream_iframe') # div with the comment link\n",
    "            comment_url = re.findall(url_pattern, str(comment_link)) # save the comment url\n",
    "            print(comment_url)\n",
    "            if comment_url == []:\n",
    "                i3 += 1\n",
    "                print(f\"i3 = {i3}\")\n",
    "                time.sleep(1)\n",
    "                if i3 == 5:\n",
    "                    break\n",
    "                continue\n",
    "            break\n",
    "        except:\n",
    "            break\n",
    "            \n",
    "    # open the comment_url to save comments, break if not possible\n",
    "    while True: # infinite loop\n",
    "        try:\n",
    "            driver.get(comment_url[0])\n",
    "            time.sleep(1)\n",
    "            break\n",
    "        except:\n",
    "            break\n",
    "    \n",
    "    '''\n",
    "    tries to show all comments.\n",
    "    when there are no more next_comments it breaks, also breaks if the button does not exist\n",
    "    '''\n",
    "    while True: # infinite loop\n",
    "        try:\n",
    "            # more comments button\n",
    "            next_comment = driver.find_element_by_xpath('/html/body/div[1]/div/div[2]/div/div/div/div[3]/div[2]/div/div/div/div/div[3]/button')\n",
    "            next_comment.click()\n",
    "        except:\n",
    "            time.sleep(1)\n",
    "            break\n",
    "    \n",
    "    '''\n",
    "    save the extracted comments to list.\n",
    "    breaks if no comments were extracted\n",
    "    '''\n",
    "    while True:\n",
    "        try:\n",
    "            comment_soup = BeautifulSoup(driver.page_source, 'lxml')\n",
    "            comments_ = comment_soup.find_all(class_=\"talk-plugin-rich-text-text CommentContent__content___ZGv1q\")\n",
    "            if comments_ == []:\n",
    "                break\n",
    "            else:\n",
    "                comments.append(comments_)\n",
    "                break\n",
    "        except:\n",
    "            break"
   ]
  },
  {
   "cell_type": "code",
   "execution_count": 46,
   "metadata": {},
   "outputs": [],
   "source": [
    "# save the comments:\n",
    "df_comments = pd.DataFrame(data=comments)\n",
    "df_comments.to_csv(\"comments.csv\", index=False)"
   ]
  },
  {
   "cell_type": "code",
   "execution_count": null,
   "metadata": {},
   "outputs": [],
   "source": []
  },
  {
   "cell_type": "markdown",
   "metadata": {},
   "source": [
    "**Delete below me**"
   ]
  },
  {
   "cell_type": "code",
   "execution_count": 274,
   "metadata": {},
   "outputs": [],
   "source": [
    "# CountVectorizer has a build-in tokenizer and lowercases by default. Also has an option to remove stopwords.\n",
    "vectorizer = CountVectorizer()\n",
    "# However, you can override the default tokenization with your own defined function, like so:\n",
    "#vectorizer = CountVectorizer(tokenizer=preprocess)\n",
    "\n",
    "# fit and transform train\n",
    "df_bow = vectorizer.fit_transform(df[1].values)\n",
    "# Only tranform test: never fitting your vectorizer on the test set (it is cheating). OOV words are handled automatically be sklearn's vectorizer.\n",
    "#X_test_bow = vectorizer.transform(df_test.review.values)"
   ]
  },
  {
   "cell_type": "code",
   "execution_count": 276,
   "metadata": {},
   "outputs": [],
   "source": [
    "tfidf = TfidfVectorizer()\n",
    "df_tfidf = tfidf.fit_transform(df[1].values)"
   ]
  },
  {
   "cell_type": "code",
   "execution_count": 288,
   "metadata": {},
   "outputs": [
    {
     "name": "stdout",
     "output_type": "stream",
     "text": [
      "most similar: [ 3 51 33 74 45 26 21 22 23 24]\n",
      "least similar [46 54 47 48 49 50 52 53  0]\n"
     ]
    }
   ],
   "source": [
    "# https://scikit-learn.org/stable/modules/metrics.html#cosine-similarity\n",
    "cosine_similarities = linear_kernel(df_tfidf[3], df_tfidf).flatten()\n",
    "\n",
    "indices = cosine_similarities.argsort()[::-1] # in descending order \n",
    "print(\"most similar:\",indices[:10])\n",
    "print(\"least similar\", indices[-9:])"
   ]
  },
  {
   "cell_type": "code",
   "execution_count": 289,
   "metadata": {},
   "outputs": [
    {
     "name": "stdout",
     "output_type": "stream",
     "text": [
      "Officielt: Tager over i FC Barcelona\n",
      "\n",
      "most similar:  Barcelonas præsident melder Ronald Koeman tæt på FC Barcelona\n",
      "\n",
      "least similar:  Fængsel skal tage imod coronasmittet\n"
     ]
    }
   ],
   "source": [
    "print(df[1].values[3])\n",
    "print()\n",
    "print(\"most similar: \", df[1].values[51])\n",
    "print()\n",
    "print(\"least similar: \", df[1].values[46])"
   ]
  }
 ],
 "metadata": {
  "kernelspec": {
   "display_name": "Python 3",
   "language": "python",
   "name": "python3"
  },
  "language_info": {
   "codemirror_mode": {
    "name": "ipython",
    "version": 3
   },
   "file_extension": ".py",
   "mimetype": "text/x-python",
   "name": "python",
   "nbconvert_exporter": "python",
   "pygments_lexer": "ipython3",
   "version": "3.7.6"
  }
 },
 "nbformat": 4,
 "nbformat_minor": 4
}
