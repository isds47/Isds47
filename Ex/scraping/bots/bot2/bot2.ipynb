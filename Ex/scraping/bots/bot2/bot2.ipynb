{
 "cells": [
  {
   "cell_type": "code",
   "execution_count": 1,
   "metadata": {},
   "outputs": [],
   "source": [
    "import pandas as pd\n",
    "import get_head as gh\n",
    "import os\n",
    "dirname = os.getcwd()\n",
    "path = os.path.join(dirname, 'chunk2_unique.csv')\n",
    "\n",
    "urls2 = pd.read_csv(path)\n"
   ]
  },
  {
   "cell_type": "code",
   "execution_count": null,
   "metadata": {},
   "outputs": [
    {
     "name": "stdout",
     "output_type": "stream",
     "text": [
      "100 out of 100\n",
      "total urls = 0\n",
      "100 out of 100\n",
      "total urls = 0\n",
      "100 out of 100\n",
      "total urls = 0\n",
      "100 out of 100\n",
      "total urls = 0\n",
      "100 out of 100\n",
      "total urls = 0\n",
      "100 out of 100\n",
      "total urls = 0\n",
      "100 out of 100\n",
      "total urls = 0\n",
      "100 out of 100\n",
      "total urls = 0\n",
      "100 out of 100\n",
      "total urls = 0\n",
      "100 out of 100\n",
      "total urls = 0\n",
      "100 out of 100\n",
      "total urls = 0\n",
      "100 out of 100\n",
      "total urls = 0\n",
      "100 out of 100\n",
      "total urls = 0\n",
      "100 out of 100\n",
      "total urls = 0\n",
      "100 out of 100\n",
      "total urls = 0\n",
      "100 out of 100\n",
      "total urls = 0\n",
      "100 out of 100\n",
      "total urls = 0\n",
      "100 out of 100\n",
      "total urls = 0\n",
      "100 out of 100\n",
      "total urls = 0\n",
      "100 out of 100\n",
      "total urls = 0\n",
      "100 out of 100\n",
      "total urls = 0\n",
      "100 out of 100\n",
      "total urls = 0\n",
      "100 out of 100\n",
      "total urls = 0\n",
      "100 out of 100\n",
      "total urls = 0\n",
      "100 out of 100\n",
      "total urls = 0\n",
      "100 out of 100\n",
      "total urls = 0\n",
      "100 out of 100\n",
      "total urls = 0\n",
      "100 out of 100\n",
      "total urls = 0\n",
      "100 out of 100\n",
      "total urls = 0\n",
      "100 out of 100\n",
      "total urls = 0\n",
      "100 out of 100\n",
      "total urls = 0\n",
      "100 out of 100\n",
      "total urls = 0\n",
      "100 out of 100\n",
      "total urls = 31\n"
     ]
    }
   ],
   "source": [
    "chunk2_head_df = pd.DataFrame()\n",
    "for i, url in enumerate(urls2['0']):\n",
    "    iter1 = i*100\n",
    "    iter2= (i+1)*100\n",
    "    chunk2_head = gh.get_head(urls2['0'][iter1:iter2],len(urls2['0']))\n",
    "    chunk2_head_df = chunk2_head_df.append(pd.DataFrame(data=chunk2_head))\n",
    "    chunk2_head_df.to_csv(\"chunk2_head.csv\", index=False)\n",
    "    print(f'total urls = {len(chunk2_head_df)}')"
   ]
  }
 ],
 "metadata": {
  "kernelspec": {
   "display_name": "Python 3",
   "language": "python",
   "name": "python3"
  },
  "language_info": {
   "codemirror_mode": {
    "name": "ipython",
    "version": 3
   },
   "file_extension": ".py",
   "mimetype": "text/x-python",
   "name": "python",
   "nbconvert_exporter": "python",
   "pygments_lexer": "ipython3",
   "version": "3.7.6"
  }
 },
 "nbformat": 4,
 "nbformat_minor": 4
}
