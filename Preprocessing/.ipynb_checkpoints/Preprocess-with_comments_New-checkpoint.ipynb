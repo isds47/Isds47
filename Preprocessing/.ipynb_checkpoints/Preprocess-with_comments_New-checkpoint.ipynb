{
 "cells": [
  {
   "cell_type": "code",
   "execution_count": 65,
   "metadata": {},
   "outputs": [
    {
     "name": "stderr",
     "output_type": "stream",
     "text": [
      "[nltk_data] Downloading package punkt to\n",
      "[nltk_data]     C:\\Users\\Jonat\\AppData\\Roaming\\nltk_data...\n",
      "[nltk_data]   Package punkt is already up-to-date!\n",
      "[nltk_data] Downloading package wordnet to\n",
      "[nltk_data]     C:\\Users\\Jonat\\AppData\\Roaming\\nltk_data...\n",
      "[nltk_data]   Package wordnet is already up-to-date!\n",
      "[nltk_data] Downloading package stopwords to\n",
      "[nltk_data]     C:\\Users\\Jonat\\AppData\\Roaming\\nltk_data...\n",
      "[nltk_data]   Package stopwords is already up-to-date!\n",
      "[nltk_data] Downloading package sentiwordnet to\n",
      "[nltk_data]     C:\\Users\\Jonat\\AppData\\Roaming\\nltk_data...\n",
      "[nltk_data]   Package sentiwordnet is already up-to-date!\n",
      "[nltk_data] Downloading package punkt to\n",
      "[nltk_data]     C:\\Users\\Jonat\\AppData\\Roaming\\nltk_data...\n",
      "[nltk_data]   Package punkt is already up-to-date!\n",
      "[nltk_data] Downloading package wordnet to\n",
      "[nltk_data]     C:\\Users\\Jonat\\AppData\\Roaming\\nltk_data...\n",
      "[nltk_data]   Package wordnet is already up-to-date!\n",
      "[nltk_data] Downloading package stopwords to\n",
      "[nltk_data]     C:\\Users\\Jonat\\AppData\\Roaming\\nltk_data...\n",
      "[nltk_data]   Package stopwords is already up-to-date!\n",
      "[nltk_data] Downloading package sentiwordnet to\n",
      "[nltk_data]     C:\\Users\\Jonat\\AppData\\Roaming\\nltk_data...\n",
      "[nltk_data]   Package sentiwordnet is already up-to-date!\n",
      "[nltk_data] Downloading package maxent_ne_chunker to\n",
      "[nltk_data]     C:\\Users\\Jonat\\AppData\\Roaming\\nltk_data...\n",
      "[nltk_data]   Package maxent_ne_chunker is already up-to-date!\n",
      "[nltk_data] Downloading package words to\n",
      "[nltk_data]     C:\\Users\\Jonat\\AppData\\Roaming\\nltk_data...\n",
      "[nltk_data]   Package words is already up-to-date!\n"
     ]
    }
   ],
   "source": [
    "import scraping_class\n",
    "import requests\n",
    "import random\n",
    "import tqdm\n",
    "import pandas as pd\n",
    "import time\n",
    "import numpy as np\n",
    "logfile = 'log.csv'## name your log file.\n",
    "connector = scraping_class.Connector(logfile)\n",
    "\n",
    "# similarity/distance measures\n",
    "from scipy.spatial import distance\n",
    "from sklearn.metrics.pairwise import linear_kernel\n",
    "\n",
    "# for vectorization \n",
    "from sklearn.feature_extraction.text import CountVectorizer\n",
    "from sklearn.feature_extraction.text import TfidfVectorizer\n",
    "from sklearn.feature_extraction.text import TfidfTransformer\n",
    "\n",
    "from selenium import webdriver\n",
    "import re\n",
    "import os\n",
    "import time\n",
    "from bs4 import BeautifulSoup\n",
    "from selenium.webdriver.common.keys import Keys\n",
    "\n",
    "\n",
    "from selenium.webdriver.common.keys import Keys\n",
    "#from webdrivermanager import GeckoDriverManager\n",
    "import time\n",
    "from datetime import datetime\n",
    "import datetime\n",
    "\n",
    "\n",
    "# NLTK: A basic, popular NLP package. Find many examples of applications at https://www.nltk.org/book/\n",
    "# Install guide: https://www.nltk.org/install.html\n",
    "import nltk\n",
    "nltk.download('punkt') # you will probably need to do this\n",
    "nltk.download('wordnet') # and this\n",
    "nltk.download('stopwords') # aand this\n",
    "nltk.download('sentiwordnet')\n",
    "\n",
    "# for vectorization \n",
    "from sklearn.feature_extraction.text import CountVectorizer\n",
    "from sklearn.feature_extraction.text import TfidfVectorizer\n",
    "from sklearn.feature_extraction.text import TfidfTransformer\n",
    "\n",
    "#Vader Lexicon for sentiment analysis\n",
    "from vaderSentiment.vaderSentiment import SentimentIntensityAnalyzer\n",
    "\n",
    "# similarity/distance measures\n",
    "from scipy.spatial import distance\n",
    "from sklearn.metrics.pairwise import linear_kernel\n",
    "\n",
    "# for classification\n",
    "from sklearn.linear_model import LogisticRegression\n",
    "from sklearn.metrics import confusion_matrix\n",
    "from sklearn.model_selection import GridSearchCV\n",
    "from sklearn.pipeline import Pipeline\n",
    "\n",
    "# Lexicons for sentiment analysis\n",
    "from vaderSentiment import vaderSentiment\n",
    "from afinn import Afinn\n",
    "\n",
    "# to display images in notebook\n",
    "from IPython.display import Image\n",
    "\n",
    "import matplotlib.pyplot as plt\n",
    "from matplotlib.dates import (YEARLY, DateFormatter,\n",
    "                              rrulewrapper, RRuleLocator, drange)\n",
    "import numpy as np\n",
    "import datetime\n",
    "porter = nltk.PorterStemmer()\n",
    "from nltk.stem.snowball import SnowballStemmer\n",
    "import scraping_class\n",
    "import requests\n",
    "import random\n",
    "import tqdm\n",
    "import pandas as pd\n",
    "import time\n",
    "import numpy as np\n",
    "logfile = 'log.csv'## name your log file.\n",
    "connector = scraping_class.Connector(logfile)\n",
    "\n",
    "# similarity/distance measures\n",
    "from scipy.spatial import distance\n",
    "from sklearn.metrics.pairwise import linear_kernel\n",
    "\n",
    "# for vectorization \n",
    "from sklearn.feature_extraction.text import CountVectorizer\n",
    "from sklearn.feature_extraction.text import TfidfVectorizer\n",
    "from sklearn.feature_extraction.text import TfidfTransformer\n",
    "\n",
    "from selenium import webdriver\n",
    "import re\n",
    "import os\n",
    "import time\n",
    "from bs4 import BeautifulSoup\n",
    "from selenium.webdriver.common.keys import Keys\n",
    "\n",
    "\n",
    "from selenium.webdriver.common.keys import Keys\n",
    "#from webdrivermanager import GeckoDriverManager\n",
    "import time\n",
    "from datetime import datetime\n",
    "import datetime\n",
    "\n",
    "\n",
    "# NLTK: A basic, popular NLP package. Find many examples of applications at https://www.nltk.org/book/\n",
    "# Install guide: https://www.nltk.org/install.html\n",
    "import nltk\n",
    "nltk.download('punkt') # you will probably need to do this\n",
    "nltk.download('wordnet') # and this\n",
    "nltk.download('stopwords') # aand this\n",
    "nltk.download('sentiwordnet')\n",
    "\n",
    "# for vectorization \n",
    "from sklearn.feature_extraction.text import CountVectorizer\n",
    "from sklearn.feature_extraction.text import TfidfVectorizer\n",
    "from sklearn.feature_extraction.text import TfidfTransformer\n",
    "\n",
    "#Vader Lexicon for sentiment analysis\n",
    "from vaderSentiment.vaderSentiment import SentimentIntensityAnalyzer\n",
    "\n",
    "# similarity/distance measures\n",
    "from scipy.spatial import distance\n",
    "from sklearn.metrics.pairwise import linear_kernel\n",
    "\n",
    "# for classification\n",
    "from sklearn.linear_model import LogisticRegression\n",
    "from sklearn.metrics import confusion_matrix\n",
    "from sklearn.model_selection import GridSearchCV\n",
    "from sklearn.pipeline import Pipeline\n",
    "\n",
    "# Lexicons for sentiment analysis\n",
    "from vaderSentiment import vaderSentiment\n",
    "from afinn import Afinn\n",
    "\n",
    "# to display images in notebook\n",
    "from IPython.display import Image\n",
    "\n",
    "stemmer = SnowballStemmer(\"danish\") \n",
    "stop_words_list = nltk.corpus.stopwords.words('danish')\n",
    "\n",
    "import lemmy\n",
    "\n",
    "# Create an instance of the standalone lemmatizer.\n",
    "lemmatizer = lemmy.load(\"da\")\n",
    "\n",
    "\n",
    "nltk.download('maxent_ne_chunker')\n",
    "nltk.download('words')\n",
    "\n",
    "\n",
    "import spacy\n",
    "from spacy import displacy\n",
    "from tqdm import tqdm\n",
    "\n",
    "import nltk\n",
    "from nameparser.parser import HumanName\n",
    "from nltk.corpus import wordnet"
   ]
  },
  {
   "cell_type": "code",
   "execution_count": 66,
   "metadata": {},
   "outputs": [],
   "source": [
    "data=pd.read_csv(\"Data.csv\") # read the initial dataframe\n",
    "\n"
   ]
  },
  {
   "cell_type": "code",
   "execution_count": 67,
   "metadata": {},
   "outputs": [],
   "source": [
    "def preprocess(text):\n",
    "    remowe_html = re.sub(r'<.*?>','', text) # remowes any links\n",
    "    punct_removed_2 = re.sub(r'[^\\w\\s]','',remowe_html) # remows punctuation \n",
    "    sent = [i for i in nltk.tokenize.word_tokenize(punct_removed_2) if i not in stop_words_list]# tokeniser the words, and remowes the stop words\n",
    "    liste=[]\n",
    "    for i in sent: # only stem words with that begins with lowercase, thus hoping to not stem names\n",
    "        if i[0].isupper()==False:\n",
    "            x=stemmer.stem(i)\n",
    "        else:\n",
    "            x=i\n",
    "        liste.append(x)\n",
    "    final = lemmatizer.lemmatize(\"v\", ' '.join(liste))\n",
    "    #final=[lemmatizer.lemmatize(\"v\", i) for i in sent] # lematise the words, using danish lematiser\n",
    "    numbers = re.sub(r'\\d+', 'Unikttal' , final[0])\n",
    "    #numbers=[re.sub(r'\\d+', 'Unikttal' ,i[0]) for i in final] # findding all numbers, and returning a unique number\n",
    "    ret = numbers.lower()\n",
    "    #ret=[i.lower() for i in numbers] # lowercasse evertyning to make less words\n",
    "  \n",
    "    return ret # returns the propreocces words\n"
   ]
  },
  {
   "cell_type": "code",
   "execution_count": 68,
   "metadata": {},
   "outputs": [
    {
     "data": {
      "text/plain": [
       "['Statsministeren', 'åbner', 'for', 'muligt', 'påbud', 'om', 'mundbind']"
      ]
     },
     "execution_count": 68,
     "metadata": {},
     "output_type": "execute_result"
    }
   ],
   "source": [
    "tok = nltk.tokenize.word_tokenize(data['title'][0])\n",
    "tok"
   ]
  },
  {
   "cell_type": "code",
   "execution_count": 69,
   "metadata": {},
   "outputs": [
    {
     "data": {
      "text/plain": [
       "['statsminist', 'åbn', 'for', 'mul', 'påbud', 'om', 'mundbind']"
      ]
     },
     "execution_count": 69,
     "metadata": {},
     "output_type": "execute_result"
    }
   ],
   "source": [
    "[stemmer.stem(i) for i in tok]"
   ]
  },
  {
   "cell_type": "code",
   "execution_count": 70,
   "metadata": {},
   "outputs": [
    {
     "data": {
      "text/html": [
       "<div>\n",
       "<style scoped>\n",
       "    .dataframe tbody tr th:only-of-type {\n",
       "        vertical-align: middle;\n",
       "    }\n",
       "\n",
       "    .dataframe tbody tr th {\n",
       "        vertical-align: top;\n",
       "    }\n",
       "\n",
       "    .dataframe thead th {\n",
       "        text-align: right;\n",
       "    }\n",
       "</style>\n",
       "<table border=\"1\" class=\"dataframe\">\n",
       "  <thead>\n",
       "    <tr style=\"text-align: right;\">\n",
       "      <th></th>\n",
       "      <th>url</th>\n",
       "      <th>comments</th>\n",
       "      <th>title</th>\n",
       "      <th>subtitle</th>\n",
       "      <th>body</th>\n",
       "      <th>date</th>\n",
       "    </tr>\n",
       "  </thead>\n",
       "  <tbody>\n",
       "    <tr>\n",
       "      <th>0</th>\n",
       "      <td>https://ekstrabladet.dk/nyheder/politik/danskp...</td>\n",
       "      <td>1952</td>\n",
       "      <td>Statsministeren åbner for muligt påbud om mund...</td>\n",
       "      <td>NaN</td>\n",
       "      <td>Statsminister Mette Frederiksen (S) åbner for,...</td>\n",
       "      <td>7. aug. 2020</td>\n",
       "    </tr>\n",
       "    <tr>\n",
       "      <th>1</th>\n",
       "      <td>https://ekstrabladet.dk/nyheder/politik/danskp...</td>\n",
       "      <td>448</td>\n",
       "      <td>Mette F. afviser at åbne for nattelivet i august</td>\n",
       "      <td>Mette Frederiksen (S) siger, at hun ikke kan s...</td>\n",
       "      <td>Statsminister Mette Frederiksen (S) siger, at ...</td>\n",
       "      <td>7. aug. 2020</td>\n",
       "    </tr>\n",
       "    <tr>\n",
       "      <th>2</th>\n",
       "      <td>https://ekstrabladet.dk/flash/filmogtv/daarlig...</td>\n",
       "      <td>34</td>\n",
       "      <td>Dårligt nyt til 'Venner'-fans</td>\n",
       "      <td>NaN</td>\n",
       "      <td>Der var gode nyheder til fans af serien 'Frien...</td>\n",
       "      <td>7. aug. 2020</td>\n",
       "    </tr>\n",
       "    <tr>\n",
       "      <th>3</th>\n",
       "      <td>https://ekstrabladet.dk/nyheder/samfund/flemmi...</td>\n",
       "      <td>227</td>\n",
       "      <td>Flemming dødtræt af Elgiganten: Gør det aldrig!</td>\n",
       "      <td>NaN</td>\n",
       "      <td>Per, Mikkel, Jeppe, Allan, Zanshi og Jasmin. F...</td>\n",
       "      <td>7. aug. 2020</td>\n",
       "    </tr>\n",
       "    <tr>\n",
       "      <th>4</th>\n",
       "      <td>https://ekstrabladet.dk/nyheder/samfund/venstr...</td>\n",
       "      <td>27</td>\n",
       "      <td>Venstre vil have håndtrykket tilbage, hvis det...</td>\n",
       "      <td>Virolog mener dog ikke, at tidspunktet er det ...</td>\n",
       "      <td>Hvis du synes, det var svært at finde ud af, h...</td>\n",
       "      <td>7. aug. 2020</td>\n",
       "    </tr>\n",
       "    <tr>\n",
       "      <th>...</th>\n",
       "      <td>...</td>\n",
       "      <td>...</td>\n",
       "      <td>...</td>\n",
       "      <td>...</td>\n",
       "      <td>...</td>\n",
       "      <td>...</td>\n",
       "    </tr>\n",
       "    <tr>\n",
       "      <th>24083</th>\n",
       "      <td>https://ekstrabladet.dk/flash/filmogtv/her-er-...</td>\n",
       "      <td>25</td>\n",
       "      <td>Her er Britt Bendixens afløser</td>\n",
       "      <td>NaN</td>\n",
       "      <td>En større operation i hjertet tvang for en mån...</td>\n",
       "      <td>19. aug. 2019</td>\n",
       "    </tr>\n",
       "    <tr>\n",
       "      <th>24084</th>\n",
       "      <td>https://ekstrabladet.dk/flash/udlandkendte/kar...</td>\n",
       "      <td>33</td>\n",
       "      <td>Kardashian om hudløst ærligt billede: - Jeg el...</td>\n",
       "      <td>NaN</td>\n",
       "      <td>Man kan ikke beskylde nogen af Kardashian-søst...</td>\n",
       "      <td>19. aug. 2019</td>\n",
       "    </tr>\n",
       "    <tr>\n",
       "      <th>24085</th>\n",
       "      <td>https://ekstrabladet.dk/sport/fodbold/udenland...</td>\n",
       "      <td>106</td>\n",
       "      <td>Hug til Eriksen: - Ikke i nærheden</td>\n",
       "      <td>NaN</td>\n",
       "      <td>Christian Eriksen er tidligere blevet sammenli...</td>\n",
       "      <td>19. aug. 2019</td>\n",
       "    </tr>\n",
       "    <tr>\n",
       "      <th>24086</th>\n",
       "      <td>https://ekstrabladet.dk/biler/har-reddet-milli...</td>\n",
       "      <td>19</td>\n",
       "      <td>Har reddet millioner af liv: Denne geniale bil...</td>\n",
       "      <td>NaN</td>\n",
       "      <td>I dag er moderne biler meget sikre og alverden...</td>\n",
       "      <td>19. aug. 2019</td>\n",
       "    </tr>\n",
       "    <tr>\n",
       "      <th>24087</th>\n",
       "      <td>https://ekstrabladet.dk/nyheder/politik/danskp...</td>\n",
       "      <td>514</td>\n",
       "      <td>Stempler Trumps tvivl om Danmarks-tur: 'Uforsk...</td>\n",
       "      <td>Det er kun årsager som dødsfald eller en inter...</td>\n",
       "      <td>Brud på diplomatiet, en fornærmelse, uforskammet.</td>\n",
       "      <td>19. aug. 2019</td>\n",
       "    </tr>\n",
       "  </tbody>\n",
       "</table>\n",
       "<p>24088 rows × 6 columns</p>\n",
       "</div>"
      ],
      "text/plain": [
       "                                                     url  comments  \\\n",
       "0      https://ekstrabladet.dk/nyheder/politik/danskp...      1952   \n",
       "1      https://ekstrabladet.dk/nyheder/politik/danskp...       448   \n",
       "2      https://ekstrabladet.dk/flash/filmogtv/daarlig...        34   \n",
       "3      https://ekstrabladet.dk/nyheder/samfund/flemmi...       227   \n",
       "4      https://ekstrabladet.dk/nyheder/samfund/venstr...        27   \n",
       "...                                                  ...       ...   \n",
       "24083  https://ekstrabladet.dk/flash/filmogtv/her-er-...        25   \n",
       "24084  https://ekstrabladet.dk/flash/udlandkendte/kar...        33   \n",
       "24085  https://ekstrabladet.dk/sport/fodbold/udenland...       106   \n",
       "24086  https://ekstrabladet.dk/biler/har-reddet-milli...        19   \n",
       "24087  https://ekstrabladet.dk/nyheder/politik/danskp...       514   \n",
       "\n",
       "                                                   title  \\\n",
       "0      Statsministeren åbner for muligt påbud om mund...   \n",
       "1       Mette F. afviser at åbne for nattelivet i august   \n",
       "2                          Dårligt nyt til 'Venner'-fans   \n",
       "3        Flemming dødtræt af Elgiganten: Gør det aldrig!   \n",
       "4      Venstre vil have håndtrykket tilbage, hvis det...   \n",
       "...                                                  ...   \n",
       "24083                     Her er Britt Bendixens afløser   \n",
       "24084  Kardashian om hudløst ærligt billede: - Jeg el...   \n",
       "24085                 Hug til Eriksen: - Ikke i nærheden   \n",
       "24086  Har reddet millioner af liv: Denne geniale bil...   \n",
       "24087  Stempler Trumps tvivl om Danmarks-tur: 'Uforsk...   \n",
       "\n",
       "                                                subtitle  \\\n",
       "0                                                    NaN   \n",
       "1      Mette Frederiksen (S) siger, at hun ikke kan s...   \n",
       "2                                                    NaN   \n",
       "3                                                    NaN   \n",
       "4      Virolog mener dog ikke, at tidspunktet er det ...   \n",
       "...                                                  ...   \n",
       "24083                                                NaN   \n",
       "24084                                                NaN   \n",
       "24085                                                NaN   \n",
       "24086                                                NaN   \n",
       "24087  Det er kun årsager som dødsfald eller en inter...   \n",
       "\n",
       "                                                    body           date  \n",
       "0      Statsminister Mette Frederiksen (S) åbner for,...   7. aug. 2020  \n",
       "1      Statsminister Mette Frederiksen (S) siger, at ...   7. aug. 2020  \n",
       "2      Der var gode nyheder til fans af serien 'Frien...   7. aug. 2020  \n",
       "3      Per, Mikkel, Jeppe, Allan, Zanshi og Jasmin. F...   7. aug. 2020  \n",
       "4      Hvis du synes, det var svært at finde ud af, h...   7. aug. 2020  \n",
       "...                                                  ...            ...  \n",
       "24083  En større operation i hjertet tvang for en mån...  19. aug. 2019  \n",
       "24084  Man kan ikke beskylde nogen af Kardashian-søst...  19. aug. 2019  \n",
       "24085  Christian Eriksen er tidligere blevet sammenli...  19. aug. 2019  \n",
       "24086  I dag er moderne biler meget sikre og alverden...  19. aug. 2019  \n",
       "24087  Brud på diplomatiet, en fornærmelse, uforskammet.  19. aug. 2019  \n",
       "\n",
       "[24088 rows x 6 columns]"
      ]
     },
     "execution_count": 70,
     "metadata": {},
     "output_type": "execute_result"
    }
   ],
   "source": [
    "df1=data.copy() # makes a copy of the dataframe\n",
    "df1"
   ]
  },
  {
   "cell_type": "code",
   "execution_count": null,
   "metadata": {},
   "outputs": [],
   "source": [
    "x=len(df1)\n",
    "list_=[]\n",
    "\n",
    "for i  in range(x):\n",
    "    \n",
    "    df1.dropna(subset = [\"title\"], inplace=True) # droppes articles with missing in the tile and reset index\n",
    "    df=df1.reset_index(drop=True)\n",
    "    \n",
    "    x=preprocess(df['title'][i]) # preporcces and append to list\n",
    "    list_.append(x)\n",
    "    \n"
   ]
  },
  {
   "cell_type": "code",
   "execution_count": 72,
   "metadata": {},
   "outputs": [],
   "source": [
    "df2=pd.DataFrame(df)\n",
    "df2['Preprocces Title']=pd.Series(list_) # append the preproces data to a new collum \n",
    "df2.to_csv(\"part2.csv\",index=False) #saves it to a csv file "
   ]
  },
  {
   "cell_type": "code",
   "execution_count": 237,
   "metadata": {},
   "outputs": [],
   "source": [
    "df_proc = pd.read_csv('part2.csv')\n",
    "df_proc.columns = ['url', 'comments', 'title', 'subtitle', 'body', 'date',\n",
    "       'proc_title']"
   ]
  },
  {
   "cell_type": "code",
   "execution_count": 238,
   "metadata": {},
   "outputs": [
    {
     "data": {
      "text/plain": [
       "32"
      ]
     },
     "execution_count": 238,
     "metadata": {},
     "output_type": "execute_result"
    }
   ],
   "source": [
    "df_proc['proc_title'].str.split(expand=True).stack().value_counts().loc['vinkøb']"
   ]
  },
  {
   "cell_type": "code",
   "execution_count": 239,
   "metadata": {},
   "outputs": [
    {
     "data": {
      "text/plain": [
       "unikttal         False\n",
       "dansk            False\n",
       "det              False\n",
       "nu               False\n",
       "kan              False\n",
       "                 ...  \n",
       "malkeko           True\n",
       "elefants          True\n",
       "unikttaldansk     True\n",
       "milliardfor       True\n",
       "sprinterslag      True\n",
       "Length: 21541, dtype: bool"
      ]
     },
     "execution_count": 239,
     "metadata": {},
     "output_type": "execute_result"
    }
   ],
   "source": [
    "liste=10>df_proc['proc_title'].str.split(expand=True).stack().value_counts()\n",
    "liste"
   ]
  },
  {
   "cell_type": "code",
   "execution_count": 240,
   "metadata": {},
   "outputs": [
    {
     "data": {
      "text/html": [
       "<div>\n",
       "<style scoped>\n",
       "    .dataframe tbody tr th:only-of-type {\n",
       "        vertical-align: middle;\n",
       "    }\n",
       "\n",
       "    .dataframe tbody tr th {\n",
       "        vertical-align: top;\n",
       "    }\n",
       "\n",
       "    .dataframe thead th {\n",
       "        text-align: right;\n",
       "    }\n",
       "</style>\n",
       "<table border=\"1\" class=\"dataframe\">\n",
       "  <thead>\n",
       "    <tr style=\"text-align: right;\">\n",
       "      <th></th>\n",
       "      <th>index</th>\n",
       "      <th>true</th>\n",
       "    </tr>\n",
       "  </thead>\n",
       "  <tbody>\n",
       "    <tr>\n",
       "      <th>0</th>\n",
       "      <td>unikttal</td>\n",
       "      <td>False</td>\n",
       "    </tr>\n",
       "    <tr>\n",
       "      <th>1</th>\n",
       "      <td>dansk</td>\n",
       "      <td>False</td>\n",
       "    </tr>\n",
       "    <tr>\n",
       "      <th>2</th>\n",
       "      <td>det</td>\n",
       "      <td>False</td>\n",
       "    </tr>\n",
       "    <tr>\n",
       "      <th>3</th>\n",
       "      <td>nu</td>\n",
       "      <td>False</td>\n",
       "    </tr>\n",
       "    <tr>\n",
       "      <th>4</th>\n",
       "      <td>kan</td>\n",
       "      <td>False</td>\n",
       "    </tr>\n",
       "    <tr>\n",
       "      <th>...</th>\n",
       "      <td>...</td>\n",
       "      <td>...</td>\n",
       "    </tr>\n",
       "    <tr>\n",
       "      <th>21536</th>\n",
       "      <td>malkeko</td>\n",
       "      <td>True</td>\n",
       "    </tr>\n",
       "    <tr>\n",
       "      <th>21537</th>\n",
       "      <td>elefants</td>\n",
       "      <td>True</td>\n",
       "    </tr>\n",
       "    <tr>\n",
       "      <th>21538</th>\n",
       "      <td>unikttaldansk</td>\n",
       "      <td>True</td>\n",
       "    </tr>\n",
       "    <tr>\n",
       "      <th>21539</th>\n",
       "      <td>milliardfor</td>\n",
       "      <td>True</td>\n",
       "    </tr>\n",
       "    <tr>\n",
       "      <th>21540</th>\n",
       "      <td>sprinterslag</td>\n",
       "      <td>True</td>\n",
       "    </tr>\n",
       "  </tbody>\n",
       "</table>\n",
       "<p>21541 rows × 2 columns</p>\n",
       "</div>"
      ],
      "text/plain": [
       "               index   true\n",
       "0           unikttal  False\n",
       "1              dansk  False\n",
       "2                det  False\n",
       "3                 nu  False\n",
       "4                kan  False\n",
       "...              ...    ...\n",
       "21536        malkeko   True\n",
       "21537       elefants   True\n",
       "21538  unikttaldansk   True\n",
       "21539    milliardfor   True\n",
       "21540   sprinterslag   True\n",
       "\n",
       "[21541 rows x 2 columns]"
      ]
     },
     "execution_count": 240,
     "metadata": {},
     "output_type": "execute_result"
    }
   ],
   "source": [
    "df=pd.DataFrame(liste)\n",
    "\n",
    "df=df.reset_index()\n",
    "df.columns = ['index', 'true']\n",
    "df"
   ]
  },
  {
   "cell_type": "code",
   "execution_count": 241,
   "metadata": {},
   "outputs": [],
   "source": [
    "df_False = df[df.true==True]"
   ]
  },
  {
   "cell_type": "code",
   "execution_count": 242,
   "metadata": {},
   "outputs": [],
   "source": [
    "list_drop = df_False['index']"
   ]
  },
  {
   "cell_type": "code",
   "execution_count": 243,
   "metadata": {},
   "outputs": [
    {
     "data": {
      "text/plain": [
       "19539"
      ]
     },
     "execution_count": 243,
     "metadata": {},
     "output_type": "execute_result"
    }
   ],
   "source": [
    "list_drop = list_drop.tolist()\n",
    "len(list_drop)"
   ]
  },
  {
   "cell_type": "code",
   "execution_count": 244,
   "metadata": {},
   "outputs": [],
   "source": [
    "list_drop = ' '.join(list_drop)"
   ]
  },
  {
   "cell_type": "code",
   "execution_count": 245,
   "metadata": {},
   "outputs": [
    {
     "name": "stdout",
     "output_type": "stream",
     "text": [
      "True\n"
     ]
    }
   ],
   "source": [
    "if 'fck' in list_drop:\n",
    "    print(True)"
   ]
  },
  {
   "cell_type": "code",
   "execution_count": 246,
   "metadata": {},
   "outputs": [
    {
     "data": {
      "text/plain": [
       "'statsministeren åbn mul påbud mundbind'"
      ]
     },
     "execution_count": 246,
     "metadata": {},
     "output_type": "execute_result"
    }
   ],
   "source": [
    "df_proc['proc_title'][0]"
   ]
  },
  {
   "cell_type": "code",
   "execution_count": 247,
   "metadata": {},
   "outputs": [
    {
     "name": "stderr",
     "output_type": "stream",
     "text": [
      "C:\\Users\\Jonat\\anaconda3\\lib\\site-packages\\ipykernel_launcher.py:2: SettingWithCopyWarning: \n",
      "A value is trying to be set on a copy of a slice from a DataFrame\n",
      "\n",
      "See the caveats in the documentation: https://pandas.pydata.org/pandas-docs/stable/user_guide/indexing.html#returning-a-view-versus-a-copy\n",
      "  \n"
     ]
    }
   ],
   "source": [
    "for i, sent in enumerate(df_proc['proc_title']):\n",
    "    df_proc['proc_title'][i] = df_proc['proc_title'][i].split(' ')"
   ]
  },
  {
   "cell_type": "code",
   "execution_count": 248,
   "metadata": {},
   "outputs": [],
   "source": [
    "df_proc_rm = df_proc.copy()"
   ]
  },
  {
   "cell_type": "code",
   "execution_count": 249,
   "metadata": {},
   "outputs": [],
   "source": [
    "word_list_2 = []\n",
    "for i, sent in enumerate(df_proc['proc_title']):\n",
    "    for word in sent:\n",
    "        word_list = []\n",
    "        if word not in list_drop:\n",
    "            word_list.append(word)\n",
    "    word_list_2.append(word_list)"
   ]
  },
  {
   "cell_type": "code",
   "execution_count": 250,
   "metadata": {},
   "outputs": [],
   "source": [
    "df_proc['proc_title_rm'] = word_list_2"
   ]
  },
  {
   "cell_type": "code",
   "execution_count": 258,
   "metadata": {},
   "outputs": [
    {
     "data": {
      "text/plain": [
       "'august'"
      ]
     },
     "execution_count": 258,
     "metadata": {},
     "output_type": "execute_result"
    }
   ],
   "source": [
    "df_proc['proc_title_rm'][1]"
   ]
  },
  {
   "cell_type": "code",
   "execution_count": 257,
   "metadata": {},
   "outputs": [
    {
     "name": "stderr",
     "output_type": "stream",
     "text": [
      "C:\\Users\\Jonat\\anaconda3\\lib\\site-packages\\ipykernel_launcher.py:2: SettingWithCopyWarning: \n",
      "A value is trying to be set on a copy of a slice from a DataFrame\n",
      "\n",
      "See the caveats in the documentation: https://pandas.pydata.org/pandas-docs/stable/user_guide/indexing.html#returning-a-view-versus-a-copy\n",
      "  \n"
     ]
    }
   ],
   "source": [
    "for i, sent in enumerate(df_proc['proc_title_rm']):\n",
    "    df_proc['proc_title_rm'][i] = ' '.join(df_proc['proc_title_rm'][i])"
   ]
  },
  {
   "cell_type": "code",
   "execution_count": 269,
   "metadata": {},
   "outputs": [],
   "source": [
    "df_proc = df_proc[df_proc.proc_title_rm!='']"
   ]
  },
  {
   "cell_type": "code",
   "execution_count": 273,
   "metadata": {},
   "outputs": [],
   "source": [
    "df_proc = df_proc.reset_index()"
   ]
  },
  {
   "cell_type": "code",
   "execution_count": 275,
   "metadata": {},
   "outputs": [
    {
     "data": {
      "text/html": [
       "<div>\n",
       "<style scoped>\n",
       "    .dataframe tbody tr th:only-of-type {\n",
       "        vertical-align: middle;\n",
       "    }\n",
       "\n",
       "    .dataframe tbody tr th {\n",
       "        vertical-align: top;\n",
       "    }\n",
       "\n",
       "    .dataframe thead th {\n",
       "        text-align: right;\n",
       "    }\n",
       "</style>\n",
       "<table border=\"1\" class=\"dataframe\">\n",
       "  <thead>\n",
       "    <tr style=\"text-align: right;\">\n",
       "      <th></th>\n",
       "      <th>index</th>\n",
       "      <th>url</th>\n",
       "      <th>comments</th>\n",
       "      <th>title</th>\n",
       "      <th>subtitle</th>\n",
       "      <th>body</th>\n",
       "      <th>date</th>\n",
       "      <th>proc_title</th>\n",
       "      <th>proc_title_rm</th>\n",
       "    </tr>\n",
       "  </thead>\n",
       "  <tbody>\n",
       "    <tr>\n",
       "      <th>0</th>\n",
       "      <td>1</td>\n",
       "      <td>https://ekstrabladet.dk/nyheder/politik/danskp...</td>\n",
       "      <td>448</td>\n",
       "      <td>Mette F. afviser at åbne for nattelivet i august</td>\n",
       "      <td>Mette Frederiksen (S) siger, at hun ikke kan s...</td>\n",
       "      <td>Statsminister Mette Frederiksen (S) siger, at ...</td>\n",
       "      <td>7. aug. 2020</td>\n",
       "      <td>mette f afvis åbn natteliv august</td>\n",
       "      <td>august</td>\n",
       "    </tr>\n",
       "    <tr>\n",
       "      <th>1</th>\n",
       "      <td>58</td>\n",
       "      <td>https://ekstrabladet.dk/vin/vintest/ugenstest/...</td>\n",
       "      <td>1</td>\n",
       "      <td>Weekendens bedste vinkøb</td>\n",
       "      <td>NaN</td>\n",
       "      <td>Testen er lavet i samarbejde med Danmarks vinm...</td>\n",
       "      <td>7. aug. 2020</td>\n",
       "      <td>weekendens bedst vinkøb</td>\n",
       "      <td>vinkøb</td>\n",
       "    </tr>\n",
       "    <tr>\n",
       "      <th>2</th>\n",
       "      <td>140</td>\n",
       "      <td>https://ekstrabladet.dk/sport/fodbold/dansk_fo...</td>\n",
       "      <td>47</td>\n",
       "      <td>Ståle i SMS-battle med Solskjær</td>\n",
       "      <td>NaN</td>\n",
       "      <td>Ståle Solbakken var ikke kun lettet. Han var o...</td>\n",
       "      <td>6. aug. 2020</td>\n",
       "      <td>ståle smsbattle solskjær</td>\n",
       "      <td>solskjær</td>\n",
       "    </tr>\n",
       "    <tr>\n",
       "      <th>3</th>\n",
       "      <td>209</td>\n",
       "      <td>https://ekstrabladet.dk/sport/fodbold/dansk_fo...</td>\n",
       "      <td>1</td>\n",
       "      <td>FCK'ere på slap line før skæbnekamp</td>\n",
       "      <td>NaN</td>\n",
       "      <td>Der skal også være plads til leg, smil og et s...</td>\n",
       "      <td>5. aug. 2020</td>\n",
       "      <td>fckere slap lin før skæbnekamp</td>\n",
       "      <td>skæbnekamp</td>\n",
       "    </tr>\n",
       "    <tr>\n",
       "      <th>4</th>\n",
       "      <td>222</td>\n",
       "      <td>https://ekstrabladet.dk/nyheder/samfund/corona...</td>\n",
       "      <td>37</td>\n",
       "      <td>Coronadødstal passerer 700.000 på verdensplan</td>\n",
       "      <td>Hvert 15. sekund dør en coronasmittet, viser e...</td>\n",
       "      <td>Det globale dødstal på grund af Covid-19 overs...</td>\n",
       "      <td>5. aug. 2020</td>\n",
       "      <td>coronadødstal pas unikttal verdensplan</td>\n",
       "      <td>verdensplan</td>\n",
       "    </tr>\n",
       "    <tr>\n",
       "      <th>...</th>\n",
       "      <td>...</td>\n",
       "      <td>...</td>\n",
       "      <td>...</td>\n",
       "      <td>...</td>\n",
       "      <td>...</td>\n",
       "      <td>...</td>\n",
       "      <td>...</td>\n",
       "      <td>...</td>\n",
       "      <td>...</td>\n",
       "    </tr>\n",
       "    <tr>\n",
       "      <th>703</th>\n",
       "      <td>23756</td>\n",
       "      <td>https://ekstrabladet.dk/nyheder/samfund/danske...</td>\n",
       "      <td>125</td>\n",
       "      <td>Danske Mikkel i São Paulo: Der dalede aske ned...</td>\n",
       "      <td>NaN</td>\n",
       "      <td>En alarmerende skovbrand hærger for tiden verd...</td>\n",
       "      <td>23. aug. 2019</td>\n",
       "      <td>danske mikkel são paulo der daled ask himl</td>\n",
       "      <td>himl</td>\n",
       "    </tr>\n",
       "    <tr>\n",
       "      <th>704</th>\n",
       "      <td>23761</td>\n",
       "      <td>https://ekstrabladet.dk/musik/koncert_anmeldel...</td>\n",
       "      <td>30</td>\n",
       "      <td>Amatører: Jysk folkefest afblæst</td>\n",
       "      <td>NaN</td>\n",
       "      <td>Folkeklubben har med flid, snilde og charme få...</td>\n",
       "      <td>22. aug. 2019</td>\n",
       "      <td>amatører jysk folkefest afblæst</td>\n",
       "      <td>afblæst</td>\n",
       "    </tr>\n",
       "    <tr>\n",
       "      <th>705</th>\n",
       "      <td>23787</td>\n",
       "      <td>https://ekstrabladet.dk/sport/fodbold/dansk_fo...</td>\n",
       "      <td>6</td>\n",
       "      <td>Skræk-skade: Se det uhyggelige sammenstød</td>\n",
       "      <td>NaN</td>\n",
       "      <td>Skovshoveds venstre forsvarsspiller Frederik K...</td>\n",
       "      <td>22. aug. 2019</td>\n",
       "      <td>skrækskade se uhyg sammenstød</td>\n",
       "      <td>sammenstød</td>\n",
       "    </tr>\n",
       "    <tr>\n",
       "      <th>706</th>\n",
       "      <td>23804</td>\n",
       "      <td>https://ekstrabladet.dk/ferie/strejke-giver-in...</td>\n",
       "      <td>11</td>\n",
       "      <td>Strejke giver ingen problemer: Kaos venter før...</td>\n",
       "      <td>NaN</td>\n",
       "      <td>Ryanairs britiske piloter strejker. Lavprissel...</td>\n",
       "      <td>22. aug. 2019</td>\n",
       "      <td>strejke giv ing problem kaos vent først septemb</td>\n",
       "      <td>septemb</td>\n",
       "    </tr>\n",
       "    <tr>\n",
       "      <th>707</th>\n",
       "      <td>23865</td>\n",
       "      <td>https://ekstrabladet.dk/nyheder/samfund/18-bil...</td>\n",
       "      <td>95</td>\n",
       "      <td>18 biler fanget i parkeringshus: Kommer først ...</td>\n",
       "      <td>NaN</td>\n",
       "      <td>Det automatisk parkeringshus 'P-Spin' i Stockh...</td>\n",
       "      <td>21. aug. 2019</td>\n",
       "      <td>unikttal bil fang parkeringshus kommer først s...</td>\n",
       "      <td>septemb</td>\n",
       "    </tr>\n",
       "  </tbody>\n",
       "</table>\n",
       "<p>708 rows × 9 columns</p>\n",
       "</div>"
      ],
      "text/plain": [
       "     index                                                url  comments  \\\n",
       "0        1  https://ekstrabladet.dk/nyheder/politik/danskp...       448   \n",
       "1       58  https://ekstrabladet.dk/vin/vintest/ugenstest/...         1   \n",
       "2      140  https://ekstrabladet.dk/sport/fodbold/dansk_fo...        47   \n",
       "3      209  https://ekstrabladet.dk/sport/fodbold/dansk_fo...         1   \n",
       "4      222  https://ekstrabladet.dk/nyheder/samfund/corona...        37   \n",
       "..     ...                                                ...       ...   \n",
       "703  23756  https://ekstrabladet.dk/nyheder/samfund/danske...       125   \n",
       "704  23761  https://ekstrabladet.dk/musik/koncert_anmeldel...        30   \n",
       "705  23787  https://ekstrabladet.dk/sport/fodbold/dansk_fo...         6   \n",
       "706  23804  https://ekstrabladet.dk/ferie/strejke-giver-in...        11   \n",
       "707  23865  https://ekstrabladet.dk/nyheder/samfund/18-bil...        95   \n",
       "\n",
       "                                                 title  \\\n",
       "0     Mette F. afviser at åbne for nattelivet i august   \n",
       "1                             Weekendens bedste vinkøb   \n",
       "2                      Ståle i SMS-battle med Solskjær   \n",
       "3                  FCK'ere på slap line før skæbnekamp   \n",
       "4        Coronadødstal passerer 700.000 på verdensplan   \n",
       "..                                                 ...   \n",
       "703  Danske Mikkel i São Paulo: Der dalede aske ned...   \n",
       "704                   Amatører: Jysk folkefest afblæst   \n",
       "705          Skræk-skade: Se det uhyggelige sammenstød   \n",
       "706  Strejke giver ingen problemer: Kaos venter før...   \n",
       "707  18 biler fanget i parkeringshus: Kommer først ...   \n",
       "\n",
       "                                              subtitle  \\\n",
       "0    Mette Frederiksen (S) siger, at hun ikke kan s...   \n",
       "1                                                  NaN   \n",
       "2                                                  NaN   \n",
       "3                                                  NaN   \n",
       "4    Hvert 15. sekund dør en coronasmittet, viser e...   \n",
       "..                                                 ...   \n",
       "703                                                NaN   \n",
       "704                                                NaN   \n",
       "705                                                NaN   \n",
       "706                                                NaN   \n",
       "707                                                NaN   \n",
       "\n",
       "                                                  body           date  \\\n",
       "0    Statsminister Mette Frederiksen (S) siger, at ...   7. aug. 2020   \n",
       "1    Testen er lavet i samarbejde med Danmarks vinm...   7. aug. 2020   \n",
       "2    Ståle Solbakken var ikke kun lettet. Han var o...   6. aug. 2020   \n",
       "3    Der skal også være plads til leg, smil og et s...   5. aug. 2020   \n",
       "4    Det globale dødstal på grund af Covid-19 overs...   5. aug. 2020   \n",
       "..                                                 ...            ...   \n",
       "703  En alarmerende skovbrand hærger for tiden verd...  23. aug. 2019   \n",
       "704  Folkeklubben har med flid, snilde og charme få...  22. aug. 2019   \n",
       "705  Skovshoveds venstre forsvarsspiller Frederik K...  22. aug. 2019   \n",
       "706  Ryanairs britiske piloter strejker. Lavprissel...  22. aug. 2019   \n",
       "707  Det automatisk parkeringshus 'P-Spin' i Stockh...  21. aug. 2019   \n",
       "\n",
       "                                            proc_title proc_title_rm  \n",
       "0                    mette f afvis åbn natteliv august        august  \n",
       "1                              weekendens bedst vinkøb        vinkøb  \n",
       "2                             ståle smsbattle solskjær      solskjær  \n",
       "3                       fckere slap lin før skæbnekamp    skæbnekamp  \n",
       "4               coronadødstal pas unikttal verdensplan   verdensplan  \n",
       "..                                                 ...           ...  \n",
       "703         danske mikkel são paulo der daled ask himl          himl  \n",
       "704                    amatører jysk folkefest afblæst       afblæst  \n",
       "705                      skrækskade se uhyg sammenstød    sammenstød  \n",
       "706    strejke giv ing problem kaos vent først septemb       septemb  \n",
       "707  unikttal bil fang parkeringshus kommer først s...       septemb  \n",
       "\n",
       "[708 rows x 9 columns]"
      ]
     },
     "execution_count": 275,
     "metadata": {},
     "output_type": "execute_result"
    }
   ],
   "source": [
    "df_proc"
   ]
  },
  {
   "cell_type": "code",
   "execution_count": 274,
   "metadata": {},
   "outputs": [],
   "source": [
    "df_proc.to_csv(\"no_words.csv\",index=False) #saves it to a csv file "
   ]
  },
  {
   "cell_type": "code",
   "execution_count": 128,
   "metadata": {},
   "outputs": [
    {
     "data": {
      "text/plain": [
       "['f', 'åbn', 'august']"
      ]
     },
     "execution_count": 128,
     "metadata": {},
     "output_type": "execute_result"
    }
   ],
   "source": [
    "df_proc['proc_title'][1]"
   ]
  },
  {
   "cell_type": "code",
   "execution_count": 209,
   "metadata": {},
   "outputs": [
    {
     "data": {
      "text/html": [
       "<div>\n",
       "<style scoped>\n",
       "    .dataframe tbody tr th:only-of-type {\n",
       "        vertical-align: middle;\n",
       "    }\n",
       "\n",
       "    .dataframe tbody tr th {\n",
       "        vertical-align: top;\n",
       "    }\n",
       "\n",
       "    .dataframe thead th {\n",
       "        text-align: right;\n",
       "    }\n",
       "</style>\n",
       "<table border=\"1\" class=\"dataframe\">\n",
       "  <thead>\n",
       "    <tr style=\"text-align: right;\">\n",
       "      <th></th>\n",
       "      <th>url</th>\n",
       "      <th>comments</th>\n",
       "      <th>title</th>\n",
       "      <th>subtitle</th>\n",
       "      <th>body</th>\n",
       "      <th>date</th>\n",
       "      <th>proc_title</th>\n",
       "    </tr>\n",
       "  </thead>\n",
       "  <tbody>\n",
       "    <tr>\n",
       "      <th>0</th>\n",
       "      <td>https://ekstrabladet.dk/nyheder/politik/danskp...</td>\n",
       "      <td>1952</td>\n",
       "      <td>Statsministeren åbner for muligt påbud om mund...</td>\n",
       "      <td>NaN</td>\n",
       "      <td>Statsminister Mette Frederiksen (S) åbner for,...</td>\n",
       "      <td>7. aug. 2020</td>\n",
       "      <td>[åbn, påbud]</td>\n",
       "    </tr>\n",
       "    <tr>\n",
       "      <th>1</th>\n",
       "      <td>https://ekstrabladet.dk/nyheder/politik/danskp...</td>\n",
       "      <td>448</td>\n",
       "      <td>Mette F. afviser at åbne for nattelivet i august</td>\n",
       "      <td>Mette Frederiksen (S) siger, at hun ikke kan s...</td>\n",
       "      <td>Statsminister Mette Frederiksen (S) siger, at ...</td>\n",
       "      <td>7. aug. 2020</td>\n",
       "      <td>[f, åbn, august]</td>\n",
       "    </tr>\n",
       "    <tr>\n",
       "      <th>2</th>\n",
       "      <td>https://ekstrabladet.dk/flash/filmogtv/daarlig...</td>\n",
       "      <td>34</td>\n",
       "      <td>Dårligt nyt til 'Venner'-fans</td>\n",
       "      <td>NaN</td>\n",
       "      <td>Der var gode nyheder til fans af serien 'Frien...</td>\n",
       "      <td>7. aug. 2020</td>\n",
       "      <td>[nyt]</td>\n",
       "    </tr>\n",
       "    <tr>\n",
       "      <th>3</th>\n",
       "      <td>https://ekstrabladet.dk/nyheder/samfund/flemmi...</td>\n",
       "      <td>227</td>\n",
       "      <td>Flemming dødtræt af Elgiganten: Gør det aldrig!</td>\n",
       "      <td>NaN</td>\n",
       "      <td>Per, Mikkel, Jeppe, Allan, Zanshi og Jasmin. F...</td>\n",
       "      <td>7. aug. 2020</td>\n",
       "      <td>[dødtræt, gør]</td>\n",
       "    </tr>\n",
       "    <tr>\n",
       "      <th>4</th>\n",
       "      <td>https://ekstrabladet.dk/nyheder/samfund/venstr...</td>\n",
       "      <td>27</td>\n",
       "      <td>Venstre vil have håndtrykket tilbage, hvis det...</td>\n",
       "      <td>Virolog mener dog ikke, at tidspunktet er det ...</td>\n",
       "      <td>Hvis du synes, det var svært at finde ud af, h...</td>\n",
       "      <td>7. aug. 2020</td>\n",
       "      <td>[håndtryk, kan, gør]</td>\n",
       "    </tr>\n",
       "    <tr>\n",
       "      <th>...</th>\n",
       "      <td>...</td>\n",
       "      <td>...</td>\n",
       "      <td>...</td>\n",
       "      <td>...</td>\n",
       "      <td>...</td>\n",
       "      <td>...</td>\n",
       "      <td>...</td>\n",
       "    </tr>\n",
       "    <tr>\n",
       "      <th>24026</th>\n",
       "      <td>https://ekstrabladet.dk/flash/filmogtv/her-er-...</td>\n",
       "      <td>25</td>\n",
       "      <td>Her er Britt Bendixens afløser</td>\n",
       "      <td>NaN</td>\n",
       "      <td>En større operation i hjertet tvang for en mån...</td>\n",
       "      <td>19. aug. 2019</td>\n",
       "      <td>[britt, afløs]</td>\n",
       "    </tr>\n",
       "    <tr>\n",
       "      <th>24027</th>\n",
       "      <td>https://ekstrabladet.dk/flash/udlandkendte/kar...</td>\n",
       "      <td>33</td>\n",
       "      <td>Kardashian om hudløst ærligt billede: - Jeg el...</td>\n",
       "      <td>NaN</td>\n",
       "      <td>Man kan ikke beskylde nogen af Kardashian-søst...</td>\n",
       "      <td>19. aug. 2019</td>\n",
       "      <td>[hudløs, billed, jeg]</td>\n",
       "    </tr>\n",
       "    <tr>\n",
       "      <th>24028</th>\n",
       "      <td>https://ekstrabladet.dk/sport/fodbold/udenland...</td>\n",
       "      <td>106</td>\n",
       "      <td>Hug til Eriksen: - Ikke i nærheden</td>\n",
       "      <td>NaN</td>\n",
       "      <td>Christian Eriksen er tidligere blevet sammenli...</td>\n",
       "      <td>19. aug. 2019</td>\n",
       "      <td>[eriksen, nær]</td>\n",
       "    </tr>\n",
       "    <tr>\n",
       "      <th>24029</th>\n",
       "      <td>https://ekstrabladet.dk/biler/har-reddet-milli...</td>\n",
       "      <td>19</td>\n",
       "      <td>Har reddet millioner af liv: Denne geniale bil...</td>\n",
       "      <td>NaN</td>\n",
       "      <td>I dag er moderne biler meget sikre og alverden...</td>\n",
       "      <td>19. aug. 2019</td>\n",
       "      <td>[red, liv, genial, fyld, år]</td>\n",
       "    </tr>\n",
       "    <tr>\n",
       "      <th>24030</th>\n",
       "      <td>https://ekstrabladet.dk/nyheder/politik/danskp...</td>\n",
       "      <td>514</td>\n",
       "      <td>Stempler Trumps tvivl om Danmarks-tur: 'Uforsk...</td>\n",
       "      <td>Det er kun årsager som dødsfald eller en inter...</td>\n",
       "      <td>Brud på diplomatiet, en fornærmelse, uforskammet.</td>\n",
       "      <td>19. aug. 2019</td>\n",
       "      <td>[trumps, danmarkstur]</td>\n",
       "    </tr>\n",
       "  </tbody>\n",
       "</table>\n",
       "<p>24031 rows × 7 columns</p>\n",
       "</div>"
      ],
      "text/plain": [
       "                                                     url  comments  \\\n",
       "0      https://ekstrabladet.dk/nyheder/politik/danskp...      1952   \n",
       "1      https://ekstrabladet.dk/nyheder/politik/danskp...       448   \n",
       "2      https://ekstrabladet.dk/flash/filmogtv/daarlig...        34   \n",
       "3      https://ekstrabladet.dk/nyheder/samfund/flemmi...       227   \n",
       "4      https://ekstrabladet.dk/nyheder/samfund/venstr...        27   \n",
       "...                                                  ...       ...   \n",
       "24026  https://ekstrabladet.dk/flash/filmogtv/her-er-...        25   \n",
       "24027  https://ekstrabladet.dk/flash/udlandkendte/kar...        33   \n",
       "24028  https://ekstrabladet.dk/sport/fodbold/udenland...       106   \n",
       "24029  https://ekstrabladet.dk/biler/har-reddet-milli...        19   \n",
       "24030  https://ekstrabladet.dk/nyheder/politik/danskp...       514   \n",
       "\n",
       "                                                   title  \\\n",
       "0      Statsministeren åbner for muligt påbud om mund...   \n",
       "1       Mette F. afviser at åbne for nattelivet i august   \n",
       "2                          Dårligt nyt til 'Venner'-fans   \n",
       "3        Flemming dødtræt af Elgiganten: Gør det aldrig!   \n",
       "4      Venstre vil have håndtrykket tilbage, hvis det...   \n",
       "...                                                  ...   \n",
       "24026                     Her er Britt Bendixens afløser   \n",
       "24027  Kardashian om hudløst ærligt billede: - Jeg el...   \n",
       "24028                 Hug til Eriksen: - Ikke i nærheden   \n",
       "24029  Har reddet millioner af liv: Denne geniale bil...   \n",
       "24030  Stempler Trumps tvivl om Danmarks-tur: 'Uforsk...   \n",
       "\n",
       "                                                subtitle  \\\n",
       "0                                                    NaN   \n",
       "1      Mette Frederiksen (S) siger, at hun ikke kan s...   \n",
       "2                                                    NaN   \n",
       "3                                                    NaN   \n",
       "4      Virolog mener dog ikke, at tidspunktet er det ...   \n",
       "...                                                  ...   \n",
       "24026                                                NaN   \n",
       "24027                                                NaN   \n",
       "24028                                                NaN   \n",
       "24029                                                NaN   \n",
       "24030  Det er kun årsager som dødsfald eller en inter...   \n",
       "\n",
       "                                                    body           date  \\\n",
       "0      Statsminister Mette Frederiksen (S) åbner for,...   7. aug. 2020   \n",
       "1      Statsminister Mette Frederiksen (S) siger, at ...   7. aug. 2020   \n",
       "2      Der var gode nyheder til fans af serien 'Frien...   7. aug. 2020   \n",
       "3      Per, Mikkel, Jeppe, Allan, Zanshi og Jasmin. F...   7. aug. 2020   \n",
       "4      Hvis du synes, det var svært at finde ud af, h...   7. aug. 2020   \n",
       "...                                                  ...            ...   \n",
       "24026  En større operation i hjertet tvang for en mån...  19. aug. 2019   \n",
       "24027  Man kan ikke beskylde nogen af Kardashian-søst...  19. aug. 2019   \n",
       "24028  Christian Eriksen er tidligere blevet sammenli...  19. aug. 2019   \n",
       "24029  I dag er moderne biler meget sikre og alverden...  19. aug. 2019   \n",
       "24030  Brud på diplomatiet, en fornærmelse, uforskammet.  19. aug. 2019   \n",
       "\n",
       "                         proc_title  \n",
       "0                      [åbn, påbud]  \n",
       "1                  [f, åbn, august]  \n",
       "2                             [nyt]  \n",
       "3                    [dødtræt, gør]  \n",
       "4              [håndtryk, kan, gør]  \n",
       "...                             ...  \n",
       "24026                [britt, afløs]  \n",
       "24027         [hudløs, billed, jeg]  \n",
       "24028                [eriksen, nær]  \n",
       "24029  [red, liv, genial, fyld, år]  \n",
       "24030         [trumps, danmarkstur]  \n",
       "\n",
       "[24031 rows x 7 columns]"
      ]
     },
     "execution_count": 209,
     "metadata": {},
     "output_type": "execute_result"
    }
   ],
   "source": [
    "df2"
   ]
  },
  {
   "cell_type": "code",
   "execution_count": 205,
   "metadata": {},
   "outputs": [],
   "source": [
    "list_words = []\n",
    "for sent in df2['proc_title']:\n",
    "    for word in sent:\n",
    "        list_words.append(word)"
   ]
  },
  {
   "cell_type": "code",
   "execution_count": 206,
   "metadata": {},
   "outputs": [],
   "source": [
    "unique_words = pd.DataFrame(list_words)[0].unique()"
   ]
  },
  {
   "cell_type": "code",
   "execution_count": 208,
   "metadata": {},
   "outputs": [
    {
     "data": {
      "text/plain": [
       "12207"
      ]
     },
     "execution_count": 208,
     "metadata": {},
     "output_type": "execute_result"
    }
   ],
   "source": [
    "len(list(unique_words))"
   ]
  },
  {
   "cell_type": "code",
   "execution_count": 180,
   "metadata": {},
   "outputs": [],
   "source": [
    "df2 = pd.read_csv('no_words.csv')"
   ]
  },
  {
   "cell_type": "code",
   "execution_count": 181,
   "metadata": {},
   "outputs": [
    {
     "data": {
      "text/plain": [
       "\"['mul']\""
      ]
     },
     "execution_count": 181,
     "metadata": {},
     "output_type": "execute_result"
    }
   ],
   "source": [
    "df2=df2['proc_title']"
   ]
  },
  {
   "cell_type": "markdown",
   "metadata": {},
   "source": [
    "Rest is just not  working "
   ]
  },
  {
   "cell_type": "code",
   "execution_count": 107,
   "metadata": {},
   "outputs": [],
   "source": []
  },
  {
   "cell_type": "code",
   "execution_count": 108,
   "metadata": {},
   "outputs": [],
   "source": [
    "person_list = []\n",
    "person_names=person_list\n",
    "def get_human_names(text):\n",
    "    tokens = nltk.tokenize.word_tokenize(text)\n",
    "    pos = nltk.pos_tag(tokens)\n",
    "    sentt = nltk.ne_chunk(pos, binary = False)\n",
    "\n",
    "    person = []\n",
    "    name = \"\"\n",
    "    for subtree in sentt.subtrees(filter=lambda t: t.label() == 'PERSON'):\n",
    "        for leaf in subtree.leaves():\n",
    "            person.append(leaf[0])\n",
    "        if len(person) > 1: #avoid grabbing lone surnames\n",
    "            for part in person:\n",
    "                name += part + ' '\n",
    "            if name[:-1] not in person_list:\n",
    "                person_list.append(name[:-1])\n",
    "    \n",
    "#     print (person_list)\n",
    "\n",
    "#text = \"\"\"\n",
    "\n"
   ]
  },
  {
   "cell_type": "code",
   "execution_count": 109,
   "metadata": {},
   "outputs": [],
   "source": [
    "names = get_human_names(text)\n",
    "for person in person_list:\n",
    "    person_split = person.split(\" \")\n",
    "    for name in person_split:\n",
    "        if wordnet.synsets(name):\n",
    "            if(name in person):\n",
    "                person_names.remove(person)\n",
    "                break\n",
    "\n"
   ]
  },
  {
   "cell_type": "code",
   "execution_count": 1,
   "metadata": {},
   "outputs": [
    {
     "ename": "NameError",
     "evalue": "name 'get_human_names' is not defined",
     "output_type": "error",
     "traceback": [
      "\u001b[1;31m---------------------------------------------------------------------------\u001b[0m",
      "\u001b[1;31mNameError\u001b[0m                                 Traceback (most recent call last)",
      "\u001b[1;32m<ipython-input-1-13a825f2171d>\u001b[0m in \u001b[0;36m<module>\u001b[1;34m\u001b[0m\n\u001b[1;32m----> 1\u001b[1;33m \u001b[0mprint\u001b[0m\u001b[1;33m(\u001b[0m\u001b[0mget_human_names\u001b[0m\u001b[1;33m(\u001b[0m\u001b[0mtext\u001b[0m\u001b[1;33m)\u001b[0m\u001b[1;33m)\u001b[0m\u001b[1;33m\u001b[0m\u001b[1;33m\u001b[0m\u001b[0m\n\u001b[0m",
      "\u001b[1;31mNameError\u001b[0m: name 'get_human_names' is not defined"
     ]
    }
   ],
   "source": [
    "print(get_human_names(text))"
   ]
  },
  {
   "cell_type": "code",
   "execution_count": 110,
   "metadata": {},
   "outputs": [
    {
     "name": "stdout",
     "output_type": "stream",
     "text": [
      "[]\n"
     ]
    }
   ],
   "source": [
    "print(person_names)"
   ]
  },
  {
   "cell_type": "code",
   "execution_count": null,
   "metadata": {},
   "outputs": [],
   "source": [
    "def preprocess(text):\n",
    "   \n",
    "    remowe_html = re.sub(r'<.*?>','', text) # re\n",
    "    punct_removed_2 = re.sub(r'[^\\w\\s]','',remowe_html)\n",
    "    sent = [i for i in nltk.tokenize.word_tokenize(punct_removed_2) if i not in stop_words_list]# tokeniser ordet\n",
    "    for i in sent:\n",
    "        liste=[]\n",
    "        if i.isupper()==False:\n",
    "            x=stemmer.stem(i)\n",
    "        else:\n",
    "            i=x\n",
    "        liste.append(x)\n",
    "            \n",
    "    final=[lemmatizer.lemmatize(\"n\", i) for i in liste]\n",
    "   \n",
    "    numbers=[re.sub(r'\\d+', 'Unikttal' ,i[0]) for i in sent]\n",
    "    \n",
    "    ret=[i.lower() for i in numbers]\n",
    "  \n",
    "    return ret # return a list of stems/lemmas"
   ]
  },
  {
   "cell_type": "code",
   "execution_count": 213,
   "metadata": {},
   "outputs": [],
   "source": [
    "def preprocess(text):\n",
    "   \n",
    "    remowe_html = re.sub(r'<.*?>','', text) # re\n",
    "    punct_removed_2 = re.sub(r'[^\\w\\s]','',remowe_html)\n",
    "    sent = [i for i in nltk.tokenize.word_tokenize(punct_removed_2) if i not in stop_words_list]# tokeniser ordet\n",
    "    \n",
    "    for i in sent:\n",
    "        liste=[]\n",
    "        if i[0].isupper()==False:\n",
    "            x=stemmer.stem(i)\n",
    "        else:\n",
    "            x=i\n",
    "        liste.append(x)\n",
    "    final=[lemmatizer.lemmatize(\"v\", i) for i in sent]\n",
    "   \n",
    "    numbers=[re.sub(r'\\d+', 'Unikttal' ,i[0]) for i in final]\n",
    "    print(numbers)\n",
    "    ret=[i.lower() for i in numbers]\n",
    "  \n",
    "    return ret # return a list of stems/lemmas\n"
   ]
  },
  {
   "cell_type": "code",
   "execution_count": 214,
   "metadata": {},
   "outputs": [
    {
     "name": "stdout",
     "output_type": "stream",
     "text": [
      "['Statsministeren', 'åbner', 'muligt', 'påbud', 'mundbind']\n",
      "['Statsministeren', 'åbner', 'muligt', 'påbud', 'mundbind']\n",
      "['Mette', 'F', 'afviser', 'åbne', 'nattelivet', 'august']\n",
      "['Mette', 'F', 'afviser', 'åbne', 'nattelivet', 'august']\n",
      "['Dårligt', 'nyt', 'Vennerfans']\n",
      "['Dårligt', 'nyt', 'Vennerfans']\n",
      "['Flemming', 'dødtræt', 'Elgiganten', 'Gør', 'aldrig']\n",
      "['Flemming', 'dødtræt', 'Elgiganten', 'Gør', 'aldrig']\n",
      "['Venstre', 'håndtrykket', 'tilbage', 'kan', 'lade', 'gøre']\n",
      "['Venstre', 'håndtrykket', 'tilbage', 'kan', 'lade', 'gøre']\n",
      "['Bizar', 'opladning', 'Derfor', 'smører', 'babyolie']\n",
      "['Bizar', 'opladning', 'Derfor', 'smører', 'babyolie']\n",
      "['Når', 'betaler', 'regningen']\n",
      "['Når', 'betaler', 'regningen']\n",
      "['Nye', 'coronatiltag', 'Føles', 'grænseoverskridende']\n",
      "['Nye', 'coronatiltag', 'Føles', 'grænseoverskridende']\n",
      "['Så', 'farlige', 'hestehuller']\n",
      "['Så', 'farlige', 'hestehuller']\n",
      "['Årets', 'bedste', 'Lundgaard', 'Undskyld', 'gutter']\n",
      "['Årets', 'bedste', 'Lundgaard', 'Undskyld', 'gutter']\n"
     ]
    }
   ],
   "source": [
    "x=len(df1)\n",
    "list=[]\n",
    "for i  in range(x):\n",
    "    \n",
    "    df1.dropna(subset = [\"2\"], inplace=True)\n",
    "    df=df1.reset_index(drop=True)\n",
    "    \n",
    "    x=preprocess(df['2'][i])\n",
    "    list.append(x)"
   ]
  },
  {
   "cell_type": "code",
   "execution_count": 210,
   "metadata": {},
   "outputs": [
    {
     "data": {
      "text/plain": [
       "False"
      ]
     },
     "execution_count": 210,
     "metadata": {},
     "output_type": "execute_result"
    }
   ],
   "source": [
    "\"Statsministeren\".isupper()"
   ]
  },
  {
   "cell_type": "code",
   "execution_count": null,
   "metadata": {},
   "outputs": [],
   "source": []
  }
 ],
 "metadata": {
  "kernelspec": {
   "display_name": "Python 3",
   "language": "python",
   "name": "python3"
  },
  "language_info": {
   "codemirror_mode": {
    "name": "ipython",
    "version": 3
   },
   "file_extension": ".py",
   "mimetype": "text/x-python",
   "name": "python",
   "nbconvert_exporter": "python",
   "pygments_lexer": "ipython3",
   "version": "3.7.6"
  }
 },
 "nbformat": 4,
 "nbformat_minor": 4
}
